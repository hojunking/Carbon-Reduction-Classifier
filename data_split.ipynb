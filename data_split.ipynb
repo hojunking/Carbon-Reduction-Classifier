{
 "cells": [
  {
   "cell_type": "code",
   "execution_count": 365,
   "id": "72b4e512-28e0-4d6c-b996-bd732798620b",
   "metadata": {},
   "outputs": [],
   "source": [
    "import os\n",
    "import shutil\n",
    "import numpy as np\n",
    "from sklearn.model_selection import train_test_split\n",
    "\n",
    "label_list = [\"10Kwalk\",\"battery\",'box','else','toothcup','tumbler','handkerchief',\n",
    "              'milk', 'paper', 'pet','plug','receipt', 'shopping bag', 'stairs',\n",
    "             'transportation', 'trash picking', 'green dish','leftover','wrap']\n",
    "\n",
    "label = 'untapedBox'\n",
    "source_image_dir = \"../Data/carbon_data/box/\" + label\n",
    "train_image_dir = \"../Data/carbon_reduction_data/bin/train/\" + label\n",
    "test_image_dir = \"../Data/carbon_reduction_data/bin/test/\" + label\n",
    "\n",
    "# Create the destination folders if they don't exist\n",
    "os.makedirs(train_image_dir, exist_ok=True)\n",
    "os.makedirs(test_image_dir, exist_ok=True)"
   ]
  },
  {
   "cell_type": "code",
   "execution_count": 366,
   "id": "c73a46e4-8438-4e24-aadd-59d20ce4f1c6",
   "metadata": {},
   "outputs": [
    {
     "name": "stdout",
     "output_type": "stream",
     "text": [
      "2650\n"
     ]
    }
   ],
   "source": [
    "# List all image files in the source directory\n",
    "image_files = []\n",
    "for folder, subfolders, filenames in os.walk(source_image_dir):\n",
    "    for img in filenames: # 폴더 내 모든 파일 탐색\n",
    "        image_files.append(folder+'/'+img)\n",
    "\n",
    "print(len(image_files))"
   ]
  },
  {
   "cell_type": "code",
   "execution_count": 367,
   "id": "58795eae-5a7f-4c13-bba2-c3b4ca5266b3",
   "metadata": {},
   "outputs": [
    {
     "data": {
      "text/plain": [
       "'../Data/carbon_data/box/untapedBox/image_cropper_16778963969931677896404343.jpg'"
      ]
     },
     "execution_count": 367,
     "metadata": {},
     "output_type": "execute_result"
    }
   ],
   "source": [
    "image_files[5]"
   ]
  },
  {
   "cell_type": "code",
   "execution_count": 368,
   "id": "6ef574ce-2642-4a2a-9ab3-c25f616ff4bd",
   "metadata": {},
   "outputs": [
    {
     "name": "stdout",
     "output_type": "stream",
     "text": [
      "len of train:1987. len of test:663\n"
     ]
    }
   ],
   "source": [
    "# Split file list into train and test sets (80% train, 20% test)\n",
    "train_images, test_images = train_test_split(image_files, test_size=0.25, shuffle=True, random_state=42)\n",
    "print(f'len of train:{len(train_images)}. len of test:{len(test_images)}') \n"
   ]
  },
  {
   "cell_type": "code",
   "execution_count": 369,
   "id": "a9876032-6b6a-4f3e-b12b-5c275787055d",
   "metadata": {},
   "outputs": [
    {
     "data": {
      "text/plain": [
       "'../Data/carbon_data/box/untapedBox/box38486.jpg'"
      ]
     },
     "execution_count": 369,
     "metadata": {},
     "output_type": "execute_result"
    }
   ],
   "source": [
    "train_images[10]"
   ]
  },
  {
   "cell_type": "code",
   "execution_count": 370,
   "id": "caf940c5-96e2-4676-9f74-50d267574b5e",
   "metadata": {},
   "outputs": [
    {
     "name": "stderr",
     "output_type": "stream",
     "text": [
      "1987it [00:00, 4886.42it/s]\n",
      "663it [00:00, 5022.19it/s]\n"
     ]
    }
   ],
   "source": [
    "from tqdm import tqdm\n",
    "# Function to copy both image and label files\n",
    "def copy_files(file_list, dest_image_dir):\n",
    "    for i,file in tqdm(enumerate(file_list)):\n",
    "        new_image_name = f'{i:04d}.jpg'\n",
    "        # Copy image file\n",
    "        shutil.copy(file, dest_image_dir+'/'+ new_image_name)\n",
    "        \n",
    "# Move the files to their respective folders \n",
    "copy_files(train_images, train_image_dir)\n",
    "copy_files(test_images, test_image_dir)"
   ]
  },
  {
   "cell_type": "code",
   "execution_count": 52,
   "id": "a908bc37-2df1-4827-8f8a-402364fb5e1e",
   "metadata": {},
   "outputs": [
    {
     "name": "stdout",
     "output_type": "stream",
     "text": [
      "0\n"
     ]
    }
   ],
   "source": [
    "cnt =0 \n",
    "for folder, subfolders, filenames in os.walk(train_image_dir):\n",
    "    for img in filenames: # 폴더 내 모든 파일 탐색\n",
    "        cnt +=1\n",
    "print(cnt)\n"
   ]
  },
  {
   "cell_type": "code",
   "execution_count": null,
   "id": "14d0a66f-9f42-4afc-bb78-def6cb82695e",
   "metadata": {},
   "outputs": [],
   "source": []
  }
 ],
 "metadata": {
  "kernelspec": {
   "display_name": "torch-gpu",
   "language": "python",
   "name": "torch"
  },
  "language_info": {
   "codemirror_mode": {
    "name": "ipython",
    "version": 3
   },
   "file_extension": ".py",
   "mimetype": "text/x-python",
   "name": "python",
   "nbconvert_exporter": "python",
   "pygments_lexer": "ipython3",
   "version": "3.10.6"
  }
 },
 "nbformat": 4,
 "nbformat_minor": 5
}
