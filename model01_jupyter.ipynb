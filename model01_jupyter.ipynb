{
 "cells": [
  {
   "cell_type": "code",
   "execution_count": 43,
   "id": "32c4ea0f",
   "metadata": {},
   "outputs": [],
   "source": [
    "import os, re, magic, shutil\n",
    "from glob import glob\n",
    "import time, datetime\n",
    "import random\n",
    "import pandas as pd\n",
    "import numpy as np\n",
    "from tqdm import tqdm\n",
    "import shutil\n",
    "import warnings\n",
    "import joblib\n",
    "\n",
    "import cv2\n",
    "from PIL import Image\n",
    "import matplotlib.pyplot as plt\n",
    "import torch, gc\n",
    "from torch import nn\n",
    "from torch.utils.data import Dataset,DataLoader\n",
    "from torch.utils.data.sampler import SequentialSampler, RandomSampler\n",
    "from torch.cuda.amp import autocast, GradScaler\n",
    "from torch.nn.modules.loss import _WeightedLoss\n",
    "import torch.nn.functional as F\n",
    "import torchvision\n",
    "\n",
    "from torchvision import transforms\n",
    "\n",
    "import sklearn\n",
    "#from skimage import io\n",
    "from sklearn.model_selection import GroupKFold, StratifiedKFold\n",
    "from sklearn.metrics import roc_auc_score, log_loss, f1_score, confusion_matrix, classification_report\n",
    "from sklearn import metrics, preprocessing\n",
    "from scipy.ndimage import zoom\n",
    "\n",
    "import timm\n",
    "from timm.data import resolve_data_config\n",
    "from timm.data.transforms_factory import create_transform\n",
    "import albumentations as A\n",
    "import albumentations.pytorch\n",
    "import wandb\n",
    "from catalyst.data.sampler import BalanceClassSampler\n",
    "from torch.utils.data.distributed import DistributedSampler\n",
    "import torch.distributed as dist\n",
    "import torch.multiprocessing as mp\n",
    "from torch.nn.parallel import DistributedDataParallel as DDP\n"
   ]
  },
  {
   "cell_type": "code",
   "execution_count": 24,
   "id": "57c0283c",
   "metadata": {},
   "outputs": [],
   "source": [
    "CFG = {\n",
    "    'fold_num': 5,\n",
    "    'seed': 42,\n",
    "    'model': 'inception_resnet_v2',\n",
    "    'img_size': 260,\n",
    "    'epochs': 200,\n",
    "    'train_bs':128,\n",
    "    'valid_bs':32,\n",
    "    'T_0': 10,\n",
    "    'lr': 1e-4,\n",
    "    'min_lr': 1e-6,\n",
    "    'num_workers': 8,\n",
    "    'accum_iter': 2, # suppoprt to do batch accumulation for backprop with effectively larger batch size\n",
    "    'verbose_step': 1,\n",
    "    'patience' : 5,\n",
    "    'device': 'cuda:0',\n",
    "    'freezing': False,\n",
    "    'model_path': './models'\n",
    "}"
   ]
  },
  {
   "cell_type": "code",
   "execution_count": 23,
   "id": "127461e4-c16d-47fd-b983-556c12ad0daf",
   "metadata": {},
   "outputs": [],
   "source": [
    "project_name = 'carbon_reduction_inception_resnet_v2_2050'\n",
    "user = 'hojunking'\n",
    "run_name = 'carbon_reduction_inception_resnet_v2_2050'"
   ]
  },
  {
   "cell_type": "code",
   "execution_count": 44,
   "id": "5c538155-d55f-4321-bf7c-171d356ebceb",
   "metadata": {},
   "outputs": [
    {
     "name": "stdout",
     "output_type": "stream",
     "text": [
      "label: 10kwalking\n",
      "img_paths len : 2637\n",
      "\n",
      "label: public_vehicle\n",
      "img_paths len : 1546\n",
      "\n",
      "label: stair\n",
      "img_paths len : 2003\n",
      "\n",
      "label: pet\n",
      "img_paths len : 4344\n",
      "\n",
      "label: outlet\n",
      "img_paths len : 3552\n",
      "\n",
      "label: else\n",
      "img_paths len : 4500\n",
      "\n",
      "label: can\n",
      "img_paths len : 4500\n",
      "\n",
      "label: box\n",
      "img_paths len : 4500\n",
      "\n",
      "label: milk\n",
      "img_paths len : 1838\n",
      "\n",
      "label: cup\n",
      "img_paths len : 1322\n",
      "\n",
      "Train_Images:  16694\n",
      "Train_Images_labels: 16694\n",
      "Test_Images:  4200\n",
      "Test_Images_labels: 4200\n"
     ]
    }
   ],
   "source": [
    "main_path = '../Data/carbon_reduction/'\n",
    "label_list = [\"10kwalking\",\"public_vehicle\",'stair','pet','outlet','else', 'can', 'box', 'milk', 'cup']\n",
    "\n",
    "total_train_img_paths = []\n",
    "total_train_img_labels = []\n",
    "total_test_img_paths = []\n",
    "total_test_img_labels = []\n",
    "\n",
    "for label in label_list: ## 각 레이블 돌기\n",
    "    print(f'label: {label}')\n",
    "    img_paths = [] \n",
    "    img_labels = []\n",
    "\n",
    "    # default ratio\n",
    "    train_ratio = 2000\n",
    "    test_ratio = 500\n",
    "\n",
    "    dir_path = main_path + label ## 레이블 폴더 경로\n",
    "    count = 0\n",
    "    for folder, subfolders, filenames in os.walk(dir_path): ## 폴더 내 모든 파일 탐색\n",
    "    \n",
    "        for img in filenames: ## 각 파일 경로, 레이블 저장\n",
    "            count +=1\n",
    "            if count > train_ratio + test_ratio + 2000:\n",
    "                break\n",
    "            \n",
    "            img_paths.append(folder+'/'+img)\n",
    "            img_labels.append(label)\n",
    "        \n",
    "    random.shuffle(img_paths)\n",
    "    print(f'img_paths len : {len(img_paths)}\\n')\n",
    "\n",
    "    if label == 'milk': ## 10walking 데이터 비율 설정하기 (데이터수: 2494)\n",
    "        train_ratio = 1393\n",
    "        test_ratio = 300\n",
    "    elif label == 'public_vehicle': ## 10walking 데이터 비율 설정하기 (데이터수: 2494)\n",
    "        train_ratio = 968\n",
    "        test_ratio = 300\n",
    "    elif label == 'cup': ## 10walking 데이터 비율 설정하기 (데이터수: 2494)\n",
    "        train_ratio = 872\n",
    "        test_ratio = 300\n",
    "    elif label == 'stair': ## 10walking 데이터 비율 설정하기 (데이터수: 2494)\n",
    "        train_ratio = 1461\n",
    "        test_ratio = 300\n",
    "    \n",
    "\n",
    "    total_train_img_paths.extend(img_paths[:train_ratio])\n",
    "    total_train_img_labels.extend(img_labels[:train_ratio])\n",
    "\n",
    "    total_test_img_paths.extend(img_paths[-test_ratio:])\n",
    "    total_test_img_labels.extend(img_labels[-test_ratio:])\n",
    "\n",
    "print('Train_Images: ',len(total_train_img_paths))\n",
    "print(\"Train_Images_labels:\", len(total_train_img_labels))\n",
    "print('Test_Images: ',len(total_test_img_paths))\n",
    "print(\"Test_Images_labels:\", len(total_test_img_labels))"
   ]
  },
  {
   "cell_type": "code",
   "execution_count": 20,
   "id": "2716dd8b-84db-4707-80e2-19b29eae9c23",
   "metadata": {},
   "outputs": [
    {
     "data": {
      "text/html": [
       "<div>\n",
       "<style scoped>\n",
       "    .dataframe tbody tr th:only-of-type {\n",
       "        vertical-align: middle;\n",
       "    }\n",
       "\n",
       "    .dataframe tbody tr th {\n",
       "        vertical-align: top;\n",
       "    }\n",
       "\n",
       "    .dataframe thead th {\n",
       "        text-align: right;\n",
       "    }\n",
       "</style>\n",
       "<table border=\"1\" class=\"dataframe\">\n",
       "  <thead>\n",
       "    <tr style=\"text-align: right;\">\n",
       "      <th></th>\n",
       "      <th>image_id</th>\n",
       "      <th>dir</th>\n",
       "      <th>label</th>\n",
       "    </tr>\n",
       "  </thead>\n",
       "  <tbody>\n",
       "    <tr>\n",
       "      <th>0</th>\n",
       "      <td>아이폰 걸음수_437.jpg</td>\n",
       "      <td>../Data/carbon_reduction/10kwalking/10kwalking...</td>\n",
       "      <td>10kwalking</td>\n",
       "    </tr>\n",
       "    <tr>\n",
       "      <th>1</th>\n",
       "      <td>삼성헬스 만보_037.jpg</td>\n",
       "      <td>../Data/carbon_reduction/10kwalking/10kwalking...</td>\n",
       "      <td>10kwalking</td>\n",
       "    </tr>\n",
       "    <tr>\n",
       "      <th>2</th>\n",
       "      <td>삼성헬스 만보_125.jpg</td>\n",
       "      <td>../Data/carbon_reduction/10kwalking/10kwalking...</td>\n",
       "      <td>10kwalking</td>\n",
       "    </tr>\n",
       "    <tr>\n",
       "      <th>3</th>\n",
       "      <td>애플워치 만보_251.jpg</td>\n",
       "      <td>../Data/carbon_reduction/10kwalking/10kwalking...</td>\n",
       "      <td>10kwalking</td>\n",
       "    </tr>\n",
       "    <tr>\n",
       "      <th>4</th>\n",
       "      <td>나이키 만보_118.jpg</td>\n",
       "      <td>../Data/carbon_reduction/10kwalking/10kwalking...</td>\n",
       "      <td>10kwalking</td>\n",
       "    </tr>\n",
       "    <tr>\n",
       "      <th>...</th>\n",
       "      <td>...</td>\n",
       "      <td>...</td>\n",
       "      <td>...</td>\n",
       "    </tr>\n",
       "    <tr>\n",
       "      <th>16689</th>\n",
       "      <td>양치컵_구글_312.jpg</td>\n",
       "      <td>../Data/carbon_reduction/cup/양치컵_구글</td>\n",
       "      <td>cup</td>\n",
       "    </tr>\n",
       "    <tr>\n",
       "      <th>16690</th>\n",
       "      <td>양치컵_009.jpg</td>\n",
       "      <td>../Data/carbon_reduction/cup/양치컵_네이버</td>\n",
       "      <td>cup</td>\n",
       "    </tr>\n",
       "    <tr>\n",
       "      <th>16691</th>\n",
       "      <td>양치컵_구글_156.jpg</td>\n",
       "      <td>../Data/carbon_reduction/cup/양치컵_구글</td>\n",
       "      <td>cup</td>\n",
       "    </tr>\n",
       "    <tr>\n",
       "      <th>16692</th>\n",
       "      <td>양치컵_044.jpg</td>\n",
       "      <td>../Data/carbon_reduction/cup/양치컵_네이버</td>\n",
       "      <td>cup</td>\n",
       "    </tr>\n",
       "    <tr>\n",
       "      <th>16693</th>\n",
       "      <td>양치컵_319.jpg</td>\n",
       "      <td>../Data/carbon_reduction/cup/양치컵_네이버</td>\n",
       "      <td>cup</td>\n",
       "    </tr>\n",
       "  </tbody>\n",
       "</table>\n",
       "<p>16694 rows × 3 columns</p>\n",
       "</div>"
      ],
      "text/plain": [
       "              image_id                                                dir  \\\n",
       "0      아이폰 걸음수_437.jpg  ../Data/carbon_reduction/10kwalking/10kwalking...   \n",
       "1      삼성헬스 만보_037.jpg  ../Data/carbon_reduction/10kwalking/10kwalking...   \n",
       "2      삼성헬스 만보_125.jpg  ../Data/carbon_reduction/10kwalking/10kwalking...   \n",
       "3      애플워치 만보_251.jpg  ../Data/carbon_reduction/10kwalking/10kwalking...   \n",
       "4       나이키 만보_118.jpg  ../Data/carbon_reduction/10kwalking/10kwalking...   \n",
       "...                ...                                                ...   \n",
       "16689   양치컵_구글_312.jpg                ../Data/carbon_reduction/cup/양치컵_구글   \n",
       "16690      양치컵_009.jpg               ../Data/carbon_reduction/cup/양치컵_네이버   \n",
       "16691   양치컵_구글_156.jpg                ../Data/carbon_reduction/cup/양치컵_구글   \n",
       "16692      양치컵_044.jpg               ../Data/carbon_reduction/cup/양치컵_네이버   \n",
       "16693      양치컵_319.jpg               ../Data/carbon_reduction/cup/양치컵_네이버   \n",
       "\n",
       "            label  \n",
       "0      10kwalking  \n",
       "1      10kwalking  \n",
       "2      10kwalking  \n",
       "3      10kwalking  \n",
       "4      10kwalking  \n",
       "...           ...  \n",
       "16689         cup  \n",
       "16690         cup  \n",
       "16691         cup  \n",
       "16692         cup  \n",
       "16693         cup  \n",
       "\n",
       "[16694 rows x 3 columns]"
      ]
     },
     "execution_count": 20,
     "metadata": {},
     "output_type": "execute_result"
    }
   ],
   "source": [
    "## Pandas 데이터프레임 만들기\n",
    "trn_df = pd.DataFrame(total_train_img_paths, columns=['image_id'])\n",
    "trn_df['dir'] = trn_df['image_id'].apply(lambda x: os.path.dirname(x))\n",
    "trn_df['image_id'] = trn_df['image_id'].apply(lambda x: os.path.basename(x))\n",
    "trn_df['label'] = total_train_img_labels\n",
    "train = trn_df\n",
    "train"
   ]
  },
  {
   "cell_type": "code",
   "execution_count": 21,
   "id": "03c67d39-7933-4f98-b998-54a6036ff4a1",
   "metadata": {},
   "outputs": [],
   "source": [
    "# Label Encoding\n",
    "le = preprocessing.LabelEncoder()\n",
    "train['label'] = le.fit_transform(train['label'].values)"
   ]
  },
  {
   "cell_type": "code",
   "execution_count": 22,
   "id": "a3a8ac38-0b0f-4db4-80d2-6504916b7723",
   "metadata": {},
   "outputs": [
    {
     "data": {
      "text/plain": [
       "array([0, 0, 0, ..., 3, 3, 3])"
      ]
     },
     "execution_count": 22,
     "metadata": {},
     "output_type": "execute_result"
    }
   ],
   "source": [
    "train.label.values"
   ]
  },
  {
   "cell_type": "code",
   "execution_count": 25,
   "id": "8ed30653",
   "metadata": {},
   "outputs": [],
   "source": [
    "model =timm.create_model(CFG['model'], pretrained=True, num_classes=10)\n",
    "\n",
    "config = resolve_data_config({}, model=model)\n",
    "transform = create_transform(**config)"
   ]
  },
  {
   "cell_type": "code",
   "execution_count": 26,
   "id": "6c454bf4",
   "metadata": {},
   "outputs": [],
   "source": [
    "def seed_everything(seed):\n",
    "    random.seed(seed)\n",
    "    os.environ['PYTHONHASHSEED'] = str(seed)\n",
    "    np.random.seed(seed)\n",
    "    torch.manual_seed(seed)\n",
    "    torch.cuda.manual_seed(seed)\n",
    "    torch.backends.cudnn.deterministic = True\n",
    "    torch.backends.cudnn.benchmark = True"
   ]
  },
  {
   "cell_type": "code",
   "execution_count": 27,
   "id": "d97a3c2a",
   "metadata": {},
   "outputs": [],
   "source": [
    "def get_img(path, train_arg=False, sub_path=None):\n",
    "    try:\n",
    "        im_bgr = cv2.imread(path)\n",
    "        im_rgb = im_bgr[:, :, ::-1]\n",
    "        past_path = path\n",
    "    except: ## 이미지 에러 발생 시 백지로 대체\n",
    "        im_bgr = cv2.imread('../Data/carbon_reduction/temp_img.jpg')\n",
    "        im_rgb = im_bgr[:, :, ::-1]\n",
    "    if train_arg:\n",
    "        dimg = cv2.fastNlMeansDenoisingColored(im_rgb, None, 10,10,7,21)\n",
    "        return dimg\n",
    "    else:\n",
    "        return im_rgb"
   ]
  },
  {
   "cell_type": "code",
   "execution_count": 28,
   "id": "884eb987-4341-4fe7-8094-6e61cb051af5",
   "metadata": {},
   "outputs": [],
   "source": [
    "transform_train = A.Compose(\n",
    "    [\n",
    "        A.Resize(height = CFG['img_size']+100, width = CFG['img_size']+100),\n",
    "        A.CenterCrop(always_apply=True, p=1.0, height=CFG['img_size'], width=CFG['img_size']),\n",
    "        A.RandomBrightnessContrast(always_apply=False, p=0.8, brightness_limit=(0.00, 0.00), contrast_limit=(0.2, 0.2), brightness_by_max=False),\n",
    "        A.SafeRotate(always_apply=False, p=0.5, limit=(-20, 20), interpolation=2, border_mode=0, value=(0, 0, 0), mask_value=None),\n",
    "        A.HorizontalFlip(always_apply=False, p=0.5),\n",
    "        A.Normalize(mean=(0.485, 0.456, 0.406), std=(0.229, 0.224, 0.225), max_pixel_value=255.0, always_apply=False, p=1.0),\n",
    "        A.pytorch.transforms.ToTensorV2()\n",
    "        ])\n",
    "\n",
    "transform_test = A.Compose(\n",
    "    [\n",
    "        A.Resize(height = CFG['img_size'], width = CFG['img_size']),\n",
    "        A.Normalize(mean=(0.485, 0.456, 0.406), std=(0.229, 0.224, 0.225), max_pixel_value=255.0, always_apply=False, p=1.0),\n",
    "        A.pytorch.transforms.ToTensorV2()\n",
    "        ])"
   ]
  },
  {
   "cell_type": "code",
   "execution_count": 29,
   "id": "5f1561be",
   "metadata": {},
   "outputs": [],
   "source": [
    "class ColonDataset(Dataset):\n",
    "    def __init__(self, df, data_root, train_arg=False,\n",
    "                 transform=None,\n",
    "                 output_label=True\n",
    "                ):\n",
    "        \n",
    "        super().__init__()\n",
    "        self.df = df.reset_index(drop=True).copy()\n",
    "        self.train_arg = train_arg\n",
    "        self.transform = transform\n",
    "        self.data_root = data_root\n",
    "        self.output_label = output_label\n",
    "        \n",
    "        if output_label == True:\n",
    "            self.labels = self.df['label'].values\n",
    "            \n",
    "    def __len__(self):\n",
    "        return self.df.shape[0]\n",
    "    \n",
    "    def __getitem__(self, index: int):\n",
    "        \n",
    "        # get labels\n",
    "        if self.output_label:\n",
    "            target = self.labels[index]\n",
    "        \n",
    "        img  = get_img(\"{}/{}\".format(self.data_root[index], self.df.loc[index]['image_id']), train_arg=self.train_arg)\n",
    "\n",
    "        if self.transform:\n",
    "            transformed = self.transform(image=img)\n",
    "            img = transformed['image']\n",
    "        \n",
    "                \n",
    "        if self.output_label == True:\n",
    "            return img, target\n",
    "        else:\n",
    "            return img"
   ]
  },
  {
   "cell_type": "code",
   "execution_count": 30,
   "id": "b1601bf0",
   "metadata": {},
   "outputs": [],
   "source": [
    "class ForcepImgClassifier(nn.Module):\n",
    "    def __init__(self, model_arch, n_class=10, pretrained=False):\n",
    "        super().__init__()\n",
    "        self.model = timm.create_model(model_arch, pretrained=pretrained, num_classes=n_class)\n",
    "        # n_features = self.model.classifier.in_features\n",
    "        # self.model.classifier = nn.Linear(n_features, n_class)\n",
    "    def freezing(self, freeze=False):\n",
    "        if freeze:\n",
    "            \n",
    "            cnt = 0\n",
    "            for name, param in model.named_parameters():\n",
    "                if 'classif' in name:\n",
    "                    #print('classif passed')\n",
    "                    pass\n",
    "                elif 'fc' in name:\n",
    "                    #print('fc passed')\n",
    "                    pass\n",
    "                else :\n",
    "                    #print('freezing')\n",
    "                    param.requires_grad = False    \n",
    "        \n",
    "    def forward(self, x):\n",
    "        x = self.model(x)\n",
    "        return x"
   ]
  },
  {
   "cell_type": "code",
   "execution_count": 31,
   "id": "240e5531",
   "metadata": {},
   "outputs": [],
   "source": [
    "def prepare_dataloader(df, trn_idx, val_idx, data_root=train.dir.values):\n",
    "    \n",
    "    train_ = df.loc[trn_idx,:].reset_index(drop=True)\n",
    "    valid_ = df.loc[val_idx,:].reset_index(drop=True)\n",
    "    train_data_root = data_root[trn_idx]\n",
    "    valid_data_root = data_root[val_idx]\n",
    "    \n",
    "        \n",
    "    train_ds = ColonDataset(train_,\n",
    "                            train_data_root,\n",
    "                            transform=transform_train,\n",
    "                            output_label=True)\n",
    "    valid_ds = ColonDataset(valid_,\n",
    "                            valid_data_root,\n",
    "                            transform=transform_train,\n",
    "                            output_label=True)\n",
    "    \n",
    "\n",
    "    train_loader = torch.utils.data.DataLoader(\n",
    "        train_ds,\n",
    "        batch_size=CFG['train_bs'],\n",
    "        pin_memory=True,\n",
    "        drop_last=False,\n",
    "        shuffle=False,        \n",
    "        num_workers=CFG['num_workers'],\n",
    "        sampler=DistributedSampler(train_ds)\n",
    "    )\n",
    "    val_loader = torch.utils.data.DataLoader(\n",
    "        valid_ds, \n",
    "        batch_size=CFG['valid_bs'],\n",
    "        num_workers=CFG['num_workers'],\n",
    "        shuffle=False,\n",
    "        pin_memory=True,\n",
    "    )\n",
    "    return train_loader, val_loader"
   ]
  },
  {
   "cell_type": "code",
   "execution_count": 32,
   "id": "08ffa2fa",
   "metadata": {},
   "outputs": [],
   "source": [
    "def train_one_epoch(epoch, model, loss_fn, optimizer, train_loader, device, scheduler=None, schd_batch_update=False):\n",
    "    model.train()\n",
    "\n",
    "    t = time.time()\n",
    "    running_loss = None\n",
    "    loss_sum = 0\n",
    "    image_preds_all = []\n",
    "    image_targets_all = []\n",
    "    acc_list = []\n",
    "    \n",
    "    pbar = tqdm(enumerate(train_loader), total=len(train_loader))\n",
    "    for step, (imgs, image_labels) in pbar:\n",
    "        imgs = imgs.to(device).float()\n",
    "        image_labels = image_labels.to(device).long()\n",
    "        with autocast():\n",
    "            image_preds = model(imgs)   #output = model(input)\n",
    "\n",
    "            loss = loss_fn(image_preds, image_labels)\n",
    "            loss_sum+=loss.detach()\n",
    "            \n",
    "            scaler.scale(loss).backward()\n",
    "            if running_loss is None:\n",
    "                running_loss = loss.item()\n",
    "            else:\n",
    "                running_loss = running_loss * .99 + loss.item() * .01\n",
    "\n",
    "            if ((step + 1) %  CFG['accum_iter'] == 0) or ((step + 1) == len(train_loader)):\n",
    "                # may unscale_ here if desired (e.g., to allow clipping unscaled gradients)\n",
    "\n",
    "                scaler.step(optimizer)\n",
    "                scaler.update()\n",
    "                optimizer.zero_grad() \n",
    "                \n",
    "                if scheduler is not None and schd_batch_update:\n",
    "                    scheduler.step()\n",
    "            if ((step + 1) % CFG['verbose_step'] == 0) or ((step + 1) == len(train_loader)):\n",
    "                description = f'epoch {epoch} loss: {running_loss:.4f}'\n",
    "                \n",
    "                pbar.set_description(description)\n",
    "            \n",
    "        image_preds_all += [torch.argmax(image_preds, 1).detach().cpu().numpy()]\n",
    "        image_targets_all += [image_labels.detach().cpu().numpy()]\n",
    "    \n",
    "    image_preds_all = np.concatenate(image_preds_all)\n",
    "    image_targets_all = np.concatenate(image_targets_all)\n",
    "    matrix = confusion_matrix(image_targets_all,image_preds_all)\n",
    "    epoch_f1 = f1_score(image_targets_all, \n",
    "                        image_preds_all, \n",
    "                        average='macro')\n",
    "    \n",
    "    accuracy = (image_preds_all==image_targets_all).mean()\n",
    "    trn_loss = loss_sum/len(train_loader)\n",
    "    \n",
    "    if scheduler is not None and not schd_batch_update:\n",
    "        scheduler.step()\n",
    "    \n",
    "    return image_preds_all, accuracy, trn_loss, matrix, epoch_f1\n",
    "\n",
    "def valid_one_epoch(epoch, model, loss_fn, val_loader, device, scheduler=None, schd_loss_update=False):\n",
    "    model.eval()\n",
    "\n",
    "    t = time.time()\n",
    "    loss_sum = 0\n",
    "    sample_num = 0\n",
    "    avg_loss = 0\n",
    "    image_preds_all = []\n",
    "    image_targets_all = []\n",
    "    \n",
    "    acc_list = []\n",
    "    \n",
    "    pbar = tqdm(enumerate(val_loader), total=len(val_loader))\n",
    "    for step, (imgs, image_labels) in pbar:\n",
    "        imgs = imgs.to(device).float()\n",
    "        image_labels = image_labels.to(device).long()\n",
    "        \n",
    "        image_preds = model(imgs)   #output = model(input)\n",
    "        image_preds_all += [torch.argmax(image_preds, 1).detach().cpu().numpy()]\n",
    "        image_targets_all += [image_labels.detach().cpu().numpy()]\n",
    "        \n",
    "        loss = loss_fn(image_preds, image_labels)\n",
    "        avg_loss += loss.item()\n",
    "        loss_sum += loss.item()*image_labels.shape[0]\n",
    "        sample_num += image_labels.shape[0]\n",
    "        \n",
    "        if ((step + 1) % CFG['verbose_step'] == 0) or ((step + 1) == len(val_loader)):\n",
    "            description = f'epoch {epoch} loss: {loss_sum/sample_num:.4f}'\n",
    "            pbar.set_description(description)\n",
    "    \n",
    "    image_preds_all = np.concatenate(image_preds_all)\n",
    "    image_targets_all = np.concatenate(image_targets_all)\n",
    "    matrix = confusion_matrix(image_targets_all,image_preds_all)\n",
    "    \n",
    "    epoch_f1 = f1_score(image_targets_all, \n",
    "                        image_preds_all, \n",
    "                        average='macro')\n",
    "    \n",
    "    acc = (image_preds_all==image_targets_all).mean()\n",
    "    val_loss = avg_loss/len(val_loader)\n",
    "    \n",
    "    \n",
    "    if scheduler is not None:\n",
    "        if schd_loss_update:\n",
    "            scheduler.step(loss_sum/sample_num)\n",
    "        else:\n",
    "            scheduler.step()\n",
    "            \n",
    "    return image_preds_all, acc, val_loss, matrix, epoch_f1"
   ]
  },
  {
   "cell_type": "code",
   "execution_count": 33,
   "id": "76d9a737",
   "metadata": {},
   "outputs": [],
   "source": [
    "# reference: https://www.kaggle.com/c/siim-isic-melanoma-classification/discussion/173733\n",
    "class MyCrossEntropyLoss(_WeightedLoss):\n",
    "    def __init__(self, weight=None, reduction='mean'):\n",
    "        super().__init__(weight=weight, reduction=reduction)\n",
    "        self.weight = weight\n",
    "        self.reduction = reduction\n",
    "\n",
    "    def forward(self, inputs, targets):\n",
    "        lsm = F.log_softmax(inputs, -1)\n",
    "\n",
    "        if self.weight is not None:\n",
    "            lsm = lsm * self.weight.unsqueeze(0)\n",
    "\n",
    "        loss = -(targets * lsm).sum(-1)\n",
    "\n",
    "        if  self.reduction == 'sum':\n",
    "            loss = loss.sum()\n",
    "        elif  self.reduction == 'mean':\n",
    "            loss = loss.mean()\n",
    "\n",
    "        return loss"
   ]
  },
  {
   "cell_type": "code",
   "execution_count": 34,
   "id": "77e9950b",
   "metadata": {},
   "outputs": [],
   "source": [
    "class EarlyStopping:\n",
    "    def __init__(self, patience=10, verbose=False, delta=0):\n",
    "        self.patience = patience\n",
    "        self.verbose = verbose\n",
    "        self.counter = 0\n",
    "        self.best_score = None\n",
    "        self.early_stop = False\n",
    "        self.val_loss_min = np.Inf\n",
    "        self.delta = delta\n",
    "\n",
    "    def __call__(self, score):\n",
    "        if self.best_score is None:\n",
    "            self.best_score = score\n",
    "        elif score <= self.best_score + self.delta:\n",
    "            self.counter += 1\n",
    "            print(f'EarlyStopping counter: {self.counter} out of {self.patience}')\n",
    "            print(f'Best F1 score from now: {self.best_score}')\n",
    "            if self.counter >= self.patience:\n",
    "                self.early_stop = True\n",
    "        else:\n",
    "            self.best_score = score\n",
    "            self.counter = 0\n",
    "        \n",
    "        return self.early_stop"
   ]
  },
  {
   "cell_type": "code",
   "execution_count": 35,
   "id": "89c15e4d-4f98-4152-9171-9fb008d9b12f",
   "metadata": {},
   "outputs": [],
   "source": [
    "os.environ[\"CUDA_VISIBLE_DEVICES\"] = '0, 1' #본인이 사용하고 싶은 GPU 넘버를 써주면 됨\n",
    "#os.environ['CUDA_LAUNCH_BLOCKING'] = \"1\"\n",
    "os.environ['MASTER_ADDR'] = 'localhost'\n",
    "os.environ['MASTER_PORT'] = '43097'         # 좀 큰 숫자로 맞추면 됨 작은 숫자는 에러발생!\n",
    "\n",
    "device = torch.device(\"cuda\" if torch.cuda.is_available() else \"cpu\")\n",
    "# init!\n",
    "torch.distributed.init_process_group(backend='nccl', init_method=\"env://\", rank =0, world_size=1)  # rank should be 0 ~ world_size-1\n"
   ]
  },
  {
   "cell_type": "code",
   "execution_count": 36,
   "id": "37102a34",
   "metadata": {},
   "outputs": [
    {
     "name": "stderr",
     "output_type": "stream",
     "text": [
      "Failed to detect the name of this notebook, you can set it manually with the WANDB_NOTEBOOK_NAME environment variable to enable code saving.\n",
      "\u001b[34m\u001b[1mwandb\u001b[0m: Currently logged in as: \u001b[33mhojunking\u001b[0m. Use \u001b[1m`wandb login --relogin`\u001b[0m to force relogin\n"
     ]
    },
    {
     "data": {
      "text/html": [
       "wandb version 0.14.1 is available!  To upgrade, please run:\n",
       " $ pip install wandb --upgrade"
      ],
      "text/plain": [
       "<IPython.core.display.HTML object>"
      ]
     },
     "metadata": {},
     "output_type": "display_data"
    },
    {
     "data": {
      "text/html": [
       "Tracking run with wandb version 0.13.4"
      ],
      "text/plain": [
       "<IPython.core.display.HTML object>"
      ]
     },
     "metadata": {},
     "output_type": "display_data"
    },
    {
     "data": {
      "text/html": [
       "Run data is saved locally in <code>/home/hojun/git/carbon_reduction_project/wandb/run-20230407_003057-3rjrakyx</code>"
      ],
      "text/plain": [
       "<IPython.core.display.HTML object>"
      ]
     },
     "metadata": {},
     "output_type": "display_data"
    },
    {
     "data": {
      "text/html": [
       "Syncing run <strong><a href=\"https://wandb.ai/hojunking/carbon_reduction_inception_resnet_v2_2050/runs/3rjrakyx\" target=\"_blank\">vulcan-data-1</a></strong> to <a href=\"https://wandb.ai/hojunking/carbon_reduction_inception_resnet_v2_2050\" target=\"_blank\">Weights & Biases</a> (<a href=\"https://wandb.me/run\" target=\"_blank\">docs</a>)<br/>"
      ],
      "text/plain": [
       "<IPython.core.display.HTML object>"
      ]
     },
     "metadata": {},
     "output_type": "display_data"
    },
    {
     "name": "stdout",
     "output_type": "stream",
     "text": [
      "Model: inception_resnet_v2\n",
      "Training start with fold: 0 epoch: 200 \n",
      "\n",
      "All training process\n",
      "Fold: 0\n",
      "Epoch 0/199\n"
     ]
    },
    {
     "name": "stderr",
     "output_type": "stream",
     "text": [
      "epoch 0 loss: 2.2615:  14%|██▊                 | 15/105 [00:21<01:08,  1.31it/s]Premature end of JPEG file\n",
      "epoch 0 loss: 1.4444:  73%|██████████████▋     | 77/105 [01:08<00:20,  1.35it/s]Premature end of JPEG file\n",
      "epoch 0 loss: 1.1534: 100%|███████████████████| 105/105 [01:30<00:00,  1.16it/s]\n",
      "epoch 0 loss: 0.0477:   6%|█▏                   | 6/105 [00:02<00:32,  3.07it/s]Premature end of JPEG file\n",
      "epoch 0 loss: 0.1594:  76%|███████████████▏    | 80/105 [00:21<00:06,  3.95it/s]Corrupt JPEG data: 111 extraneous bytes before marker 0xd9\n",
      "epoch 0 loss: 0.1730: 100%|███████████████████| 105/105 [00:28<00:00,  3.74it/s]\n"
     ]
    },
    {
     "name": "stdout",
     "output_type": "stream",
     "text": [
      "Fold: 0\n",
      "Epoch 1/199\n"
     ]
    },
    {
     "name": "stderr",
     "output_type": "stream",
     "text": [
      "epoch 1 loss: 0.2044:  14%|██▊                 | 15/105 [00:13<01:08,  1.32it/s]Premature end of JPEG file\n",
      "epoch 1 loss: 0.1620:  73%|██████████████▋     | 77/105 [01:01<00:21,  1.31it/s]Premature end of JPEG file\n",
      "epoch 1 loss: 0.1420: 100%|███████████████████| 105/105 [01:22<00:00,  1.27it/s]\n",
      "epoch 1 loss: 0.0240:   6%|█▏                   | 6/105 [00:02<00:31,  3.17it/s]Premature end of JPEG file\n",
      "epoch 1 loss: 0.1342:  76%|███████████████▏    | 80/105 [00:20<00:06,  3.92it/s]Corrupt JPEG data: 111 extraneous bytes before marker 0xd9\n",
      "epoch 1 loss: 0.1375: 100%|███████████████████| 105/105 [00:27<00:00,  3.86it/s]\n"
     ]
    },
    {
     "name": "stdout",
     "output_type": "stream",
     "text": [
      "Fold: 0\n",
      "Epoch 2/199\n"
     ]
    },
    {
     "name": "stderr",
     "output_type": "stream",
     "text": [
      "epoch 2 loss: 0.0861:  14%|██▊                 | 15/105 [00:13<01:09,  1.29it/s]Premature end of JPEG file\n",
      "epoch 2 loss: 0.0666:  73%|██████████████▋     | 77/105 [01:01<00:21,  1.33it/s]Premature end of JPEG file\n",
      "epoch 2 loss: 0.0616: 100%|███████████████████| 105/105 [01:22<00:00,  1.27it/s]\n",
      "epoch 2 loss: 0.0255:   6%|█▏                   | 6/105 [00:02<00:30,  3.21it/s]Premature end of JPEG file\n",
      "epoch 2 loss: 0.1450:  77%|███████████████▍    | 81/105 [00:21<00:06,  3.98it/s]Corrupt JPEG data: 111 extraneous bytes before marker 0xd9\n",
      "epoch 2 loss: 0.1440: 100%|███████████████████| 105/105 [00:27<00:00,  3.84it/s]\n"
     ]
    },
    {
     "name": "stdout",
     "output_type": "stream",
     "text": [
      "Fold: 0\n",
      "Epoch 3/199\n"
     ]
    },
    {
     "name": "stderr",
     "output_type": "stream",
     "text": [
      "epoch 3 loss: 0.0469:  14%|██▊                 | 15/105 [00:13<01:08,  1.31it/s]Premature end of JPEG file\n",
      "epoch 3 loss: 0.0420:  73%|██████████████▋     | 77/105 [01:01<00:21,  1.33it/s]Premature end of JPEG file\n",
      "epoch 3 loss: 0.0383: 100%|███████████████████| 105/105 [01:22<00:00,  1.28it/s]\n",
      "epoch 3 loss: 0.0310:   6%|█▏                   | 6/105 [00:02<00:28,  3.49it/s]Premature end of JPEG file\n",
      "epoch 3 loss: 0.1709:  76%|███████████████▏    | 80/105 [00:20<00:06,  4.04it/s]Corrupt JPEG data: 111 extraneous bytes before marker 0xd9\n",
      "epoch 3 loss: 0.1743: 100%|███████████████████| 105/105 [00:27<00:00,  3.88it/s]"
     ]
    },
    {
     "name": "stdout",
     "output_type": "stream",
     "text": [
      "EarlyStopping counter: 1 out of 5\n",
      "Best F1 score from now: 0.9580243332415648\n",
      "Fold: 0\n",
      "Epoch 4/199\n"
     ]
    },
    {
     "name": "stderr",
     "output_type": "stream",
     "text": [
      "\n",
      "epoch 4 loss: 0.0284:  14%|██▊                 | 15/105 [00:13<01:08,  1.32it/s]Premature end of JPEG file\n",
      "epoch 4 loss: 0.0236:  73%|██████████████▋     | 77/105 [01:01<00:21,  1.33it/s]Premature end of JPEG file\n",
      "epoch 4 loss: 0.0238: 100%|███████████████████| 105/105 [01:22<00:00,  1.27it/s]\n",
      "epoch 4 loss: 0.0056:   6%|█▏                   | 6/105 [00:02<00:28,  3.42it/s]Premature end of JPEG file\n",
      "epoch 4 loss: 0.1870:  76%|███████████████▏    | 80/105 [00:21<00:06,  3.99it/s]Corrupt JPEG data: 111 extraneous bytes before marker 0xd9\n",
      "epoch 4 loss: 0.1998: 100%|███████████████████| 105/105 [00:27<00:00,  3.77it/s]"
     ]
    },
    {
     "name": "stdout",
     "output_type": "stream",
     "text": [
      "EarlyStopping counter: 2 out of 5\n",
      "Best F1 score from now: 0.9580243332415648\n",
      "Fold: 0\n",
      "Epoch 5/199\n"
     ]
    },
    {
     "name": "stderr",
     "output_type": "stream",
     "text": [
      "\n",
      "epoch 5 loss: 0.0152:  14%|██▊                 | 15/105 [00:15<01:12,  1.25it/s]Premature end of JPEG file\n",
      "epoch 5 loss: 0.0153:  73%|██████████████▋     | 77/105 [01:04<00:21,  1.29it/s]Premature end of JPEG file\n",
      "epoch 5 loss: 0.0158: 100%|███████████████████| 105/105 [01:26<00:00,  1.21it/s]\n",
      "epoch 5 loss: 0.0089:   6%|█▏                   | 6/105 [00:02<00:30,  3.29it/s]Premature end of JPEG file\n",
      "epoch 5 loss: 0.1694:  76%|███████████████▏    | 80/105 [00:21<00:06,  3.99it/s]Corrupt JPEG data: 111 extraneous bytes before marker 0xd9\n",
      "epoch 5 loss: 0.1697: 100%|███████████████████| 105/105 [00:28<00:00,  3.71it/s]"
     ]
    },
    {
     "name": "stdout",
     "output_type": "stream",
     "text": [
      "EarlyStopping counter: 3 out of 5\n",
      "Best F1 score from now: 0.9580243332415648\n",
      "Fold: 0\n",
      "Epoch 6/199\n"
     ]
    },
    {
     "name": "stderr",
     "output_type": "stream",
     "text": [
      "\n",
      "epoch 6 loss: 0.0105:  14%|██▊                 | 15/105 [00:13<01:08,  1.32it/s]Premature end of JPEG file\n",
      "epoch 6 loss: 0.0115:  73%|██████████████▋     | 77/105 [01:00<00:21,  1.30it/s]Premature end of JPEG file\n",
      "epoch 6 loss: 0.0124: 100%|███████████████████| 105/105 [01:21<00:00,  1.28it/s]\n",
      "epoch 6 loss: 0.0045:   6%|█▏                   | 6/105 [00:02<00:28,  3.42it/s]Premature end of JPEG file\n",
      "epoch 6 loss: 0.1778:  76%|███████████████▏    | 80/105 [00:20<00:06,  4.06it/s]Corrupt JPEG data: 111 extraneous bytes before marker 0xd9\n",
      "epoch 6 loss: 0.1714: 100%|███████████████████| 105/105 [00:27<00:00,  3.85it/s]"
     ]
    },
    {
     "name": "stdout",
     "output_type": "stream",
     "text": [
      "EarlyStopping counter: 4 out of 5\n",
      "Best F1 score from now: 0.9580243332415648\n",
      "Fold: 0\n",
      "Epoch 7/199\n"
     ]
    },
    {
     "name": "stderr",
     "output_type": "stream",
     "text": [
      "\n",
      "epoch 7 loss: 0.0267:  14%|██▊                 | 15/105 [00:13<01:08,  1.31it/s]Premature end of JPEG file\n",
      "epoch 7 loss: 0.0188:  73%|██████████████▋     | 77/105 [01:01<00:21,  1.31it/s]Premature end of JPEG file\n",
      "epoch 7 loss: 0.0184: 100%|███████████████████| 105/105 [01:22<00:00,  1.27it/s]\n",
      "epoch 7 loss: 0.0249:   6%|█▏                   | 6/105 [00:02<00:28,  3.50it/s]Premature end of JPEG file\n",
      "epoch 7 loss: 0.1968:  76%|███████████████▏    | 80/105 [00:20<00:06,  4.05it/s]Corrupt JPEG data: 111 extraneous bytes before marker 0xd9\n",
      "epoch 7 loss: 0.1887: 100%|███████████████████| 105/105 [00:27<00:00,  3.88it/s]\n"
     ]
    },
    {
     "name": "stdout",
     "output_type": "stream",
     "text": [
      "EarlyStopping counter: 5 out of 5\n",
      "Best F1 score from now: 0.9580243332415648\n",
      "stop called\n",
      "time : 0:14:59\n",
      "fold: 0, Best Epoch : 2/ 8\n",
      "fold: 0, Best Train Marco F1 : 0.98500\n",
      "[[1594    0    0    0    5    1    0    0    0    0]\n",
      " [   0 1582    0    0   10    6    2    0    0    0]\n",
      " [   0    0 1582    2    4    3    1    7    1    0]\n",
      " [   1    0    2  684    6    5    0    0    0    0]\n",
      " [   7    5    4    7 1537   11    5    9    5   10]\n",
      " [   1   10    5    8   12 1075    1    1    1    0]\n",
      " [   1    0    1    0    4    0 1592    1    1    0]\n",
      " [   0    0    7    2    9    0    0 1582    0    0]\n",
      " [   0    0    0    0    2    1    0    0  770    1]\n",
      " [   0    0    0    1    5    0    0    0    0 1163]]\n",
      "fold: 0, Best Valid Marco F1 : 0.95802\n",
      "[[396   0   0   0   4   0   0   0   0   0]\n",
      " [  0 389   0   0   6   4   1   0   0   0]\n",
      " [  0   2 374   3   7   2   2  10   0   0]\n",
      " [  0   0   0 160   3   7   2   2   0   0]\n",
      " [  1   8   5   6 352  13   5   6   2   2]\n",
      " [  0   1   2   2   8 264   0   2   0   0]\n",
      " [  0   0   0   0   3   1 395   1   0   0]\n",
      " [  0   0   3   2   3   1   1 390   0   0]\n",
      " [  0   0   0   0   2   0   0   0 192   0]\n",
      " [  0   0   0   0   3   0   0   0   0 289]]\n",
      "---------------------------------------------------------\n",
      "Training start with fold: 1 epoch: 200 \n",
      "\n",
      "All training process\n",
      "Fold: 1\n",
      "Epoch 0/199\n"
     ]
    },
    {
     "name": "stderr",
     "output_type": "stream",
     "text": [
      "  0%|                                                   | 0/105 [00:00<?, ?it/s]Corrupt JPEG data: 111 extraneous bytes before marker 0xd9\n",
      "epoch 0 loss: 2.2151:  20%|████                | 21/105 [00:18<01:03,  1.32it/s]Premature end of JPEG file\n",
      "epoch 0 loss: 1.7392:  52%|██████████▍         | 55/105 [00:44<00:37,  1.32it/s]Premature end of JPEG file\n",
      "epoch 0 loss: 1.1596: 100%|███████████████████| 105/105 [01:22<00:00,  1.27it/s]\n",
      "epoch 0 loss: 0.0460:   3%|▌                    | 3/105 [00:01<00:42,  2.38it/s]Premature end of JPEG file\n",
      "epoch 0 loss: 0.1715: 100%|███████████████████| 105/105 [00:27<00:00,  3.86it/s]\n"
     ]
    },
    {
     "name": "stdout",
     "output_type": "stream",
     "text": [
      "Fold: 1\n",
      "Epoch 1/199\n"
     ]
    },
    {
     "name": "stderr",
     "output_type": "stream",
     "text": [
      "  0%|                                                   | 0/105 [00:00<?, ?it/s]Corrupt JPEG data: 111 extraneous bytes before marker 0xd9\n",
      "epoch 1 loss: 0.2301:  20%|████                | 21/105 [00:18<01:03,  1.31it/s]Premature end of JPEG file\n",
      "epoch 1 loss: 0.2023:  52%|██████████▍         | 55/105 [00:45<00:38,  1.31it/s]Premature end of JPEG file\n",
      "epoch 1 loss: 0.1585: 100%|███████████████████| 105/105 [01:23<00:00,  1.27it/s]\n",
      "epoch 1 loss: 0.0179:   3%|▌                    | 3/105 [00:01<00:42,  2.38it/s]Premature end of JPEG file\n",
      "epoch 1 loss: 0.1298: 100%|███████████████████| 105/105 [00:27<00:00,  3.86it/s]\n"
     ]
    },
    {
     "name": "stdout",
     "output_type": "stream",
     "text": [
      "Fold: 1\n",
      "Epoch 2/199\n"
     ]
    },
    {
     "name": "stderr",
     "output_type": "stream",
     "text": [
      "  0%|                                                   | 0/105 [00:00<?, ?it/s]Corrupt JPEG data: 111 extraneous bytes before marker 0xd9\n",
      "epoch 2 loss: 0.1126:  20%|████                | 21/105 [00:18<01:04,  1.30it/s]Premature end of JPEG file\n",
      "epoch 2 loss: 0.0959:  52%|██████████▍         | 55/105 [00:44<00:38,  1.30it/s]Premature end of JPEG file\n",
      "epoch 2 loss: 0.0751: 100%|███████████████████| 105/105 [01:22<00:00,  1.27it/s]\n",
      "epoch 2 loss: 0.0389:   3%|▌                    | 3/105 [00:01<00:42,  2.40it/s]Premature end of JPEG file\n",
      "epoch 2 loss: 0.1383: 100%|███████████████████| 105/105 [00:27<00:00,  3.85it/s]"
     ]
    },
    {
     "name": "stdout",
     "output_type": "stream",
     "text": [
      "EarlyStopping counter: 1 out of 5\n",
      "Best F1 score from now: 0.956737100495792\n",
      "Fold: 1\n",
      "Epoch 3/199\n"
     ]
    },
    {
     "name": "stderr",
     "output_type": "stream",
     "text": [
      "\n",
      "  0%|                                                   | 0/105 [00:00<?, ?it/s]Corrupt JPEG data: 111 extraneous bytes before marker 0xd9\n",
      "epoch 3 loss: 0.0279:  20%|████                | 21/105 [00:18<01:03,  1.32it/s]Premature end of JPEG file\n",
      "epoch 3 loss: 0.0286:  52%|██████████▍         | 55/105 [00:44<00:37,  1.33it/s]Premature end of JPEG file\n",
      "epoch 3 loss: 0.0302: 100%|███████████████████| 105/105 [01:22<00:00,  1.27it/s]\n",
      "epoch 3 loss: 0.0408:   3%|▌                    | 3/105 [00:01<00:42,  2.40it/s]Premature end of JPEG file\n",
      "epoch 3 loss: 0.1460: 100%|███████████████████| 105/105 [00:27<00:00,  3.85it/s]"
     ]
    },
    {
     "name": "stdout",
     "output_type": "stream",
     "text": [
      "EarlyStopping counter: 2 out of 5\n",
      "Best F1 score from now: 0.956737100495792\n",
      "Fold: 1\n",
      "Epoch 4/199\n"
     ]
    },
    {
     "name": "stderr",
     "output_type": "stream",
     "text": [
      "\n",
      "  0%|                                                   | 0/105 [00:00<?, ?it/s]Corrupt JPEG data: 111 extraneous bytes before marker 0xd9\n",
      "epoch 4 loss: 0.0190:  20%|████                | 21/105 [00:18<01:03,  1.32it/s]Premature end of JPEG file\n",
      "epoch 4 loss: 0.0197:  52%|██████████▍         | 55/105 [00:44<00:37,  1.32it/s]Premature end of JPEG file\n",
      "epoch 4 loss: 0.0204: 100%|███████████████████| 105/105 [01:22<00:00,  1.27it/s]\n",
      "epoch 4 loss: 0.0140:   3%|▌                    | 3/105 [00:01<00:42,  2.42it/s]Premature end of JPEG file\n",
      "epoch 4 loss: 0.1324: 100%|███████████████████| 105/105 [00:28<00:00,  3.75it/s]\n"
     ]
    },
    {
     "name": "stdout",
     "output_type": "stream",
     "text": [
      "Fold: 1\n",
      "Epoch 5/199\n"
     ]
    },
    {
     "name": "stderr",
     "output_type": "stream",
     "text": [
      "  0%|                                                   | 0/105 [00:00<?, ?it/s]Corrupt JPEG data: 111 extraneous bytes before marker 0xd9\n",
      "epoch 5 loss: 0.0401:  20%|████                | 21/105 [00:18<01:04,  1.30it/s]Premature end of JPEG file\n",
      "epoch 5 loss: 0.0327:  52%|██████████▍         | 55/105 [00:44<00:37,  1.32it/s]Premature end of JPEG file\n",
      "epoch 5 loss: 0.0260: 100%|███████████████████| 105/105 [01:23<00:00,  1.26it/s]\n",
      "epoch 5 loss: 0.0256:   3%|▌                    | 3/105 [00:01<00:41,  2.44it/s]Premature end of JPEG file\n",
      "epoch 5 loss: 0.1632: 100%|███████████████████| 105/105 [00:27<00:00,  3.87it/s]"
     ]
    },
    {
     "name": "stdout",
     "output_type": "stream",
     "text": [
      "EarlyStopping counter: 1 out of 5\n",
      "Best F1 score from now: 0.9610910788263218\n",
      "Fold: 1\n",
      "Epoch 6/199\n"
     ]
    },
    {
     "name": "stderr",
     "output_type": "stream",
     "text": [
      "\n",
      "  0%|                                                   | 0/105 [00:00<?, ?it/s]Corrupt JPEG data: 111 extraneous bytes before marker 0xd9\n",
      "epoch 6 loss: 0.0073:  20%|████                | 21/105 [00:18<01:03,  1.32it/s]Premature end of JPEG file\n",
      "epoch 6 loss: 0.0097:  52%|██████████▍         | 55/105 [00:44<00:38,  1.29it/s]Premature end of JPEG file\n",
      "epoch 6 loss: 0.0146: 100%|███████████████████| 105/105 [01:22<00:00,  1.27it/s]\n",
      "epoch 6 loss: 0.0641:   3%|▌                    | 3/105 [00:01<00:42,  2.39it/s]Premature end of JPEG file\n",
      "epoch 6 loss: 0.1689: 100%|███████████████████| 105/105 [00:27<00:00,  3.86it/s]"
     ]
    },
    {
     "name": "stdout",
     "output_type": "stream",
     "text": [
      "EarlyStopping counter: 2 out of 5\n",
      "Best F1 score from now: 0.9610910788263218\n",
      "Fold: 1\n",
      "Epoch 7/199\n"
     ]
    },
    {
     "name": "stderr",
     "output_type": "stream",
     "text": [
      "\n",
      "  0%|                                                   | 0/105 [00:00<?, ?it/s]Corrupt JPEG data: 111 extraneous bytes before marker 0xd9\n",
      "epoch 7 loss: 0.0426:  20%|████                | 21/105 [00:18<01:03,  1.31it/s]Premature end of JPEG file\n",
      "epoch 7 loss: 0.0341:  52%|██████████▍         | 55/105 [00:44<00:38,  1.31it/s]Premature end of JPEG file\n",
      "epoch 7 loss: 0.0254: 100%|███████████████████| 105/105 [01:22<00:00,  1.27it/s]\n",
      "epoch 7 loss: 0.0335:   3%|▌                    | 3/105 [00:01<00:49,  2.05it/s]Premature end of JPEG file\n",
      "epoch 7 loss: 0.1599: 100%|███████████████████| 105/105 [00:27<00:00,  3.82it/s]"
     ]
    },
    {
     "name": "stdout",
     "output_type": "stream",
     "text": [
      "EarlyStopping counter: 3 out of 5\n",
      "Best F1 score from now: 0.9610910788263218\n",
      "Fold: 1\n",
      "Epoch 8/199\n"
     ]
    },
    {
     "name": "stderr",
     "output_type": "stream",
     "text": [
      "\n",
      "  0%|                                                   | 0/105 [00:00<?, ?it/s]Corrupt JPEG data: 111 extraneous bytes before marker 0xd9\n",
      "epoch 8 loss: 0.0077:  20%|████                | 21/105 [00:18<01:04,  1.30it/s]Premature end of JPEG file\n",
      "epoch 8 loss: 0.0089:  52%|██████████▍         | 55/105 [00:44<00:37,  1.33it/s]Premature end of JPEG file\n",
      "epoch 8 loss: 0.0082: 100%|███████████████████| 105/105 [01:22<00:00,  1.27it/s]\n",
      "epoch 8 loss: 0.0042:   3%|▌                    | 3/105 [00:01<00:44,  2.29it/s]Premature end of JPEG file\n",
      "epoch 8 loss: 0.1651: 100%|███████████████████| 105/105 [00:27<00:00,  3.83it/s]"
     ]
    },
    {
     "name": "stdout",
     "output_type": "stream",
     "text": [
      "EarlyStopping counter: 4 out of 5\n",
      "Best F1 score from now: 0.9610910788263218\n",
      "Fold: 1\n",
      "Epoch 9/199\n"
     ]
    },
    {
     "name": "stderr",
     "output_type": "stream",
     "text": [
      "\n",
      "  0%|                                                   | 0/105 [00:00<?, ?it/s]Corrupt JPEG data: 111 extraneous bytes before marker 0xd9\n",
      "epoch 9 loss: 0.0037:  20%|████                | 21/105 [00:18<01:03,  1.32it/s]Premature end of JPEG file\n",
      "epoch 9 loss: 0.0045:  52%|██████████▍         | 55/105 [00:45<00:44,  1.13it/s]Premature end of JPEG file\n",
      "epoch 9 loss: 0.0071: 100%|███████████████████| 105/105 [01:23<00:00,  1.26it/s]\n",
      "epoch 9 loss: 0.0279:   3%|▌                    | 3/105 [00:01<00:43,  2.32it/s]Premature end of JPEG file\n",
      "epoch 9 loss: 0.1701: 100%|███████████████████| 105/105 [00:27<00:00,  3.76it/s]\n"
     ]
    },
    {
     "name": "stdout",
     "output_type": "stream",
     "text": [
      "EarlyStopping counter: 5 out of 5\n",
      "Best F1 score from now: 0.9610910788263218\n",
      "stop called\n",
      "time : 0:18:32\n",
      "fold: 1, Best Epoch : 4/ 10\n",
      "fold: 1, Best Train Marco F1 : 0.99431\n",
      "[[1597    0    0    0    3    0    0    0    0    0]\n",
      " [   0 1597    1    0    1    0    0    1    0    0]\n",
      " [   0    0 1590    0    4    2    1    3    0    0]\n",
      " [   0    0    0  691    1    6    0    0    0    0]\n",
      " [   4    3    5    2 1570    5    4    4    0    3]\n",
      " [   0    1    1    3    1 1107    1    0    0    0]\n",
      " [   0    2    0    0    1    0 1597    0    0    0]\n",
      " [   0    0    3    0    5    1    1 1590    0    0]\n",
      " [   0    0    0    0    1    0    0    0  773    0]\n",
      " [   0    0    0    0    3    0    0    0    0 1166]]\n",
      "fold: 1, Best Valid Marco F1 : 0.96109\n",
      "[[393   0   0   0   4   3   0   0   0   0]\n",
      " [  0 390   0   0   4   4   2   0   0   0]\n",
      " [  1   0 389   3   3   3   0   0   1   0]\n",
      " [  1   0   0 160   5   5   1   2   0   0]\n",
      " [  2   7   5   6 349  11   2   4   4  10]\n",
      " [  0   2   0   1   6 267   1   1   1   0]\n",
      " [  0   0   1   0   0   3 396   0   0   0]\n",
      " [  0   1   3   0   7   0   0 389   0   0]\n",
      " [  0   0   0   0   1   0   0   0 192   1]\n",
      " [  0   0   0   0   1   1   0   0   0 290]]\n",
      "---------------------------------------------------------\n",
      "Training start with fold: 2 epoch: 200 \n",
      "\n",
      "All training process\n",
      "Fold: 2\n",
      "Epoch 0/199\n"
     ]
    },
    {
     "name": "stderr",
     "output_type": "stream",
     "text": [
      "epoch 0 loss: 2.1090:  26%|█████▏              | 27/105 [00:23<00:59,  1.32it/s]Premature end of JPEG file\n",
      "epoch 0 loss: 2.0960:  27%|█████▎              | 28/105 [00:24<00:59,  1.30it/s]Premature end of JPEG file\n",
      "epoch 0 loss: 1.8614:  42%|████████▍           | 44/105 [00:36<00:46,  1.30it/s]Corrupt JPEG data: 111 extraneous bytes before marker 0xd9\n",
      "epoch 0 loss: 1.5229:  66%|█████████████▏      | 69/105 [00:55<00:27,  1.32it/s]Premature end of JPEG file\n",
      "epoch 0 loss: 1.1371: 100%|███████████████████| 105/105 [01:23<00:00,  1.26it/s]\n",
      "epoch 0 loss: 0.1720: 100%|███████████████████| 105/105 [00:27<00:00,  3.87it/s]\n"
     ]
    },
    {
     "name": "stdout",
     "output_type": "stream",
     "text": [
      "Fold: 2\n",
      "Epoch 1/199\n"
     ]
    },
    {
     "name": "stderr",
     "output_type": "stream",
     "text": [
      "epoch 1 loss: 0.3224:  26%|█████▏              | 27/105 [00:23<00:59,  1.30it/s]Premature end of JPEG file\n",
      "epoch 1 loss: 0.3204:  27%|█████▎              | 28/105 [00:24<00:59,  1.28it/s]Premature end of JPEG file\n",
      "epoch 1 loss: 0.2908:  42%|████████▍           | 44/105 [00:36<00:46,  1.30it/s]Corrupt JPEG data: 111 extraneous bytes before marker 0xd9\n",
      "epoch 1 loss: 0.2519:  66%|█████████████▏      | 69/105 [00:55<00:27,  1.32it/s]Premature end of JPEG file\n",
      "epoch 1 loss: 0.2018: 100%|███████████████████| 105/105 [01:23<00:00,  1.26it/s]\n",
      "epoch 1 loss: 0.1363: 100%|███████████████████| 105/105 [00:27<00:00,  3.86it/s]\n"
     ]
    },
    {
     "name": "stdout",
     "output_type": "stream",
     "text": [
      "Fold: 2\n",
      "Epoch 2/199\n"
     ]
    },
    {
     "name": "stderr",
     "output_type": "stream",
     "text": [
      "epoch 2 loss: 0.1326:  26%|█████▏              | 27/105 [00:23<00:58,  1.33it/s]Premature end of JPEG file\n",
      "epoch 2 loss: 0.1323:  27%|█████▎              | 28/105 [00:24<00:59,  1.30it/s]Premature end of JPEG file\n",
      "epoch 2 loss: 0.1204:  42%|████████▍           | 44/105 [00:36<00:47,  1.30it/s]Corrupt JPEG data: 111 extraneous bytes before marker 0xd9\n",
      "epoch 2 loss: 0.1049:  66%|█████████████▏      | 69/105 [00:55<00:27,  1.32it/s]Premature end of JPEG file\n",
      "epoch 2 loss: 0.0857: 100%|███████████████████| 105/105 [01:23<00:00,  1.26it/s]\n",
      "epoch 2 loss: 0.1410: 100%|███████████████████| 105/105 [00:27<00:00,  3.86it/s]\n"
     ]
    },
    {
     "name": "stdout",
     "output_type": "stream",
     "text": [
      "Fold: 2\n",
      "Epoch 3/199\n"
     ]
    },
    {
     "name": "stderr",
     "output_type": "stream",
     "text": [
      "epoch 3 loss: 0.0682:  26%|█████▏              | 27/105 [00:23<00:59,  1.31it/s]Premature end of JPEG file\n",
      "epoch 3 loss: 0.0681:  27%|█████▎              | 28/105 [00:23<00:59,  1.29it/s]Premature end of JPEG file\n",
      "epoch 3 loss: 0.0610:  42%|████████▍           | 44/105 [00:36<00:46,  1.30it/s]Corrupt JPEG data: 111 extraneous bytes before marker 0xd9\n",
      "epoch 3 loss: 0.0529:  66%|█████████████▏      | 69/105 [00:55<00:27,  1.32it/s]Premature end of JPEG file\n",
      "epoch 3 loss: 0.0453: 100%|███████████████████| 105/105 [01:22<00:00,  1.27it/s]\n",
      "epoch 3 loss: 0.1790: 100%|███████████████████| 105/105 [00:27<00:00,  3.84it/s]"
     ]
    },
    {
     "name": "stdout",
     "output_type": "stream",
     "text": [
      "EarlyStopping counter: 1 out of 5\n",
      "Best F1 score from now: 0.9594804178033746\n",
      "Fold: 2\n",
      "Epoch 4/199\n"
     ]
    },
    {
     "name": "stderr",
     "output_type": "stream",
     "text": [
      "\n",
      "epoch 4 loss: 0.0662:  26%|█████▏              | 27/105 [00:23<00:58,  1.33it/s]Premature end of JPEG file\n",
      "epoch 4 loss: 0.0658:  27%|█████▎              | 28/105 [00:24<00:59,  1.30it/s]Premature end of JPEG file\n",
      "epoch 4 loss: 0.0591:  42%|████████▍           | 44/105 [00:36<00:46,  1.30it/s]Corrupt JPEG data: 111 extraneous bytes before marker 0xd9\n",
      "epoch 4 loss: 0.0520:  66%|█████████████▏      | 69/105 [00:55<00:27,  1.32it/s]Premature end of JPEG file\n",
      "epoch 4 loss: 0.0441: 100%|███████████████████| 105/105 [01:22<00:00,  1.27it/s]\n",
      "epoch 4 loss: 0.1520: 100%|███████████████████| 105/105 [00:27<00:00,  3.77it/s]"
     ]
    },
    {
     "name": "stdout",
     "output_type": "stream",
     "text": [
      "EarlyStopping counter: 2 out of 5\n",
      "Best F1 score from now: 0.9594804178033746\n",
      "Fold: 2\n",
      "Epoch 5/199\n"
     ]
    },
    {
     "name": "stderr",
     "output_type": "stream",
     "text": [
      "\n",
      "epoch 5 loss: 0.0181:  26%|█████▏              | 27/105 [00:23<00:59,  1.32it/s]Premature end of JPEG file\n",
      "epoch 5 loss: 0.0180:  28%|█████▌              | 29/105 [00:25<00:58,  1.30it/s]Premature end of JPEG file\n",
      "epoch 5 loss: 0.0177:  42%|████████▍           | 44/105 [00:36<00:47,  1.28it/s]Corrupt JPEG data: 111 extraneous bytes before marker 0xd9\n",
      "epoch 5 loss: 0.0175:  66%|█████████████▏      | 69/105 [00:55<00:27,  1.32it/s]Premature end of JPEG file\n",
      "epoch 5 loss: 0.0172: 100%|███████████████████| 105/105 [01:23<00:00,  1.26it/s]\n",
      "epoch 5 loss: 0.1394: 100%|███████████████████| 105/105 [00:27<00:00,  3.83it/s]\n"
     ]
    },
    {
     "name": "stdout",
     "output_type": "stream",
     "text": [
      "Fold: 2\n",
      "Epoch 6/199\n"
     ]
    },
    {
     "name": "stderr",
     "output_type": "stream",
     "text": [
      "epoch 6 loss: 0.0109:  26%|█████▏              | 27/105 [00:23<00:58,  1.32it/s]Premature end of JPEG file\n",
      "epoch 6 loss: 0.0113:  28%|█████▌              | 29/105 [00:24<00:57,  1.32it/s]Premature end of JPEG file\n",
      "epoch 6 loss: 0.0122:  42%|████████▍           | 44/105 [00:36<00:46,  1.30it/s]Corrupt JPEG data: 111 extraneous bytes before marker 0xd9\n",
      "epoch 6 loss: 0.0129:  66%|█████████████▏      | 69/105 [00:55<00:27,  1.32it/s]Premature end of JPEG file\n",
      "epoch 6 loss: 0.0149: 100%|███████████████████| 105/105 [01:22<00:00,  1.27it/s]\n",
      "epoch 6 loss: 0.1546: 100%|███████████████████| 105/105 [00:27<00:00,  3.86it/s]"
     ]
    },
    {
     "name": "stdout",
     "output_type": "stream",
     "text": [
      "EarlyStopping counter: 1 out of 5\n",
      "Best F1 score from now: 0.9654742764841879\n",
      "Fold: 2\n",
      "Epoch 7/199\n"
     ]
    },
    {
     "name": "stderr",
     "output_type": "stream",
     "text": [
      "\n",
      "epoch 7 loss: 0.0171:  26%|█████▏              | 27/105 [00:23<00:59,  1.32it/s]Premature end of JPEG file\n",
      "epoch 7 loss: 0.0173:  27%|█████▎              | 28/105 [00:24<00:59,  1.29it/s]Premature end of JPEG file\n",
      "epoch 7 loss: 0.0173:  42%|████████▍           | 44/105 [00:36<00:46,  1.30it/s]Corrupt JPEG data: 111 extraneous bytes before marker 0xd9\n",
      "epoch 7 loss: 0.0164:  66%|█████████████▏      | 69/105 [00:55<00:27,  1.29it/s]Premature end of JPEG file\n",
      "epoch 7 loss: 0.0176: 100%|███████████████████| 105/105 [01:23<00:00,  1.26it/s]\n",
      "epoch 7 loss: 0.1384: 100%|███████████████████| 105/105 [00:27<00:00,  3.87it/s]"
     ]
    },
    {
     "name": "stdout",
     "output_type": "stream",
     "text": [
      "EarlyStopping counter: 2 out of 5\n",
      "Best F1 score from now: 0.9654742764841879\n",
      "Fold: 2\n",
      "Epoch 8/199\n"
     ]
    },
    {
     "name": "stderr",
     "output_type": "stream",
     "text": [
      "\n",
      "epoch 8 loss: 0.0110:  26%|█████▏              | 27/105 [00:23<00:59,  1.31it/s]Premature end of JPEG file\n",
      "epoch 8 loss: 0.0110:  27%|█████▎              | 28/105 [00:23<00:59,  1.29it/s]Premature end of JPEG file\n",
      "epoch 8 loss: 0.0107:  42%|████████▍           | 44/105 [00:36<00:46,  1.30it/s]Corrupt JPEG data: 111 extraneous bytes before marker 0xd9\n",
      "epoch 8 loss: 0.0122:  66%|█████████████▏      | 69/105 [00:55<00:27,  1.32it/s]Premature end of JPEG file\n",
      "epoch 8 loss: 0.0124: 100%|███████████████████| 105/105 [01:22<00:00,  1.27it/s]\n",
      "epoch 8 loss: 0.1797: 100%|███████████████████| 105/105 [00:27<00:00,  3.87it/s]"
     ]
    },
    {
     "name": "stdout",
     "output_type": "stream",
     "text": [
      "EarlyStopping counter: 3 out of 5\n",
      "Best F1 score from now: 0.9654742764841879\n",
      "Fold: 2\n",
      "Epoch 9/199\n"
     ]
    },
    {
     "name": "stderr",
     "output_type": "stream",
     "text": [
      "\n",
      "epoch 9 loss: 0.0058:  26%|█████▏              | 27/105 [00:23<00:58,  1.32it/s]Premature end of JPEG file\n",
      "epoch 9 loss: 0.0058:  27%|█████▎              | 28/105 [00:24<01:00,  1.27it/s]Premature end of JPEG file\n",
      "epoch 9 loss: 0.0058:  42%|████████▍           | 44/105 [00:36<00:46,  1.31it/s]Corrupt JPEG data: 111 extraneous bytes before marker 0xd9\n",
      "epoch 9 loss: 0.0060:  66%|█████████████▏      | 69/105 [00:56<00:27,  1.32it/s]Premature end of JPEG file\n",
      "epoch 9 loss: 0.0075: 100%|███████████████████| 105/105 [01:23<00:00,  1.26it/s]\n",
      "epoch 9 loss: 0.1850: 100%|███████████████████| 105/105 [00:28<00:00,  3.75it/s]"
     ]
    },
    {
     "name": "stdout",
     "output_type": "stream",
     "text": [
      "EarlyStopping counter: 4 out of 5\n",
      "Best F1 score from now: 0.9654742764841879\n",
      "Fold: 2\n",
      "Epoch 10/199\n"
     ]
    },
    {
     "name": "stderr",
     "output_type": "stream",
     "text": [
      "\n",
      "epoch 10 loss: 0.0039:  26%|████▉              | 27/105 [00:22<00:59,  1.32it/s]Premature end of JPEG file\n",
      "epoch 10 loss: 0.0039:  27%|█████              | 28/105 [00:23<00:59,  1.29it/s]Premature end of JPEG file\n",
      "epoch 10 loss: 0.0038:  42%|███████▉           | 44/105 [00:35<00:47,  1.29it/s]Corrupt JPEG data: 111 extraneous bytes before marker 0xd9\n",
      "epoch 10 loss: 0.0047:  66%|████████████▍      | 69/105 [00:54<00:27,  1.32it/s]Premature end of JPEG file\n",
      "epoch 10 loss: 0.0058: 100%|██████████████████| 105/105 [01:22<00:00,  1.28it/s]\n",
      "epoch 10 loss: 0.1625: 100%|██████████████████| 105/105 [00:27<00:00,  3.88it/s]\n"
     ]
    },
    {
     "name": "stdout",
     "output_type": "stream",
     "text": [
      "EarlyStopping counter: 5 out of 5\n",
      "Best F1 score from now: 0.9654742764841879\n",
      "stop called\n",
      "time : 0:20:24\n",
      "fold: 2, Best Epoch : 5/ 11\n",
      "fold: 2, Best Train Marco F1 : 0.99507\n",
      "[[1599    0    0    0    1    0    0    0    0    0]\n",
      " [   0 1594    0    0    2    3    0    0    0    1]\n",
      " [   0    0 1592    2    1    1    0    3    1    0]\n",
      " [   1    0    1  693    1    1    0    0    0    0]\n",
      " [   1    2    3    3 1582    2    1    2    0    4]\n",
      " [   0    4    1    0    3 1105    0    1    1    0]\n",
      " [   0    0    0    0    1    1 1598    0    0    0]\n",
      " [   0    0    2    0    5    1    0 1592    0    0]\n",
      " [   0    0    0    0    1    1    0    0  772    0]\n",
      " [   0    0    0    0    3    1    0    0    1 1164]]\n",
      "fold: 2, Best Valid Marco F1 : 0.96547\n",
      "[[397   0   0   1   2   0   0   0   0   0]\n",
      " [  0 392   0   0   4   4   0   0   0   0]\n",
      " [  0   0 381   2   6   9   0   0   2   0]\n",
      " [  0   0   1 164   5   5   0   0   0   0]\n",
      " [  4   5   3   6 365   4   0   9   1   3]\n",
      " [  0   2   0   0   4 271   0   0   1   0]\n",
      " [  0   0   0   0   1   0 399   0   0   0]\n",
      " [  0   0   8   0   9   5   1 377   0   0]\n",
      " [  0   0   0   0   4   0   0   0 190   0]\n",
      " [  0   0   0   0   2   0   0   0   0 290]]\n",
      "---------------------------------------------------------\n",
      "Training start with fold: 3 epoch: 200 \n",
      "\n",
      "All training process\n",
      "Fold: 3\n",
      "Epoch 0/199\n"
     ]
    },
    {
     "name": "stderr",
     "output_type": "stream",
     "text": [
      "  0%|                                                   | 0/105 [00:00<?, ?it/s]Premature end of JPEG file\n",
      "epoch 0 loss: 1.9503:  38%|███████▌            | 40/105 [00:32<00:49,  1.31it/s]Corrupt JPEG data: 111 extraneous bytes before marker 0xd9\n",
      "epoch 0 loss: 1.5576:  65%|████████████▉       | 68/105 [00:53<00:28,  1.30it/s]Premature end of JPEG file\n",
      "epoch 0 loss: 1.1490: 100%|███████████████████| 105/105 [01:22<00:00,  1.28it/s]\n",
      "epoch 0 loss: 0.0616:   6%|█▏                   | 6/105 [00:02<00:27,  3.56it/s]Premature end of JPEG file\n",
      "epoch 0 loss: 0.1641: 100%|███████████████████| 105/105 [00:26<00:00,  3.90it/s]\n"
     ]
    },
    {
     "name": "stdout",
     "output_type": "stream",
     "text": [
      "Fold: 3\n",
      "Epoch 1/199\n"
     ]
    },
    {
     "name": "stderr",
     "output_type": "stream",
     "text": [
      "  0%|                                                   | 0/105 [00:00<?, ?it/s]Premature end of JPEG file\n",
      "epoch 1 loss: 0.2067:  38%|███████▌            | 40/105 [00:32<00:49,  1.31it/s]Corrupt JPEG data: 111 extraneous bytes before marker 0xd9\n",
      "epoch 1 loss: 0.1831:  64%|████████████▊       | 67/105 [00:53<00:28,  1.33it/s]Premature end of JPEG file\n",
      "epoch 1 loss: 0.1495: 100%|███████████████████| 105/105 [01:21<00:00,  1.28it/s]\n",
      "epoch 1 loss: 0.0269:   6%|█▏                   | 6/105 [00:02<00:28,  3.52it/s]Premature end of JPEG file\n",
      "epoch 1 loss: 0.1236: 100%|███████████████████| 105/105 [00:27<00:00,  3.88it/s]\n"
     ]
    },
    {
     "name": "stdout",
     "output_type": "stream",
     "text": [
      "Fold: 3\n",
      "Epoch 2/199\n"
     ]
    },
    {
     "name": "stderr",
     "output_type": "stream",
     "text": [
      "  0%|                                                   | 0/105 [00:00<?, ?it/s]Premature end of JPEG file\n",
      "epoch 2 loss: 0.0559:  38%|███████▌            | 40/105 [00:33<00:50,  1.30it/s]Corrupt JPEG data: 111 extraneous bytes before marker 0xd9\n",
      "epoch 2 loss: 0.0534:  64%|████████████▊       | 67/105 [00:53<00:28,  1.33it/s]Premature end of JPEG file\n",
      "epoch 2 loss: 0.0520: 100%|███████████████████| 105/105 [01:22<00:00,  1.27it/s]\n",
      "epoch 2 loss: 0.0302:   6%|█▏                   | 6/105 [00:02<00:27,  3.55it/s]Premature end of JPEG file\n",
      "epoch 2 loss: 0.1208: 100%|███████████████████| 105/105 [00:26<00:00,  3.89it/s]\n"
     ]
    },
    {
     "name": "stdout",
     "output_type": "stream",
     "text": [
      "Fold: 3\n",
      "Epoch 3/199\n"
     ]
    },
    {
     "name": "stderr",
     "output_type": "stream",
     "text": [
      "  0%|                                                   | 0/105 [00:00<?, ?it/s]Premature end of JPEG file\n",
      "epoch 3 loss: 0.0279:  38%|███████▌            | 40/105 [00:32<00:49,  1.30it/s]Corrupt JPEG data: 111 extraneous bytes before marker 0xd9\n",
      "epoch 3 loss: 0.0289:  64%|████████████▊       | 67/105 [00:53<00:28,  1.32it/s]Premature end of JPEG file\n",
      "epoch 3 loss: 0.0291: 100%|███████████████████| 105/105 [01:22<00:00,  1.28it/s]\n",
      "epoch 3 loss: 0.0254:   6%|█▏                   | 6/105 [00:02<00:29,  3.34it/s]Premature end of JPEG file\n",
      "epoch 3 loss: 0.1469: 100%|███████████████████| 105/105 [00:27<00:00,  3.86it/s]"
     ]
    },
    {
     "name": "stdout",
     "output_type": "stream",
     "text": [
      "EarlyStopping counter: 1 out of 5\n",
      "Best F1 score from now: 0.9627303866996979\n",
      "Fold: 3\n",
      "Epoch 4/199\n"
     ]
    },
    {
     "name": "stderr",
     "output_type": "stream",
     "text": [
      "\n",
      "  0%|                                                   | 0/105 [00:00<?, ?it/s]Premature end of JPEG file\n",
      "epoch 4 loss: 0.0158:  38%|███████▌            | 40/105 [00:32<00:49,  1.30it/s]Corrupt JPEG data: 111 extraneous bytes before marker 0xd9\n",
      "epoch 4 loss: 0.0178:  64%|████████████▊       | 67/105 [00:53<00:28,  1.32it/s]Premature end of JPEG file\n",
      "epoch 4 loss: 0.0183: 100%|███████████████████| 105/105 [01:22<00:00,  1.27it/s]\n",
      "epoch 4 loss: 0.0047:   6%|█▏                   | 6/105 [00:02<00:27,  3.59it/s]Premature end of JPEG file\n",
      "epoch 4 loss: 0.1427: 100%|███████████████████| 105/105 [00:27<00:00,  3.80it/s]"
     ]
    },
    {
     "name": "stdout",
     "output_type": "stream",
     "text": [
      "EarlyStopping counter: 2 out of 5\n",
      "Best F1 score from now: 0.9627303866996979\n",
      "Fold: 3\n",
      "Epoch 5/199\n"
     ]
    },
    {
     "name": "stderr",
     "output_type": "stream",
     "text": [
      "\n",
      "  0%|                                                   | 0/105 [00:00<?, ?it/s]Premature end of JPEG file\n",
      "epoch 5 loss: 0.0119:  38%|███████▌            | 40/105 [00:32<00:49,  1.30it/s]Corrupt JPEG data: 111 extraneous bytes before marker 0xd9\n",
      "epoch 5 loss: 0.0128:  64%|████████████▊       | 67/105 [00:53<00:28,  1.32it/s]Premature end of JPEG file\n",
      "epoch 5 loss: 0.0136: 100%|███████████████████| 105/105 [01:21<00:00,  1.28it/s]\n",
      "epoch 5 loss: 0.0110:   6%|█▏                   | 6/105 [00:02<00:27,  3.60it/s]Premature end of JPEG file\n",
      "epoch 5 loss: 0.1616: 100%|███████████████████| 105/105 [00:26<00:00,  3.90it/s]"
     ]
    },
    {
     "name": "stdout",
     "output_type": "stream",
     "text": [
      "EarlyStopping counter: 3 out of 5\n",
      "Best F1 score from now: 0.9627303866996979\n",
      "Fold: 3\n",
      "Epoch 6/199\n"
     ]
    },
    {
     "name": "stderr",
     "output_type": "stream",
     "text": [
      "\n",
      "  0%|                                                   | 0/105 [00:00<?, ?it/s]Premature end of JPEG file\n",
      "epoch 6 loss: 0.0074:  38%|███████▌            | 40/105 [00:32<00:49,  1.31it/s]Corrupt JPEG data: 111 extraneous bytes before marker 0xd9\n",
      "epoch 6 loss: 0.0088:  64%|████████████▊       | 67/105 [00:53<00:28,  1.33it/s]Premature end of JPEG file\n",
      "epoch 6 loss: 0.0104: 100%|███████████████████| 105/105 [01:22<00:00,  1.27it/s]\n",
      "epoch 6 loss: 0.0137:   6%|█▏                   | 6/105 [00:02<00:27,  3.59it/s]Premature end of JPEG file\n",
      "epoch 6 loss: 0.1710: 100%|███████████████████| 105/105 [00:26<00:00,  3.91it/s]"
     ]
    },
    {
     "name": "stdout",
     "output_type": "stream",
     "text": [
      "EarlyStopping counter: 4 out of 5\n",
      "Best F1 score from now: 0.9627303866996979\n",
      "Fold: 3\n",
      "Epoch 7/199\n"
     ]
    },
    {
     "name": "stderr",
     "output_type": "stream",
     "text": [
      "\n",
      "  0%|                                                   | 0/105 [00:00<?, ?it/s]Premature end of JPEG file\n",
      "epoch 7 loss: 0.0084:  38%|███████▌            | 40/105 [00:32<00:50,  1.30it/s]Corrupt JPEG data: 111 extraneous bytes before marker 0xd9\n",
      "epoch 7 loss: 0.0091:  64%|████████████▊       | 67/105 [00:53<00:28,  1.33it/s]Premature end of JPEG file\n",
      "epoch 7 loss: 0.0100: 100%|███████████████████| 105/105 [01:22<00:00,  1.28it/s]\n",
      "epoch 7 loss: 0.0094:   6%|█▏                   | 6/105 [00:02<00:28,  3.51it/s]Premature end of JPEG file\n",
      "epoch 7 loss: 0.1597: 100%|███████████████████| 105/105 [00:27<00:00,  3.88it/s]\n"
     ]
    },
    {
     "name": "stdout",
     "output_type": "stream",
     "text": [
      "EarlyStopping counter: 5 out of 5\n",
      "Best F1 score from now: 0.9627303866996979\n",
      "stop called\n",
      "time : 0:14:41\n",
      "fold: 3, Best Epoch : 2/ 8\n",
      "fold: 3, Best Train Marco F1 : 0.98423\n",
      "[[1590    0    0    1    6    3    0    0    0    0]\n",
      " [   0 1584    1    0    7    5    1    1    1    0]\n",
      " [   0    0 1574    2   14    1    1    6    1    1]\n",
      " [   0    0    1  676   10    6    3    1    0    0]\n",
      " [   6    9    8    6 1530   14    4    8    4   11]\n",
      " [   6    2    1    5    9 1091    0    1    0    0]\n",
      " [   1    0    2    0    3    1 1592    0    1    0]\n",
      " [   1    0    3    1   12    1    0 1582    0    0]\n",
      " [   0    0    0    0    4    1    0    0  769    1]\n",
      " [   0    0    1    0    5    1    0    0    0 1161]]\n",
      "fold: 3, Best Valid Marco F1 : 0.96273\n",
      "[[392   0   0   2   3   3   0   0   0   0]\n",
      " [  0 398   0   0   2   0   0   0   0   0]\n",
      " [  0   0 380   0  11   3   1   5   0   0]\n",
      " [  0   0   3 157   8   2   1   4   0   0]\n",
      " [  4   7   4   5 362   3   5   1   6   3]\n",
      " [  0   4   0   3   5 264   1   0   1   0]\n",
      " [  0   0   1   0   1   0 398   0   0   0]\n",
      " [  0   0   3   0   7   0   0 390   0   0]\n",
      " [  0   0   0   0   3   0   0   0 190   0]\n",
      " [  0   0   0   0   2   0   0   0   1 290]]\n",
      "---------------------------------------------------------\n",
      "Training start with fold: 4 epoch: 200 \n",
      "\n",
      "All training process\n",
      "Fold: 4\n",
      "Epoch 0/199\n"
     ]
    },
    {
     "name": "stderr",
     "output_type": "stream",
     "text": [
      "  0%|                                                   | 0/105 [00:00<?, ?it/s]Premature end of JPEG file\n",
      "epoch 0 loss: 2.3240:   4%|▊                    | 4/105 [00:05<01:47,  1.07s/it]Premature end of JPEG file\n",
      "epoch 0 loss: 2.2104:  19%|███▊                | 20/105 [00:17<01:05,  1.30it/s]Corrupt JPEG data: 111 extraneous bytes before marker 0xd9\n",
      "epoch 0 loss: 1.9583:  36%|███████▏            | 38/105 [00:31<00:51,  1.31it/s]Premature end of JPEG file\n",
      "epoch 0 loss: 1.1424: 100%|███████████████████| 105/105 [01:23<00:00,  1.26it/s]\n",
      "epoch 0 loss: 0.1758: 100%|███████████████████| 105/105 [00:27<00:00,  3.86it/s]\n"
     ]
    },
    {
     "name": "stdout",
     "output_type": "stream",
     "text": [
      "Fold: 4\n",
      "Epoch 1/199\n"
     ]
    },
    {
     "name": "stderr",
     "output_type": "stream",
     "text": [
      "epoch 1 loss: 0.1525:   1%|▏                    | 1/105 [00:02<04:58,  2.87s/it]Premature end of JPEG file\n",
      "epoch 1 loss: 0.1541:   4%|▊                    | 4/105 [00:05<01:47,  1.06s/it]Premature end of JPEG file\n",
      "epoch 1 loss: 0.1617:  19%|███▊                | 20/105 [00:17<01:05,  1.29it/s]Corrupt JPEG data: 111 extraneous bytes before marker 0xd9\n",
      "epoch 1 loss: 0.1585:  36%|███████▏            | 38/105 [00:31<00:51,  1.30it/s]Premature end of JPEG file\n",
      "epoch 1 loss: 0.1266: 100%|███████████████████| 105/105 [01:22<00:00,  1.28it/s]\n",
      "epoch 1 loss: 0.1392: 100%|███████████████████| 105/105 [00:27<00:00,  3.85it/s]\n"
     ]
    },
    {
     "name": "stdout",
     "output_type": "stream",
     "text": [
      "Fold: 4\n",
      "Epoch 2/199\n"
     ]
    },
    {
     "name": "stderr",
     "output_type": "stream",
     "text": [
      "  0%|                                                   | 0/105 [00:00<?, ?it/s]Premature end of JPEG file\n",
      "epoch 2 loss: 0.1023:   4%|▊                    | 4/105 [00:05<01:47,  1.06s/it]Premature end of JPEG file\n",
      "epoch 2 loss: 0.0991:  19%|███▊                | 20/105 [00:17<01:05,  1.30it/s]Corrupt JPEG data: 111 extraneous bytes before marker 0xd9\n",
      "epoch 2 loss: 0.0914:  36%|███████▏            | 38/105 [00:31<00:51,  1.31it/s]Premature end of JPEG file\n",
      "epoch 2 loss: 0.0670: 100%|███████████████████| 105/105 [01:21<00:00,  1.28it/s]\n",
      "epoch 2 loss: 0.1464: 100%|███████████████████| 105/105 [00:26<00:00,  3.90it/s]\n"
     ]
    },
    {
     "name": "stdout",
     "output_type": "stream",
     "text": [
      "Fold: 4\n",
      "Epoch 3/199\n"
     ]
    },
    {
     "name": "stderr",
     "output_type": "stream",
     "text": [
      "epoch 3 loss: 0.0340:   1%|▏                    | 1/105 [00:02<05:06,  2.95s/it]Premature end of JPEG file\n",
      "epoch 3 loss: 0.0340:   4%|▊                    | 4/105 [00:05<01:48,  1.08s/it]Premature end of JPEG file\n",
      "epoch 3 loss: 0.0358:  19%|███▊                | 20/105 [00:17<01:05,  1.29it/s]Corrupt JPEG data: 111 extraneous bytes before marker 0xd9\n",
      "epoch 3 loss: 0.0346:  36%|███████▏            | 38/105 [00:31<00:51,  1.31it/s]Premature end of JPEG file\n",
      "epoch 3 loss: 0.0338: 100%|███████████████████| 105/105 [01:22<00:00,  1.28it/s]\n",
      "epoch 3 loss: 0.1511: 100%|███████████████████| 105/105 [00:27<00:00,  3.88it/s]"
     ]
    },
    {
     "name": "stdout",
     "output_type": "stream",
     "text": [
      "EarlyStopping counter: 1 out of 5\n",
      "Best F1 score from now: 0.9573187211955826\n",
      "Fold: 4\n",
      "Epoch 4/199\n"
     ]
    },
    {
     "name": "stderr",
     "output_type": "stream",
     "text": [
      "\n",
      "epoch 4 loss: 0.0784:   1%|▏                    | 1/105 [00:02<04:30,  2.60s/it]Premature end of JPEG file\n",
      "epoch 4 loss: 0.0771:   4%|▊                    | 4/105 [00:05<01:45,  1.05s/it]Premature end of JPEG file\n",
      "epoch 4 loss: 0.0707:  19%|███▊                | 20/105 [00:17<01:05,  1.30it/s]Corrupt JPEG data: 111 extraneous bytes before marker 0xd9\n",
      "epoch 4 loss: 0.0627:  36%|███████▏            | 38/105 [00:30<00:51,  1.31it/s]Premature end of JPEG file\n",
      "epoch 4 loss: 0.0432: 100%|███████████████████| 105/105 [01:21<00:00,  1.29it/s]\n",
      "epoch 4 loss: 0.1638: 100%|███████████████████| 105/105 [00:27<00:00,  3.80it/s]"
     ]
    },
    {
     "name": "stdout",
     "output_type": "stream",
     "text": [
      "EarlyStopping counter: 2 out of 5\n",
      "Best F1 score from now: 0.9573187211955826\n",
      "Fold: 4\n",
      "Epoch 5/199\n"
     ]
    },
    {
     "name": "stderr",
     "output_type": "stream",
     "text": [
      "\n",
      "epoch 5 loss: 0.0304:   1%|▏                    | 1/105 [00:03<05:18,  3.06s/it]Premature end of JPEG file\n",
      "epoch 5 loss: 0.0299:   4%|▊                    | 4/105 [00:05<01:49,  1.09s/it]Premature end of JPEG file\n",
      "epoch 5 loss: 0.0309:  19%|███▊                | 20/105 [00:17<01:04,  1.31it/s]Corrupt JPEG data: 111 extraneous bytes before marker 0xd9\n",
      "epoch 5 loss: 0.0286:  36%|███████▏            | 38/105 [00:31<00:51,  1.31it/s]Premature end of JPEG file\n",
      "epoch 5 loss: 0.0245: 100%|███████████████████| 105/105 [01:22<00:00,  1.28it/s]\n",
      "epoch 5 loss: 0.1432: 100%|███████████████████| 105/105 [00:27<00:00,  3.88it/s]\n"
     ]
    },
    {
     "name": "stdout",
     "output_type": "stream",
     "text": [
      "Fold: 4\n",
      "Epoch 6/199\n"
     ]
    },
    {
     "name": "stderr",
     "output_type": "stream",
     "text": [
      "epoch 6 loss: 0.0497:   1%|▏                    | 1/105 [00:02<04:57,  2.86s/it]Premature end of JPEG file\n",
      "epoch 6 loss: 0.0488:   4%|▊                    | 4/105 [00:05<01:46,  1.06s/it]Premature end of JPEG file\n",
      "epoch 6 loss: 0.0459:  19%|███▊                | 20/105 [00:17<01:06,  1.28it/s]Corrupt JPEG data: 111 extraneous bytes before marker 0xd9\n",
      "epoch 6 loss: 0.0419:  36%|███████▏            | 38/105 [00:31<00:51,  1.30it/s]Premature end of JPEG file\n",
      "epoch 6 loss: 0.0284: 100%|███████████████████| 105/105 [01:22<00:00,  1.28it/s]\n",
      "epoch 6 loss: 0.1879: 100%|███████████████████| 105/105 [00:26<00:00,  3.90it/s]"
     ]
    },
    {
     "name": "stdout",
     "output_type": "stream",
     "text": [
      "EarlyStopping counter: 1 out of 5\n",
      "Best F1 score from now: 0.9608515023079504\n",
      "Fold: 4\n",
      "Epoch 7/199\n"
     ]
    },
    {
     "name": "stderr",
     "output_type": "stream",
     "text": [
      "\n",
      "epoch 7 loss: 0.0340:   1%|▏                    | 1/105 [00:02<04:36,  2.65s/it]Premature end of JPEG file\n",
      "epoch 7 loss: 0.0332:   4%|▊                    | 4/105 [00:05<01:46,  1.06s/it]Premature end of JPEG file\n",
      "epoch 7 loss: 0.0317:  19%|███▊                | 20/105 [00:17<01:05,  1.30it/s]Corrupt JPEG data: 111 extraneous bytes before marker 0xd9\n",
      "epoch 7 loss: 0.0291:  35%|███████             | 37/105 [00:30<00:51,  1.33it/s]Premature end of JPEG file\n",
      "epoch 7 loss: 0.0215: 100%|███████████████████| 105/105 [01:21<00:00,  1.28it/s]\n",
      "epoch 7 loss: 0.1912: 100%|███████████████████| 105/105 [00:26<00:00,  3.89it/s]"
     ]
    },
    {
     "name": "stdout",
     "output_type": "stream",
     "text": [
      "EarlyStopping counter: 2 out of 5\n",
      "Best F1 score from now: 0.9608515023079504\n",
      "Fold: 4\n",
      "Epoch 8/199\n"
     ]
    },
    {
     "name": "stderr",
     "output_type": "stream",
     "text": [
      "\n",
      "epoch 8 loss: 0.0116:   1%|▏                    | 1/105 [00:02<04:57,  2.86s/it]Premature end of JPEG file\n",
      "epoch 8 loss: 0.0118:   4%|▊                    | 4/105 [00:05<01:46,  1.06s/it]Premature end of JPEG file\n",
      "epoch 8 loss: 0.0127:  19%|███▊                | 20/105 [00:17<01:05,  1.30it/s]Corrupt JPEG data: 111 extraneous bytes before marker 0xd9\n",
      "epoch 8 loss: 0.0126:  36%|███████▏            | 38/105 [00:31<00:51,  1.31it/s]Premature end of JPEG file\n",
      "epoch 8 loss: 0.0104: 100%|███████████████████| 105/105 [01:22<00:00,  1.28it/s]\n",
      "epoch 8 loss: 0.1517: 100%|███████████████████| 105/105 [00:26<00:00,  3.89it/s]\n"
     ]
    },
    {
     "name": "stdout",
     "output_type": "stream",
     "text": [
      "Fold: 4\n",
      "Epoch 9/199\n"
     ]
    },
    {
     "name": "stderr",
     "output_type": "stream",
     "text": [
      "epoch 9 loss: 0.0207:   1%|▏                    | 1/105 [00:02<05:07,  2.96s/it]Premature end of JPEG file\n",
      "epoch 9 loss: 0.0202:   4%|▊                    | 4/105 [00:05<01:47,  1.07s/it]Premature end of JPEG file\n",
      "epoch 9 loss: 0.0190:  19%|███▊                | 20/105 [00:17<01:05,  1.31it/s]Corrupt JPEG data: 111 extraneous bytes before marker 0xd9\n",
      "epoch 9 loss: 0.0177:  36%|███████▏            | 38/105 [00:31<00:51,  1.30it/s]Premature end of JPEG file\n",
      "epoch 9 loss: 0.0153: 100%|███████████████████| 105/105 [01:22<00:00,  1.28it/s]\n",
      "epoch 9 loss: 0.1561: 100%|███████████████████| 105/105 [00:27<00:00,  3.81it/s]"
     ]
    },
    {
     "name": "stdout",
     "output_type": "stream",
     "text": [
      "EarlyStopping counter: 1 out of 5\n",
      "Best F1 score from now: 0.9641554909669802\n",
      "Fold: 4\n",
      "Epoch 10/199\n"
     ]
    },
    {
     "name": "stderr",
     "output_type": "stream",
     "text": [
      "\n",
      "epoch 10 loss: 0.0095:   1%|▏                   | 1/105 [00:02<05:00,  2.89s/it]Premature end of JPEG file\n",
      "epoch 10 loss: 0.0096:   4%|▊                   | 4/105 [00:05<01:52,  1.11s/it]Premature end of JPEG file\n",
      "epoch 10 loss: 0.0099:  19%|███▌               | 20/105 [00:17<01:04,  1.31it/s]Corrupt JPEG data: 111 extraneous bytes before marker 0xd9\n",
      "epoch 10 loss: 0.0100:  36%|██████▉            | 38/105 [00:31<00:51,  1.31it/s]Premature end of JPEG file\n",
      "epoch 10 loss: 0.0119: 100%|██████████████████| 105/105 [01:21<00:00,  1.28it/s]\n",
      "epoch 10 loss: 0.1901: 100%|██████████████████| 105/105 [00:27<00:00,  3.88it/s]"
     ]
    },
    {
     "name": "stdout",
     "output_type": "stream",
     "text": [
      "EarlyStopping counter: 2 out of 5\n",
      "Best F1 score from now: 0.9641554909669802\n",
      "Fold: 4\n",
      "Epoch 11/199\n"
     ]
    },
    {
     "name": "stderr",
     "output_type": "stream",
     "text": [
      "\n",
      "epoch 11 loss: 0.0057:   1%|▏                   | 1/105 [00:02<05:01,  2.90s/it]Premature end of JPEG file\n",
      "epoch 11 loss: 0.0060:   4%|▊                   | 4/105 [00:05<01:53,  1.13s/it]Premature end of JPEG file\n",
      "epoch 11 loss: 0.0071:  19%|███▌               | 20/105 [00:17<01:06,  1.29it/s]Corrupt JPEG data: 111 extraneous bytes before marker 0xd9\n",
      "epoch 11 loss: 0.0078:  36%|██████▉            | 38/105 [00:31<00:51,  1.29it/s]Premature end of JPEG file\n",
      "epoch 11 loss: 0.0086: 100%|██████████████████| 105/105 [01:22<00:00,  1.27it/s]\n",
      "epoch 11 loss: 0.1771: 100%|██████████████████| 105/105 [00:27<00:00,  3.88it/s]"
     ]
    },
    {
     "name": "stdout",
     "output_type": "stream",
     "text": [
      "EarlyStopping counter: 3 out of 5\n",
      "Best F1 score from now: 0.9641554909669802\n",
      "Fold: 4\n",
      "Epoch 12/199\n"
     ]
    },
    {
     "name": "stderr",
     "output_type": "stream",
     "text": [
      "\n",
      "epoch 12 loss: 0.0219:   1%|▏                   | 1/105 [00:02<04:59,  2.88s/it]Premature end of JPEG file\n",
      "epoch 12 loss: 0.0213:   4%|▊                   | 4/105 [00:05<01:47,  1.07s/it]Premature end of JPEG file\n",
      "epoch 12 loss: 0.0199:  19%|███▌               | 20/105 [00:17<01:05,  1.31it/s]Corrupt JPEG data: 111 extraneous bytes before marker 0xd9\n",
      "epoch 12 loss: 0.0174:  36%|██████▉            | 38/105 [00:31<00:51,  1.31it/s]Premature end of JPEG file\n",
      "epoch 12 loss: 0.0119: 100%|██████████████████| 105/105 [01:22<00:00,  1.28it/s]\n",
      "epoch 12 loss: 0.2056: 100%|██████████████████| 105/105 [00:27<00:00,  3.88it/s]"
     ]
    },
    {
     "name": "stdout",
     "output_type": "stream",
     "text": [
      "EarlyStopping counter: 4 out of 5\n",
      "Best F1 score from now: 0.9641554909669802\n",
      "Fold: 4\n",
      "Epoch 13/199\n"
     ]
    },
    {
     "name": "stderr",
     "output_type": "stream",
     "text": [
      "\n",
      "  0%|                                                   | 0/105 [00:00<?, ?it/s]Premature end of JPEG file\n",
      "epoch 13 loss: 0.0055:   4%|▊                   | 4/105 [00:05<01:47,  1.06s/it]Premature end of JPEG file\n",
      "epoch 13 loss: 0.0057:  19%|███▌               | 20/105 [00:17<01:04,  1.31it/s]Corrupt JPEG data: 111 extraneous bytes before marker 0xd9\n",
      "epoch 13 loss: 0.0053:  36%|██████▉            | 38/105 [00:31<00:50,  1.32it/s]Premature end of JPEG file\n",
      "epoch 13 loss: 0.0052: 100%|██████████████████| 105/105 [01:21<00:00,  1.28it/s]\n",
      "epoch 13 loss: 0.1717: 100%|██████████████████| 105/105 [00:26<00:00,  3.92it/s]\n"
     ]
    },
    {
     "name": "stdout",
     "output_type": "stream",
     "text": [
      "Fold: 4\n",
      "Epoch 14/199\n"
     ]
    },
    {
     "name": "stderr",
     "output_type": "stream",
     "text": [
      "epoch 14 loss: 0.0008:   1%|▏                   | 1/105 [00:02<05:03,  2.92s/it]Premature end of JPEG file\n",
      "epoch 14 loss: 0.0010:   4%|▊                   | 4/105 [00:05<01:52,  1.11s/it]Premature end of JPEG file\n",
      "epoch 14 loss: 0.0025:  19%|███▌               | 20/105 [00:17<01:06,  1.28it/s]Corrupt JPEG data: 111 extraneous bytes before marker 0xd9\n",
      "epoch 14 loss: 0.0038:  36%|██████▉            | 38/105 [00:31<00:51,  1.30it/s]Premature end of JPEG file\n",
      "epoch 14 loss: 0.0065: 100%|██████████████████| 105/105 [01:22<00:00,  1.27it/s]\n",
      "epoch 14 loss: 0.1689: 100%|██████████████████| 105/105 [00:26<00:00,  3.90it/s]"
     ]
    },
    {
     "name": "stdout",
     "output_type": "stream",
     "text": [
      "EarlyStopping counter: 1 out of 5\n",
      "Best F1 score from now: 0.9645013625946846\n",
      "Fold: 4\n",
      "Epoch 15/199\n"
     ]
    },
    {
     "name": "stderr",
     "output_type": "stream",
     "text": [
      "\n",
      "epoch 15 loss: 0.0075:   1%|▏                   | 1/105 [00:02<05:02,  2.91s/it]Premature end of JPEG file\n",
      "epoch 15 loss: 0.0075:   4%|▊                   | 4/105 [00:05<01:47,  1.07s/it]Premature end of JPEG file\n",
      "epoch 15 loss: 0.0086:  19%|███▌               | 20/105 [00:17<01:05,  1.31it/s]Corrupt JPEG data: 111 extraneous bytes before marker 0xd9\n",
      "epoch 15 loss: 0.0084:  36%|██████▉            | 38/105 [00:31<00:52,  1.29it/s]Premature end of JPEG file\n",
      "epoch 15 loss: 0.0097: 100%|██████████████████| 105/105 [01:21<00:00,  1.28it/s]\n",
      "epoch 15 loss: 0.1796: 100%|██████████████████| 105/105 [00:27<00:00,  3.88it/s]"
     ]
    },
    {
     "name": "stdout",
     "output_type": "stream",
     "text": [
      "EarlyStopping counter: 2 out of 5\n",
      "Best F1 score from now: 0.9645013625946846\n",
      "Fold: 4\n",
      "Epoch 16/199\n"
     ]
    },
    {
     "name": "stderr",
     "output_type": "stream",
     "text": [
      "\n",
      "epoch 16 loss: 0.0117:   1%|▏                   | 1/105 [00:02<05:01,  2.90s/it]Premature end of JPEG file\n",
      "epoch 16 loss: 0.0116:   4%|▊                   | 4/105 [00:05<01:48,  1.07s/it]Premature end of JPEG file\n",
      "epoch 16 loss: 0.0110:  19%|███▌               | 20/105 [00:17<01:05,  1.30it/s]Corrupt JPEG data: 111 extraneous bytes before marker 0xd9\n",
      "epoch 16 loss: 0.0106:  36%|██████▉            | 38/105 [00:31<00:52,  1.29it/s]Premature end of JPEG file\n",
      "epoch 16 loss: 0.0122: 100%|██████████████████| 105/105 [01:22<00:00,  1.28it/s]\n",
      "epoch 16 loss: 0.1960: 100%|██████████████████| 105/105 [00:27<00:00,  3.87it/s]"
     ]
    },
    {
     "name": "stdout",
     "output_type": "stream",
     "text": [
      "EarlyStopping counter: 3 out of 5\n",
      "Best F1 score from now: 0.9645013625946846\n",
      "Fold: 4\n",
      "Epoch 17/199\n"
     ]
    },
    {
     "name": "stderr",
     "output_type": "stream",
     "text": [
      "\n",
      "epoch 17 loss: 0.0093:   1%|▏                   | 1/105 [00:02<05:10,  2.99s/it]Premature end of JPEG file\n",
      "epoch 17 loss: 0.0095:   4%|▊                   | 4/105 [00:05<01:48,  1.08s/it]Premature end of JPEG file\n",
      "epoch 17 loss: 0.0109:  19%|███▌               | 20/105 [00:17<01:05,  1.30it/s]Corrupt JPEG data: 111 extraneous bytes before marker 0xd9\n",
      "epoch 17 loss: 0.0105:  36%|██████▉            | 38/105 [00:31<00:51,  1.30it/s]Premature end of JPEG file\n",
      "epoch 17 loss: 0.0077: 100%|██████████████████| 105/105 [01:22<00:00,  1.28it/s]\n",
      "epoch 17 loss: 0.1839: 100%|██████████████████| 105/105 [00:26<00:00,  3.90it/s]"
     ]
    },
    {
     "name": "stdout",
     "output_type": "stream",
     "text": [
      "EarlyStopping counter: 4 out of 5\n",
      "Best F1 score from now: 0.9645013625946846\n",
      "Fold: 4\n",
      "Epoch 18/199\n"
     ]
    },
    {
     "name": "stderr",
     "output_type": "stream",
     "text": [
      "\n",
      "  0%|                                                   | 0/105 [00:00<?, ?it/s]Premature end of JPEG file\n",
      "epoch 18 loss: 0.0081:   4%|▊                   | 4/105 [00:05<01:52,  1.11s/it]Premature end of JPEG file\n",
      "epoch 18 loss: 0.0076:  19%|███▌               | 20/105 [00:17<01:06,  1.28it/s]Corrupt JPEG data: 111 extraneous bytes before marker 0xd9\n",
      "epoch 18 loss: 0.0071:  35%|██████▋            | 37/105 [00:30<00:51,  1.32it/s]Premature end of JPEG file\n",
      "epoch 18 loss: 0.0052: 100%|██████████████████| 105/105 [01:22<00:00,  1.28it/s]\n",
      "epoch 18 loss: 0.1716: 100%|██████████████████| 105/105 [00:27<00:00,  3.89it/s]\n"
     ]
    },
    {
     "name": "stdout",
     "output_type": "stream",
     "text": [
      "EarlyStopping counter: 5 out of 5\n",
      "Best F1 score from now: 0.9645013625946846\n",
      "stop called\n",
      "time : 0:34:53\n",
      "fold: 4, Best Epoch : 13/ 19\n",
      "fold: 4, Best Train Marco F1 : 0.99847\n",
      "[[1600    0    0    0    0    0    0    0    0    0]\n",
      " [   0 1600    0    0    0    0    0    0    0    0]\n",
      " [   0    0 1600    0    0    0    0    0    0    0]\n",
      " [   0    0    1  693    2    2    0    0    0    0]\n",
      " [   1    0    0    2 1594    0    0    0    2    1]\n",
      " [   0    0    0    1    0 1113    0    0    0    0]\n",
      " [   0    1    0    0    0    0 1599    0    0    0]\n",
      " [   0    0    0    0    1    0    0 1599    0    0]\n",
      " [   0    0    0    0    1    0    0    0  774    0]\n",
      " [   0    0    0    1    0    0    0    0    0 1168]]\n",
      "fold: 4, Best Valid Marco F1 : 0.96450\n",
      "[[397   0   1   0   2   0   0   0   0   0]\n",
      " [  0 379   1   0  14   5   1   0   0   0]\n",
      " [  0   1 382   2   8   3   0   4   0   0]\n",
      " [  1   0   1 166   3   2   1   0   0   0]\n",
      " [  0   1   8   1 368   5   1   6   6   4]\n",
      " [  2   1   2   1   8 262   1   0   1   1]\n",
      " [  0   0   0   0   2   0 398   0   0   0]\n",
      " [  0   0   4   0   3   0   0 393   0   0]\n",
      " [  1   0   0   0   3   1   0   0 187   1]\n",
      " [  0   0   0   0   3   0   0   0   1 288]]\n",
      "---------------------------------------------------------\n",
      "best_fold : 0.9654742764841879\n",
      " Top fold : 2\n"
     ]
    }
   ],
   "source": [
    "model_dir = '{}'.format(CFG['model'])\n",
    "train_dir = train.dir.values\n",
    "\n",
    "if __name__ == '__main__':\n",
    "     # for training only, need nightly build pytorch\n",
    "    wandb.init(project=project_name, entity=user)\n",
    "    \n",
    "#     wandb.login()\n",
    "#     wandb.init(project=\"3class classification\")\n",
    "    wandb.config.update(CFG)\n",
    "    wandb.run.name = run_name\n",
    "    wandb.define_metric(\"Train Accuracy\", step_metric=\"epoch\")\n",
    "    wandb.define_metric(\"Valid Accuracy\", step_metric=\"epoch\")\n",
    "    wandb.define_metric(\"Train Loss\", step_metric=\"epoch\")\n",
    "    wandb.define_metric(\"Valid Loss\", step_metric=\"epoch\")\n",
    "    wandb.define_metric(\"Train Macro F1 Score\", step_metric=\"epoch\")\n",
    "    wandb.define_metric(\"Valid Macro F1 Score\", step_metric=\"epoch\")\n",
    "    wandb.define_metric(\"Train-Valid Accuracy\", step_metric=\"epoch\")\n",
    "    \n",
    "    \n",
    "    seed_everything(CFG['seed'])\n",
    "    \n",
    "    if not os.path.isdir(model_dir):\n",
    "        os.makedirs(model_dir)\n",
    "    \n",
    "    folds = StratifiedKFold(n_splits=CFG['fold_num'], shuffle=True, random_state=CFG['seed']).split(np.arange(train.shape[0]), train.label.values)\n",
    "    \n",
    "    best_fold = 0\n",
    "    model_name = CFG['model']\n",
    "    print(f'Model: {model_name}')\n",
    "    for fold, (trn_idx, val_idx) in enumerate(folds):\n",
    "    \n",
    "        print(f'Training start with fold: {fold} epoch: {CFG[\"epochs\"]} \\n')\n",
    "\n",
    "        early_stopping = EarlyStopping(patience=CFG[\"patience\"], verbose=True)\n",
    "        train_loader, val_loader = prepare_dataloader(train, trn_idx, val_idx, data_root=train_dir)\n",
    "\n",
    "        device = torch.device(CFG['device'])\n",
    "        \n",
    "        model = ForcepImgClassifier(CFG['model'], train.label.nunique(), pretrained=True)\n",
    "        model.freezing(freeze = CFG['freezing'])\n",
    "\n",
    "        for name, param in model.named_parameters():\n",
    "            if CFG['freezing'] == True and param.requires_grad:\n",
    "                print(f'Freezing process: Not freezed : {name}')\n",
    "        if CFG['freezing'] == False:\n",
    "            print('All training process')\n",
    "        \n",
    "        \n",
    "        if torch.cuda.device_count() > 1:\n",
    "            model = nn.DataParallel(model)\n",
    "\n",
    "        model.to(device)\n",
    "        model = DDP(model)\n",
    "\n",
    "        scaler = GradScaler()   \n",
    "        optimizer = torch.optim.Adam(model.parameters(), lr=CFG['lr'])\n",
    "        scheduler = torch.optim.lr_scheduler.StepLR(optimizer, gamma=0.5, step_size=25)\n",
    "\n",
    "        loss_tr = nn.CrossEntropyLoss().to(device) #MyCrossEntropyLoss().to(device)\n",
    "        loss_fn = nn.CrossEntropyLoss().to(device)\n",
    "\n",
    "        wandb.watch(model, loss_tr, log='all')\n",
    "\n",
    "        train_acc_list = []\n",
    "        train_matrix_list = []\n",
    "        train_f1_list = []\n",
    "        valid_acc_list = []\n",
    "        valid_matrix_list = []\n",
    "        valid_f1_list = []\n",
    "        best_f1 =0.0\n",
    "        \n",
    "        start = time.time()\n",
    "        for epoch in range(CFG['epochs']):\n",
    "            print(f'Fold: {fold}')\n",
    "            print('Epoch {}/{}'.format(epoch, CFG['epochs'] - 1))\n",
    "            \n",
    "            train_preds_all, train_acc, train_loss, train_matrix, train_f1 = train_one_epoch(epoch, model, loss_tr,\n",
    "                                                                        optimizer, train_loader, device, scheduler=scheduler, schd_batch_update=False)\n",
    "            wandb.log({'Train Accuracy':train_acc, 'Train Loss' : train_loss, 'Train F1': train_f1, 'epoch' : epoch})\n",
    "\n",
    "            with torch.no_grad():\n",
    "                valid_preds_all, valid_acc, valid_loss, valid_matrix, valid_f1= valid_one_epoch(epoch, model, loss_fn,\n",
    "                                                                        val_loader, device, scheduler=None, schd_loss_update=False)\n",
    "                wandb.log({'Valid Accuracy':valid_acc, 'Valid Loss' : valid_loss, 'Valid F1': valid_f1 ,'epoch' : epoch})\n",
    "                \n",
    "            train_acc_list.append(train_acc)\n",
    "            train_matrix_list.append(train_matrix)\n",
    "            train_f1_list.append(train_f1)\n",
    "            \n",
    "            valid_acc_list.append(valid_acc)\n",
    "            valid_matrix_list.append(valid_matrix)\n",
    "            valid_f1_list.append(valid_f1)\n",
    "            \n",
    "            \n",
    "            if valid_f1 > best_f1:\n",
    "                best_f1 = valid_f1\n",
    "                torch.save(model.state_dict(), (model_dir+'/{}_{}').format(CFG['model'],fold))\n",
    "                \n",
    "            # EARLY STOPPING\n",
    "            stop = early_stopping(valid_f1)\n",
    "            if stop:\n",
    "                print(\"stop called\")   \n",
    "                break\n",
    "    \n",
    "        end = time.time() - start\n",
    "        time_ = str(datetime.timedelta(seconds=end)).split(\".\")[0]\n",
    "        print(\"time :\", time_)\n",
    "\n",
    "        best_index = valid_f1_list.index(max(valid_f1_list))\n",
    "        print(f'fold: {fold}, Best Epoch : {best_index}/ {len(valid_f1_list)}')\n",
    "        \n",
    "        print(f'fold: {fold}, Best Train Marco F1 : {train_f1_list[best_index]:.5f}')\n",
    "        print(train_matrix_list[best_index])\n",
    "        \n",
    "        print(f'fold: {fold}, Best Valid Marco F1 : {valid_f1_list[best_index]:.5f}')\n",
    "        print(valid_matrix_list[best_index])\n",
    "        print('---------------------------------------------------------')\n",
    "        \n",
    "        if valid_f1_list[best_index] > best_fold:\n",
    "            best_fold = valid_f1_list[best_index]\n",
    "            top_fold = fold\n",
    "    print(f'best_fold : {best_fold}\\n Top fold : {top_fold}')\n",
    "\n",
    "    del model, optimizer, train_loader, val_loader, scaler\n",
    "    torch.cuda.empty_cache()\n"
   ]
  },
  {
   "cell_type": "code",
   "execution_count": 40,
   "id": "43b952e1",
   "metadata": {},
   "outputs": [],
   "source": [
    "dist.destroy_process_group()"
   ]
  },
  {
   "cell_type": "code",
   "execution_count": 37,
   "id": "c9ab9299-b98a-43ef-ad42-51e4aad3ddd0",
   "metadata": {},
   "outputs": [
    {
     "data": {
      "text/html": [
       "<div>\n",
       "<style scoped>\n",
       "    .dataframe tbody tr th:only-of-type {\n",
       "        vertical-align: middle;\n",
       "    }\n",
       "\n",
       "    .dataframe tbody tr th {\n",
       "        vertical-align: top;\n",
       "    }\n",
       "\n",
       "    .dataframe thead th {\n",
       "        text-align: right;\n",
       "    }\n",
       "</style>\n",
       "<table border=\"1\" class=\"dataframe\">\n",
       "  <thead>\n",
       "    <tr style=\"text-align: right;\">\n",
       "      <th></th>\n",
       "      <th>image_id</th>\n",
       "      <th>dir</th>\n",
       "      <th>label</th>\n",
       "    </tr>\n",
       "  </thead>\n",
       "  <tbody>\n",
       "    <tr>\n",
       "      <th>0</th>\n",
       "      <td>삼성헬스 만보_086.jpg</td>\n",
       "      <td>../Data/carbon_reduction/10kwalking/10kwalking...</td>\n",
       "      <td>10kwalking</td>\n",
       "    </tr>\n",
       "    <tr>\n",
       "      <th>1</th>\n",
       "      <td>캐시워크 만보_250.jpg</td>\n",
       "      <td>../Data/carbon_reduction/10kwalking/10kwalking...</td>\n",
       "      <td>10kwalking</td>\n",
       "    </tr>\n",
       "    <tr>\n",
       "      <th>2</th>\n",
       "      <td>애플워치 만보_240.jpg</td>\n",
       "      <td>../Data/carbon_reduction/10kwalking/10kwalking...</td>\n",
       "      <td>10kwalking</td>\n",
       "    </tr>\n",
       "    <tr>\n",
       "      <th>3</th>\n",
       "      <td>삼성헬스 만보_386.jpg</td>\n",
       "      <td>../Data/carbon_reduction/10kwalking/10kwalking...</td>\n",
       "      <td>10kwalking</td>\n",
       "    </tr>\n",
       "    <tr>\n",
       "      <th>4</th>\n",
       "      <td>애플워치 만보_321.jpg</td>\n",
       "      <td>../Data/carbon_reduction/10kwalking/10kwalking...</td>\n",
       "      <td>10kwalking</td>\n",
       "    </tr>\n",
       "    <tr>\n",
       "      <th>...</th>\n",
       "      <td>...</td>\n",
       "      <td>...</td>\n",
       "      <td>...</td>\n",
       "    </tr>\n",
       "    <tr>\n",
       "      <th>4195</th>\n",
       "      <td>양치컵_구글_313.jpg</td>\n",
       "      <td>../Data/carbon_reduction/cup/양치컵_구글</td>\n",
       "      <td>cup</td>\n",
       "    </tr>\n",
       "    <tr>\n",
       "      <th>4196</th>\n",
       "      <td>양치컵_구글_267.jpg</td>\n",
       "      <td>../Data/carbon_reduction/cup/양치컵_구글</td>\n",
       "      <td>cup</td>\n",
       "    </tr>\n",
       "    <tr>\n",
       "      <th>4197</th>\n",
       "      <td>else22137.jpg</td>\n",
       "      <td>../Data/carbon_reduction/cup/cups_from_else</td>\n",
       "      <td>cup</td>\n",
       "    </tr>\n",
       "    <tr>\n",
       "      <th>4198</th>\n",
       "      <td>양치컵_032.jpg</td>\n",
       "      <td>../Data/carbon_reduction/cup/양치컵_네이버</td>\n",
       "      <td>cup</td>\n",
       "    </tr>\n",
       "    <tr>\n",
       "      <th>4199</th>\n",
       "      <td>양치컵_구글_079.jpg</td>\n",
       "      <td>../Data/carbon_reduction/cup/양치컵_구글</td>\n",
       "      <td>cup</td>\n",
       "    </tr>\n",
       "  </tbody>\n",
       "</table>\n",
       "<p>4200 rows × 3 columns</p>\n",
       "</div>"
      ],
      "text/plain": [
       "             image_id                                                dir  \\\n",
       "0     삼성헬스 만보_086.jpg  ../Data/carbon_reduction/10kwalking/10kwalking...   \n",
       "1     캐시워크 만보_250.jpg  ../Data/carbon_reduction/10kwalking/10kwalking...   \n",
       "2     애플워치 만보_240.jpg  ../Data/carbon_reduction/10kwalking/10kwalking...   \n",
       "3     삼성헬스 만보_386.jpg  ../Data/carbon_reduction/10kwalking/10kwalking...   \n",
       "4     애플워치 만보_321.jpg  ../Data/carbon_reduction/10kwalking/10kwalking...   \n",
       "...               ...                                                ...   \n",
       "4195   양치컵_구글_313.jpg                ../Data/carbon_reduction/cup/양치컵_구글   \n",
       "4196   양치컵_구글_267.jpg                ../Data/carbon_reduction/cup/양치컵_구글   \n",
       "4197    else22137.jpg        ../Data/carbon_reduction/cup/cups_from_else   \n",
       "4198      양치컵_032.jpg               ../Data/carbon_reduction/cup/양치컵_네이버   \n",
       "4199   양치컵_구글_079.jpg                ../Data/carbon_reduction/cup/양치컵_구글   \n",
       "\n",
       "           label  \n",
       "0     10kwalking  \n",
       "1     10kwalking  \n",
       "2     10kwalking  \n",
       "3     10kwalking  \n",
       "4     10kwalking  \n",
       "...          ...  \n",
       "4195         cup  \n",
       "4196         cup  \n",
       "4197         cup  \n",
       "4198         cup  \n",
       "4199         cup  \n",
       "\n",
       "[4200 rows x 3 columns]"
      ]
     },
     "execution_count": 37,
     "metadata": {},
     "output_type": "execute_result"
    }
   ],
   "source": [
    "## Pandas Test 데이터프레임 만들기\n",
    "tst_df = pd.DataFrame(total_test_img_paths, columns=['image_id'])\n",
    "tst_df['dir'] = tst_df['image_id'].apply(lambda x: os.path.dirname(x))\n",
    "tst_df['image_id'] = tst_df['image_id'].apply(lambda x: os.path.basename(x))\n",
    "tst_df['label'] = total_test_img_labels\n",
    "test = tst_df\n",
    "test"
   ]
  },
  {
   "cell_type": "code",
   "execution_count": 38,
   "id": "93dba2e1-92a8-4e81-89e8-17005fb81bbd",
   "metadata": {},
   "outputs": [],
   "source": [
    "test['label'] = le.fit_transform(test['label'].values)"
   ]
  },
  {
   "cell_type": "code",
   "execution_count": 41,
   "id": "2e2f860f-0a76-45a5-8472-29208fc5ab94",
   "metadata": {},
   "outputs": [
    {
     "name": "stderr",
     "output_type": "stream",
     "text": [
      "100%|███████████████████████████████████████████| 33/33 [00:33<00:00,  1.01s/it]\n"
     ]
    }
   ],
   "source": [
    "model_name = 'inception_resnet_v2'\n",
    "model_dir = model_name + '/inception_resnet_v2_2'\n",
    "%run inference.ipynb"
   ]
  },
  {
   "cell_type": "code",
   "execution_count": 42,
   "id": "da647547-7a7b-4690-94df-bb42ca426f3c",
   "metadata": {},
   "outputs": [
    {
     "name": "stdout",
     "output_type": "stream",
     "text": [
      "accuracy: 0.9648\n",
      "f1_score: 0.9645\n"
     ]
    },
    {
     "data": {
      "image/png": "[encoded data removed]",
      "text/plain": [
       "<Figure size 1500x1000 with 2 Axes>"
      ]
     },
     "metadata": {},
     "output_type": "display_data"
    }
   ],
   "source": [
    "test_acc = np.sum(test.label == test.pred) / len(test)\n",
    "test_matrix = confusion_matrix(test['label'], test['pred'])\n",
    "epoch_f1 = f1_score(test['label'], test['pred'], average='macro')\n",
    "\n",
    "print(f'accuracy: {test_acc:.4f}')\n",
    "print(f'f1_score: {epoch_f1:.4f}')\n",
    "import seaborn as sns\n",
    "\n",
    "test_matrix = confusion_matrix(test['label'], test['pred'], normalize='true')\n",
    "test['label'] = le.inverse_transform(test['label'].values)\n",
    "plt.figure(figsize = (15,10))\n",
    "sns.heatmap(test_matrix, \n",
    "            annot=True, \n",
    "            xticklabels = sorted(set(test['label'])), \n",
    "            yticklabels = sorted(set(test['label'])),\n",
    "            )\n",
    "plt.title('Normalized Confusion Matrix')\n",
    "plt.show()\n",
    "\n",
    "#print(f'confusion_matrix \\n-------------------------\\n {test_matrix}')"
   ]
  },
  {
   "cell_type": "code",
   "execution_count": 14,
   "id": "3d52366f-1758-44e0-b1fe-e54bfeec958e",
   "metadata": {},
   "outputs": [],
   "source": [
    "test['label'] = le.inverse_transform(test['label'].values)"
   ]
  },
  {
   "cell_type": "code",
   "execution_count": 21,
   "id": "90292c9a-e922-4755-a869-c1557b1883d1",
   "metadata": {},
   "outputs": [],
   "source": [
    "test['pred'] = le.inverse_transform(test['pred'].values)"
   ]
  },
  {
   "cell_type": "code",
   "execution_count": 22,
   "id": "f6297158-cccc-40d3-b492-026ba1c87d9d",
   "metadata": {},
   "outputs": [
    {
     "data": {
      "text/html": [
       "<div>\n",
       "<style scoped>\n",
       "    .dataframe tbody tr th:only-of-type {\n",
       "        vertical-align: middle;\n",
       "    }\n",
       "\n",
       "    .dataframe tbody tr th {\n",
       "        vertical-align: top;\n",
       "    }\n",
       "\n",
       "    .dataframe thead th {\n",
       "        text-align: right;\n",
       "    }\n",
       "</style>\n",
       "<table border=\"1\" class=\"dataframe\">\n",
       "  <thead>\n",
       "    <tr style=\"text-align: right;\">\n",
       "      <th></th>\n",
       "      <th>image_id</th>\n",
       "      <th>dir</th>\n",
       "      <th>label</th>\n",
       "      <th>pred</th>\n",
       "      <th>confidence score</th>\n",
       "    </tr>\n",
       "  </thead>\n",
       "  <tbody>\n",
       "    <tr>\n",
       "      <th>0</th>\n",
       "      <td>토스 만보_459.jpg</td>\n",
       "      <td>../Data/carbon_reduction/10kwalking</td>\n",
       "      <td>10kwalking</td>\n",
       "      <td>10kwalking</td>\n",
       "      <td>0.999351</td>\n",
       "    </tr>\n",
       "    <tr>\n",
       "      <th>1</th>\n",
       "      <td>캐시워크 만보_262.jpg</td>\n",
       "      <td>../Data/carbon_reduction/10kwalking</td>\n",
       "      <td>10kwalking</td>\n",
       "      <td>10kwalking</td>\n",
       "      <td>0.999483</td>\n",
       "    </tr>\n",
       "    <tr>\n",
       "      <th>2</th>\n",
       "      <td>아이폰 걸음수_192.jpg</td>\n",
       "      <td>../Data/carbon_reduction/10kwalking</td>\n",
       "      <td>10kwalking</td>\n",
       "      <td>10kwalking</td>\n",
       "      <td>0.999304</td>\n",
       "    </tr>\n",
       "    <tr>\n",
       "      <th>3</th>\n",
       "      <td>삼성헬스 만보_352.jpg</td>\n",
       "      <td>../Data/carbon_reduction/10kwalking</td>\n",
       "      <td>10kwalking</td>\n",
       "      <td>10kwalking</td>\n",
       "      <td>0.999679</td>\n",
       "    </tr>\n",
       "    <tr>\n",
       "      <th>4</th>\n",
       "      <td>아이폰 걸음수_408.jpg</td>\n",
       "      <td>../Data/carbon_reduction/10kwalking</td>\n",
       "      <td>10kwalking</td>\n",
       "      <td>10kwalking</td>\n",
       "      <td>0.999681</td>\n",
       "    </tr>\n",
       "    <tr>\n",
       "      <th>...</th>\n",
       "      <td>...</td>\n",
       "      <td>...</td>\n",
       "      <td>...</td>\n",
       "      <td>...</td>\n",
       "      <td>...</td>\n",
       "    </tr>\n",
       "    <tr>\n",
       "      <th>3995</th>\n",
       "      <td>양치컵_310.jpg</td>\n",
       "      <td>../Data/carbon_reduction/cup/양치컵_네이버</td>\n",
       "      <td>cup</td>\n",
       "      <td>cup</td>\n",
       "      <td>0.999634</td>\n",
       "    </tr>\n",
       "    <tr>\n",
       "      <th>3996</th>\n",
       "      <td>양치컵_256.jpg</td>\n",
       "      <td>../Data/carbon_reduction/cup/양치컵_네이버</td>\n",
       "      <td>cup</td>\n",
       "      <td>cup</td>\n",
       "      <td>0.999704</td>\n",
       "    </tr>\n",
       "    <tr>\n",
       "      <th>3997</th>\n",
       "      <td>양치컵_250.jpg</td>\n",
       "      <td>../Data/carbon_reduction/cup/양치컵_네이버</td>\n",
       "      <td>cup</td>\n",
       "      <td>cup</td>\n",
       "      <td>0.999633</td>\n",
       "    </tr>\n",
       "    <tr>\n",
       "      <th>3998</th>\n",
       "      <td>양치컵_114.jpg</td>\n",
       "      <td>../Data/carbon_reduction/cup/양치컵_네이버</td>\n",
       "      <td>cup</td>\n",
       "      <td>cup</td>\n",
       "      <td>0.999681</td>\n",
       "    </tr>\n",
       "    <tr>\n",
       "      <th>3999</th>\n",
       "      <td>양치컵_005.jpg</td>\n",
       "      <td>../Data/carbon_reduction/cup/양치컵_네이버</td>\n",
       "      <td>cup</td>\n",
       "      <td>cup</td>\n",
       "      <td>0.999773</td>\n",
       "    </tr>\n",
       "  </tbody>\n",
       "</table>\n",
       "<p>4000 rows × 5 columns</p>\n",
       "</div>"
      ],
      "text/plain": [
       "             image_id                                   dir       label  \\\n",
       "0       토스 만보_459.jpg   ../Data/carbon_reduction/10kwalking  10kwalking   \n",
       "1     캐시워크 만보_262.jpg   ../Data/carbon_reduction/10kwalking  10kwalking   \n",
       "2     아이폰 걸음수_192.jpg   ../Data/carbon_reduction/10kwalking  10kwalking   \n",
       "3     삼성헬스 만보_352.jpg   ../Data/carbon_reduction/10kwalking  10kwalking   \n",
       "4     아이폰 걸음수_408.jpg   ../Data/carbon_reduction/10kwalking  10kwalking   \n",
       "...               ...                                   ...         ...   \n",
       "3995      양치컵_310.jpg  ../Data/carbon_reduction/cup/양치컵_네이버         cup   \n",
       "3996      양치컵_256.jpg  ../Data/carbon_reduction/cup/양치컵_네이버         cup   \n",
       "3997      양치컵_250.jpg  ../Data/carbon_reduction/cup/양치컵_네이버         cup   \n",
       "3998      양치컵_114.jpg  ../Data/carbon_reduction/cup/양치컵_네이버         cup   \n",
       "3999      양치컵_005.jpg  ../Data/carbon_reduction/cup/양치컵_네이버         cup   \n",
       "\n",
       "            pred  confidence score  \n",
       "0     10kwalking          0.999351  \n",
       "1     10kwalking          0.999483  \n",
       "2     10kwalking          0.999304  \n",
       "3     10kwalking          0.999679  \n",
       "4     10kwalking          0.999681  \n",
       "...          ...               ...  \n",
       "3995         cup          0.999634  \n",
       "3996         cup          0.999704  \n",
       "3997         cup          0.999633  \n",
       "3998         cup          0.999681  \n",
       "3999         cup          0.999773  \n",
       "\n",
       "[4000 rows x 5 columns]"
      ]
     },
     "execution_count": 22,
     "metadata": {},
     "output_type": "execute_result"
    }
   ],
   "source": [
    "test"
   ]
  },
  {
   "cell_type": "code",
   "execution_count": 23,
   "id": "ab89fde5-9498-4a99-8bb8-4af301e4a6ce",
   "metadata": {},
   "outputs": [],
   "source": [
    "test.to_csv('test_result/incep_res_0403.csv', index=False)"
   ]
  },
  {
   "cell_type": "code",
   "execution_count": null,
   "id": "d8cbfb49-98dd-4d2f-a778-21764270d9c8",
   "metadata": {},
   "outputs": [],
   "source": []
  }
 ],
 "metadata": {
  "kernelspec": {
   "display_name": "torch-gpu",
   "language": "python",
   "name": "torch"
  },
  "language_info": {
   "codemirror_mode": {
    "name": "ipython",
    "version": 3
   },
   "file_extension": ".py",
   "mimetype": "text/x-python",
   "name": "python",
   "nbconvert_exporter": "python",
   "pygments_lexer": "ipython3",
   "version": "3.10.6"
  },
  "vscode": {
   "interpreter": {
    "hash": "916dbcbb3f70747c44a77c7bcd40155683ae19c65e1c03b4aa3499c5328201f1"
   }
  }
 },
 "nbformat": 4,
 "nbformat_minor": 5
}
