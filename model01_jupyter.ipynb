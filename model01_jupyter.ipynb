{
 "cells": [
  {
   "cell_type": "code",
   "execution_count": 10,
   "id": "32c4ea0f",
   "metadata": {},
   "outputs": [],
   "source": [
    "import os, re, magic, shutil\n",
    "from glob import glob\n",
    "import time, datetime\n",
    "import random\n",
    "import pandas as pd\n",
    "import numpy as np\n",
    "from tqdm import tqdm\n",
    "import shutil\n",
    "import warnings\n",
    "import joblib\n",
    "\n",
    "import cv2\n",
    "from PIL import Image\n",
    "import matplotlib.pyplot as plt\n",
    "import torch, gc\n",
    "from torch import nn\n",
    "from torch.utils.data import Dataset,DataLoader\n",
    "from torch.utils.data.sampler import SequentialSampler, RandomSampler\n",
    "from torch.cuda.amp import autocast, GradScaler\n",
    "from torch.nn.modules.loss import _WeightedLoss\n",
    "import torch.nn.functional as F\n",
    "import torchvision\n",
    "\n",
    "from torchvision import transforms\n",
    "\n",
    "import sklearn\n",
    "#from skimage import io\n",
    "from sklearn.model_selection import GroupKFold, StratifiedKFold\n",
    "from sklearn.metrics import roc_auc_score, log_loss, f1_score, confusion_matrix, classification_report\n",
    "from sklearn import metrics, preprocessing\n",
    "from scipy.ndimage import zoom\n",
    "\n",
    "import timm\n",
    "from timm.data import resolve_data_config\n",
    "from timm.data.transforms_factory import create_transform\n",
    "import albumentations as A\n",
    "import albumentations.pytorch\n",
    "import wandb\n",
    "from catalyst.data.sampler import BalanceClassSampler\n",
    "from torch.utils.data.distributed import DistributedSampler\n",
    "import torch.distributed as dist\n",
    "import torch.multiprocessing as mp\n",
    "from torch.nn.parallel import DistributedDataParallel as DDP\n"
   ]
  },
  {
   "cell_type": "code",
   "execution_count": 11,
   "id": "57c0283c",
   "metadata": {},
   "outputs": [],
   "source": [
    "CFG = {\n",
    "    'fold_num': 5,\n",
    "    'seed': 42,\n",
    "    'model': 'inception_resnet_v2',\n",
    "    'img_size': 260,\n",
    "    'epochs': 200,\n",
    "    'train_bs':128,\n",
    "    'valid_bs':32,\n",
    "    'T_0': 10,\n",
    "    'lr': 1e-4,\n",
    "    'min_lr': 1e-6,\n",
    "    'num_workers': 8,\n",
    "    'accum_iter': 2, # suppoprt to do batch accumulation for backprop with effectively larger batch size\n",
    "    'verbose_step': 1,\n",
    "    'patience' : 3,\n",
    "    'device': 'cuda:0',\n",
    "    'freezing': False,\n",
    "    'model_path': './models'\n",
    "}"
   ]
  },
  {
   "cell_type": "code",
   "execution_count": 12,
   "id": "127461e4-c16d-47fd-b983-556c12ad0daf",
   "metadata": {},
   "outputs": [],
   "source": [
    "project_name = 'carbon_reduction_inception_resnet_v2_4010'\n",
    "user = 'hojunking'\n",
    "run_name = 'carbon_reduction_inception_resnet_v2_4010'"
   ]
  },
  {
   "cell_type": "code",
   "execution_count": 13,
   "id": "5c538155-d55f-4321-bf7c-171d356ebceb",
   "metadata": {},
   "outputs": [
    {
     "name": "stdout",
     "output_type": "stream",
     "text": [
      "label: 10kwalking\n",
      "img_paths len : 2637\n",
      "\n",
      "label: public_vehicle\n",
      "img_paths len : 1546\n",
      "\n",
      "label: stair\n",
      "img_paths len : 2003\n",
      "\n",
      "label: pet\n",
      "img_paths len : 4344\n",
      "\n",
      "label: outlet\n",
      "img_paths len : 3552\n",
      "\n",
      "label: else\n",
      "img_paths len : 8000\n",
      "\n",
      "label: can\n",
      "img_paths len : 8000\n",
      "\n",
      "label: box\n",
      "img_paths len : 5191\n",
      "\n",
      "label: milk\n",
      "img_paths len : 1838\n",
      "\n",
      "label: cup\n",
      "img_paths len : 1322\n",
      "\n",
      "Train_Images:  27498\n",
      "Train_Images_labels: 27498\n",
      "Test_Images:  7400\n",
      "Test_Images_labels: 7400\n"
     ]
    }
   ],
   "source": [
    "main_path = '../Data/carbon_reduction/'\n",
    "label_list = [\"10kwalking\",\"public_vehicle\",'stair','pet','outlet','else', 'can', 'box', 'milk', 'cup']\n",
    "\n",
    "total_train_img_paths = []\n",
    "total_train_img_labels = []\n",
    "total_test_img_paths = []\n",
    "total_test_img_labels = []\n",
    "\n",
    "for label in label_list: ## 각 레이블 돌기\n",
    "    print(f'label: {label}')\n",
    "    img_paths = [] \n",
    "    img_labels = []\n",
    "\n",
    "    # default ratio\n",
    "    train_ratio = 4000\n",
    "    test_ratio = 1000\n",
    "\n",
    "    dir_path = main_path + label ## 레이블 폴더 경로\n",
    "    count = 0\n",
    "    for folder, subfolders, filenames in os.walk(dir_path): ## 폴더 내 모든 파일 탐색\n",
    "    \n",
    "        for img in filenames: ## 각 파일 경로, 레이블 저장\n",
    "            count +=1\n",
    "            if count > train_ratio + test_ratio +3000:\n",
    "                break\n",
    "            \n",
    "            img_paths.append(folder+'/'+img)\n",
    "            img_labels.append(label)\n",
    "        \n",
    "    random.shuffle(img_paths)\n",
    "    print(f'img_paths len : {len(img_paths)}\\n')\n",
    "\n",
    "    if label == 'milk': ## 10walking 데이터 비율 설정하기 (데이터수: 2494)\n",
    "        train_ratio = 1538\n",
    "        test_ratio = 300\n",
    "    elif label == 'public_vehicle': ## 10walking 데이터 비율 설정하기 (데이터수: 2494)\n",
    "        train_ratio = 1246\n",
    "        test_ratio = 300\n",
    "    elif label == 'cup': ## 10walking 데이터 비율 설정하기 (데이터수: 2494)\n",
    "        train_ratio = 1022\n",
    "        test_ratio = 300\n",
    "    elif label == 'stair': ## 10walking 데이터 비율 설정하기 (데이터수: 2494)\n",
    "        train_ratio = 1503\n",
    "        test_ratio = 500\n",
    "    \n",
    "\n",
    "    total_train_img_paths.extend(img_paths[:train_ratio])\n",
    "    total_train_img_labels.extend(img_labels[:train_ratio])\n",
    "\n",
    "    total_test_img_paths.extend(img_paths[-test_ratio:])\n",
    "    total_test_img_labels.extend(img_labels[-test_ratio:])\n",
    "\n",
    "print('Train_Images: ',len(total_train_img_paths))\n",
    "print(\"Train_Images_labels:\", len(total_train_img_labels))\n",
    "print('Test_Images: ',len(total_test_img_paths))\n",
    "print(\"Test_Images_labels:\", len(total_test_img_labels))"
   ]
  },
  {
   "cell_type": "code",
   "execution_count": 14,
   "id": "2716dd8b-84db-4707-80e2-19b29eae9c23",
   "metadata": {},
   "outputs": [
    {
     "data": {
      "text/html": [
       "<div>\n",
       "<style scoped>\n",
       "    .dataframe tbody tr th:only-of-type {\n",
       "        vertical-align: middle;\n",
       "    }\n",
       "\n",
       "    .dataframe tbody tr th {\n",
       "        vertical-align: top;\n",
       "    }\n",
       "\n",
       "    .dataframe thead th {\n",
       "        text-align: right;\n",
       "    }\n",
       "</style>\n",
       "<table border=\"1\" class=\"dataframe\">\n",
       "  <thead>\n",
       "    <tr style=\"text-align: right;\">\n",
       "      <th></th>\n",
       "      <th>image_id</th>\n",
       "      <th>dir</th>\n",
       "      <th>label</th>\n",
       "    </tr>\n",
       "  </thead>\n",
       "  <tbody>\n",
       "    <tr>\n",
       "      <th>0</th>\n",
       "      <td>삼성헬스 만보_451.jpg</td>\n",
       "      <td>../Data/carbon_reduction/10kwalking/10kwalking...</td>\n",
       "      <td>10kwalking</td>\n",
       "    </tr>\n",
       "    <tr>\n",
       "      <th>1</th>\n",
       "      <td>캐시워크 만보_132.jpg</td>\n",
       "      <td>../Data/carbon_reduction/10kwalking/10kwalking...</td>\n",
       "      <td>10kwalking</td>\n",
       "    </tr>\n",
       "    <tr>\n",
       "      <th>2</th>\n",
       "      <td>삼성헬스 만보_379.jpg</td>\n",
       "      <td>../Data/carbon_reduction/10kwalking/10kwalking...</td>\n",
       "      <td>10kwalking</td>\n",
       "    </tr>\n",
       "    <tr>\n",
       "      <th>3</th>\n",
       "      <td>만보인증_311.jpg</td>\n",
       "      <td>../Data/carbon_reduction/10kwalking/10kwalking...</td>\n",
       "      <td>10kwalking</td>\n",
       "    </tr>\n",
       "    <tr>\n",
       "      <th>4</th>\n",
       "      <td>애플워치 만보_274.jpg</td>\n",
       "      <td>../Data/carbon_reduction/10kwalking/10kwalking...</td>\n",
       "      <td>10kwalking</td>\n",
       "    </tr>\n",
       "    <tr>\n",
       "      <th>...</th>\n",
       "      <td>...</td>\n",
       "      <td>...</td>\n",
       "      <td>...</td>\n",
       "    </tr>\n",
       "    <tr>\n",
       "      <th>27493</th>\n",
       "      <td>else28372.jpg</td>\n",
       "      <td>../Data/carbon_reduction/cup/cups_from_else</td>\n",
       "      <td>cup</td>\n",
       "    </tr>\n",
       "    <tr>\n",
       "      <th>27494</th>\n",
       "      <td>양치컵_214.jpg</td>\n",
       "      <td>../Data/carbon_reduction/cup/양치컵_네이버</td>\n",
       "      <td>cup</td>\n",
       "    </tr>\n",
       "    <tr>\n",
       "      <th>27495</th>\n",
       "      <td>양치컵_구글_184.jpg</td>\n",
       "      <td>../Data/carbon_reduction/cup/양치컵_구글</td>\n",
       "      <td>cup</td>\n",
       "    </tr>\n",
       "    <tr>\n",
       "      <th>27496</th>\n",
       "      <td>양치컵_구글_315.jpg</td>\n",
       "      <td>../Data/carbon_reduction/cup/양치컵_구글</td>\n",
       "      <td>cup</td>\n",
       "    </tr>\n",
       "    <tr>\n",
       "      <th>27497</th>\n",
       "      <td>else16488.jpg</td>\n",
       "      <td>../Data/carbon_reduction/cup/cups_from_else</td>\n",
       "      <td>cup</td>\n",
       "    </tr>\n",
       "  </tbody>\n",
       "</table>\n",
       "<p>27498 rows × 3 columns</p>\n",
       "</div>"
      ],
      "text/plain": [
       "              image_id                                                dir  \\\n",
       "0      삼성헬스 만보_451.jpg  ../Data/carbon_reduction/10kwalking/10kwalking...   \n",
       "1      캐시워크 만보_132.jpg  ../Data/carbon_reduction/10kwalking/10kwalking...   \n",
       "2      삼성헬스 만보_379.jpg  ../Data/carbon_reduction/10kwalking/10kwalking...   \n",
       "3         만보인증_311.jpg  ../Data/carbon_reduction/10kwalking/10kwalking...   \n",
       "4      애플워치 만보_274.jpg  ../Data/carbon_reduction/10kwalking/10kwalking...   \n",
       "...                ...                                                ...   \n",
       "27493    else28372.jpg        ../Data/carbon_reduction/cup/cups_from_else   \n",
       "27494      양치컵_214.jpg               ../Data/carbon_reduction/cup/양치컵_네이버   \n",
       "27495   양치컵_구글_184.jpg                ../Data/carbon_reduction/cup/양치컵_구글   \n",
       "27496   양치컵_구글_315.jpg                ../Data/carbon_reduction/cup/양치컵_구글   \n",
       "27497    else16488.jpg        ../Data/carbon_reduction/cup/cups_from_else   \n",
       "\n",
       "            label  \n",
       "0      10kwalking  \n",
       "1      10kwalking  \n",
       "2      10kwalking  \n",
       "3      10kwalking  \n",
       "4      10kwalking  \n",
       "...           ...  \n",
       "27493         cup  \n",
       "27494         cup  \n",
       "27495         cup  \n",
       "27496         cup  \n",
       "27497         cup  \n",
       "\n",
       "[27498 rows x 3 columns]"
      ]
     },
     "execution_count": 14,
     "metadata": {},
     "output_type": "execute_result"
    }
   ],
   "source": [
    "## Pandas 데이터프레임 만들기\n",
    "trn_df = pd.DataFrame(total_train_img_paths, columns=['image_id'])\n",
    "trn_df['dir'] = trn_df['image_id'].apply(lambda x: os.path.dirname(x))\n",
    "trn_df['image_id'] = trn_df['image_id'].apply(lambda x: os.path.basename(x))\n",
    "trn_df['label'] = total_train_img_labels\n",
    "train = trn_df\n",
    "train"
   ]
  },
  {
   "cell_type": "code",
   "execution_count": 15,
   "id": "03c67d39-7933-4f98-b998-54a6036ff4a1",
   "metadata": {},
   "outputs": [],
   "source": [
    "# Label Encoding\n",
    "le = preprocessing.LabelEncoder()\n",
    "train['label'] = le.fit_transform(train['label'].values)"
   ]
  },
  {
   "cell_type": "code",
   "execution_count": 16,
   "id": "a3a8ac38-0b0f-4db4-80d2-6504916b7723",
   "metadata": {},
   "outputs": [
    {
     "data": {
      "text/plain": [
       "array([0, 0, 0, ..., 3, 3, 3])"
      ]
     },
     "execution_count": 16,
     "metadata": {},
     "output_type": "execute_result"
    }
   ],
   "source": [
    "train.label.values"
   ]
  },
  {
   "cell_type": "code",
   "execution_count": 17,
   "id": "8ed30653",
   "metadata": {},
   "outputs": [],
   "source": [
    "model =timm.create_model(CFG['model'], pretrained=True, num_classes=10)\n",
    "\n",
    "config = resolve_data_config({}, model=model)\n",
    "transform = create_transform(**config)"
   ]
  },
  {
   "cell_type": "code",
   "execution_count": 18,
   "id": "6c454bf4",
   "metadata": {},
   "outputs": [],
   "source": [
    "def seed_everything(seed):\n",
    "    random.seed(seed)\n",
    "    os.environ['PYTHONHASHSEED'] = str(seed)\n",
    "    np.random.seed(seed)\n",
    "    torch.manual_seed(seed)\n",
    "    torch.cuda.manual_seed(seed)\n",
    "    torch.backends.cudnn.deterministic = True\n",
    "    torch.backends.cudnn.benchmark = True"
   ]
  },
  {
   "cell_type": "code",
   "execution_count": 19,
   "id": "d97a3c2a",
   "metadata": {},
   "outputs": [],
   "source": [
    "def get_img(path, train_arg=False, sub_path=None):\n",
    "    try:\n",
    "        im_bgr = cv2.imread(path)\n",
    "        im_rgb = im_bgr[:, :, ::-1]\n",
    "        past_path = path\n",
    "    except: ## 이미지 에러 발생 시 백지로 대체\n",
    "        im_bgr = cv2.imread('../Data/carbon_reduction/temp_img.jpg')\n",
    "        im_rgb = im_bgr[:, :, ::-1]\n",
    "    if train_arg:\n",
    "        dimg = cv2.fastNlMeansDenoisingColored(im_rgb, None, 10,10,7,21)\n",
    "        return dimg\n",
    "    else:\n",
    "        return im_rgb"
   ]
  },
  {
   "cell_type": "code",
   "execution_count": 20,
   "id": "884eb987-4341-4fe7-8094-6e61cb051af5",
   "metadata": {},
   "outputs": [],
   "source": [
    "transform_train = A.Compose(\n",
    "    [\n",
    "        A.Resize(height = CFG['img_size']+100, width = CFG['img_size']+100),\n",
    "        A.CenterCrop(always_apply=True, p=1.0, height=CFG['img_size'], width=CFG['img_size']),\n",
    "        A.RandomBrightnessContrast(always_apply=False, p=0.8, brightness_limit=(0.00, 0.00), contrast_limit=(0.2, 0.2), brightness_by_max=False),\n",
    "        A.SafeRotate(always_apply=False, p=0.5, limit=(-20, 20), interpolation=2, border_mode=0, value=(0, 0, 0), mask_value=None),\n",
    "        A.HorizontalFlip(always_apply=False, p=0.5),\n",
    "        A.Normalize(mean=(0.485, 0.456, 0.406), std=(0.229, 0.224, 0.225), max_pixel_value=255.0, always_apply=False, p=1.0),\n",
    "        A.pytorch.transforms.ToTensorV2()\n",
    "        ])\n",
    "\n",
    "transform_test = A.Compose(\n",
    "    [\n",
    "        A.Resize(height = CFG['img_size'], width = CFG['img_size']),\n",
    "        A.Normalize(mean=(0.485, 0.456, 0.406), std=(0.229, 0.224, 0.225), max_pixel_value=255.0, always_apply=False, p=1.0),\n",
    "        A.pytorch.transforms.ToTensorV2()\n",
    "        ])"
   ]
  },
  {
   "cell_type": "code",
   "execution_count": 21,
   "id": "5f1561be",
   "metadata": {},
   "outputs": [],
   "source": [
    "class ColonDataset(Dataset):\n",
    "    def __init__(self, df, data_root, train_arg=False,\n",
    "                 transform=None,\n",
    "                 output_label=True\n",
    "                ):\n",
    "        \n",
    "        super().__init__()\n",
    "        self.df = df.reset_index(drop=True).copy()\n",
    "        self.train_arg = train_arg\n",
    "        self.transform = transform\n",
    "        self.data_root = data_root\n",
    "        self.output_label = output_label\n",
    "        \n",
    "        if output_label == True:\n",
    "            self.labels = self.df['label'].values\n",
    "            \n",
    "    def __len__(self):\n",
    "        return self.df.shape[0]\n",
    "    \n",
    "    def __getitem__(self, index: int):\n",
    "        \n",
    "        # get labels\n",
    "        if self.output_label:\n",
    "            target = self.labels[index]\n",
    "        \n",
    "        img  = get_img(\"{}/{}\".format(self.data_root[index], self.df.loc[index]['image_id']), train_arg=self.train_arg)\n",
    "\n",
    "        if self.transform:\n",
    "            transformed = self.transform(image=img)\n",
    "            img = transformed['image']\n",
    "        \n",
    "                \n",
    "        if self.output_label == True:\n",
    "            return img, target\n",
    "        else:\n",
    "            return img"
   ]
  },
  {
   "cell_type": "code",
   "execution_count": 22,
   "id": "b1601bf0",
   "metadata": {},
   "outputs": [],
   "source": [
    "class ForcepImgClassifier(nn.Module):\n",
    "    def __init__(self, model_arch, n_class=10, pretrained=False):\n",
    "        super().__init__()\n",
    "        self.model = timm.create_model(model_arch, pretrained=pretrained, num_classes=n_class)\n",
    "        # n_features = self.model.classifier.in_features\n",
    "        # self.model.classifier = nn.Linear(n_features, n_class)\n",
    "    def freezing(self, freeze=False):\n",
    "        if freeze:\n",
    "            \n",
    "            cnt = 0\n",
    "            for name, param in model.named_parameters():\n",
    "                if 'classif' in name:\n",
    "                    #print('classif passed')\n",
    "                    pass\n",
    "                elif 'fc' in name:\n",
    "                    #print('fc passed')\n",
    "                    pass\n",
    "                else :\n",
    "                    #print('freezing')\n",
    "                    param.requires_grad = False    \n",
    "        \n",
    "    def forward(self, x):\n",
    "        x = self.model(x)\n",
    "        return x"
   ]
  },
  {
   "cell_type": "code",
   "execution_count": 23,
   "id": "240e5531",
   "metadata": {},
   "outputs": [],
   "source": [
    "def prepare_dataloader(df, trn_idx, val_idx, data_root=train.dir.values):\n",
    "    \n",
    "    train_ = df.loc[trn_idx,:].reset_index(drop=True)\n",
    "    valid_ = df.loc[val_idx,:].reset_index(drop=True)\n",
    "    train_data_root = data_root[trn_idx]\n",
    "    valid_data_root = data_root[val_idx]\n",
    "    \n",
    "        \n",
    "    train_ds = ColonDataset(train_,\n",
    "                            train_data_root,\n",
    "                            transform=transform_train,\n",
    "                            output_label=True)\n",
    "    valid_ds = ColonDataset(valid_,\n",
    "                            valid_data_root,\n",
    "                            transform=transform_train,\n",
    "                            output_label=True)\n",
    "    \n",
    "\n",
    "    train_loader = torch.utils.data.DataLoader(\n",
    "        train_ds,\n",
    "        batch_size=CFG['train_bs'],\n",
    "        pin_memory=True,\n",
    "        drop_last=False,\n",
    "        shuffle=False,        \n",
    "        num_workers=CFG['num_workers'],\n",
    "        sampler=DistributedSampler(train_ds)\n",
    "    )\n",
    "    val_loader = torch.utils.data.DataLoader(\n",
    "        valid_ds, \n",
    "        batch_size=CFG['valid_bs'],\n",
    "        num_workers=CFG['num_workers'],\n",
    "        shuffle=False,\n",
    "        pin_memory=True,\n",
    "    )\n",
    "    return train_loader, val_loader"
   ]
  },
  {
   "cell_type": "code",
   "execution_count": 24,
   "id": "08ffa2fa",
   "metadata": {},
   "outputs": [],
   "source": [
    "def train_one_epoch(epoch, model, loss_fn, optimizer, train_loader, device, scheduler=None, schd_batch_update=False):\n",
    "    model.train()\n",
    "\n",
    "    t = time.time()\n",
    "    running_loss = None\n",
    "    loss_sum = 0\n",
    "    image_preds_all = []\n",
    "    image_targets_all = []\n",
    "    acc_list = []\n",
    "    \n",
    "    pbar = tqdm(enumerate(train_loader), total=len(train_loader))\n",
    "    for step, (imgs, image_labels) in pbar:\n",
    "        imgs = imgs.to(device).float()\n",
    "        image_labels = image_labels.to(device).long()\n",
    "        with autocast():\n",
    "            image_preds = model(imgs)   #output = model(input)\n",
    "\n",
    "            loss = loss_fn(image_preds, image_labels)\n",
    "            loss_sum+=loss.detach()\n",
    "            \n",
    "            scaler.scale(loss).backward()\n",
    "            if running_loss is None:\n",
    "                running_loss = loss.item()\n",
    "            else:\n",
    "                running_loss = running_loss * .99 + loss.item() * .01\n",
    "\n",
    "            if ((step + 1) %  CFG['accum_iter'] == 0) or ((step + 1) == len(train_loader)):\n",
    "                # may unscale_ here if desired (e.g., to allow clipping unscaled gradients)\n",
    "\n",
    "                scaler.step(optimizer)\n",
    "                scaler.update()\n",
    "                optimizer.zero_grad() \n",
    "                \n",
    "                if scheduler is not None and schd_batch_update:\n",
    "                    scheduler.step()\n",
    "            if ((step + 1) % CFG['verbose_step'] == 0) or ((step + 1) == len(train_loader)):\n",
    "                description = f'epoch {epoch} loss: {running_loss:.4f}'\n",
    "                \n",
    "                pbar.set_description(description)\n",
    "            \n",
    "        image_preds_all += [torch.argmax(image_preds, 1).detach().cpu().numpy()]\n",
    "        image_targets_all += [image_labels.detach().cpu().numpy()]\n",
    "    \n",
    "    image_preds_all = np.concatenate(image_preds_all)\n",
    "    image_targets_all = np.concatenate(image_targets_all)\n",
    "    matrix = confusion_matrix(image_targets_all,image_preds_all)\n",
    "    epoch_f1 = f1_score(image_targets_all, \n",
    "                        image_preds_all, \n",
    "                        average='macro')\n",
    "    \n",
    "    accuracy = (image_preds_all==image_targets_all).mean()\n",
    "    trn_loss = loss_sum/len(train_loader)\n",
    "    \n",
    "    if scheduler is not None and not schd_batch_update:\n",
    "        scheduler.step()\n",
    "    \n",
    "    return image_preds_all, accuracy, trn_loss, matrix, epoch_f1\n",
    "\n",
    "def valid_one_epoch(epoch, model, loss_fn, val_loader, device, scheduler=None, schd_loss_update=False):\n",
    "    model.eval()\n",
    "\n",
    "    t = time.time()\n",
    "    loss_sum = 0\n",
    "    sample_num = 0\n",
    "    avg_loss = 0\n",
    "    image_preds_all = []\n",
    "    image_targets_all = []\n",
    "    \n",
    "    acc_list = []\n",
    "    \n",
    "    pbar = tqdm(enumerate(val_loader), total=len(val_loader))\n",
    "    for step, (imgs, image_labels) in pbar:\n",
    "        imgs = imgs.to(device).float()\n",
    "        image_labels = image_labels.to(device).long()\n",
    "        \n",
    "        image_preds = model(imgs)   #output = model(input)\n",
    "        image_preds_all += [torch.argmax(image_preds, 1).detach().cpu().numpy()]\n",
    "        image_targets_all += [image_labels.detach().cpu().numpy()]\n",
    "        \n",
    "        loss = loss_fn(image_preds, image_labels)\n",
    "        avg_loss += loss.item()\n",
    "        loss_sum += loss.item()*image_labels.shape[0]\n",
    "        sample_num += image_labels.shape[0]\n",
    "        \n",
    "        if ((step + 1) % CFG['verbose_step'] == 0) or ((step + 1) == len(val_loader)):\n",
    "            description = f'epoch {epoch} loss: {loss_sum/sample_num:.4f}'\n",
    "            pbar.set_description(description)\n",
    "    \n",
    "    image_preds_all = np.concatenate(image_preds_all)\n",
    "    image_targets_all = np.concatenate(image_targets_all)\n",
    "    matrix = confusion_matrix(image_targets_all,image_preds_all)\n",
    "    \n",
    "    epoch_f1 = f1_score(image_targets_all, \n",
    "                        image_preds_all, \n",
    "                        average='macro')\n",
    "    \n",
    "    acc = (image_preds_all==image_targets_all).mean()\n",
    "    val_loss = avg_loss/len(val_loader)\n",
    "    \n",
    "    \n",
    "    if scheduler is not None:\n",
    "        if schd_loss_update:\n",
    "            scheduler.step(loss_sum/sample_num)\n",
    "        else:\n",
    "            scheduler.step()\n",
    "            \n",
    "    return image_preds_all, acc, val_loss, matrix, epoch_f1"
   ]
  },
  {
   "cell_type": "code",
   "execution_count": 25,
   "id": "76d9a737",
   "metadata": {},
   "outputs": [],
   "source": [
    "# reference: https://www.kaggle.com/c/siim-isic-melanoma-classification/discussion/173733\n",
    "class MyCrossEntropyLoss(_WeightedLoss):\n",
    "    def __init__(self, weight=None, reduction='mean'):\n",
    "        super().__init__(weight=weight, reduction=reduction)\n",
    "        self.weight = weight\n",
    "        self.reduction = reduction\n",
    "\n",
    "    def forward(self, inputs, targets):\n",
    "        lsm = F.log_softmax(inputs, -1)\n",
    "\n",
    "        if self.weight is not None:\n",
    "            lsm = lsm * self.weight.unsqueeze(0)\n",
    "\n",
    "        loss = -(targets * lsm).sum(-1)\n",
    "\n",
    "        if  self.reduction == 'sum':\n",
    "            loss = loss.sum()\n",
    "        elif  self.reduction == 'mean':\n",
    "            loss = loss.mean()\n",
    "\n",
    "        return loss"
   ]
  },
  {
   "cell_type": "code",
   "execution_count": 26,
   "id": "77e9950b",
   "metadata": {},
   "outputs": [],
   "source": [
    "class EarlyStopping:\n",
    "    def __init__(self, patience=10, verbose=False, delta=0):\n",
    "        self.patience = patience\n",
    "        self.verbose = verbose\n",
    "        self.counter = 0\n",
    "        self.best_score = None\n",
    "        self.early_stop = False\n",
    "        self.val_loss_min = np.Inf\n",
    "        self.delta = delta\n",
    "\n",
    "    def __call__(self, score):\n",
    "        if self.best_score is None:\n",
    "            self.best_score = score\n",
    "        elif score <= self.best_score + self.delta:\n",
    "            self.counter += 1\n",
    "            print(f'EarlyStopping counter: {self.counter} out of {self.patience}')\n",
    "            print(f'Best F1 score from now: {self.best_score}')\n",
    "            if self.counter >= self.patience:\n",
    "                self.early_stop = True\n",
    "        else:\n",
    "            self.best_score = score\n",
    "            self.counter = 0\n",
    "        \n",
    "        return self.early_stop"
   ]
  },
  {
   "cell_type": "code",
   "execution_count": 27,
   "id": "89c15e4d-4f98-4152-9171-9fb008d9b12f",
   "metadata": {},
   "outputs": [],
   "source": [
    "os.environ[\"CUDA_VISIBLE_DEVICES\"] = '0, 1' #본인이 사용하고 싶은 GPU 넘버를 써주면 됨\n",
    "#os.environ['CUDA_LAUNCH_BLOCKING'] = \"1\"\n",
    "os.environ['MASTER_ADDR'] = 'localhost'\n",
    "os.environ['MASTER_PORT'] = '43097'         # 좀 큰 숫자로 맞추면 됨 작은 숫자는 에러발생!\n",
    "\n",
    "device = torch.device(\"cuda\" if torch.cuda.is_available() else \"cpu\")\n",
    "# init!\n",
    "torch.distributed.init_process_group(backend='nccl', init_method=\"env://\", rank =0, world_size=1)  # rank should be 0 ~ world_size-1\n"
   ]
  },
  {
   "cell_type": "code",
   "execution_count": 28,
   "id": "37102a34",
   "metadata": {},
   "outputs": [
    {
     "name": "stderr",
     "output_type": "stream",
     "text": [
      "Failed to detect the name of this notebook, you can set it manually with the WANDB_NOTEBOOK_NAME environment variable to enable code saving.\n",
      "\u001b[34m\u001b[1mwandb\u001b[0m: Currently logged in as: \u001b[33mhojunking\u001b[0m. Use \u001b[1m`wandb login --relogin`\u001b[0m to force relogin\n"
     ]
    },
    {
     "data": {
      "text/html": [
       "wandb version 0.14.1 is available!  To upgrade, please run:\n",
       " $ pip install wandb --upgrade"
      ],
      "text/plain": [
       "<IPython.core.display.HTML object>"
      ]
     },
     "metadata": {},
     "output_type": "display_data"
    },
    {
     "data": {
      "text/html": [
       "Tracking run with wandb version 0.13.4"
      ],
      "text/plain": [
       "<IPython.core.display.HTML object>"
      ]
     },
     "metadata": {},
     "output_type": "display_data"
    },
    {
     "data": {
      "text/html": [
       "Run data is saved locally in <code>/home/hojun/git/carbon_reduction_project/wandb/run-20230407_191621-12f0bxfq</code>"
      ],
      "text/plain": [
       "<IPython.core.display.HTML object>"
      ]
     },
     "metadata": {},
     "output_type": "display_data"
    },
    {
     "data": {
      "text/html": [
       "Syncing run <strong><a href=\"https://wandb.ai/hojunking/carbon_reduction_inception_resnet_v2_4010/runs/12f0bxfq\" target=\"_blank\">good-plasma-1</a></strong> to <a href=\"https://wandb.ai/hojunking/carbon_reduction_inception_resnet_v2_4010\" target=\"_blank\">Weights & Biases</a> (<a href=\"https://wandb.me/run\" target=\"_blank\">docs</a>)<br/>"
      ],
      "text/plain": [
       "<IPython.core.display.HTML object>"
      ]
     },
     "metadata": {},
     "output_type": "display_data"
    },
    {
     "name": "stdout",
     "output_type": "stream",
     "text": [
      "Model: inception_resnet_v2\n",
      "Training start with fold: 0 epoch: 200 \n",
      "\n",
      "All training process\n",
      "Fold: 0\n",
      "Epoch 0/199\n"
     ]
    },
    {
     "name": "stderr",
     "output_type": "stream",
     "text": [
      "epoch 0 loss: 2.3208:   1%|▏                    | 2/172 [00:11<13:39,  4.82s/it]Premature end of JPEG file\n",
      "epoch 0 loss: 1.3037:  52%|██████████▎         | 89/172 [01:16<01:01,  1.35it/s]Premature end of JPEG file\n",
      "epoch 0 loss: 1.0454:  67%|████████████▊      | 116/172 [01:36<00:42,  1.32it/s]Corrupt JPEG data: 111 extraneous bytes before marker 0xd9\n",
      "epoch 0 loss: 0.9649:  73%|█████████████▉     | 126/172 [01:44<00:34,  1.33it/s]Premature end of JPEG file\n",
      "epoch 0 loss: 0.6693: 100%|███████████████████| 172/172 [02:21<00:00,  1.22it/s]\n",
      "epoch 0 loss: 0.1380: 100%|███████████████████| 172/172 [00:43<00:00,  3.96it/s]\n"
     ]
    },
    {
     "name": "stdout",
     "output_type": "stream",
     "text": [
      "Fold: 0\n",
      "Epoch 1/199\n"
     ]
    },
    {
     "name": "stderr",
     "output_type": "stream",
     "text": [
      "epoch 1 loss: 0.1316:   1%|▏                    | 2/172 [00:03<04:30,  1.59s/it]Premature end of JPEG file\n",
      "epoch 1 loss: 0.1165:  52%|██████████▎         | 89/172 [01:09<01:02,  1.32it/s]Premature end of JPEG file\n",
      "epoch 1 loss: 0.1053:  67%|████████████▊      | 116/172 [01:30<00:42,  1.31it/s]Corrupt JPEG data: 111 extraneous bytes before marker 0xd9\n",
      "epoch 1 loss: 0.1015:  73%|█████████████▉     | 126/172 [01:37<00:35,  1.30it/s]Premature end of JPEG file\n",
      "epoch 1 loss: 0.0876: 100%|███████████████████| 172/172 [02:12<00:00,  1.30it/s]\n",
      "epoch 1 loss: 0.1334: 100%|███████████████████| 172/172 [00:42<00:00,  4.02it/s]\n"
     ]
    },
    {
     "name": "stdout",
     "output_type": "stream",
     "text": [
      "Fold: 0\n",
      "Epoch 2/199\n"
     ]
    },
    {
     "name": "stderr",
     "output_type": "stream",
     "text": [
      "epoch 2 loss: 0.0482:   1%|▏                    | 2/172 [00:03<04:47,  1.69s/it]Premature end of JPEG file\n",
      "epoch 2 loss: 0.0491:  52%|██████████▎         | 89/172 [01:09<01:02,  1.33it/s]Premature end of JPEG file\n",
      "epoch 2 loss: 0.0455:  67%|████████████▊      | 116/172 [01:30<00:43,  1.30it/s]Corrupt JPEG data: 111 extraneous bytes before marker 0xd9\n",
      "epoch 2 loss: 0.0444:  73%|█████████████▉     | 126/172 [01:38<00:35,  1.30it/s]Premature end of JPEG file\n",
      "epoch 2 loss: 0.0405: 100%|███████████████████| 172/172 [02:13<00:00,  1.29it/s]\n",
      "epoch 2 loss: 0.1447: 100%|███████████████████| 172/172 [00:43<00:00,  3.95it/s]\n"
     ]
    },
    {
     "name": "stdout",
     "output_type": "stream",
     "text": [
      "Fold: 0\n",
      "Epoch 3/199\n"
     ]
    },
    {
     "name": "stderr",
     "output_type": "stream",
     "text": [
      "epoch 3 loss: 0.0185:   1%|▏                    | 2/172 [00:03<04:19,  1.53s/it]Premature end of JPEG file\n",
      "epoch 3 loss: 0.0255:  52%|██████████▎         | 89/172 [01:09<01:02,  1.32it/s]Premature end of JPEG file\n",
      "epoch 3 loss: 0.0242:  67%|████████████▊      | 116/172 [01:30<00:42,  1.30it/s]Corrupt JPEG data: 111 extraneous bytes before marker 0xd9\n",
      "epoch 3 loss: 0.0249:  73%|█████████████▉     | 126/172 [01:37<00:35,  1.30it/s]Premature end of JPEG file\n",
      "epoch 3 loss: 0.0247: 100%|███████████████████| 172/172 [02:12<00:00,  1.29it/s]\n",
      "epoch 3 loss: 0.1334: 100%|███████████████████| 172/172 [00:42<00:00,  4.03it/s]\n"
     ]
    },
    {
     "name": "stdout",
     "output_type": "stream",
     "text": [
      "Fold: 0\n",
      "Epoch 4/199\n"
     ]
    },
    {
     "name": "stderr",
     "output_type": "stream",
     "text": [
      "epoch 4 loss: 0.0114:   1%|▏                    | 2/172 [00:03<04:13,  1.49s/it]Premature end of JPEG file\n",
      "epoch 4 loss: 0.0197:  52%|██████████▎         | 89/172 [01:09<01:02,  1.32it/s]Premature end of JPEG file\n",
      "epoch 4 loss: 0.0210:  67%|████████████▊      | 116/172 [01:30<00:42,  1.31it/s]Corrupt JPEG data: 111 extraneous bytes before marker 0xd9\n",
      "epoch 4 loss: 0.0214:  73%|█████████████▉     | 126/172 [01:37<00:35,  1.31it/s]Premature end of JPEG file\n",
      "epoch 4 loss: 0.0222: 100%|███████████████████| 172/172 [02:12<00:00,  1.30it/s]\n",
      "epoch 4 loss: 0.1479: 100%|███████████████████| 172/172 [00:42<00:00,  4.01it/s]"
     ]
    },
    {
     "name": "stdout",
     "output_type": "stream",
     "text": [
      "EarlyStopping counter: 1 out of 3\n",
      "Best F1 score from now: 0.960579401008362\n",
      "Fold: 0\n",
      "Epoch 5/199\n"
     ]
    },
    {
     "name": "stderr",
     "output_type": "stream",
     "text": [
      "\n",
      "epoch 5 loss: 0.0075:   1%|▏                    | 2/172 [00:03<04:09,  1.47s/it]Premature end of JPEG file\n",
      "epoch 5 loss: 0.0145:  52%|██████████▎         | 89/172 [01:09<01:02,  1.33it/s]Premature end of JPEG file\n",
      "epoch 5 loss: 0.0156:  67%|████████████▊      | 116/172 [01:30<00:43,  1.30it/s]Corrupt JPEG data: 111 extraneous bytes before marker 0xd9\n",
      "epoch 5 loss: 0.0156:  73%|█████████████▉     | 126/172 [01:37<00:35,  1.30it/s]Premature end of JPEG file\n",
      "epoch 5 loss: 0.0160: 100%|███████████████████| 172/172 [02:13<00:00,  1.29it/s]\n",
      "epoch 5 loss: 0.1315: 100%|███████████████████| 172/172 [00:43<00:00,  3.93it/s]\n"
     ]
    },
    {
     "name": "stdout",
     "output_type": "stream",
     "text": [
      "Fold: 0\n",
      "Epoch 6/199\n"
     ]
    },
    {
     "name": "stderr",
     "output_type": "stream",
     "text": [
      "epoch 6 loss: 0.0089:   1%|▏                    | 2/172 [00:03<04:38,  1.64s/it]Premature end of JPEG file\n",
      "epoch 6 loss: 0.0126:  52%|██████████▎         | 89/172 [01:09<01:02,  1.33it/s]Premature end of JPEG file\n",
      "epoch 6 loss: 0.0130:  68%|████████████▉      | 117/172 [01:31<00:41,  1.32it/s]Corrupt JPEG data: 111 extraneous bytes before marker 0xd9\n",
      "epoch 6 loss: 0.0132:  73%|█████████████▉     | 126/172 [01:38<00:35,  1.31it/s]Premature end of JPEG file\n",
      "epoch 6 loss: 0.0128: 100%|███████████████████| 172/172 [02:13<00:00,  1.29it/s]\n",
      "epoch 6 loss: 0.1522: 100%|███████████████████| 172/172 [00:42<00:00,  4.00it/s]"
     ]
    },
    {
     "name": "stdout",
     "output_type": "stream",
     "text": [
      "EarlyStopping counter: 1 out of 3\n",
      "Best F1 score from now: 0.9617890107940358\n",
      "Fold: 0\n",
      "Epoch 7/199\n"
     ]
    },
    {
     "name": "stderr",
     "output_type": "stream",
     "text": [
      "\n",
      "epoch 7 loss: 0.0024:   1%|▏                    | 2/172 [00:03<04:25,  1.56s/it]Premature end of JPEG file\n",
      "epoch 7 loss: 0.0076:  52%|██████████▎         | 89/172 [01:09<01:02,  1.32it/s]Premature end of JPEG file\n",
      "epoch 7 loss: 0.0088:  67%|████████████▊      | 116/172 [01:30<00:43,  1.30it/s]Corrupt JPEG data: 111 extraneous bytes before marker 0xd9\n",
      "epoch 7 loss: 0.0096:  73%|█████████████▉     | 126/172 [01:37<00:35,  1.31it/s]Premature end of JPEG file\n",
      "epoch 7 loss: 0.0102: 100%|███████████████████| 172/172 [02:13<00:00,  1.29it/s]\n",
      "epoch 7 loss: 0.1479: 100%|███████████████████| 172/172 [00:42<00:00,  4.02it/s]\n"
     ]
    },
    {
     "name": "stdout",
     "output_type": "stream",
     "text": [
      "Fold: 0\n",
      "Epoch 8/199\n"
     ]
    },
    {
     "name": "stderr",
     "output_type": "stream",
     "text": [
      "epoch 8 loss: 0.0077:   1%|▏                    | 2/172 [00:03<04:17,  1.51s/it]Premature end of JPEG file\n",
      "epoch 8 loss: 0.0106:  52%|██████████▎         | 89/172 [01:09<01:02,  1.33it/s]Premature end of JPEG file\n",
      "epoch 8 loss: 0.0100:  67%|████████████▊      | 116/172 [01:29<00:42,  1.30it/s]Corrupt JPEG data: 111 extraneous bytes before marker 0xd9\n",
      "epoch 8 loss: 0.0097:  73%|█████████████▉     | 126/172 [01:37<00:35,  1.29it/s]Premature end of JPEG file\n",
      "epoch 8 loss: 0.0080: 100%|███████████████████| 172/172 [02:12<00:00,  1.30it/s]\n",
      "epoch 8 loss: 0.1366: 100%|███████████████████| 172/172 [00:43<00:00,  3.96it/s]"
     ]
    },
    {
     "name": "stdout",
     "output_type": "stream",
     "text": [
      "EarlyStopping counter: 1 out of 3\n",
      "Best F1 score from now: 0.9626679062575982\n",
      "Fold: 0\n",
      "Epoch 9/199\n"
     ]
    },
    {
     "name": "stderr",
     "output_type": "stream",
     "text": [
      "\n",
      "epoch 9 loss: 0.0011:   1%|▏                    | 2/172 [00:03<04:23,  1.55s/it]Premature end of JPEG file\n",
      "epoch 9 loss: 0.0057:  52%|██████████▎         | 89/172 [01:09<01:02,  1.32it/s]Premature end of JPEG file\n",
      "epoch 9 loss: 0.0075:  68%|████████████▉      | 117/172 [01:30<00:41,  1.32it/s]Corrupt JPEG data: 111 extraneous bytes before marker 0xd9\n",
      "epoch 9 loss: 0.0081:  73%|█████████████▉     | 126/172 [01:37<00:35,  1.30it/s]Premature end of JPEG file\n",
      "epoch 9 loss: 0.0118: 100%|███████████████████| 172/172 [02:12<00:00,  1.29it/s]\n",
      "epoch 9 loss: 0.1771: 100%|███████████████████| 172/172 [00:42<00:00,  4.03it/s]"
     ]
    },
    {
     "name": "stdout",
     "output_type": "stream",
     "text": [
      "EarlyStopping counter: 2 out of 3\n",
      "Best F1 score from now: 0.9626679062575982\n",
      "Fold: 0\n",
      "Epoch 10/199\n"
     ]
    },
    {
     "name": "stderr",
     "output_type": "stream",
     "text": [
      "\n",
      "epoch 10 loss: 0.0032:   1%|▏                   | 2/172 [00:03<04:17,  1.51s/it]Premature end of JPEG file\n",
      "epoch 10 loss: 0.0098:  52%|█████████▊         | 89/172 [01:09<01:02,  1.33it/s]Premature end of JPEG file\n",
      "epoch 10 loss: 0.0091:  67%|████████████▏     | 116/172 [01:30<00:43,  1.30it/s]Corrupt JPEG data: 111 extraneous bytes before marker 0xd9\n",
      "epoch 10 loss: 0.0091:  73%|█████████████▏    | 126/172 [01:37<00:35,  1.30it/s]Premature end of JPEG file\n",
      "epoch 10 loss: 0.0110: 100%|██████████████████| 172/172 [02:12<00:00,  1.30it/s]\n",
      "epoch 10 loss: 0.1446: 100%|██████████████████| 172/172 [00:42<00:00,  4.00it/s]\n"
     ]
    },
    {
     "name": "stdout",
     "output_type": "stream",
     "text": [
      "Fold: 0\n",
      "Epoch 11/199\n"
     ]
    },
    {
     "name": "stderr",
     "output_type": "stream",
     "text": [
      "epoch 11 loss: 0.0040:   1%|▏                   | 2/172 [00:03<04:22,  1.54s/it]Premature end of JPEG file\n",
      "epoch 11 loss: 0.0080:  52%|█████████▊         | 89/172 [01:09<01:02,  1.33it/s]Premature end of JPEG file\n",
      "epoch 11 loss: 0.0078:  67%|████████████▏     | 116/172 [01:30<00:43,  1.29it/s]Corrupt JPEG data: 111 extraneous bytes before marker 0xd9\n",
      "epoch 11 loss: 0.0078:  73%|█████████████▏    | 126/172 [01:38<00:35,  1.30it/s]Premature end of JPEG file\n",
      "epoch 11 loss: 0.0101: 100%|██████████████████| 172/172 [02:13<00:00,  1.29it/s]\n",
      "epoch 11 loss: 0.1617: 100%|██████████████████| 172/172 [00:43<00:00,  3.96it/s]"
     ]
    },
    {
     "name": "stdout",
     "output_type": "stream",
     "text": [
      "EarlyStopping counter: 1 out of 3\n",
      "Best F1 score from now: 0.9660888602512874\n",
      "Fold: 0\n",
      "Epoch 12/199\n"
     ]
    },
    {
     "name": "stderr",
     "output_type": "stream",
     "text": [
      "\n",
      "epoch 12 loss: 0.0147:   1%|▏                   | 2/172 [00:03<04:33,  1.61s/it]Premature end of JPEG file\n",
      "epoch 12 loss: 0.0124:  52%|█████████▊         | 89/172 [01:09<01:02,  1.33it/s]Premature end of JPEG file\n",
      "epoch 12 loss: 0.0122:  67%|████████████▏     | 116/172 [01:30<00:42,  1.31it/s]Corrupt JPEG data: 111 extraneous bytes before marker 0xd9\n",
      "epoch 12 loss: 0.0119:  73%|█████████████▏    | 126/172 [01:37<00:35,  1.31it/s]Premature end of JPEG file\n",
      "epoch 12 loss: 0.0118: 100%|██████████████████| 172/172 [02:12<00:00,  1.30it/s]\n",
      "epoch 12 loss: 0.1634: 100%|██████████████████| 172/172 [00:42<00:00,  4.02it/s]"
     ]
    },
    {
     "name": "stdout",
     "output_type": "stream",
     "text": [
      "EarlyStopping counter: 2 out of 3\n",
      "Best F1 score from now: 0.9660888602512874\n",
      "Fold: 0\n",
      "Epoch 13/199\n"
     ]
    },
    {
     "name": "stderr",
     "output_type": "stream",
     "text": [
      "\n",
      "epoch 13 loss: 0.0053:   1%|▏                   | 2/172 [00:03<04:31,  1.60s/it]Premature end of JPEG file\n",
      "epoch 13 loss: 0.0067:  52%|█████████▊         | 89/172 [01:09<01:02,  1.33it/s]Premature end of JPEG file\n",
      "epoch 13 loss: 0.0069:  67%|████████████▏     | 116/172 [01:30<00:42,  1.31it/s]Corrupt JPEG data: 111 extraneous bytes before marker 0xd9\n",
      "epoch 13 loss: 0.0075:  73%|█████████████▏    | 126/172 [01:37<00:35,  1.30it/s]Premature end of JPEG file\n",
      "epoch 13 loss: 0.0073: 100%|██████████████████| 172/172 [02:12<00:00,  1.29it/s]\n",
      "epoch 13 loss: 0.1533: 100%|██████████████████| 172/172 [00:42<00:00,  4.00it/s]\n"
     ]
    },
    {
     "name": "stdout",
     "output_type": "stream",
     "text": [
      "EarlyStopping counter: 3 out of 3\n",
      "Best F1 score from now: 0.9660888602512874\n",
      "stop called\n",
      "time : 0:41:26\n",
      "fold: 0, Best Epoch : 10/ 14\n",
      "fold: 0, Best Train Marco F1 : 0.99532\n",
      "[[2106    0    0    0    2    1    0    0    0    0]\n",
      " [   0 3194    1    0    2    1    2    0    0    0]\n",
      " [   0    0 3191    1    1    4    0    2    0    1]\n",
      " [   0    0    0  814    1    2    1    0    0    0]\n",
      " [   3    3    3    5 3177    2    3    3    0    1]\n",
      " [   4    0    5    4    1 1213    1    1    0    1]\n",
      " [   0    1    0    4    3    1 2833    0    0    0]\n",
      " [   0    0    3    1    7    0    0 3189    0    0]\n",
      " [   0    0    0    0    4    0    0    0  993    0]\n",
      " [   0    0    0    1    0    0    0    0    0 1201]]\n",
      "fold: 0, Best Valid Marco F1 : 0.96609\n",
      "[[525   0   0   0   2   0   1   0   0   0]\n",
      " [  0 782   2   0  12   2   0   2   0   0]\n",
      " [  0   1 787   4   3   1   0   4   0   0]\n",
      " [  0   0   1 193   6   3   0   1   0   0]\n",
      " [  3   4  23   7 720   3   6  23   6   5]\n",
      " [  0   2   8   5   8 283   0   2   0   0]\n",
      " [  0   1   2   1   5   0 701   0   0   0]\n",
      " [  0   0   5   0   4   0   0 791   0   0]\n",
      " [  0   0   0   0   3   0   0   0 246   0]\n",
      " [  0   0   1   0   7   0   0   0   0 293]]\n",
      "---------------------------------------------------------\n",
      "Training start with fold: 1 epoch: 200 \n",
      "\n",
      "All training process\n",
      "Fold: 1\n",
      "Epoch 0/199\n"
     ]
    },
    {
     "name": "stderr",
     "output_type": "stream",
     "text": [
      "  0%|                                                   | 0/172 [00:00<?, ?it/s]Premature end of JPEG file\n",
      "epoch 0 loss: 1.4293:  46%|█████████▏          | 79/172 [01:02<01:10,  1.32it/s]Premature end of JPEG file\n",
      "epoch 0 loss: 1.2197:  57%|███████████▍        | 98/172 [01:16<00:56,  1.30it/s]Corrupt JPEG data: 111 extraneous bytes before marker 0xd9\n",
      "epoch 0 loss: 0.9203:  77%|██████████████▌    | 132/172 [01:42<00:30,  1.30it/s]Premature end of JPEG file\n",
      "epoch 0 loss: 0.6737: 100%|███████████████████| 172/172 [02:13<00:00,  1.29it/s]\n",
      "epoch 0 loss: 0.1369: 100%|███████████████████| 172/172 [00:42<00:00,  4.02it/s]\n"
     ]
    },
    {
     "name": "stdout",
     "output_type": "stream",
     "text": [
      "Fold: 1\n",
      "Epoch 1/199\n"
     ]
    },
    {
     "name": "stderr",
     "output_type": "stream",
     "text": [
      "  0%|                                                   | 0/172 [00:00<?, ?it/s]Premature end of JPEG file\n",
      "epoch 1 loss: 0.1291:  46%|█████████▏          | 79/172 [01:01<01:10,  1.32it/s]Premature end of JPEG file\n",
      "epoch 1 loss: 0.1186:  57%|███████████▍        | 98/172 [01:16<00:56,  1.31it/s]Corrupt JPEG data: 111 extraneous bytes before marker 0xd9\n",
      "epoch 1 loss: 0.1010:  77%|██████████████▌    | 132/172 [01:42<00:30,  1.31it/s]Premature end of JPEG file\n",
      "epoch 1 loss: 0.0888: 100%|███████████████████| 172/172 [02:12<00:00,  1.30it/s]\n",
      "epoch 1 loss: 0.1338: 100%|███████████████████| 172/172 [00:42<00:00,  4.01it/s]\n"
     ]
    },
    {
     "name": "stdout",
     "output_type": "stream",
     "text": [
      "Fold: 1\n",
      "Epoch 2/199\n"
     ]
    },
    {
     "name": "stderr",
     "output_type": "stream",
     "text": [
      "  0%|                                                   | 0/172 [00:00<?, ?it/s]Premature end of JPEG file\n",
      "epoch 2 loss: 0.0533:  46%|█████████▏          | 79/172 [01:02<01:10,  1.33it/s]Premature end of JPEG file\n",
      "epoch 2 loss: 0.0512:  57%|███████████▍        | 98/172 [01:16<00:56,  1.30it/s]Corrupt JPEG data: 111 extraneous bytes before marker 0xd9\n",
      "epoch 2 loss: 0.0450:  77%|██████████████▌    | 132/172 [01:42<00:30,  1.31it/s]Premature end of JPEG file\n",
      "epoch 2 loss: 0.0428: 100%|███████████████████| 172/172 [02:13<00:00,  1.29it/s]\n",
      "epoch 2 loss: 0.1522: 100%|███████████████████| 172/172 [00:43<00:00,  3.95it/s]"
     ]
    },
    {
     "name": "stdout",
     "output_type": "stream",
     "text": [
      "EarlyStopping counter: 1 out of 3\n",
      "Best F1 score from now: 0.9572054016287691\n",
      "Fold: 1\n",
      "Epoch 3/199\n"
     ]
    },
    {
     "name": "stderr",
     "output_type": "stream",
     "text": [
      "\n",
      "  0%|                                                   | 0/172 [00:00<?, ?it/s]Premature end of JPEG file\n",
      "epoch 3 loss: 0.0220:  46%|█████████▏          | 79/172 [01:02<01:10,  1.32it/s]Premature end of JPEG file\n",
      "epoch 3 loss: 0.0215:  57%|███████████▍        | 98/172 [01:16<00:56,  1.31it/s]Corrupt JPEG data: 111 extraneous bytes before marker 0xd9\n",
      "epoch 3 loss: 0.0211:  77%|██████████████▌    | 132/172 [01:42<00:30,  1.30it/s]Premature end of JPEG file\n",
      "epoch 3 loss: 0.0225: 100%|███████████████████| 172/172 [02:12<00:00,  1.30it/s]\n",
      "epoch 3 loss: 0.1625: 100%|███████████████████| 172/172 [00:42<00:00,  4.01it/s]"
     ]
    },
    {
     "name": "stdout",
     "output_type": "stream",
     "text": [
      "EarlyStopping counter: 2 out of 3\n",
      "Best F1 score from now: 0.9572054016287691\n",
      "Fold: 1\n",
      "Epoch 4/199\n"
     ]
    },
    {
     "name": "stderr",
     "output_type": "stream",
     "text": [
      "\n",
      "  0%|                                                   | 0/172 [00:00<?, ?it/s]Premature end of JPEG file\n",
      "epoch 4 loss: 0.0183:  46%|█████████▏          | 79/172 [01:02<01:10,  1.32it/s]Premature end of JPEG file\n",
      "epoch 4 loss: 0.0175:  57%|███████████▍        | 98/172 [01:16<00:56,  1.30it/s]Corrupt JPEG data: 111 extraneous bytes before marker 0xd9\n",
      "epoch 4 loss: 0.0180:  77%|██████████████▌    | 132/172 [01:42<00:30,  1.30it/s]Premature end of JPEG file\n",
      "epoch 4 loss: 0.0180: 100%|███████████████████| 172/172 [02:13<00:00,  1.29it/s]\n",
      "epoch 4 loss: 0.1536: 100%|███████████████████| 172/172 [00:42<00:00,  4.01it/s]\n"
     ]
    },
    {
     "name": "stdout",
     "output_type": "stream",
     "text": [
      "EarlyStopping counter: 3 out of 3\n",
      "Best F1 score from now: 0.9572054016287691\n",
      "stop called\n",
      "time : 0:14:45\n",
      "fold: 1, Best Epoch : 1/ 5\n",
      "fold: 1, Best Train Marco F1 : 0.97029\n",
      "[[2087    0    0    0   21    1    0    0    0    0]\n",
      " [   0 3151    3    0   30    9    3    1    1    2]\n",
      " [   1    3 3127    7   27    9    2   22    2    0]\n",
      " [   1    0    8  763   25   14    3    2    1    0]\n",
      " [  28   29   23   21 2991   19   17   24   19   29]\n",
      " [   2   12   11   10   27 1163    2    4    0    0]\n",
      " [   1    1    3    1   17    1 2816    1    0    0]\n",
      " [   0    0   21    5   23    5    1 3145    0    0]\n",
      " [   1    0    0    0   20    2    0    0  971    3]\n",
      " [   0    0    0    0   11    1    0    0    0 1191]]\n",
      "fold: 1, Best Valid Marco F1 : 0.95721\n",
      "[[524   0   0   0   4   0   0   0   0   0]\n",
      " [  0 786   0   0  11   3   0   0   0   0]\n",
      " [  0   0 773   2  14   2   1   8   0   0]\n",
      " [  0   0   0 201   2   1   0   1   0   0]\n",
      " [  3   7   9  22 714   4   5  20   6  10]\n",
      " [  1   4  10   7  12 267   3   1   2   0]\n",
      " [  0   0   0   0   8   0 703   0   0   0]\n",
      " [  0   0   4   3  12   0   1 780   0   0]\n",
      " [  0   0   0   0   6   1   0   0 241   1]\n",
      " [  0   0   0   0   2   0   0   0   1 297]]\n",
      "---------------------------------------------------------\n",
      "Training start with fold: 2 epoch: 200 \n",
      "\n",
      "All training process\n",
      "Fold: 2\n",
      "Epoch 0/199\n"
     ]
    },
    {
     "name": "stderr",
     "output_type": "stream",
     "text": [
      "  0%|                                                   | 0/172 [00:00<?, ?it/s]Premature end of JPEG file\n",
      "epoch 0 loss: 2.0748:  18%|███▌                | 31/172 [00:25<01:46,  1.33it/s]Premature end of JPEG file\n",
      "epoch 0 loss: 1.3722:  48%|█████████▋          | 83/172 [01:05<01:06,  1.33it/s]Premature end of JPEG file\n",
      "epoch 0 loss: 0.6766: 100%|███████████████████| 172/172 [02:12<00:00,  1.30it/s]\n",
      "epoch 0 loss: 0.1229:  85%|████████████████▏  | 147/172 [00:36<00:06,  4.09it/s]Corrupt JPEG data: 111 extraneous bytes before marker 0xd9\n",
      "epoch 0 loss: 0.1378: 100%|███████████████████| 172/172 [00:42<00:00,  4.02it/s]\n"
     ]
    },
    {
     "name": "stdout",
     "output_type": "stream",
     "text": [
      "Fold: 2\n",
      "Epoch 1/199\n"
     ]
    },
    {
     "name": "stderr",
     "output_type": "stream",
     "text": [
      "  0%|                                                   | 0/172 [00:00<?, ?it/s]Premature end of JPEG file\n",
      "epoch 1 loss: 0.0918:  18%|███▌                | 31/172 [00:25<01:46,  1.32it/s]Premature end of JPEG file\n",
      "epoch 1 loss: 0.0918:  48%|█████████▋          | 83/172 [01:05<01:06,  1.33it/s]Premature end of JPEG file\n",
      "epoch 1 loss: 0.0783: 100%|███████████████████| 172/172 [02:12<00:00,  1.29it/s]\n",
      "epoch 1 loss: 0.1318:  85%|████████████████▏  | 147/172 [00:36<00:06,  4.07it/s]Corrupt JPEG data: 111 extraneous bytes before marker 0xd9\n",
      "epoch 1 loss: 0.1366: 100%|███████████████████| 172/172 [00:42<00:00,  4.01it/s]\n"
     ]
    },
    {
     "name": "stdout",
     "output_type": "stream",
     "text": [
      "Fold: 2\n",
      "Epoch 2/199\n"
     ]
    },
    {
     "name": "stderr",
     "output_type": "stream",
     "text": [
      "  0%|                                                   | 0/172 [00:00<?, ?it/s]Premature end of JPEG file\n",
      "epoch 2 loss: 0.0537:  18%|███▌                | 31/172 [00:25<01:46,  1.33it/s]Premature end of JPEG file\n",
      "epoch 2 loss: 0.0493:  48%|█████████▋          | 83/172 [01:04<01:06,  1.33it/s]Premature end of JPEG file\n",
      "epoch 2 loss: 0.0416: 100%|███████████████████| 172/172 [02:12<00:00,  1.30it/s]\n",
      "epoch 2 loss: 0.1462:  85%|████████████████▏  | 147/172 [00:37<00:06,  3.87it/s]Corrupt JPEG data: 111 extraneous bytes before marker 0xd9\n",
      "epoch 2 loss: 0.1438: 100%|███████████████████| 172/172 [00:43<00:00,  3.97it/s]\n"
     ]
    },
    {
     "name": "stdout",
     "output_type": "stream",
     "text": [
      "Fold: 2\n",
      "Epoch 3/199\n"
     ]
    },
    {
     "name": "stderr",
     "output_type": "stream",
     "text": [
      "  0%|                                                   | 0/172 [00:00<?, ?it/s]Premature end of JPEG file\n",
      "epoch 3 loss: 0.0248:  18%|███▌                | 31/172 [00:25<01:45,  1.33it/s]Premature end of JPEG file\n",
      "epoch 3 loss: 0.0277:  48%|█████████▋          | 83/172 [01:05<01:07,  1.33it/s]Premature end of JPEG file\n",
      "epoch 3 loss: 0.0274: 100%|███████████████████| 172/172 [02:12<00:00,  1.30it/s]\n",
      "epoch 3 loss: 0.1364:  85%|████████████████▏  | 147/172 [00:36<00:06,  4.11it/s]Corrupt JPEG data: 111 extraneous bytes before marker 0xd9\n",
      "epoch 3 loss: 0.1436: 100%|███████████████████| 172/172 [00:42<00:00,  4.03it/s]\n"
     ]
    },
    {
     "name": "stdout",
     "output_type": "stream",
     "text": [
      "Fold: 2\n",
      "Epoch 4/199\n"
     ]
    },
    {
     "name": "stderr",
     "output_type": "stream",
     "text": [
      "  0%|                                                   | 0/172 [00:00<?, ?it/s]Premature end of JPEG file\n",
      "epoch 4 loss: 0.0093:  18%|███▌                | 31/172 [00:25<01:46,  1.32it/s]Premature end of JPEG file\n",
      "epoch 4 loss: 0.0148:  48%|█████████▋          | 83/172 [01:04<01:07,  1.33it/s]Premature end of JPEG file\n",
      "epoch 4 loss: 0.0172: 100%|███████████████████| 172/172 [02:12<00:00,  1.30it/s]\n",
      "epoch 4 loss: 0.1388:  85%|████████████████▏  | 147/172 [00:36<00:06,  4.08it/s]Corrupt JPEG data: 111 extraneous bytes before marker 0xd9\n",
      "epoch 4 loss: 0.1394: 100%|███████████████████| 172/172 [00:42<00:00,  4.02it/s]\n"
     ]
    },
    {
     "name": "stdout",
     "output_type": "stream",
     "text": [
      "Fold: 2\n",
      "Epoch 5/199\n"
     ]
    },
    {
     "name": "stderr",
     "output_type": "stream",
     "text": [
      "  0%|                                                   | 0/172 [00:00<?, ?it/s]Premature end of JPEG file\n",
      "epoch 5 loss: 0.0059:  18%|███▌                | 31/172 [00:25<01:46,  1.32it/s]Premature end of JPEG file\n",
      "epoch 5 loss: 0.0097:  48%|█████████▋          | 83/172 [01:05<01:06,  1.33it/s]Premature end of JPEG file\n",
      "epoch 5 loss: 0.0145: 100%|███████████████████| 172/172 [02:13<00:00,  1.29it/s]\n",
      "epoch 5 loss: 0.1491:  85%|████████████████▏  | 147/172 [00:37<00:06,  4.11it/s]Corrupt JPEG data: 111 extraneous bytes before marker 0xd9\n",
      "epoch 5 loss: 0.1493: 100%|███████████████████| 172/172 [00:43<00:00,  3.95it/s]"
     ]
    },
    {
     "name": "stdout",
     "output_type": "stream",
     "text": [
      "EarlyStopping counter: 1 out of 3\n",
      "Best F1 score from now: 0.963596321983615\n",
      "Fold: 2\n",
      "Epoch 6/199\n"
     ]
    },
    {
     "name": "stderr",
     "output_type": "stream",
     "text": [
      "\n",
      "  0%|                                                   | 0/172 [00:00<?, ?it/s]Premature end of JPEG file\n",
      "epoch 6 loss: 0.0272:  18%|███▌                | 31/172 [00:25<01:46,  1.33it/s]Premature end of JPEG file\n",
      "epoch 6 loss: 0.0237:  48%|█████████▋          | 83/172 [01:04<01:06,  1.33it/s]Premature end of JPEG file\n",
      "epoch 6 loss: 0.0209: 100%|███████████████████| 172/172 [02:12<00:00,  1.30it/s]\n",
      "epoch 6 loss: 0.1431:  85%|████████████████▏  | 147/172 [00:36<00:06,  4.10it/s]Corrupt JPEG data: 111 extraneous bytes before marker 0xd9\n",
      "epoch 6 loss: 0.1399: 100%|███████████████████| 172/172 [00:42<00:00,  4.03it/s]\n"
     ]
    },
    {
     "name": "stdout",
     "output_type": "stream",
     "text": [
      "Fold: 2\n",
      "Epoch 7/199\n"
     ]
    },
    {
     "name": "stderr",
     "output_type": "stream",
     "text": [
      "  0%|                                                   | 0/172 [00:00<?, ?it/s]Premature end of JPEG file\n",
      "epoch 7 loss: 0.0070:  18%|███▌                | 31/172 [00:25<01:46,  1.33it/s]Premature end of JPEG file\n",
      "epoch 7 loss: 0.0097:  48%|█████████▋          | 83/172 [01:05<01:07,  1.32it/s]Premature end of JPEG file\n",
      "epoch 7 loss: 0.0123: 100%|███████████████████| 172/172 [02:12<00:00,  1.29it/s]\n",
      "epoch 7 loss: 0.1292:  85%|████████████████▏  | 147/172 [00:36<00:06,  4.02it/s]Corrupt JPEG data: 111 extraneous bytes before marker 0xd9\n",
      "epoch 7 loss: 0.1329: 100%|███████████████████| 172/172 [00:42<00:00,  4.01it/s]\n"
     ]
    },
    {
     "name": "stdout",
     "output_type": "stream",
     "text": [
      "Fold: 2\n",
      "Epoch 8/199\n"
     ]
    },
    {
     "name": "stderr",
     "output_type": "stream",
     "text": [
      "  0%|                                                   | 0/172 [00:00<?, ?it/s]Premature end of JPEG file\n",
      "epoch 8 loss: 0.0051:  18%|███▌                | 31/172 [00:25<01:46,  1.33it/s]Premature end of JPEG file\n",
      "epoch 8 loss: 0.0074:  48%|█████████▋          | 83/172 [01:05<01:07,  1.32it/s]Premature end of JPEG file\n",
      "epoch 8 loss: 0.0095: 100%|███████████████████| 172/172 [02:12<00:00,  1.30it/s]\n",
      "epoch 8 loss: 0.1340:  85%|████████████████▏  | 147/172 [00:37<00:06,  4.09it/s]Corrupt JPEG data: 111 extraneous bytes before marker 0xd9\n",
      "epoch 8 loss: 0.1419: 100%|███████████████████| 172/172 [00:43<00:00,  3.98it/s]"
     ]
    },
    {
     "name": "stdout",
     "output_type": "stream",
     "text": [
      "EarlyStopping counter: 1 out of 3\n",
      "Best F1 score from now: 0.9651503383809421\n",
      "Fold: 2\n",
      "Epoch 9/199\n"
     ]
    },
    {
     "name": "stderr",
     "output_type": "stream",
     "text": [
      "\n",
      "  0%|                                                   | 0/172 [00:00<?, ?it/s]Premature end of JPEG file\n",
      "epoch 9 loss: 0.0052:  18%|███▌                | 31/172 [00:25<01:45,  1.33it/s]Premature end of JPEG file\n",
      "epoch 9 loss: 0.0085:  48%|█████████▋          | 83/172 [01:04<01:07,  1.33it/s]Premature end of JPEG file\n",
      "epoch 9 loss: 0.0112: 100%|███████████████████| 172/172 [02:12<00:00,  1.30it/s]\n",
      "epoch 9 loss: 0.1271:  85%|████████████████▏  | 147/172 [00:36<00:06,  4.08it/s]Corrupt JPEG data: 111 extraneous bytes before marker 0xd9\n",
      "epoch 9 loss: 0.1359: 100%|███████████████████| 172/172 [00:42<00:00,  4.02it/s]\n"
     ]
    },
    {
     "name": "stdout",
     "output_type": "stream",
     "text": [
      "Fold: 2\n",
      "Epoch 10/199\n"
     ]
    },
    {
     "name": "stderr",
     "output_type": "stream",
     "text": [
      "  0%|                                                   | 0/172 [00:00<?, ?it/s]Premature end of JPEG file\n",
      "epoch 10 loss: 0.0058:  18%|███▍               | 31/172 [00:25<01:45,  1.33it/s]Premature end of JPEG file\n",
      "epoch 10 loss: 0.0064:  48%|█████████▏         | 83/172 [01:04<01:07,  1.33it/s]Premature end of JPEG file\n",
      "epoch 10 loss: 0.0076: 100%|██████████████████| 172/172 [02:12<00:00,  1.30it/s]\n",
      "epoch 10 loss: 0.1412:  85%|███████████████▍  | 147/172 [00:36<00:06,  4.08it/s]Corrupt JPEG data: 111 extraneous bytes before marker 0xd9\n",
      "epoch 10 loss: 0.1544: 100%|██████████████████| 172/172 [00:42<00:00,  4.01it/s]"
     ]
    },
    {
     "name": "stdout",
     "output_type": "stream",
     "text": [
      "EarlyStopping counter: 1 out of 3\n",
      "Best F1 score from now: 0.9671535676174677\n",
      "Fold: 2\n",
      "Epoch 11/199\n"
     ]
    },
    {
     "name": "stderr",
     "output_type": "stream",
     "text": [
      "\n",
      "  0%|                                                   | 0/172 [00:00<?, ?it/s]Premature end of JPEG file\n",
      "epoch 11 loss: 0.0041:  18%|███▍               | 31/172 [00:25<01:46,  1.33it/s]Premature end of JPEG file\n",
      "epoch 11 loss: 0.0069:  48%|█████████▏         | 83/172 [01:04<01:07,  1.33it/s]Premature end of JPEG file\n",
      "epoch 11 loss: 0.0089: 100%|██████████████████| 172/172 [02:12<00:00,  1.29it/s]\n",
      "epoch 11 loss: 0.1406:  85%|███████████████▍  | 147/172 [00:37<00:06,  4.10it/s]Corrupt JPEG data: 111 extraneous bytes before marker 0xd9\n",
      "epoch 11 loss: 0.1442: 100%|██████████████████| 172/172 [00:43<00:00,  3.97it/s]"
     ]
    },
    {
     "name": "stdout",
     "output_type": "stream",
     "text": [
      "EarlyStopping counter: 2 out of 3\n",
      "Best F1 score from now: 0.9671535676174677\n",
      "Fold: 2\n",
      "Epoch 12/199\n"
     ]
    },
    {
     "name": "stderr",
     "output_type": "stream",
     "text": [
      "\n",
      "  0%|                                                   | 0/172 [00:00<?, ?it/s]Premature end of JPEG file\n",
      "epoch 12 loss: 0.0056:  18%|███▍               | 31/172 [00:25<01:46,  1.32it/s]Premature end of JPEG file\n",
      "epoch 12 loss: 0.0058:  48%|█████████▏         | 83/172 [01:04<01:06,  1.33it/s]Premature end of JPEG file\n",
      "epoch 12 loss: 0.0061: 100%|██████████████████| 172/172 [02:12<00:00,  1.30it/s]\n",
      "epoch 12 loss: 0.1362:  85%|███████████████▍  | 147/172 [00:36<00:06,  4.11it/s]Corrupt JPEG data: 111 extraneous bytes before marker 0xd9\n",
      "epoch 12 loss: 0.1430: 100%|██████████████████| 172/172 [00:42<00:00,  4.04it/s]\n"
     ]
    },
    {
     "name": "stdout",
     "output_type": "stream",
     "text": [
      "Fold: 2\n",
      "Epoch 13/199\n"
     ]
    },
    {
     "name": "stderr",
     "output_type": "stream",
     "text": [
      "  0%|                                                   | 0/172 [00:00<?, ?it/s]Premature end of JPEG file\n",
      "epoch 13 loss: 0.0013:  18%|███▍               | 31/172 [00:25<01:45,  1.33it/s]Premature end of JPEG file\n",
      "epoch 13 loss: 0.0050:  48%|█████████▏         | 83/172 [01:04<01:07,  1.32it/s]Premature end of JPEG file\n",
      "epoch 13 loss: 0.0057: 100%|██████████████████| 172/172 [02:12<00:00,  1.30it/s]\n",
      "epoch 13 loss: 0.1420:  85%|███████████████▍  | 147/172 [00:36<00:06,  4.09it/s]Corrupt JPEG data: 111 extraneous bytes before marker 0xd9\n",
      "epoch 13 loss: 0.1560: 100%|██████████████████| 172/172 [00:42<00:00,  4.04it/s]"
     ]
    },
    {
     "name": "stdout",
     "output_type": "stream",
     "text": [
      "EarlyStopping counter: 1 out of 3\n",
      "Best F1 score from now: 0.9673969748262184\n",
      "Fold: 2\n",
      "Epoch 14/199\n"
     ]
    },
    {
     "name": "stderr",
     "output_type": "stream",
     "text": [
      "\n",
      "  0%|                                                   | 0/172 [00:00<?, ?it/s]Premature end of JPEG file\n",
      "epoch 14 loss: 0.0017:  18%|███▍               | 31/172 [00:25<01:45,  1.33it/s]Premature end of JPEG file\n",
      "epoch 14 loss: 0.0031:  48%|█████████▏         | 83/172 [01:04<01:07,  1.33it/s]Premature end of JPEG file\n",
      "epoch 14 loss: 0.0044: 100%|██████████████████| 172/172 [02:12<00:00,  1.30it/s]\n",
      "epoch 14 loss: 0.1289:  85%|███████████████▍  | 147/172 [00:37<00:06,  4.12it/s]Corrupt JPEG data: 111 extraneous bytes before marker 0xd9\n",
      "epoch 14 loss: 0.1458: 100%|██████████████████| 172/172 [00:43<00:00,  3.96it/s]\n"
     ]
    },
    {
     "name": "stdout",
     "output_type": "stream",
     "text": [
      "Fold: 2\n",
      "Epoch 15/199\n"
     ]
    },
    {
     "name": "stderr",
     "output_type": "stream",
     "text": [
      "  0%|                                                   | 0/172 [00:00<?, ?it/s]Premature end of JPEG file\n",
      "epoch 15 loss: 0.0011:  18%|███▍               | 31/172 [00:25<01:46,  1.32it/s]Premature end of JPEG file\n",
      "epoch 15 loss: 0.0021:  48%|█████████▏         | 83/172 [01:04<01:07,  1.32it/s]Premature end of JPEG file\n",
      "epoch 15 loss: 0.0053: 100%|██████████████████| 172/172 [02:12<00:00,  1.30it/s]\n",
      "epoch 15 loss: 0.1567:  85%|███████████████▍  | 147/172 [00:36<00:06,  4.11it/s]Corrupt JPEG data: 111 extraneous bytes before marker 0xd9\n",
      "epoch 15 loss: 0.1581: 100%|██████████████████| 172/172 [00:42<00:00,  4.03it/s]"
     ]
    },
    {
     "name": "stdout",
     "output_type": "stream",
     "text": [
      "EarlyStopping counter: 1 out of 3\n",
      "Best F1 score from now: 0.9677066343291509\n",
      "Fold: 2\n",
      "Epoch 16/199\n"
     ]
    },
    {
     "name": "stderr",
     "output_type": "stream",
     "text": [
      "\n",
      "  0%|                                                   | 0/172 [00:00<?, ?it/s]Premature end of JPEG file\n",
      "epoch 16 loss: 0.0032:  18%|███▍               | 31/172 [00:25<01:46,  1.33it/s]Premature end of JPEG file\n",
      "epoch 16 loss: 0.0058:  48%|█████████▏         | 83/172 [01:04<01:06,  1.33it/s]Premature end of JPEG file\n",
      "epoch 16 loss: 0.0084: 100%|██████████████████| 172/172 [02:12<00:00,  1.30it/s]\n",
      "epoch 16 loss: 0.1338:  85%|███████████████▍  | 147/172 [00:36<00:06,  4.10it/s]Corrupt JPEG data: 111 extraneous bytes before marker 0xd9\n",
      "epoch 16 loss: 0.1435: 100%|██████████████████| 172/172 [00:42<00:00,  4.03it/s]"
     ]
    },
    {
     "name": "stdout",
     "output_type": "stream",
     "text": [
      "EarlyStopping counter: 2 out of 3\n",
      "Best F1 score from now: 0.9677066343291509\n",
      "Fold: 2\n",
      "Epoch 17/199\n"
     ]
    },
    {
     "name": "stderr",
     "output_type": "stream",
     "text": [
      "\n",
      "  0%|                                                   | 0/172 [00:00<?, ?it/s]Premature end of JPEG file\n",
      "epoch 17 loss: 0.0149:  18%|███▍               | 31/172 [00:25<01:45,  1.34it/s]Premature end of JPEG file\n",
      "epoch 17 loss: 0.0113:  48%|█████████▏         | 83/172 [01:05<01:07,  1.31it/s]Premature end of JPEG file\n",
      "epoch 17 loss: 0.0098: 100%|██████████████████| 172/172 [02:13<00:00,  1.29it/s]\n",
      "epoch 17 loss: 0.1420:  85%|███████████████▍  | 147/172 [00:36<00:06,  4.07it/s]Corrupt JPEG data: 111 extraneous bytes before marker 0xd9\n",
      "epoch 17 loss: 0.1620: 100%|██████████████████| 172/172 [00:43<00:00,  3.99it/s]\n"
     ]
    },
    {
     "name": "stdout",
     "output_type": "stream",
     "text": [
      "EarlyStopping counter: 3 out of 3\n",
      "Best F1 score from now: 0.9677066343291509\n",
      "stop called\n",
      "time : 0:53:00\n",
      "fold: 2, Best Epoch : 14/ 18\n",
      "fold: 2, Best Train Marco F1 : 0.99827\n",
      "[[2106    0    1    0    3    0    0    0    0    0]\n",
      " [   0 3200    0    0    0    0    0    0    0    0]\n",
      " [   0    0 3198    0    1    0    0    1    0    0]\n",
      " [   0    0    1  810    2    3    0    0    1    0]\n",
      " [   2    1    0    4 3190    0    1    1    0    1]\n",
      " [   0    0    0    1    0 1229    0    0    1    0]\n",
      " [   0    0    0    0    2    0 2839    0    0    0]\n",
      " [   0    0    1    0    1    0    0 3198    0    0]\n",
      " [   0    0    0    0    0    0    0    0  996    0]\n",
      " [   0    0    0    0    0    0    0    0    0 1203]]\n",
      "fold: 2, Best Valid Marco F1 : 0.96771\n",
      "[[526   0   0   0   1   0   0   0   0   0]\n",
      " [  0 780   1   0  18   1   0   0   0   0]\n",
      " [  0   0 786   1   7   1   0   5   0   0]\n",
      " [  0   0   1 187  11   3   2   1   0   0]\n",
      " [  2   6  14   6 744   4   6  11   3   4]\n",
      " [  5   1   4   4   4 287   0   1   1   0]\n",
      " [  0   0   0   0   3   0 708   0   0   0]\n",
      " [  0   0   7   1  12   3   0 777   0   0]\n",
      " [  0   0   0   0   5   0   0   1 244   0]\n",
      " [  0   0   0   0   4   1   0   0   0 295]]\n",
      "---------------------------------------------------------\n",
      "Training start with fold: 3 epoch: 200 \n",
      "\n",
      "All training process\n",
      "Fold: 3\n",
      "Epoch 0/199\n"
     ]
    },
    {
     "name": "stderr",
     "output_type": "stream",
     "text": [
      "epoch 0 loss: 2.0879:  20%|████                | 35/172 [00:28<01:43,  1.32it/s]Corrupt JPEG data: 111 extraneous bytes before marker 0xd9\n",
      "epoch 0 loss: 0.9067:  80%|███████████████▏   | 137/172 [01:46<00:26,  1.33it/s]Premature end of JPEG file\n",
      "epoch 0 loss: 0.6898: 100%|███████████████████| 172/172 [02:15<00:00,  1.27it/s]\n",
      "epoch 0 loss: 0.0310:   6%|█▏                  | 10/172 [00:02<00:40,  3.98it/s]Premature end of JPEG file\n",
      "epoch 0 loss: 0.0363:   8%|█▋                  | 14/172 [00:03<00:39,  3.99it/s]Premature end of JPEG file\n",
      "epoch 0 loss: 0.1393: 100%|███████████████████| 172/172 [00:43<00:00,  3.99it/s]\n"
     ]
    },
    {
     "name": "stdout",
     "output_type": "stream",
     "text": [
      "Fold: 3\n",
      "Epoch 1/199\n"
     ]
    },
    {
     "name": "stderr",
     "output_type": "stream",
     "text": [
      "epoch 1 loss: 0.1470:  20%|████                | 35/172 [00:28<01:43,  1.33it/s]Corrupt JPEG data: 111 extraneous bytes before marker 0xd9\n",
      "epoch 1 loss: 0.0975:  80%|███████████████▏   | 137/172 [01:46<00:26,  1.33it/s]Premature end of JPEG file\n",
      "epoch 1 loss: 0.0878: 100%|███████████████████| 172/172 [02:12<00:00,  1.30it/s]\n",
      "epoch 1 loss: 0.0551:   6%|█▏                  | 10/172 [00:03<00:41,  3.93it/s]Premature end of JPEG file\n",
      "epoch 1 loss: 0.0420:   8%|█▋                  | 14/172 [00:04<00:38,  4.06it/s]Premature end of JPEG file\n",
      "epoch 1 loss: 0.1138: 100%|███████████████████| 172/172 [00:42<00:00,  4.01it/s]\n"
     ]
    },
    {
     "name": "stdout",
     "output_type": "stream",
     "text": [
      "Fold: 3\n",
      "Epoch 2/199\n"
     ]
    },
    {
     "name": "stderr",
     "output_type": "stream",
     "text": [
      "epoch 2 loss: 0.0622:  20%|████                | 35/172 [00:28<01:43,  1.32it/s]Corrupt JPEG data: 111 extraneous bytes before marker 0xd9\n",
      "epoch 2 loss: 0.0476:  80%|███████████████▏   | 137/172 [01:45<00:26,  1.33it/s]Premature end of JPEG file\n",
      "epoch 2 loss: 0.0435: 100%|███████████████████| 172/172 [02:12<00:00,  1.30it/s]\n",
      "epoch 2 loss: 0.0268:   6%|█▏                  | 10/172 [00:02<00:40,  3.96it/s]Premature end of JPEG file\n",
      "epoch 2 loss: 0.0291:   8%|█▋                  | 14/172 [00:03<00:38,  4.07it/s]Premature end of JPEG file\n",
      "epoch 2 loss: 0.1267: 100%|███████████████████| 172/172 [00:43<00:00,  3.97it/s]"
     ]
    },
    {
     "name": "stdout",
     "output_type": "stream",
     "text": [
      "EarlyStopping counter: 1 out of 3\n",
      "Best F1 score from now: 0.9677065476412642\n",
      "Fold: 3\n",
      "Epoch 3/199\n"
     ]
    },
    {
     "name": "stderr",
     "output_type": "stream",
     "text": [
      "\n",
      "epoch 3 loss: 0.0564:  20%|████                | 35/172 [00:28<01:43,  1.32it/s]Corrupt JPEG data: 111 extraneous bytes before marker 0xd9\n",
      "epoch 3 loss: 0.0347:  80%|███████████████▏   | 137/172 [01:46<00:26,  1.32it/s]Premature end of JPEG file\n",
      "epoch 3 loss: 0.0318: 100%|███████████████████| 172/172 [02:12<00:00,  1.29it/s]\n",
      "epoch 3 loss: 0.0226:   6%|█▏                  | 10/172 [00:03<00:41,  3.91it/s]Premature end of JPEG file\n",
      "epoch 3 loss: 0.0306:   8%|█▋                  | 14/172 [00:03<00:39,  4.05it/s]Premature end of JPEG file\n",
      "epoch 3 loss: 0.1423: 100%|███████████████████| 172/172 [00:42<00:00,  4.03it/s]"
     ]
    },
    {
     "name": "stdout",
     "output_type": "stream",
     "text": [
      "EarlyStopping counter: 2 out of 3\n",
      "Best F1 score from now: 0.9677065476412642\n",
      "Fold: 3\n",
      "Epoch 4/199\n"
     ]
    },
    {
     "name": "stderr",
     "output_type": "stream",
     "text": [
      "\n",
      "epoch 4 loss: 0.0311:  20%|████                | 35/172 [00:28<01:43,  1.32it/s]Corrupt JPEG data: 111 extraneous bytes before marker 0xd9\n",
      "epoch 4 loss: 0.0233:  80%|███████████████▏   | 137/172 [01:45<00:26,  1.33it/s]Premature end of JPEG file\n",
      "epoch 4 loss: 0.0220: 100%|███████████████████| 172/172 [02:12<00:00,  1.30it/s]\n",
      "epoch 4 loss: 0.0176:   6%|█▏                  | 10/172 [00:03<00:41,  3.94it/s]Premature end of JPEG file\n",
      "epoch 4 loss: 0.0224:   8%|█▋                  | 14/172 [00:04<00:40,  3.87it/s]Premature end of JPEG file\n",
      "epoch 4 loss: 0.1404: 100%|███████████████████| 172/172 [00:42<00:00,  4.00it/s]\n"
     ]
    },
    {
     "name": "stdout",
     "output_type": "stream",
     "text": [
      "EarlyStopping counter: 3 out of 3\n",
      "Best F1 score from now: 0.9677065476412642\n",
      "stop called\n",
      "time : 0:14:45\n",
      "fold: 3, Best Epoch : 1/ 5\n",
      "fold: 3, Best Train Marco F1 : 0.97197\n",
      "[[2092    1    1    0   10    4    2    0    0    0]\n",
      " [   0 3143    1    0   41   12    2    0    1    0]\n",
      " [   1    3 3137    5   32    6    1   15    0    0]\n",
      " [   3    0    5  769   31    3    5    2    0    0]\n",
      " [  16   28   35   24 2987   19   19   28   16   28]\n",
      " [   3   14    5   15   22 1167    1    2    1    0]\n",
      " [   0    2    2    0   11    2 2825    0    0    0]\n",
      " [   0    0   27    1   25    2    2 3143    0    0]\n",
      " [   0    1    0    0   19    1    0    0  975    1]\n",
      " [   0    0    0    1   12    0    0    0    1 1188]]\n",
      "fold: 3, Best Valid Marco F1 : 0.96771\n",
      "[[522   0   0   0   5   0   0   0   0   0]\n",
      " [  0 784   0   0  10   4   0   0   1   1]\n",
      " [  0   0 767   1  19   5   2   6   0   0]\n",
      " [  0   0   1 190   8   3   0   2   0   0]\n",
      " [  1   6   5   5 757   5   3   9   5   4]\n",
      " [  0   1   3   2  11 290   1   0   0   0]\n",
      " [  0   0   0   0   3   0 707   0   0   0]\n",
      " [  0   0   3   2  25   1   1 768   0   0]\n",
      " [  0   0   0   0   7   0   0   0 242   0]\n",
      " [  0   0   0   0   2   0   0   0   0 299]]\n",
      "---------------------------------------------------------\n",
      "Training start with fold: 4 epoch: 200 \n",
      "\n",
      "All training process\n",
      "Fold: 4\n",
      "Epoch 0/199\n"
     ]
    },
    {
     "name": "stderr",
     "output_type": "stream",
     "text": [
      "epoch 0 loss: 2.2864:   6%|█▏                  | 10/172 [00:09<02:08,  1.26it/s]Corrupt JPEG data: 111 extraneous bytes before marker 0xd9\n",
      "epoch 0 loss: 1.5150:  41%|████████▏           | 70/172 [00:54<01:17,  1.31it/s]Premature end of JPEG file\n",
      "epoch 0 loss: 1.4194:  45%|█████████           | 78/172 [01:00<01:11,  1.31it/s]Premature end of JPEG file\n",
      "epoch 0 loss: 0.6698: 100%|███████████████████| 172/172 [02:12<00:00,  1.30it/s]\n",
      "epoch 0 loss: 0.0484:   6%|█▏                  | 10/172 [00:03<00:42,  3.77it/s]Premature end of JPEG file\n",
      "epoch 0 loss: 0.1258: 100%|███████████████████| 172/172 [00:42<00:00,  4.02it/s]\n"
     ]
    },
    {
     "name": "stdout",
     "output_type": "stream",
     "text": [
      "Fold: 4\n",
      "Epoch 1/199\n"
     ]
    },
    {
     "name": "stderr",
     "output_type": "stream",
     "text": [
      "epoch 1 loss: 0.0949:   6%|█▏                  | 10/172 [00:09<02:07,  1.27it/s]Corrupt JPEG data: 111 extraneous bytes before marker 0xd9\n",
      "epoch 1 loss: 0.1009:  41%|████████▏           | 70/172 [00:54<01:18,  1.31it/s]Premature end of JPEG file\n",
      "epoch 1 loss: 0.1007:  45%|█████████           | 78/172 [01:00<01:11,  1.31it/s]Premature end of JPEG file\n",
      "epoch 1 loss: 0.0823: 100%|███████████████████| 172/172 [02:12<00:00,  1.30it/s]\n",
      "epoch 1 loss: 0.0270:   6%|█▏                  | 10/172 [00:03<00:41,  3.91it/s]Premature end of JPEG file\n",
      "epoch 1 loss: 0.1092: 100%|███████████████████| 172/172 [00:42<00:00,  4.02it/s]\n"
     ]
    },
    {
     "name": "stdout",
     "output_type": "stream",
     "text": [
      "Fold: 4\n",
      "Epoch 2/199\n"
     ]
    },
    {
     "name": "stderr",
     "output_type": "stream",
     "text": [
      "epoch 2 loss: 0.0262:   6%|█▏                  | 10/172 [00:09<02:07,  1.27it/s]Corrupt JPEG data: 111 extraneous bytes before marker 0xd9\n",
      "epoch 2 loss: 0.0370:  41%|████████▏           | 70/172 [00:54<01:18,  1.30it/s]Premature end of JPEG file\n",
      "epoch 2 loss: 0.0374:  45%|█████████           | 78/172 [01:01<01:11,  1.31it/s]Premature end of JPEG file\n",
      "epoch 2 loss: 0.0361: 100%|███████████████████| 172/172 [02:12<00:00,  1.30it/s]\n",
      "epoch 2 loss: 0.0167:   6%|█▏                  | 10/172 [00:03<00:41,  3.86it/s]Premature end of JPEG file\n",
      "epoch 2 loss: 0.1200: 100%|███████████████████| 172/172 [00:43<00:00,  3.96it/s]"
     ]
    },
    {
     "name": "stdout",
     "output_type": "stream",
     "text": [
      "EarlyStopping counter: 1 out of 3\n",
      "Best F1 score from now: 0.9619871679324958\n",
      "Fold: 4\n",
      "Epoch 3/199\n"
     ]
    },
    {
     "name": "stderr",
     "output_type": "stream",
     "text": [
      "\n",
      "epoch 3 loss: 0.0257:   6%|█▏                  | 10/172 [00:09<02:07,  1.27it/s]Corrupt JPEG data: 111 extraneous bytes before marker 0xd9\n",
      "epoch 3 loss: 0.0281:  41%|████████▏           | 70/172 [00:54<01:18,  1.30it/s]Premature end of JPEG file\n",
      "epoch 3 loss: 0.0280:  45%|█████████           | 78/172 [01:01<01:11,  1.31it/s]Premature end of JPEG file\n",
      "epoch 3 loss: 0.0277: 100%|███████████████████| 172/172 [02:12<00:00,  1.30it/s]\n",
      "epoch 3 loss: 0.0093:   6%|█▏                  | 10/172 [00:03<00:41,  3.95it/s]Premature end of JPEG file\n",
      "epoch 3 loss: 0.1235: 100%|███████████████████| 172/172 [00:42<00:00,  4.01it/s]\n"
     ]
    },
    {
     "name": "stdout",
     "output_type": "stream",
     "text": [
      "Fold: 4\n",
      "Epoch 4/199\n"
     ]
    },
    {
     "name": "stderr",
     "output_type": "stream",
     "text": [
      "epoch 4 loss: 0.0072:   6%|█▏                  | 10/172 [00:09<02:07,  1.27it/s]Corrupt JPEG data: 111 extraneous bytes before marker 0xd9\n",
      "epoch 4 loss: 0.0154:  41%|████████▏           | 70/172 [00:54<01:17,  1.31it/s]Premature end of JPEG file\n",
      "epoch 4 loss: 0.0152:  45%|█████████           | 78/172 [01:00<01:11,  1.31it/s]Premature end of JPEG file\n",
      "epoch 4 loss: 0.0170: 100%|███████████████████| 172/172 [02:12<00:00,  1.30it/s]\n",
      "epoch 4 loss: 0.0491:   6%|█▏                  | 10/172 [00:03<00:40,  3.96it/s]Premature end of JPEG file\n",
      "epoch 4 loss: 0.1284: 100%|███████████████████| 172/172 [00:42<00:00,  4.02it/s]\n"
     ]
    },
    {
     "name": "stdout",
     "output_type": "stream",
     "text": [
      "Fold: 4\n",
      "Epoch 5/199\n"
     ]
    },
    {
     "name": "stderr",
     "output_type": "stream",
     "text": [
      "epoch 5 loss: 0.0040:   6%|█▏                  | 10/172 [00:09<02:07,  1.27it/s]Corrupt JPEG data: 111 extraneous bytes before marker 0xd9\n",
      "epoch 5 loss: 0.0103:  41%|████████▏           | 70/172 [00:54<01:18,  1.31it/s]Premature end of JPEG file\n",
      "epoch 5 loss: 0.0112:  45%|█████████           | 78/172 [01:00<01:11,  1.31it/s]Premature end of JPEG file\n",
      "epoch 5 loss: 0.0151: 100%|███████████████████| 172/172 [02:12<00:00,  1.30it/s]\n",
      "epoch 5 loss: 0.0459:   6%|█▏                  | 10/172 [00:03<00:42,  3.84it/s]Premature end of JPEG file\n",
      "epoch 5 loss: 0.1327: 100%|███████████████████| 172/172 [00:43<00:00,  3.94it/s]"
     ]
    },
    {
     "name": "stdout",
     "output_type": "stream",
     "text": [
      "EarlyStopping counter: 1 out of 3\n",
      "Best F1 score from now: 0.9651533070671068\n",
      "Fold: 4\n",
      "Epoch 6/199\n"
     ]
    },
    {
     "name": "stderr",
     "output_type": "stream",
     "text": [
      "\n",
      "epoch 6 loss: 0.0155:   6%|█▏                  | 10/172 [00:09<02:08,  1.26it/s]Corrupt JPEG data: 111 extraneous bytes before marker 0xd9\n",
      "epoch 6 loss: 0.0154:  41%|████████▏           | 70/172 [00:54<01:18,  1.30it/s]Premature end of JPEG file\n",
      "epoch 6 loss: 0.0160:  45%|█████████           | 78/172 [01:00<01:12,  1.30it/s]Premature end of JPEG file\n",
      "epoch 6 loss: 0.0144: 100%|███████████████████| 172/172 [02:12<00:00,  1.30it/s]\n",
      "epoch 6 loss: 0.0670:   6%|█▏                  | 10/172 [00:03<00:41,  3.94it/s]Premature end of JPEG file\n",
      "epoch 6 loss: 0.1296: 100%|███████████████████| 172/172 [00:42<00:00,  4.01it/s]"
     ]
    },
    {
     "name": "stdout",
     "output_type": "stream",
     "text": [
      "EarlyStopping counter: 2 out of 3\n",
      "Best F1 score from now: 0.9651533070671068\n",
      "Fold: 4\n",
      "Epoch 7/199\n"
     ]
    },
    {
     "name": "stderr",
     "output_type": "stream",
     "text": [
      "\n",
      "epoch 7 loss: 0.0034:   6%|█▏                  | 10/172 [00:09<02:07,  1.27it/s]Corrupt JPEG data: 111 extraneous bytes before marker 0xd9\n",
      "epoch 7 loss: 0.0081:  41%|████████▏           | 70/172 [00:54<01:17,  1.31it/s]Premature end of JPEG file\n",
      "epoch 7 loss: 0.0083:  45%|█████████           | 78/172 [01:00<01:11,  1.31it/s]Premature end of JPEG file\n",
      "epoch 7 loss: 0.0118: 100%|███████████████████| 172/172 [02:12<00:00,  1.30it/s]\n",
      "epoch 7 loss: 0.0366:   6%|█▏                  | 10/172 [00:03<00:40,  3.96it/s]Premature end of JPEG file\n",
      "epoch 7 loss: 0.1386: 100%|███████████████████| 172/172 [00:42<00:00,  4.01it/s]\n"
     ]
    },
    {
     "name": "stdout",
     "output_type": "stream",
     "text": [
      "EarlyStopping counter: 3 out of 3\n",
      "Best F1 score from now: 0.9651533070671068\n",
      "stop called\n",
      "time : 0:23:31\n",
      "fold: 4, Best Epoch : 4/ 8\n",
      "fold: 4, Best Train Marco F1 : 0.99333\n",
      "[[2099    0    1    0    9    1    0    0    0    0]\n",
      " [   0 3191    1    0    5    2    1    0    0    0]\n",
      " [   0    0 3197    0    3    0    0    0    0    0]\n",
      " [   0    0    0  805    6    6    0    0    0    1]\n",
      " [   8    6    2    5 3156    2    4    8    2    7]\n",
      " [   2    2    2    4    2 1218    0    0    0    0]\n",
      " [   0    1    0    0    2    1 2837    0    0    1]\n",
      " [   0    0    3    0    9    0    0 3188    0    0]\n",
      " [   0    1    0    1    5    2    0    0  988    0]\n",
      " [   0    0    0    0    7    1    0    0    0 1194]]\n",
      "fold: 4, Best Valid Marco F1 : 0.96515\n",
      "[[521   0   0   0   5   1   0   0   0   0]\n",
      " [  0 784   0   0  10   5   1   0   0   0]\n",
      " [  1   1 774   1  14   4   0   5   0   0]\n",
      " [  1   0   1 176  22   3   1   0   0   0]\n",
      " [  3   7   4   1 763   8   3   5   2   4]\n",
      " [  1   0   1   3   5 297   0   0   0   1]\n",
      " [  0   1   0   0   3   0 706   0   0   0]\n",
      " [  0   1   5   0  15   1   0 778   0   0]\n",
      " [  0   0   1   0  13   0   0   0 235   0]\n",
      " [  0   0   0   0   7   0   0   0   0 294]]\n",
      "---------------------------------------------------------\n",
      "best_fold : 0.9677066343291509\n",
      " Top fold : 2\n"
     ]
    }
   ],
   "source": [
    "model_dir = '{}'.format(CFG['model'])\n",
    "train_dir = train.dir.values\n",
    "\n",
    "if __name__ == '__main__':\n",
    "     # for training only, need nightly build pytorch\n",
    "    wandb.init(project=project_name, entity=user)\n",
    "    \n",
    "#     wandb.login()\n",
    "#     wandb.init(project=\"3class classification\")\n",
    "    wandb.config.update(CFG)\n",
    "    wandb.run.name = run_name\n",
    "    wandb.define_metric(\"Train Accuracy\", step_metric=\"epoch\")\n",
    "    wandb.define_metric(\"Valid Accuracy\", step_metric=\"epoch\")\n",
    "    wandb.define_metric(\"Train Loss\", step_metric=\"epoch\")\n",
    "    wandb.define_metric(\"Valid Loss\", step_metric=\"epoch\")\n",
    "    wandb.define_metric(\"Train Macro F1 Score\", step_metric=\"epoch\")\n",
    "    wandb.define_metric(\"Valid Macro F1 Score\", step_metric=\"epoch\")\n",
    "    wandb.define_metric(\"Train-Valid Accuracy\", step_metric=\"epoch\")\n",
    "    \n",
    "    \n",
    "    seed_everything(CFG['seed'])\n",
    "    \n",
    "    if not os.path.isdir(model_dir):\n",
    "        os.makedirs(model_dir)\n",
    "    \n",
    "    folds = StratifiedKFold(n_splits=CFG['fold_num'], shuffle=True, random_state=CFG['seed']).split(np.arange(train.shape[0]), train.label.values)\n",
    "    \n",
    "    best_fold = 0\n",
    "    model_name = CFG['model']\n",
    "    print(f'Model: {model_name}')\n",
    "    for fold, (trn_idx, val_idx) in enumerate(folds):\n",
    "    \n",
    "        print(f'Training start with fold: {fold} epoch: {CFG[\"epochs\"]} \\n')\n",
    "\n",
    "        early_stopping = EarlyStopping(patience=CFG[\"patience\"], verbose=True)\n",
    "        train_loader, val_loader = prepare_dataloader(train, trn_idx, val_idx, data_root=train_dir)\n",
    "\n",
    "        device = torch.device(CFG['device'])\n",
    "        \n",
    "        model = ForcepImgClassifier(CFG['model'], train.label.nunique(), pretrained=True)\n",
    "        model.freezing(freeze = CFG['freezing'])\n",
    "\n",
    "        for name, param in model.named_parameters():\n",
    "            if CFG['freezing'] == True and param.requires_grad:\n",
    "                print(f'Freezing process: Not freezed : {name}')\n",
    "        if CFG['freezing'] == False:\n",
    "            print('All training process')\n",
    "        \n",
    "        \n",
    "        if torch.cuda.device_count() > 1:\n",
    "            model = nn.DataParallel(model)\n",
    "\n",
    "        model.to(device)\n",
    "        model = DDP(model)\n",
    "\n",
    "        scaler = GradScaler()   \n",
    "        optimizer = torch.optim.Adam(model.parameters(), lr=CFG['lr'])\n",
    "        scheduler = torch.optim.lr_scheduler.StepLR(optimizer, gamma=0.5, step_size=25)\n",
    "\n",
    "        loss_tr = nn.CrossEntropyLoss().to(device) #MyCrossEntropyLoss().to(device)\n",
    "        loss_fn = nn.CrossEntropyLoss().to(device)\n",
    "\n",
    "        wandb.watch(model, loss_tr, log='all')\n",
    "\n",
    "        train_acc_list = []\n",
    "        train_matrix_list = []\n",
    "        train_f1_list = []\n",
    "        valid_acc_list = []\n",
    "        valid_matrix_list = []\n",
    "        valid_f1_list = []\n",
    "        best_f1 =0.0\n",
    "        \n",
    "        start = time.time()\n",
    "        for epoch in range(CFG['epochs']):\n",
    "            print(f'Fold: {fold}')\n",
    "            print('Epoch {}/{}'.format(epoch, CFG['epochs'] - 1))\n",
    "            \n",
    "            train_preds_all, train_acc, train_loss, train_matrix, train_f1 = train_one_epoch(epoch, model, loss_tr,\n",
    "                                                                        optimizer, train_loader, device, scheduler=scheduler, schd_batch_update=False)\n",
    "            wandb.log({'Train Accuracy':train_acc, 'Train Loss' : train_loss, 'Train F1': train_f1, 'epoch' : epoch})\n",
    "\n",
    "            with torch.no_grad():\n",
    "                valid_preds_all, valid_acc, valid_loss, valid_matrix, valid_f1= valid_one_epoch(epoch, model, loss_fn,\n",
    "                                                                        val_loader, device, scheduler=None, schd_loss_update=False)\n",
    "                wandb.log({'Valid Accuracy':valid_acc, 'Valid Loss' : valid_loss, 'Valid F1': valid_f1 ,'epoch' : epoch})\n",
    "                \n",
    "            train_acc_list.append(train_acc)\n",
    "            train_matrix_list.append(train_matrix)\n",
    "            train_f1_list.append(train_f1)\n",
    "            \n",
    "            valid_acc_list.append(valid_acc)\n",
    "            valid_matrix_list.append(valid_matrix)\n",
    "            valid_f1_list.append(valid_f1)\n",
    "            \n",
    "            \n",
    "            if valid_f1 > best_f1:\n",
    "                best_f1 = valid_f1\n",
    "                torch.save(model.state_dict(), (model_dir+'/{}_{}').format(CFG['model'],fold))\n",
    "                \n",
    "            # EARLY STOPPING\n",
    "            stop = early_stopping(valid_f1)\n",
    "            if stop:\n",
    "                print(\"stop called\")   \n",
    "                break\n",
    "    \n",
    "        end = time.time() - start\n",
    "        time_ = str(datetime.timedelta(seconds=end)).split(\".\")[0]\n",
    "        print(\"time :\", time_)\n",
    "\n",
    "        best_index = valid_f1_list.index(max(valid_f1_list))\n",
    "        print(f'fold: {fold}, Best Epoch : {best_index}/ {len(valid_f1_list)}')\n",
    "        \n",
    "        print(f'fold: {fold}, Best Train Marco F1 : {train_f1_list[best_index]:.5f}')\n",
    "        print(train_matrix_list[best_index])\n",
    "        \n",
    "        print(f'fold: {fold}, Best Valid Marco F1 : {valid_f1_list[best_index]:.5f}')\n",
    "        print(valid_matrix_list[best_index])\n",
    "        print('---------------------------------------------------------')\n",
    "        \n",
    "        if valid_f1_list[best_index] > best_fold:\n",
    "            best_fold = valid_f1_list[best_index]\n",
    "            top_fold = fold\n",
    "    print(f'best_fold : {best_fold}\\n Top fold : {top_fold}')\n",
    "\n",
    "    del model, optimizer, train_loader, val_loader, scaler\n",
    "    torch.cuda.empty_cache()\n"
   ]
  },
  {
   "cell_type": "code",
   "execution_count": 32,
   "id": "43b952e1",
   "metadata": {},
   "outputs": [],
   "source": [
    "dist.destroy_process_group()"
   ]
  },
  {
   "cell_type": "code",
   "execution_count": 29,
   "id": "c9ab9299-b98a-43ef-ad42-51e4aad3ddd0",
   "metadata": {},
   "outputs": [
    {
     "data": {
      "text/html": [
       "<div>\n",
       "<style scoped>\n",
       "    .dataframe tbody tr th:only-of-type {\n",
       "        vertical-align: middle;\n",
       "    }\n",
       "\n",
       "    .dataframe tbody tr th {\n",
       "        vertical-align: top;\n",
       "    }\n",
       "\n",
       "    .dataframe thead th {\n",
       "        text-align: right;\n",
       "    }\n",
       "</style>\n",
       "<table border=\"1\" class=\"dataframe\">\n",
       "  <thead>\n",
       "    <tr style=\"text-align: right;\">\n",
       "      <th></th>\n",
       "      <th>image_id</th>\n",
       "      <th>dir</th>\n",
       "      <th>label</th>\n",
       "    </tr>\n",
       "  </thead>\n",
       "  <tbody>\n",
       "    <tr>\n",
       "      <th>0</th>\n",
       "      <td>토스 만보_051.jpg</td>\n",
       "      <td>../Data/carbon_reduction/10kwalking/10kwalking...</td>\n",
       "      <td>10kwalking</td>\n",
       "    </tr>\n",
       "    <tr>\n",
       "      <th>1</th>\n",
       "      <td>애플워치 만보_362.jpg</td>\n",
       "      <td>../Data/carbon_reduction/10kwalking/10kwalking...</td>\n",
       "      <td>10kwalking</td>\n",
       "    </tr>\n",
       "    <tr>\n",
       "      <th>2</th>\n",
       "      <td>토스 만보_493.jpg</td>\n",
       "      <td>../Data/carbon_reduction/10kwalking/10kwalking...</td>\n",
       "      <td>10kwalking</td>\n",
       "    </tr>\n",
       "    <tr>\n",
       "      <th>3</th>\n",
       "      <td>캐시워크 만보_189.jpg</td>\n",
       "      <td>../Data/carbon_reduction/10kwalking/10kwalking...</td>\n",
       "      <td>10kwalking</td>\n",
       "    </tr>\n",
       "    <tr>\n",
       "      <th>4</th>\n",
       "      <td>만보인증_150.jpg</td>\n",
       "      <td>../Data/carbon_reduction/10kwalking/10kwalking...</td>\n",
       "      <td>10kwalking</td>\n",
       "    </tr>\n",
       "    <tr>\n",
       "      <th>...</th>\n",
       "      <td>...</td>\n",
       "      <td>...</td>\n",
       "      <td>...</td>\n",
       "    </tr>\n",
       "    <tr>\n",
       "      <th>7395</th>\n",
       "      <td>양치컵 사용_170.jpg</td>\n",
       "      <td>../Data/carbon_reduction/cup/양치컵 사용</td>\n",
       "      <td>cup</td>\n",
       "    </tr>\n",
       "    <tr>\n",
       "      <th>7396</th>\n",
       "      <td>양치컵_구글_123.jpg</td>\n",
       "      <td>../Data/carbon_reduction/cup/양치컵_구글</td>\n",
       "      <td>cup</td>\n",
       "    </tr>\n",
       "    <tr>\n",
       "      <th>7397</th>\n",
       "      <td>양치컵_구글_187.jpg</td>\n",
       "      <td>../Data/carbon_reduction/cup/양치컵_구글</td>\n",
       "      <td>cup</td>\n",
       "    </tr>\n",
       "    <tr>\n",
       "      <th>7398</th>\n",
       "      <td>양치컵 사용_128.jpg</td>\n",
       "      <td>../Data/carbon_reduction/cup/양치컵 사용</td>\n",
       "      <td>cup</td>\n",
       "    </tr>\n",
       "    <tr>\n",
       "      <th>7399</th>\n",
       "      <td>양치컵_278.jpg</td>\n",
       "      <td>../Data/carbon_reduction/cup/양치컵_네이버</td>\n",
       "      <td>cup</td>\n",
       "    </tr>\n",
       "  </tbody>\n",
       "</table>\n",
       "<p>7400 rows × 3 columns</p>\n",
       "</div>"
      ],
      "text/plain": [
       "             image_id                                                dir  \\\n",
       "0       토스 만보_051.jpg  ../Data/carbon_reduction/10kwalking/10kwalking...   \n",
       "1     애플워치 만보_362.jpg  ../Data/carbon_reduction/10kwalking/10kwalking...   \n",
       "2       토스 만보_493.jpg  ../Data/carbon_reduction/10kwalking/10kwalking...   \n",
       "3     캐시워크 만보_189.jpg  ../Data/carbon_reduction/10kwalking/10kwalking...   \n",
       "4        만보인증_150.jpg  ../Data/carbon_reduction/10kwalking/10kwalking...   \n",
       "...               ...                                                ...   \n",
       "7395   양치컵 사용_170.jpg                ../Data/carbon_reduction/cup/양치컵 사용   \n",
       "7396   양치컵_구글_123.jpg                ../Data/carbon_reduction/cup/양치컵_구글   \n",
       "7397   양치컵_구글_187.jpg                ../Data/carbon_reduction/cup/양치컵_구글   \n",
       "7398   양치컵 사용_128.jpg                ../Data/carbon_reduction/cup/양치컵 사용   \n",
       "7399      양치컵_278.jpg               ../Data/carbon_reduction/cup/양치컵_네이버   \n",
       "\n",
       "           label  \n",
       "0     10kwalking  \n",
       "1     10kwalking  \n",
       "2     10kwalking  \n",
       "3     10kwalking  \n",
       "4     10kwalking  \n",
       "...          ...  \n",
       "7395         cup  \n",
       "7396         cup  \n",
       "7397         cup  \n",
       "7398         cup  \n",
       "7399         cup  \n",
       "\n",
       "[7400 rows x 3 columns]"
      ]
     },
     "execution_count": 29,
     "metadata": {},
     "output_type": "execute_result"
    }
   ],
   "source": [
    "## Pandas Test 데이터프레임 만들기\n",
    "tst_df = pd.DataFrame(total_test_img_paths, columns=['image_id'])\n",
    "tst_df['dir'] = tst_df['image_id'].apply(lambda x: os.path.dirname(x))\n",
    "tst_df['image_id'] = tst_df['image_id'].apply(lambda x: os.path.basename(x))\n",
    "tst_df['label'] = total_test_img_labels\n",
    "test = tst_df\n",
    "test"
   ]
  },
  {
   "cell_type": "code",
   "execution_count": 30,
   "id": "93dba2e1-92a8-4e81-89e8-17005fb81bbd",
   "metadata": {},
   "outputs": [],
   "source": [
    "test['label'] = le.fit_transform(test['label'].values)"
   ]
  },
  {
   "cell_type": "code",
   "execution_count": 33,
   "id": "2e2f860f-0a76-45a5-8472-29208fc5ab94",
   "metadata": {},
   "outputs": [
    {
     "name": "stderr",
     "output_type": "stream",
     "text": [
      "100%|███████████████████████████████████████████| 58/58 [00:51<00:00,  1.12it/s]\n"
     ]
    }
   ],
   "source": [
    "model_name = 'inception_resnet_v2'\n",
    "model_dir = model_name + '/inception_resnet_v2_2'\n",
    "%run inference.ipynb"
   ]
  },
  {
   "cell_type": "code",
   "execution_count": 34,
   "id": "da647547-7a7b-4690-94df-bb42ca426f3c",
   "metadata": {},
   "outputs": [
    {
     "name": "stdout",
     "output_type": "stream",
     "text": [
      "accuracy: 0.9743\n",
      "f1_score: 0.9717\n"
     ]
    },
    {
     "data": {
      "image/png": "[encoded data removed]",
      "text/plain": [
       "<Figure size 1500x1000 with 2 Axes>"
      ]
     },
     "metadata": {},
     "output_type": "display_data"
    }
   ],
   "source": [
    "test_acc = np.sum(test.label == test.pred) / len(test)\n",
    "test_matrix = confusion_matrix(test['label'], test['pred'])\n",
    "epoch_f1 = f1_score(test['label'], test['pred'], average='macro')\n",
    "\n",
    "print(f'accuracy: {test_acc:.4f}')\n",
    "print(f'f1_score: {epoch_f1:.4f}')\n",
    "import seaborn as sns\n",
    "\n",
    "test_matrix = confusion_matrix(test['label'], test['pred'], normalize='true')\n",
    "test['label'] = le.inverse_transform(test['label'].values)\n",
    "plt.figure(figsize = (15,10))\n",
    "sns.heatmap(test_matrix, \n",
    "            annot=True, \n",
    "            xticklabels = sorted(set(test['label'])), \n",
    "            yticklabels = sorted(set(test['label'])),\n",
    "            )\n",
    "plt.title('Normalized Confusion Matrix')\n",
    "plt.show()\n",
    "\n",
    "#print(f'confusion_matrix \\n-------------------------\\n {test_matrix}')"
   ]
  },
  {
   "cell_type": "code",
   "execution_count": 14,
   "id": "3d52366f-1758-44e0-b1fe-e54bfeec958e",
   "metadata": {},
   "outputs": [],
   "source": [
    "test['label'] = le.inverse_transform(test['label'].values)"
   ]
  },
  {
   "cell_type": "code",
   "execution_count": 21,
   "id": "90292c9a-e922-4755-a869-c1557b1883d1",
   "metadata": {},
   "outputs": [],
   "source": [
    "test['pred'] = le.inverse_transform(test['pred'].values)"
   ]
  },
  {
   "cell_type": "code",
   "execution_count": 22,
   "id": "f6297158-cccc-40d3-b492-026ba1c87d9d",
   "metadata": {},
   "outputs": [
    {
     "data": {
      "text/html": [
       "<div>\n",
       "<style scoped>\n",
       "    .dataframe tbody tr th:only-of-type {\n",
       "        vertical-align: middle;\n",
       "    }\n",
       "\n",
       "    .dataframe tbody tr th {\n",
       "        vertical-align: top;\n",
       "    }\n",
       "\n",
       "    .dataframe thead th {\n",
       "        text-align: right;\n",
       "    }\n",
       "</style>\n",
       "<table border=\"1\" class=\"dataframe\">\n",
       "  <thead>\n",
       "    <tr style=\"text-align: right;\">\n",
       "      <th></th>\n",
       "      <th>image_id</th>\n",
       "      <th>dir</th>\n",
       "      <th>label</th>\n",
       "      <th>pred</th>\n",
       "      <th>confidence score</th>\n",
       "    </tr>\n",
       "  </thead>\n",
       "  <tbody>\n",
       "    <tr>\n",
       "      <th>0</th>\n",
       "      <td>토스 만보_459.jpg</td>\n",
       "      <td>../Data/carbon_reduction/10kwalking</td>\n",
       "      <td>10kwalking</td>\n",
       "      <td>10kwalking</td>\n",
       "      <td>0.999351</td>\n",
       "    </tr>\n",
       "    <tr>\n",
       "      <th>1</th>\n",
       "      <td>캐시워크 만보_262.jpg</td>\n",
       "      <td>../Data/carbon_reduction/10kwalking</td>\n",
       "      <td>10kwalking</td>\n",
       "      <td>10kwalking</td>\n",
       "      <td>0.999483</td>\n",
       "    </tr>\n",
       "    <tr>\n",
       "      <th>2</th>\n",
       "      <td>아이폰 걸음수_192.jpg</td>\n",
       "      <td>../Data/carbon_reduction/10kwalking</td>\n",
       "      <td>10kwalking</td>\n",
       "      <td>10kwalking</td>\n",
       "      <td>0.999304</td>\n",
       "    </tr>\n",
       "    <tr>\n",
       "      <th>3</th>\n",
       "      <td>삼성헬스 만보_352.jpg</td>\n",
       "      <td>../Data/carbon_reduction/10kwalking</td>\n",
       "      <td>10kwalking</td>\n",
       "      <td>10kwalking</td>\n",
       "      <td>0.999679</td>\n",
       "    </tr>\n",
       "    <tr>\n",
       "      <th>4</th>\n",
       "      <td>아이폰 걸음수_408.jpg</td>\n",
       "      <td>../Data/carbon_reduction/10kwalking</td>\n",
       "      <td>10kwalking</td>\n",
       "      <td>10kwalking</td>\n",
       "      <td>0.999681</td>\n",
       "    </tr>\n",
       "    <tr>\n",
       "      <th>...</th>\n",
       "      <td>...</td>\n",
       "      <td>...</td>\n",
       "      <td>...</td>\n",
       "      <td>...</td>\n",
       "      <td>...</td>\n",
       "    </tr>\n",
       "    <tr>\n",
       "      <th>3995</th>\n",
       "      <td>양치컵_310.jpg</td>\n",
       "      <td>../Data/carbon_reduction/cup/양치컵_네이버</td>\n",
       "      <td>cup</td>\n",
       "      <td>cup</td>\n",
       "      <td>0.999634</td>\n",
       "    </tr>\n",
       "    <tr>\n",
       "      <th>3996</th>\n",
       "      <td>양치컵_256.jpg</td>\n",
       "      <td>../Data/carbon_reduction/cup/양치컵_네이버</td>\n",
       "      <td>cup</td>\n",
       "      <td>cup</td>\n",
       "      <td>0.999704</td>\n",
       "    </tr>\n",
       "    <tr>\n",
       "      <th>3997</th>\n",
       "      <td>양치컵_250.jpg</td>\n",
       "      <td>../Data/carbon_reduction/cup/양치컵_네이버</td>\n",
       "      <td>cup</td>\n",
       "      <td>cup</td>\n",
       "      <td>0.999633</td>\n",
       "    </tr>\n",
       "    <tr>\n",
       "      <th>3998</th>\n",
       "      <td>양치컵_114.jpg</td>\n",
       "      <td>../Data/carbon_reduction/cup/양치컵_네이버</td>\n",
       "      <td>cup</td>\n",
       "      <td>cup</td>\n",
       "      <td>0.999681</td>\n",
       "    </tr>\n",
       "    <tr>\n",
       "      <th>3999</th>\n",
       "      <td>양치컵_005.jpg</td>\n",
       "      <td>../Data/carbon_reduction/cup/양치컵_네이버</td>\n",
       "      <td>cup</td>\n",
       "      <td>cup</td>\n",
       "      <td>0.999773</td>\n",
       "    </tr>\n",
       "  </tbody>\n",
       "</table>\n",
       "<p>4000 rows × 5 columns</p>\n",
       "</div>"
      ],
      "text/plain": [
       "             image_id                                   dir       label  \\\n",
       "0       토스 만보_459.jpg   ../Data/carbon_reduction/10kwalking  10kwalking   \n",
       "1     캐시워크 만보_262.jpg   ../Data/carbon_reduction/10kwalking  10kwalking   \n",
       "2     아이폰 걸음수_192.jpg   ../Data/carbon_reduction/10kwalking  10kwalking   \n",
       "3     삼성헬스 만보_352.jpg   ../Data/carbon_reduction/10kwalking  10kwalking   \n",
       "4     아이폰 걸음수_408.jpg   ../Data/carbon_reduction/10kwalking  10kwalking   \n",
       "...               ...                                   ...         ...   \n",
       "3995      양치컵_310.jpg  ../Data/carbon_reduction/cup/양치컵_네이버         cup   \n",
       "3996      양치컵_256.jpg  ../Data/carbon_reduction/cup/양치컵_네이버         cup   \n",
       "3997      양치컵_250.jpg  ../Data/carbon_reduction/cup/양치컵_네이버         cup   \n",
       "3998      양치컵_114.jpg  ../Data/carbon_reduction/cup/양치컵_네이버         cup   \n",
       "3999      양치컵_005.jpg  ../Data/carbon_reduction/cup/양치컵_네이버         cup   \n",
       "\n",
       "            pred  confidence score  \n",
       "0     10kwalking          0.999351  \n",
       "1     10kwalking          0.999483  \n",
       "2     10kwalking          0.999304  \n",
       "3     10kwalking          0.999679  \n",
       "4     10kwalking          0.999681  \n",
       "...          ...               ...  \n",
       "3995         cup          0.999634  \n",
       "3996         cup          0.999704  \n",
       "3997         cup          0.999633  \n",
       "3998         cup          0.999681  \n",
       "3999         cup          0.999773  \n",
       "\n",
       "[4000 rows x 5 columns]"
      ]
     },
     "execution_count": 22,
     "metadata": {},
     "output_type": "execute_result"
    }
   ],
   "source": [
    "test"
   ]
  },
  {
   "cell_type": "code",
   "execution_count": 23,
   "id": "ab89fde5-9498-4a99-8bb8-4af301e4a6ce",
   "metadata": {},
   "outputs": [],
   "source": [
    "test.to_csv('test_result/incep_res_0403.csv', index=False)"
   ]
  },
  {
   "cell_type": "code",
   "execution_count": null,
   "id": "d8cbfb49-98dd-4d2f-a778-21764270d9c8",
   "metadata": {},
   "outputs": [],
   "source": []
  }
 ],
 "metadata": {
  "kernelspec": {
   "display_name": "torch-gpu",
   "language": "python",
   "name": "torch"
  },
  "language_info": {
   "codemirror_mode": {
    "name": "ipython",
    "version": 3
   },
   "file_extension": ".py",
   "mimetype": "text/x-python",
   "name": "python",
   "nbconvert_exporter": "python",
   "pygments_lexer": "ipython3",
   "version": "3.10.6"
  },
  "vscode": {
   "interpreter": {
    "hash": "916dbcbb3f70747c44a77c7bcd40155683ae19c65e1c03b4aa3499c5328201f1"
   }
  }
 },
 "nbformat": 4,
 "nbformat_minor": 5
}
