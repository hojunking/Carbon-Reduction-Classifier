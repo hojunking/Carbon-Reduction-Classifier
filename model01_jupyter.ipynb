{
 "cells": [
  {
   "cell_type": "code",
   "execution_count": 1,
   "id": "32c4ea0f",
   "metadata": {},
   "outputs": [],
   "source": [
    "import os, re, magic, shutil\n",
    "from glob import glob\n",
    "import time, datetime\n",
    "import random\n",
    "import pandas as pd\n",
    "import numpy as np\n",
    "from tqdm import tqdm\n",
    "import shutil\n",
    "import warnings\n",
    "import joblib\n",
    "\n",
    "import cv2\n",
    "from PIL import Image\n",
    "import matplotlib.pyplot as plt\n",
    "import torch, gc\n",
    "from torch import nn\n",
    "from torch.utils.data import Dataset,DataLoader\n",
    "from torch.utils.data.sampler import SequentialSampler, RandomSampler\n",
    "from torch.cuda.amp import autocast, GradScaler\n",
    "from torch.nn.modules.loss import _WeightedLoss\n",
    "import torch.nn.functional as F\n",
    "import torchvision\n",
    "\n",
    "from torchvision import transforms\n",
    "\n",
    "import sklearn\n",
    "#from skimage import io\n",
    "from sklearn.model_selection import GroupKFold, StratifiedKFold\n",
    "from sklearn.metrics import roc_auc_score, log_loss, f1_score, confusion_matrix, classification_report\n",
    "from sklearn import metrics, preprocessing\n",
    "from scipy.ndimage import zoom\n",
    "\n",
    "import timm\n",
    "from timm.data import resolve_data_config\n",
    "from timm.data.transforms_factory import create_transform\n",
    "import albumentations as A\n",
    "import albumentations.pytorch\n",
    "import wandb\n",
    "from catalyst.data.sampler import BalanceClassSampler\n",
    "from torch.utils.data.distributed import DistributedSampler\n",
    "import torch.distributed as dist\n",
    "import torch.multiprocessing as mp\n",
    "from torch.nn.parallel import DistributedDataParallel as DDP\n"
   ]
  },
  {
   "cell_type": "code",
   "execution_count": 2,
   "id": "57c0283c",
   "metadata": {},
   "outputs": [],
   "source": [
    "CFG = {\n",
    "    'fold_num': 5,\n",
    "    'seed': 42,\n",
    "    'model': 'inception_resnet_v2',\n",
    "    'img_size': 260,\n",
    "    'epochs': 200,\n",
    "    'train_bs':128,\n",
    "    'valid_bs':32,\n",
    "    'T_0': 10,\n",
    "    'lr': 1e-4,\n",
    "    'min_lr': 1e-6,\n",
    "    'num_workers': 8,\n",
    "    'accum_iter': 2, # suppoprt to do batch accumulation for backprop with effectively larger batch size\n",
    "    'verbose_step': 1,\n",
    "    'patience' : 5,\n",
    "    'device': 'cuda:0',\n",
    "    'freezing': False,\n",
    "    'model_path': './models'\n",
    "}"
   ]
  },
  {
   "cell_type": "code",
   "execution_count": 22,
   "id": "127461e4-c16d-47fd-b983-556c12ad0daf",
   "metadata": {},
   "outputs": [],
   "source": [
    "project_name = 'carbon_reduction_inception_resnet_v2_1040'\n",
    "user = 'hojunking'\n",
    "run_name = 'carbon_reduction_inception_resnet_v2_1040'"
   ]
  },
  {
   "cell_type": "code",
   "execution_count": 3,
   "id": "5c538155-d55f-4321-bf7c-171d356ebceb",
   "metadata": {},
   "outputs": [
    {
     "name": "stdout",
     "output_type": "stream",
     "text": [
      "label: 10kwalking\n",
      "img_paths len : 1400\n",
      "\n",
      "label: public_vehicle\n",
      "img_paths len : 1243\n",
      "\n",
      "label: stair\n",
      "img_paths len : 1400\n",
      "\n",
      "label: pet\n",
      "img_paths len : 1400\n",
      "\n",
      "label: outlet\n",
      "img_paths len : 1400\n",
      "\n",
      "label: else\n",
      "img_paths len : 1400\n",
      "\n",
      "label: can\n",
      "img_paths len : 1400\n",
      "\n",
      "label: box\n",
      "img_paths len : 1400\n",
      "\n",
      "label: milk\n",
      "img_paths len : 1400\n",
      "\n",
      "label: cup\n",
      "img_paths len : 1068\n",
      "\n",
      "Train_Images:  10000\n",
      "Train_Images_labels: 10000\n",
      "Test_Images:  4000\n",
      "Test_Images_labels: 4000\n"
     ]
    }
   ],
   "source": [
    "main_path = '../Data/carbon_reduction/'\n",
    "label_list = [\"10kwalking\",\"public_vehicle\",'stair','pet','outlet','else', 'can', 'box', 'milk', 'cup']\n",
    "\n",
    "total_train_img_paths = []\n",
    "total_train_img_labels = []\n",
    "total_test_img_paths = []\n",
    "total_test_img_labels = []\n",
    "\n",
    "for label in label_list: ## 각 레이블 돌기\n",
    "  print(f'label: {label}')\n",
    "  img_paths = [] \n",
    "  img_labels = []\n",
    "\n",
    "  # default ratio\n",
    "  train_ratio = 1000\n",
    "  test_ratio = 400\n",
    "\n",
    "  dir_path = main_path + label ## 레이블 폴더 경로\n",
    "  count = 0\n",
    "  for folder, subfolders, filenames in os.walk(dir_path): ## 폴더 내 모든 파일 탐색\n",
    "    \n",
    "    for img in filenames: ## 각 파일 경로, 레이블 저장\n",
    "      count +=1\n",
    "      if count > train_ratio + test_ratio:\n",
    "        break\n",
    "      \n",
    "      img_paths.append(folder+'/'+img)\n",
    "      img_labels.append(label)\n",
    "\n",
    "  print(f'img_paths len : {len(img_paths)}\\n')\n",
    "\n",
    "  if label == '10kwalking': ## 10walking 데이터 비율 설정하기 (데이터수: 2494)\n",
    "    train_ratio = 1000\n",
    "    test_ratio = 400\n",
    "  elif label == 'public_vehicle': ## 10walking 데이터 비율 설정하기 (데이터수: 2494)\n",
    "    train_ratio = 1000\n",
    "    test_ratio = 400\n",
    "\n",
    "  total_train_img_paths.extend(img_paths[:train_ratio])\n",
    "  total_train_img_labels.extend(img_labels[:train_ratio])\n",
    "  \n",
    "  total_test_img_paths.extend(img_paths[-test_ratio:])\n",
    "  total_test_img_labels.extend(img_labels[-test_ratio:])\n",
    "\n",
    "print('Train_Images: ',len(total_train_img_paths))\n",
    "print(\"Train_Images_labels:\", len(total_train_img_labels))\n",
    "print('Test_Images: ',len(total_test_img_paths))\n",
    "print(\"Test_Images_labels:\", len(total_test_img_labels))"
   ]
  },
  {
   "cell_type": "code",
   "execution_count": 4,
   "id": "2716dd8b-84db-4707-80e2-19b29eae9c23",
   "metadata": {},
   "outputs": [
    {
     "data": {
      "text/html": [
       "<div>\n",
       "<style scoped>\n",
       "    .dataframe tbody tr th:only-of-type {\n",
       "        vertical-align: middle;\n",
       "    }\n",
       "\n",
       "    .dataframe tbody tr th {\n",
       "        vertical-align: top;\n",
       "    }\n",
       "\n",
       "    .dataframe thead th {\n",
       "        text-align: right;\n",
       "    }\n",
       "</style>\n",
       "<table border=\"1\" class=\"dataframe\">\n",
       "  <thead>\n",
       "    <tr style=\"text-align: right;\">\n",
       "      <th></th>\n",
       "      <th>image_id</th>\n",
       "      <th>dir</th>\n",
       "      <th>label</th>\n",
       "    </tr>\n",
       "  </thead>\n",
       "  <tbody>\n",
       "    <tr>\n",
       "      <th>0</th>\n",
       "      <td>캐시워크 만보_461.jpg</td>\n",
       "      <td>../Data/carbon_reduction/10kwalking</td>\n",
       "      <td>10kwalking</td>\n",
       "    </tr>\n",
       "    <tr>\n",
       "      <th>1</th>\n",
       "      <td>캐시워크 만보_017.jpg</td>\n",
       "      <td>../Data/carbon_reduction/10kwalking</td>\n",
       "      <td>10kwalking</td>\n",
       "    </tr>\n",
       "    <tr>\n",
       "      <th>2</th>\n",
       "      <td>만보인증_171.jpg</td>\n",
       "      <td>../Data/carbon_reduction/10kwalking</td>\n",
       "      <td>10kwalking</td>\n",
       "    </tr>\n",
       "    <tr>\n",
       "      <th>3</th>\n",
       "      <td>나이키 만보_231.jpg</td>\n",
       "      <td>../Data/carbon_reduction/10kwalking</td>\n",
       "      <td>10kwalking</td>\n",
       "    </tr>\n",
       "    <tr>\n",
       "      <th>4</th>\n",
       "      <td>삼성헬스 만보_451.jpg</td>\n",
       "      <td>../Data/carbon_reduction/10kwalking</td>\n",
       "      <td>10kwalking</td>\n",
       "    </tr>\n",
       "    <tr>\n",
       "      <th>...</th>\n",
       "      <td>...</td>\n",
       "      <td>...</td>\n",
       "      <td>...</td>\n",
       "    </tr>\n",
       "    <tr>\n",
       "      <th>9995</th>\n",
       "      <td>양치컵_245.jpg</td>\n",
       "      <td>../Data/carbon_reduction/cup/양치컵_네이버</td>\n",
       "      <td>cup</td>\n",
       "    </tr>\n",
       "    <tr>\n",
       "      <th>9996</th>\n",
       "      <td>양치컵_231.jpg</td>\n",
       "      <td>../Data/carbon_reduction/cup/양치컵_네이버</td>\n",
       "      <td>cup</td>\n",
       "    </tr>\n",
       "    <tr>\n",
       "      <th>9997</th>\n",
       "      <td>양치컵_176.jpg</td>\n",
       "      <td>../Data/carbon_reduction/cup/양치컵_네이버</td>\n",
       "      <td>cup</td>\n",
       "    </tr>\n",
       "    <tr>\n",
       "      <th>9998</th>\n",
       "      <td>양치컵_234.jpg</td>\n",
       "      <td>../Data/carbon_reduction/cup/양치컵_네이버</td>\n",
       "      <td>cup</td>\n",
       "    </tr>\n",
       "    <tr>\n",
       "      <th>9999</th>\n",
       "      <td>양치컵_243.jpg</td>\n",
       "      <td>../Data/carbon_reduction/cup/양치컵_네이버</td>\n",
       "      <td>cup</td>\n",
       "    </tr>\n",
       "  </tbody>\n",
       "</table>\n",
       "<p>10000 rows × 3 columns</p>\n",
       "</div>"
      ],
      "text/plain": [
       "             image_id                                   dir       label\n",
       "0     캐시워크 만보_461.jpg   ../Data/carbon_reduction/10kwalking  10kwalking\n",
       "1     캐시워크 만보_017.jpg   ../Data/carbon_reduction/10kwalking  10kwalking\n",
       "2        만보인증_171.jpg   ../Data/carbon_reduction/10kwalking  10kwalking\n",
       "3      나이키 만보_231.jpg   ../Data/carbon_reduction/10kwalking  10kwalking\n",
       "4     삼성헬스 만보_451.jpg   ../Data/carbon_reduction/10kwalking  10kwalking\n",
       "...               ...                                   ...         ...\n",
       "9995      양치컵_245.jpg  ../Data/carbon_reduction/cup/양치컵_네이버         cup\n",
       "9996      양치컵_231.jpg  ../Data/carbon_reduction/cup/양치컵_네이버         cup\n",
       "9997      양치컵_176.jpg  ../Data/carbon_reduction/cup/양치컵_네이버         cup\n",
       "9998      양치컵_234.jpg  ../Data/carbon_reduction/cup/양치컵_네이버         cup\n",
       "9999      양치컵_243.jpg  ../Data/carbon_reduction/cup/양치컵_네이버         cup\n",
       "\n",
       "[10000 rows x 3 columns]"
      ]
     },
     "execution_count": 4,
     "metadata": {},
     "output_type": "execute_result"
    }
   ],
   "source": [
    "## Pandas 데이터프레임 만들기\n",
    "trn_df = pd.DataFrame(total_train_img_paths, columns=['image_id'])\n",
    "trn_df['dir'] = trn_df['image_id'].apply(lambda x: os.path.dirname(x))\n",
    "trn_df['image_id'] = trn_df['image_id'].apply(lambda x: os.path.basename(x))\n",
    "trn_df['label'] = total_train_img_labels\n",
    "train = trn_df\n",
    "train"
   ]
  },
  {
   "cell_type": "code",
   "execution_count": 5,
   "id": "03c67d39-7933-4f98-b998-54a6036ff4a1",
   "metadata": {},
   "outputs": [],
   "source": [
    "# Label Encoding\n",
    "le = preprocessing.LabelEncoder()\n",
    "train['label'] = le.fit_transform(train['label'].values)"
   ]
  },
  {
   "cell_type": "code",
   "execution_count": 9,
   "id": "a3a8ac38-0b0f-4db4-80d2-6504916b7723",
   "metadata": {},
   "outputs": [
    {
     "data": {
      "text/html": [
       "<div>\n",
       "<style scoped>\n",
       "    .dataframe tbody tr th:only-of-type {\n",
       "        vertical-align: middle;\n",
       "    }\n",
       "\n",
       "    .dataframe tbody tr th {\n",
       "        vertical-align: top;\n",
       "    }\n",
       "\n",
       "    .dataframe thead th {\n",
       "        text-align: right;\n",
       "    }\n",
       "</style>\n",
       "<table border=\"1\" class=\"dataframe\">\n",
       "  <thead>\n",
       "    <tr style=\"text-align: right;\">\n",
       "      <th></th>\n",
       "      <th>image_id</th>\n",
       "      <th>dir</th>\n",
       "      <th>label</th>\n",
       "    </tr>\n",
       "  </thead>\n",
       "  <tbody>\n",
       "    <tr>\n",
       "      <th>0</th>\n",
       "      <td>캐시워크 만보_461.jpg</td>\n",
       "      <td>../Data/carbon_reduction/10kwalking</td>\n",
       "      <td>0</td>\n",
       "    </tr>\n",
       "    <tr>\n",
       "      <th>1</th>\n",
       "      <td>캐시워크 만보_017.jpg</td>\n",
       "      <td>../Data/carbon_reduction/10kwalking</td>\n",
       "      <td>0</td>\n",
       "    </tr>\n",
       "    <tr>\n",
       "      <th>2</th>\n",
       "      <td>만보인증_171.jpg</td>\n",
       "      <td>../Data/carbon_reduction/10kwalking</td>\n",
       "      <td>0</td>\n",
       "    </tr>\n",
       "    <tr>\n",
       "      <th>3</th>\n",
       "      <td>나이키 만보_231.jpg</td>\n",
       "      <td>../Data/carbon_reduction/10kwalking</td>\n",
       "      <td>0</td>\n",
       "    </tr>\n",
       "    <tr>\n",
       "      <th>4</th>\n",
       "      <td>삼성헬스 만보_451.jpg</td>\n",
       "      <td>../Data/carbon_reduction/10kwalking</td>\n",
       "      <td>0</td>\n",
       "    </tr>\n",
       "    <tr>\n",
       "      <th>...</th>\n",
       "      <td>...</td>\n",
       "      <td>...</td>\n",
       "      <td>...</td>\n",
       "    </tr>\n",
       "    <tr>\n",
       "      <th>9995</th>\n",
       "      <td>양치컵_245.jpg</td>\n",
       "      <td>../Data/carbon_reduction/cup/양치컵_네이버</td>\n",
       "      <td>3</td>\n",
       "    </tr>\n",
       "    <tr>\n",
       "      <th>9996</th>\n",
       "      <td>양치컵_231.jpg</td>\n",
       "      <td>../Data/carbon_reduction/cup/양치컵_네이버</td>\n",
       "      <td>3</td>\n",
       "    </tr>\n",
       "    <tr>\n",
       "      <th>9997</th>\n",
       "      <td>양치컵_176.jpg</td>\n",
       "      <td>../Data/carbon_reduction/cup/양치컵_네이버</td>\n",
       "      <td>3</td>\n",
       "    </tr>\n",
       "    <tr>\n",
       "      <th>9998</th>\n",
       "      <td>양치컵_234.jpg</td>\n",
       "      <td>../Data/carbon_reduction/cup/양치컵_네이버</td>\n",
       "      <td>3</td>\n",
       "    </tr>\n",
       "    <tr>\n",
       "      <th>9999</th>\n",
       "      <td>양치컵_243.jpg</td>\n",
       "      <td>../Data/carbon_reduction/cup/양치컵_네이버</td>\n",
       "      <td>3</td>\n",
       "    </tr>\n",
       "  </tbody>\n",
       "</table>\n",
       "<p>10000 rows × 3 columns</p>\n",
       "</div>"
      ],
      "text/plain": [
       "             image_id                                   dir  label\n",
       "0     캐시워크 만보_461.jpg   ../Data/carbon_reduction/10kwalking      0\n",
       "1     캐시워크 만보_017.jpg   ../Data/carbon_reduction/10kwalking      0\n",
       "2        만보인증_171.jpg   ../Data/carbon_reduction/10kwalking      0\n",
       "3      나이키 만보_231.jpg   ../Data/carbon_reduction/10kwalking      0\n",
       "4     삼성헬스 만보_451.jpg   ../Data/carbon_reduction/10kwalking      0\n",
       "...               ...                                   ...    ...\n",
       "9995      양치컵_245.jpg  ../Data/carbon_reduction/cup/양치컵_네이버      3\n",
       "9996      양치컵_231.jpg  ../Data/carbon_reduction/cup/양치컵_네이버      3\n",
       "9997      양치컵_176.jpg  ../Data/carbon_reduction/cup/양치컵_네이버      3\n",
       "9998      양치컵_234.jpg  ../Data/carbon_reduction/cup/양치컵_네이버      3\n",
       "9999      양치컵_243.jpg  ../Data/carbon_reduction/cup/양치컵_네이버      3\n",
       "\n",
       "[10000 rows x 3 columns]"
      ]
     },
     "execution_count": 9,
     "metadata": {},
     "output_type": "execute_result"
    }
   ],
   "source": [
    "train"
   ]
  },
  {
   "cell_type": "code",
   "execution_count": 10,
   "id": "8ed30653",
   "metadata": {},
   "outputs": [],
   "source": [
    "model =timm.create_model(CFG['model'], pretrained=True, num_classes=10)\n",
    "\n",
    "config = resolve_data_config({}, model=model)\n",
    "transform = create_transform(**config)"
   ]
  },
  {
   "cell_type": "code",
   "execution_count": 11,
   "id": "6c454bf4",
   "metadata": {},
   "outputs": [],
   "source": [
    "def seed_everything(seed):\n",
    "    random.seed(seed)\n",
    "    os.environ['PYTHONHASHSEED'] = str(seed)\n",
    "    np.random.seed(seed)\n",
    "    torch.manual_seed(seed)\n",
    "    torch.cuda.manual_seed(seed)\n",
    "    torch.backends.cudnn.deterministic = True\n",
    "    torch.backends.cudnn.benchmark = True"
   ]
  },
  {
   "cell_type": "code",
   "execution_count": 12,
   "id": "d97a3c2a",
   "metadata": {},
   "outputs": [],
   "source": [
    "def get_img(path, train_arg=False, sub_path=None):\n",
    "    try:\n",
    "        im_bgr = cv2.imread(path)\n",
    "        im_rgb = im_bgr[:, :, ::-1]\n",
    "        past_path = path\n",
    "    except: ## 이미지 에러 발생 시 백지로 대체\n",
    "        im_bgr = cv2.imread('../Data/carbon_reduction/temp_img.jpg')\n",
    "        im_rgb = im_bgr[:, :, ::-1]\n",
    "    if train_arg:\n",
    "        dimg = cv2.fastNlMeansDenoisingColored(im_rgb, None, 10,10,7,21)\n",
    "        return dimg\n",
    "    else:\n",
    "        return im_rgb"
   ]
  },
  {
   "cell_type": "code",
   "execution_count": 13,
   "id": "884eb987-4341-4fe7-8094-6e61cb051af5",
   "metadata": {},
   "outputs": [],
   "source": [
    "transform_train = A.Compose(\n",
    "    [\n",
    "        A.Resize(height = CFG['img_size']+100, width = CFG['img_size']+100),\n",
    "        A.CenterCrop(always_apply=True, p=0.7, height=CFG['img_size'], width=CFG['img_size']),\n",
    "        A.RandomBrightnessContrast(always_apply=True, p=0.8, brightness_limit=(0.00, 0.00), contrast_limit=(0.2, 0.2), brightness_by_max=False),\n",
    "        A.SafeRotate(always_apply=True, p=0.5, limit=(-20, 20), interpolation=2, border_mode=0, value=(0, 0, 0), mask_value=None),\n",
    "        A.HorizontalFlip(always_apply=False, p=0.5),\n",
    "        A.Normalize(mean=(0.485, 0.456, 0.406), std=(0.229, 0.224, 0.225), max_pixel_value=255.0, always_apply=False, p=1.0),\n",
    "        A.pytorch.transforms.ToTensorV2()\n",
    "        ])\n",
    "\n",
    "transform_test = A.Compose(\n",
    "    [\n",
    "        A.Resize(height = CFG['img_size'], width = CFG['img_size']),\n",
    "        A.Normalize(mean=(0.485, 0.456, 0.406), std=(0.229, 0.224, 0.225), max_pixel_value=255.0, always_apply=False, p=1.0),\n",
    "        A.pytorch.transforms.ToTensorV2()\n",
    "        ])"
   ]
  },
  {
   "cell_type": "code",
   "execution_count": 14,
   "id": "5f1561be",
   "metadata": {},
   "outputs": [],
   "source": [
    "class ColonDataset(Dataset):\n",
    "    def __init__(self, df, data_root, train_arg=False,\n",
    "                 transform=None,\n",
    "                 output_label=True\n",
    "                ):\n",
    "        \n",
    "        super().__init__()\n",
    "        self.df = df.reset_index(drop=True).copy()\n",
    "        self.train_arg = train_arg\n",
    "        self.transform = transform\n",
    "        self.data_root = data_root\n",
    "        self.output_label = output_label\n",
    "        \n",
    "        if output_label == True:\n",
    "            self.labels = self.df['label'].values\n",
    "            \n",
    "    def __len__(self):\n",
    "        return self.df.shape[0]\n",
    "    \n",
    "    def __getitem__(self, index: int):\n",
    "        \n",
    "        # get labels\n",
    "        if self.output_label:\n",
    "            target = self.labels[index]\n",
    "        \n",
    "        img  = get_img(\"{}/{}\".format(self.data_root[index], self.df.loc[index]['image_id']), train_arg=self.train_arg)\n",
    "\n",
    "        if self.transform:\n",
    "            transformed = self.transform(image=img)\n",
    "            img = transformed['image']\n",
    "        \n",
    "                \n",
    "        if self.output_label == True:\n",
    "            return img, target\n",
    "        else:\n",
    "            return img"
   ]
  },
  {
   "cell_type": "code",
   "execution_count": 15,
   "id": "b1601bf0",
   "metadata": {},
   "outputs": [],
   "source": [
    "class ForcepImgClassifier(nn.Module):\n",
    "    def __init__(self, model_arch, n_class=10, pretrained=False):\n",
    "        super().__init__()\n",
    "        self.model = timm.create_model(model_arch, pretrained=pretrained, num_classes=n_class)\n",
    "        # n_features = self.model.classifier.in_features\n",
    "        # self.model.classifier = nn.Linear(n_features, n_class)\n",
    "    def freezing(self, freeze=False):\n",
    "        if freeze:\n",
    "            \n",
    "            cnt = 0\n",
    "            for name, param in model.named_parameters():\n",
    "                if 'classif' in name:\n",
    "                    #print('classif passed')\n",
    "                    pass\n",
    "                elif 'fc' in name:\n",
    "                    #print('fc passed')\n",
    "                    pass\n",
    "                else :\n",
    "                    #print('freezing')\n",
    "                    param.requires_grad = False    \n",
    "        \n",
    "    def forward(self, x):\n",
    "        x = self.model(x)\n",
    "        return x"
   ]
  },
  {
   "cell_type": "code",
   "execution_count": 16,
   "id": "240e5531",
   "metadata": {},
   "outputs": [],
   "source": [
    "def prepare_dataloader(df, trn_idx, val_idx, data_root=train.dir.values):\n",
    "    \n",
    "    train_ = df.loc[trn_idx,:].reset_index(drop=True)\n",
    "    valid_ = df.loc[val_idx,:].reset_index(drop=True)\n",
    "    train_data_root = data_root[trn_idx]\n",
    "    valid_data_root = data_root[val_idx]\n",
    "    \n",
    "        \n",
    "    train_ds = ColonDataset(train_,\n",
    "                            train_data_root,\n",
    "                            transform=transform_train,\n",
    "                            output_label=True)\n",
    "    valid_ds = ColonDataset(valid_,\n",
    "                            valid_data_root,\n",
    "                            transform=transform_train,\n",
    "                            output_label=True)\n",
    "    \n",
    "\n",
    "    train_loader = torch.utils.data.DataLoader(\n",
    "        train_ds,\n",
    "        batch_size=CFG['train_bs'],\n",
    "        pin_memory=True,\n",
    "        drop_last=False,\n",
    "        shuffle=False,        \n",
    "        num_workers=CFG['num_workers'],\n",
    "        sampler=DistributedSampler(train_ds)\n",
    "    )\n",
    "    val_loader = torch.utils.data.DataLoader(\n",
    "        valid_ds, \n",
    "        batch_size=CFG['valid_bs'],\n",
    "        num_workers=CFG['num_workers'],\n",
    "        shuffle=False,\n",
    "        pin_memory=True,\n",
    "    )\n",
    "    return train_loader, val_loader"
   ]
  },
  {
   "cell_type": "code",
   "execution_count": 17,
   "id": "08ffa2fa",
   "metadata": {},
   "outputs": [],
   "source": [
    "def train_one_epoch(epoch, model, loss_fn, optimizer, train_loader, device, scheduler=None, schd_batch_update=False):\n",
    "    model.train()\n",
    "\n",
    "    t = time.time()\n",
    "    running_loss = None\n",
    "    loss_sum = 0\n",
    "    image_preds_all = []\n",
    "    image_targets_all = []\n",
    "    acc_list = []\n",
    "    \n",
    "    pbar = tqdm(enumerate(train_loader), total=len(train_loader))\n",
    "    for step, (imgs, image_labels) in pbar:\n",
    "        imgs = imgs.to(device).float()\n",
    "        image_labels = image_labels.to(device).long()\n",
    "        with autocast():\n",
    "            image_preds = model(imgs)   #output = model(input)\n",
    "\n",
    "            loss = loss_fn(image_preds, image_labels)\n",
    "            loss_sum+=loss.detach()\n",
    "            \n",
    "            scaler.scale(loss).backward()\n",
    "            if running_loss is None:\n",
    "                running_loss = loss.item()\n",
    "            else:\n",
    "                running_loss = running_loss * .99 + loss.item() * .01\n",
    "\n",
    "            if ((step + 1) %  CFG['accum_iter'] == 0) or ((step + 1) == len(train_loader)):\n",
    "                # may unscale_ here if desired (e.g., to allow clipping unscaled gradients)\n",
    "\n",
    "                scaler.step(optimizer)\n",
    "                scaler.update()\n",
    "                optimizer.zero_grad() \n",
    "                \n",
    "                if scheduler is not None and schd_batch_update:\n",
    "                    scheduler.step()\n",
    "            if ((step + 1) % CFG['verbose_step'] == 0) or ((step + 1) == len(train_loader)):\n",
    "                description = f'epoch {epoch} loss: {running_loss:.4f}'\n",
    "                \n",
    "                pbar.set_description(description)\n",
    "            \n",
    "        image_preds_all += [torch.argmax(image_preds, 1).detach().cpu().numpy()]\n",
    "        image_targets_all += [image_labels.detach().cpu().numpy()]\n",
    "    \n",
    "    image_preds_all = np.concatenate(image_preds_all)\n",
    "    image_targets_all = np.concatenate(image_targets_all)\n",
    "    matrix = confusion_matrix(image_targets_all,image_preds_all)\n",
    "    epoch_f1 = f1_score(image_targets_all, \n",
    "                        image_preds_all, \n",
    "                        average='macro')\n",
    "    \n",
    "    accuracy = (image_preds_all==image_targets_all).mean()\n",
    "    trn_loss = loss_sum/len(train_loader)\n",
    "    \n",
    "    if scheduler is not None and not schd_batch_update:\n",
    "        scheduler.step()\n",
    "    \n",
    "    return image_preds_all, accuracy, trn_loss, matrix, epoch_f1\n",
    "\n",
    "def valid_one_epoch(epoch, model, loss_fn, val_loader, device, scheduler=None, schd_loss_update=False):\n",
    "    model.eval()\n",
    "\n",
    "    t = time.time()\n",
    "    loss_sum = 0\n",
    "    sample_num = 0\n",
    "    avg_loss = 0\n",
    "    image_preds_all = []\n",
    "    image_targets_all = []\n",
    "    \n",
    "    acc_list = []\n",
    "    \n",
    "    pbar = tqdm(enumerate(val_loader), total=len(val_loader))\n",
    "    for step, (imgs, image_labels) in pbar:\n",
    "        imgs = imgs.to(device).float()\n",
    "        image_labels = image_labels.to(device).long()\n",
    "        \n",
    "        image_preds = model(imgs)   #output = model(input)\n",
    "        image_preds_all += [torch.argmax(image_preds, 1).detach().cpu().numpy()]\n",
    "        image_targets_all += [image_labels.detach().cpu().numpy()]\n",
    "        \n",
    "        loss = loss_fn(image_preds, image_labels)\n",
    "        avg_loss += loss.item()\n",
    "        loss_sum += loss.item()*image_labels.shape[0]\n",
    "        sample_num += image_labels.shape[0]\n",
    "        \n",
    "        if ((step + 1) % CFG['verbose_step'] == 0) or ((step + 1) == len(val_loader)):\n",
    "            description = f'epoch {epoch} loss: {loss_sum/sample_num:.4f}'\n",
    "            pbar.set_description(description)\n",
    "    \n",
    "    image_preds_all = np.concatenate(image_preds_all)\n",
    "    image_targets_all = np.concatenate(image_targets_all)\n",
    "    matrix = confusion_matrix(image_targets_all,image_preds_all)\n",
    "    \n",
    "    epoch_f1 = f1_score(image_targets_all, \n",
    "                        image_preds_all, \n",
    "                        average='macro')\n",
    "    \n",
    "    acc = (image_preds_all==image_targets_all).mean()\n",
    "    val_loss = avg_loss/len(val_loader)\n",
    "    \n",
    "    \n",
    "    if scheduler is not None:\n",
    "        if schd_loss_update:\n",
    "            scheduler.step(loss_sum/sample_num)\n",
    "        else:\n",
    "            scheduler.step()\n",
    "            \n",
    "    return image_preds_all, acc, val_loss, matrix, epoch_f1"
   ]
  },
  {
   "cell_type": "code",
   "execution_count": 18,
   "id": "76d9a737",
   "metadata": {},
   "outputs": [],
   "source": [
    "# reference: https://www.kaggle.com/c/siim-isic-melanoma-classification/discussion/173733\n",
    "class MyCrossEntropyLoss(_WeightedLoss):\n",
    "    def __init__(self, weight=None, reduction='mean'):\n",
    "        super().__init__(weight=weight, reduction=reduction)\n",
    "        self.weight = weight\n",
    "        self.reduction = reduction\n",
    "\n",
    "    def forward(self, inputs, targets):\n",
    "        lsm = F.log_softmax(inputs, -1)\n",
    "\n",
    "        if self.weight is not None:\n",
    "            lsm = lsm * self.weight.unsqueeze(0)\n",
    "\n",
    "        loss = -(targets * lsm).sum(-1)\n",
    "\n",
    "        if  self.reduction == 'sum':\n",
    "            loss = loss.sum()\n",
    "        elif  self.reduction == 'mean':\n",
    "            loss = loss.mean()\n",
    "\n",
    "        return loss"
   ]
  },
  {
   "cell_type": "code",
   "execution_count": 19,
   "id": "77e9950b",
   "metadata": {},
   "outputs": [],
   "source": [
    "class EarlyStopping:\n",
    "    def __init__(self, patience=10, verbose=False, delta=0):\n",
    "        self.patience = patience\n",
    "        self.verbose = verbose\n",
    "        self.counter = 0\n",
    "        self.best_score = None\n",
    "        self.early_stop = False\n",
    "        self.val_loss_min = np.Inf\n",
    "        self.delta = delta\n",
    "\n",
    "    def __call__(self, score):\n",
    "        if self.best_score is None:\n",
    "            self.best_score = score\n",
    "        elif score <= self.best_score + self.delta:\n",
    "            self.counter += 1\n",
    "            print(f'EarlyStopping counter: {self.counter} out of {self.patience}')\n",
    "            print(f'Best F1 score from now: {self.best_score}')\n",
    "            if self.counter >= self.patience:\n",
    "                self.early_stop = True\n",
    "        else:\n",
    "            self.best_score = score\n",
    "            self.counter = 0\n",
    "        \n",
    "        return self.early_stop"
   ]
  },
  {
   "cell_type": "code",
   "execution_count": 20,
   "id": "89c15e4d-4f98-4152-9171-9fb008d9b12f",
   "metadata": {},
   "outputs": [],
   "source": [
    "os.environ[\"CUDA_VISIBLE_DEVICES\"] = '0, 1' #본인이 사용하고 싶은 GPU 넘버를 써주면 됨\n",
    "#os.environ['CUDA_LAUNCH_BLOCKING'] = \"1\"\n",
    "os.environ['MASTER_ADDR'] = 'localhost'\n",
    "os.environ['MASTER_PORT'] = '43097'         # 좀 큰 숫자로 맞추면 됨 작은 숫자는 에러발생!\n",
    "\n",
    "device = torch.device(\"cuda\" if torch.cuda.is_available() else \"cpu\")\n",
    "# init!\n",
    "torch.distributed.init_process_group(backend='nccl', init_method=\"env://\", rank =0, world_size=1)  # rank should be 0 ~ world_size-1\n"
   ]
  },
  {
   "cell_type": "code",
   "execution_count": 23,
   "id": "37102a34",
   "metadata": {},
   "outputs": [
    {
     "name": "stderr",
     "output_type": "stream",
     "text": [
      "Failed to detect the name of this notebook, you can set it manually with the WANDB_NOTEBOOK_NAME environment variable to enable code saving.\n",
      "\u001b[34m\u001b[1mwandb\u001b[0m: Currently logged in as: \u001b[33mhojunking\u001b[0m. Use \u001b[1m`wandb login --relogin`\u001b[0m to force relogin\n"
     ]
    },
    {
     "data": {
      "application/vnd.jupyter.widget-view+json": {
       "model_id": "1cb8b3a10ba044c8a7d9b09c5991802c",
       "version_major": 2,
       "version_minor": 0
      },
      "text/plain": [
       "VBox(children=(Label(value='Waiting for wandb.init()...\\r'), FloatProgress(value=0.016668996765899162, max=1.0…"
      ]
     },
     "metadata": {},
     "output_type": "display_data"
    },
    {
     "data": {
      "text/html": [
       "wandb version 0.14.0 is available!  To upgrade, please run:\n",
       " $ pip install wandb --upgrade"
      ],
      "text/plain": [
       "<IPython.core.display.HTML object>"
      ]
     },
     "metadata": {},
     "output_type": "display_data"
    },
    {
     "data": {
      "text/html": [
       "Tracking run with wandb version 0.13.4"
      ],
      "text/plain": [
       "<IPython.core.display.HTML object>"
      ]
     },
     "metadata": {},
     "output_type": "display_data"
    },
    {
     "data": {
      "text/html": [
       "Run data is saved locally in <code>/home/hojun/git/carbon_reduction_project/wandb/run-20230403_174942-w6rj8jns</code>"
      ],
      "text/plain": [
       "<IPython.core.display.HTML object>"
      ]
     },
     "metadata": {},
     "output_type": "display_data"
    },
    {
     "data": {
      "text/html": [
       "Syncing run <strong><a href=\"https://wandb.ai/hojunking/carbon_reduction_inception_resnet_v2_1040/runs/w6rj8jns\" target=\"_blank\">glad-frost-1</a></strong> to <a href=\"https://wandb.ai/hojunking/carbon_reduction_inception_resnet_v2_1040\" target=\"_blank\">Weights & Biases</a> (<a href=\"https://wandb.me/run\" target=\"_blank\">docs</a>)<br/>"
      ],
      "text/plain": [
       "<IPython.core.display.HTML object>"
      ]
     },
     "metadata": {},
     "output_type": "display_data"
    },
    {
     "name": "stdout",
     "output_type": "stream",
     "text": [
      "Model: inception_resnet_v2\n",
      "Training start with fold: 0 epoch: 200 \n",
      "\n",
      "All training process\n",
      "Fold: 0\n",
      "Epoch 0/199\n"
     ]
    },
    {
     "name": "stderr",
     "output_type": "stream",
     "text": [
      "  0%|                                                    | 0/63 [00:00<?, ?it/s]Corrupt JPEG data: 111 extraneous bytes before marker 0xd9\n",
      "Premature end of JPEG file\n",
      "epoch 0 loss: 2.3077:  22%|████▋                | 14/63 [00:21<00:38,  1.27it/s]Premature end of JPEG file\n",
      "epoch 0 loss: 1.6466: 100%|█████████████████████| 63/63 [00:59<00:00,  1.05it/s]\n",
      "  0%|                                                    | 0/63 [00:00<?, ?it/s]Premature end of JPEG file\n",
      "Premature end of JPEG file\n",
      "epoch 0 loss: 0.1146:   3%|▋                     | 2/63 [00:01<00:44,  1.38it/s]Premature end of JPEG file\n",
      "epoch 0 loss: 0.2460: 100%|█████████████████████| 63/63 [00:17<00:00,  3.67it/s]\n"
     ]
    },
    {
     "name": "stdout",
     "output_type": "stream",
     "text": [
      "Fold: 0\n",
      "Epoch 1/199\n"
     ]
    },
    {
     "name": "stderr",
     "output_type": "stream",
     "text": [
      "  0%|                                                    | 0/63 [00:00<?, ?it/s]Corrupt JPEG data: 111 extraneous bytes before marker 0xd9\n",
      "Premature end of JPEG file\n",
      "epoch 1 loss: 0.2256:  22%|████▋                | 14/63 [00:13<00:37,  1.29it/s]Premature end of JPEG file\n",
      "epoch 1 loss: 0.1973: 100%|█████████████████████| 63/63 [00:49<00:00,  1.26it/s]\n",
      "  0%|                                                    | 0/63 [00:00<?, ?it/s]Premature end of JPEG file\n",
      "epoch 1 loss: 0.0170:   3%|▋                     | 2/63 [00:01<00:30,  2.00it/s]Premature end of JPEG file\n",
      "epoch 1 loss: 0.0555:   5%|█                     | 3/63 [00:01<00:23,  2.53it/s]Premature end of JPEG file\n",
      "epoch 1 loss: 0.1394: 100%|█████████████████████| 63/63 [00:16<00:00,  3.86it/s]\n"
     ]
    },
    {
     "name": "stdout",
     "output_type": "stream",
     "text": [
      "Fold: 0\n",
      "Epoch 2/199\n"
     ]
    },
    {
     "name": "stderr",
     "output_type": "stream",
     "text": [
      "  0%|                                                    | 0/63 [00:00<?, ?it/s]Corrupt JPEG data: 111 extraneous bytes before marker 0xd9\n",
      "epoch 2 loss: 0.0934:   2%|▎                     | 1/63 [00:02<02:42,  2.61s/it]Premature end of JPEG file\n",
      "epoch 2 loss: 0.0905:  22%|████▋                | 14/63 [00:12<00:37,  1.31it/s]Premature end of JPEG file\n",
      "epoch 2 loss: 0.0786: 100%|█████████████████████| 63/63 [00:49<00:00,  1.28it/s]\n",
      "  0%|                                                    | 0/63 [00:00<?, ?it/s]Premature end of JPEG file\n",
      "epoch 2 loss: 0.0786:   2%|▎                     | 1/63 [00:01<01:06,  1.07s/it]Premature end of JPEG file\n",
      "epoch 2 loss: 0.0428:   3%|▋                     | 2/63 [00:01<00:35,  1.70it/s]Premature end of JPEG file\n",
      "epoch 2 loss: 0.1488: 100%|█████████████████████| 63/63 [00:16<00:00,  3.83it/s]"
     ]
    },
    {
     "name": "stdout",
     "output_type": "stream",
     "text": [
      "EarlyStopping counter: 1 out of 5\n",
      "Best F1 score from now: 0.9606238274371794\n",
      "Fold: 0\n",
      "Epoch 3/199\n"
     ]
    },
    {
     "name": "stderr",
     "output_type": "stream",
     "text": [
      "\n",
      "  0%|                                                    | 0/63 [00:00<?, ?it/s]Corrupt JPEG data: 111 extraneous bytes before marker 0xd9\n",
      "epoch 3 loss: 0.0599:   2%|▎                     | 1/63 [00:02<02:51,  2.76s/it]Premature end of JPEG file\n",
      "epoch 3 loss: 0.0574:  22%|████▋                | 14/63 [00:12<00:37,  1.32it/s]Premature end of JPEG file\n",
      "epoch 3 loss: 0.0501: 100%|█████████████████████| 63/63 [00:49<00:00,  1.28it/s]\n",
      "  0%|                                                    | 0/63 [00:00<?, ?it/s]Premature end of JPEG file\n",
      "epoch 3 loss: 0.0260:   3%|▋                     | 2/63 [00:01<00:30,  2.02it/s]Premature end of JPEG file\n",
      "epoch 3 loss: 0.0604:   5%|█                     | 3/63 [00:01<00:23,  2.59it/s]Premature end of JPEG file\n",
      "epoch 3 loss: 0.1411: 100%|█████████████████████| 63/63 [00:16<00:00,  3.89it/s]"
     ]
    },
    {
     "name": "stdout",
     "output_type": "stream",
     "text": [
      "EarlyStopping counter: 2 out of 5\n",
      "Best F1 score from now: 0.9606238274371794\n",
      "Fold: 0\n",
      "Epoch 4/199\n"
     ]
    },
    {
     "name": "stderr",
     "output_type": "stream",
     "text": [
      "\n",
      "  0%|                                                    | 0/63 [00:00<?, ?it/s]Corrupt JPEG data: 111 extraneous bytes before marker 0xd9\n",
      "Premature end of JPEG file\n",
      "epoch 4 loss: 0.0477:  22%|████▋                | 14/63 [00:12<00:37,  1.31it/s]Premature end of JPEG file\n",
      "epoch 4 loss: 0.0412: 100%|█████████████████████| 63/63 [00:49<00:00,  1.28it/s]\n",
      "  0%|                                                    | 0/63 [00:00<?, ?it/s]Premature end of JPEG file\n",
      "epoch 4 loss: 0.0707:   2%|▎                     | 1/63 [00:01<01:06,  1.08s/it]Premature end of JPEG file\n",
      "epoch 4 loss: 0.0368:   3%|▋                     | 2/63 [00:01<00:36,  1.66it/s]Premature end of JPEG file\n",
      "epoch 4 loss: 0.1619: 100%|█████████████████████| 63/63 [00:16<00:00,  3.82it/s]"
     ]
    },
    {
     "name": "stdout",
     "output_type": "stream",
     "text": [
      "EarlyStopping counter: 3 out of 5\n",
      "Best F1 score from now: 0.9606238274371794\n",
      "Fold: 0\n",
      "Epoch 5/199\n"
     ]
    },
    {
     "name": "stderr",
     "output_type": "stream",
     "text": [
      "\n",
      "  0%|                                                    | 0/63 [00:00<?, ?it/s]Corrupt JPEG data: 111 extraneous bytes before marker 0xd9\n",
      "epoch 5 loss: 0.0158:   2%|▎                     | 1/63 [00:02<02:42,  2.61s/it]Premature end of JPEG file\n",
      "epoch 5 loss: 0.0166:  22%|████▋                | 14/63 [00:12<00:37,  1.31it/s]Premature end of JPEG file\n",
      "epoch 5 loss: 0.0192: 100%|█████████████████████| 63/63 [00:49<00:00,  1.28it/s]\n",
      "  0%|                                                    | 0/63 [00:00<?, ?it/s]Premature end of JPEG file\n",
      "epoch 5 loss: 0.1014:   3%|▋                     | 2/63 [00:01<00:29,  2.09it/s]Premature end of JPEG file\n",
      "epoch 5 loss: 0.1144:   5%|█                     | 3/63 [00:01<00:23,  2.61it/s]Premature end of JPEG file\n",
      "epoch 5 loss: 0.1487: 100%|█████████████████████| 63/63 [00:16<00:00,  3.88it/s]\n"
     ]
    },
    {
     "name": "stdout",
     "output_type": "stream",
     "text": [
      "Fold: 0\n",
      "Epoch 6/199\n"
     ]
    },
    {
     "name": "stderr",
     "output_type": "stream",
     "text": [
      "  0%|                                                    | 0/63 [00:00<?, ?it/s]Corrupt JPEG data: 111 extraneous bytes before marker 0xd9\n",
      "Premature end of JPEG file\n",
      "epoch 6 loss: 0.0139:  22%|████▋                | 14/63 [00:12<00:37,  1.31it/s]Premature end of JPEG file\n",
      "epoch 6 loss: 0.0158: 100%|█████████████████████| 63/63 [00:49<00:00,  1.27it/s]\n",
      "  0%|                                                    | 0/63 [00:00<?, ?it/s]Premature end of JPEG file\n",
      "epoch 6 loss: 0.1920:   2%|▎                     | 1/63 [00:01<01:04,  1.04s/it]Premature end of JPEG file\n",
      "epoch 6 loss: 0.0966:   3%|▋                     | 2/63 [00:01<00:35,  1.73it/s]Premature end of JPEG file\n",
      "epoch 6 loss: 0.1454: 100%|█████████████████████| 63/63 [00:16<00:00,  3.82it/s]"
     ]
    },
    {
     "name": "stdout",
     "output_type": "stream",
     "text": [
      "EarlyStopping counter: 1 out of 5\n",
      "Best F1 score from now: 0.9618292392456531\n",
      "Fold: 0\n",
      "Epoch 7/199\n"
     ]
    },
    {
     "name": "stderr",
     "output_type": "stream",
     "text": [
      "\n",
      "  0%|                                                    | 0/63 [00:00<?, ?it/s]Corrupt JPEG data: 111 extraneous bytes before marker 0xd9\n",
      "epoch 7 loss: 0.0163:   2%|▎                     | 1/63 [00:02<03:00,  2.91s/it]Premature end of JPEG file\n",
      "epoch 7 loss: 0.0166:  22%|████▋                | 14/63 [00:12<00:37,  1.31it/s]Premature end of JPEG file\n",
      "epoch 7 loss: 0.0182: 100%|█████████████████████| 63/63 [00:49<00:00,  1.27it/s]\n",
      "  0%|                                                    | 0/63 [00:00<?, ?it/s]Premature end of JPEG file\n",
      "epoch 7 loss: 0.0173:   3%|▋                     | 2/63 [00:01<00:30,  1.97it/s]Premature end of JPEG file\n",
      "epoch 7 loss: 0.0635:   5%|█                     | 3/63 [00:01<00:23,  2.54it/s]Premature end of JPEG file\n",
      "epoch 7 loss: 0.1392: 100%|█████████████████████| 63/63 [00:16<00:00,  3.73it/s]"
     ]
    },
    {
     "name": "stdout",
     "output_type": "stream",
     "text": [
      "EarlyStopping counter: 2 out of 5\n",
      "Best F1 score from now: 0.9618292392456531\n",
      "Fold: 0\n",
      "Epoch 8/199\n"
     ]
    },
    {
     "name": "stderr",
     "output_type": "stream",
     "text": [
      "\n",
      "  0%|                                                    | 0/63 [00:00<?, ?it/s]Corrupt JPEG data: 111 extraneous bytes before marker 0xd9\n",
      "epoch 8 loss: 0.0158:   2%|▎                     | 1/63 [00:02<02:54,  2.81s/it]Premature end of JPEG file\n",
      "epoch 8 loss: 0.0157:  22%|████▋                | 14/63 [00:12<00:37,  1.31it/s]Premature end of JPEG file\n",
      "epoch 8 loss: 0.0168: 100%|█████████████████████| 63/63 [00:49<00:00,  1.28it/s]\n",
      "  0%|                                                    | 0/63 [00:00<?, ?it/s]Premature end of JPEG file\n",
      "epoch 8 loss: 0.0487:   3%|▋                     | 2/63 [00:01<00:30,  2.02it/s]Premature end of JPEG file\n",
      "epoch 8 loss: 0.0823:   5%|█                     | 3/63 [00:01<00:23,  2.57it/s]Premature end of JPEG file\n",
      "epoch 8 loss: 0.1523: 100%|█████████████████████| 63/63 [00:16<00:00,  3.87it/s]\n"
     ]
    },
    {
     "name": "stdout",
     "output_type": "stream",
     "text": [
      "Fold: 0\n",
      "Epoch 9/199\n"
     ]
    },
    {
     "name": "stderr",
     "output_type": "stream",
     "text": [
      "  0%|                                                    | 0/63 [00:00<?, ?it/s]Corrupt JPEG data: 111 extraneous bytes before marker 0xd9\n",
      "epoch 9 loss: 0.0106:   2%|▎                     | 1/63 [00:02<02:43,  2.63s/it]Premature end of JPEG file\n",
      "epoch 9 loss: 0.0112:  22%|████▋                | 14/63 [00:12<00:37,  1.32it/s]Premature end of JPEG file\n",
      "epoch 9 loss: 0.0134: 100%|█████████████████████| 63/63 [00:49<00:00,  1.28it/s]\n",
      "  0%|                                                    | 0/63 [00:00<?, ?it/s]Premature end of JPEG file\n",
      "epoch 9 loss: 0.0770:   3%|▋                     | 2/63 [00:01<00:29,  2.04it/s]Premature end of JPEG file\n",
      "epoch 9 loss: 0.1066:   5%|█                     | 3/63 [00:01<00:23,  2.56it/s]Premature end of JPEG file\n",
      "epoch 9 loss: 0.1545: 100%|█████████████████████| 63/63 [00:16<00:00,  3.86it/s]"
     ]
    },
    {
     "name": "stdout",
     "output_type": "stream",
     "text": [
      "EarlyStopping counter: 1 out of 5\n",
      "Best F1 score from now: 0.9629007130310328\n",
      "Fold: 0\n",
      "Epoch 10/199\n"
     ]
    },
    {
     "name": "stderr",
     "output_type": "stream",
     "text": [
      "\n",
      "  0%|                                                    | 0/63 [00:00<?, ?it/s]Corrupt JPEG data: 111 extraneous bytes before marker 0xd9\n",
      "epoch 10 loss: 0.0121:   2%|▎                    | 1/63 [00:02<02:50,  2.75s/it]Premature end of JPEG file\n",
      "epoch 10 loss: 0.0125:  22%|████▍               | 14/63 [00:12<00:37,  1.31it/s]Premature end of JPEG file\n",
      "epoch 10 loss: 0.0140: 100%|████████████████████| 63/63 [00:49<00:00,  1.27it/s]\n",
      "  0%|                                                    | 0/63 [00:00<?, ?it/s]Premature end of JPEG file\n",
      "epoch 10 loss: 0.0427:   3%|▋                    | 2/63 [00:01<00:31,  1.96it/s]Premature end of JPEG file\n",
      "epoch 10 loss: 0.0812:   5%|█                    | 3/63 [00:01<00:25,  2.36it/s]Premature end of JPEG file\n",
      "epoch 10 loss: 0.1820: 100%|████████████████████| 63/63 [00:16<00:00,  3.85it/s]"
     ]
    },
    {
     "name": "stdout",
     "output_type": "stream",
     "text": [
      "EarlyStopping counter: 2 out of 5\n",
      "Best F1 score from now: 0.9629007130310328\n",
      "Fold: 0\n",
      "Epoch 11/199\n"
     ]
    },
    {
     "name": "stderr",
     "output_type": "stream",
     "text": [
      "\n",
      "  0%|                                                    | 0/63 [00:00<?, ?it/s]Corrupt JPEG data: 111 extraneous bytes before marker 0xd9\n",
      "epoch 11 loss: 0.0266:   2%|▎                    | 1/63 [00:02<02:53,  2.80s/it]Premature end of JPEG file\n",
      "epoch 11 loss: 0.0248:  22%|████▍               | 14/63 [00:12<00:37,  1.31it/s]Premature end of JPEG file\n",
      "epoch 11 loss: 0.0214: 100%|████████████████████| 63/63 [00:49<00:00,  1.28it/s]\n",
      "  0%|                                                    | 0/63 [00:00<?, ?it/s]Premature end of JPEG file\n",
      "epoch 11 loss: 0.3334:   2%|▎                    | 1/63 [00:00<00:57,  1.08it/s]Premature end of JPEG file\n",
      "epoch 11 loss: 0.1607:   5%|█                    | 3/63 [00:01<00:28,  2.14it/s]Premature end of JPEG file\n",
      "epoch 11 loss: 0.1796: 100%|████████████████████| 63/63 [00:16<00:00,  3.81it/s]"
     ]
    },
    {
     "name": "stdout",
     "output_type": "stream",
     "text": [
      "EarlyStopping counter: 3 out of 5\n",
      "Best F1 score from now: 0.9629007130310328\n",
      "Fold: 0\n",
      "Epoch 12/199\n"
     ]
    },
    {
     "name": "stderr",
     "output_type": "stream",
     "text": [
      "\n",
      "  0%|                                                    | 0/63 [00:00<?, ?it/s]Corrupt JPEG data: 111 extraneous bytes before marker 0xd9\n",
      "epoch 12 loss: 0.0106:   2%|▎                    | 1/63 [00:03<03:06,  3.01s/it]Premature end of JPEG file\n",
      "epoch 12 loss: 0.0115:  22%|████▍               | 14/63 [00:12<00:37,  1.31it/s]Premature end of JPEG file\n",
      "epoch 12 loss: 0.0156: 100%|████████████████████| 63/63 [00:49<00:00,  1.27it/s]\n",
      "  0%|                                                    | 0/63 [00:00<?, ?it/s]Premature end of JPEG file\n",
      "epoch 12 loss: 0.0398:   3%|▋                    | 2/63 [00:01<00:30,  1.99it/s]Premature end of JPEG file\n",
      "epoch 12 loss: 0.0802:   5%|█                    | 3/63 [00:01<00:23,  2.54it/s]Premature end of JPEG file\n",
      "epoch 12 loss: 0.1790: 100%|████████████████████| 63/63 [00:16<00:00,  3.88it/s]"
     ]
    },
    {
     "name": "stdout",
     "output_type": "stream",
     "text": [
      "EarlyStopping counter: 4 out of 5\n",
      "Best F1 score from now: 0.9629007130310328\n",
      "Fold: 0\n",
      "Epoch 13/199\n"
     ]
    },
    {
     "name": "stderr",
     "output_type": "stream",
     "text": [
      "\n",
      "  0%|                                                    | 0/63 [00:00<?, ?it/s]Corrupt JPEG data: 111 extraneous bytes before marker 0xd9\n",
      "epoch 13 loss: 0.0116:   2%|▎                    | 1/63 [00:02<02:53,  2.80s/it]Premature end of JPEG file\n",
      "epoch 13 loss: 0.0123:  22%|████▍               | 14/63 [00:12<00:37,  1.32it/s]Premature end of JPEG file\n",
      "epoch 13 loss: 0.0154: 100%|████████████████████| 63/63 [00:49<00:00,  1.28it/s]\n",
      "  0%|                                                    | 0/63 [00:00<?, ?it/s]Premature end of JPEG file\n",
      "epoch 13 loss: 0.0136:   3%|▋                    | 2/63 [00:01<00:29,  2.10it/s]Premature end of JPEG file\n",
      "epoch 13 loss: 0.0558:   5%|█                    | 3/63 [00:01<00:22,  2.62it/s]Premature end of JPEG file\n",
      "epoch 13 loss: 0.1779: 100%|████████████████████| 63/63 [00:16<00:00,  3.88it/s]\n"
     ]
    },
    {
     "name": "stdout",
     "output_type": "stream",
     "text": [
      "EarlyStopping counter: 5 out of 5\n",
      "Best F1 score from now: 0.9629007130310328\n",
      "stop called\n",
      "time : 0:15:41\n",
      "fold: 0, Best Epoch : 8/ 14\n",
      "fold: 0, Best Train Marco F1 : 0.99476\n",
      "[[799   0   0   0   0   0   0   0   0   1]\n",
      " [  0 800   0   0   0   0   0   0   0   0]\n",
      " [  0   0 798   0   2   0   0   0   0   0]\n",
      " [  0   0   0 796   0   0   0   0   0   4]\n",
      " [  0   0   1   0 796   0   0   3   0   0]\n",
      " [  1   0   0   0   1 793   0   0   1   4]\n",
      " [  0   0   0   0   0   0 800   0   0   0]\n",
      " [  0   0   2   0   2   0   0 796   0   0]\n",
      " [  0   0   0   0   0   0   0   0 781  19]\n",
      " [  0   0   0   0   0   0   0   0   1 799]]\n",
      "fold: 0, Best Valid Marco F1 : 0.96290\n",
      "[[197   0   0   1   0   1   0   0   0   1]\n",
      " [  0 196   0   0   3   1   0   0   0   0]\n",
      " [  0   0 188   4   1   3   0   3   1   0]\n",
      " [  0   0   1 196   0   1   0   1   0   1]\n",
      " [  1   5   3   2 179   5   1   2   0   2]\n",
      " [  0   0   0   2   0 197   0   0   0   1]\n",
      " [  0   0   0   0   2   1 197   0   0   0]\n",
      " [  0   1   4   1   7   0   0 187   0   0]\n",
      " [  0   0   0   0   0   2   0   0 189   9]\n",
      " [  0   0   0   0   0   0   0   0   0 200]]\n",
      "---------------------------------------------------------\n",
      "Training start with fold: 1 epoch: 200 \n",
      "\n",
      "All training process\n",
      "Fold: 1\n",
      "Epoch 0/199\n"
     ]
    },
    {
     "name": "stderr",
     "output_type": "stream",
     "text": [
      "  0%|                                                    | 0/63 [00:00<?, ?it/s]Corrupt JPEG data: 111 extraneous bytes before marker 0xd9\n",
      "epoch 0 loss: 2.3460:  10%|██                    | 6/63 [00:06<00:51,  1.11it/s]Premature end of JPEG file\n",
      "epoch 0 loss: 2.0504:  54%|███████████▎         | 34/63 [00:27<00:21,  1.32it/s]Premature end of JPEG file\n",
      "epoch 0 loss: 2.0046:  59%|████████████▎        | 37/63 [00:30<00:19,  1.35it/s]Premature end of JPEG file\n",
      "epoch 0 loss: 1.9764:  62%|█████████████        | 39/63 [00:31<00:17,  1.35it/s]Premature end of JPEG file\n",
      "epoch 0 loss: 1.6362: 100%|█████████████████████| 63/63 [00:49<00:00,  1.27it/s]\n",
      "  0%|                                                    | 0/63 [00:00<?, ?it/s]Premature end of JPEG file\n",
      "epoch 0 loss: 0.2500: 100%|█████████████████████| 63/63 [00:16<00:00,  3.86it/s]\n"
     ]
    },
    {
     "name": "stdout",
     "output_type": "stream",
     "text": [
      "Fold: 1\n",
      "Epoch 1/199\n"
     ]
    },
    {
     "name": "stderr",
     "output_type": "stream",
     "text": [
      "  0%|                                                    | 0/63 [00:00<?, ?it/s]Corrupt JPEG data: 111 extraneous bytes before marker 0xd9\n",
      "epoch 1 loss: 0.2502:  10%|██                    | 6/63 [00:06<00:51,  1.12it/s]Premature end of JPEG file\n",
      "epoch 1 loss: 0.2397:  54%|███████████▎         | 34/63 [00:27<00:21,  1.32it/s]Premature end of JPEG file\n",
      "epoch 1 loss: 0.2369:  59%|████████████▎        | 37/63 [00:30<00:19,  1.34it/s]Premature end of JPEG file\n",
      "epoch 1 loss: 0.2361:  60%|████████████▋        | 38/63 [00:30<00:18,  1.32it/s]Premature end of JPEG file\n",
      "epoch 1 loss: 0.2072: 100%|█████████████████████| 63/63 [00:49<00:00,  1.27it/s]\n",
      "  0%|                                                    | 0/63 [00:00<?, ?it/s]Premature end of JPEG file\n",
      "epoch 1 loss: 0.1423: 100%|█████████████████████| 63/63 [00:16<00:00,  3.79it/s]\n"
     ]
    },
    {
     "name": "stdout",
     "output_type": "stream",
     "text": [
      "Fold: 1\n",
      "Epoch 2/199\n"
     ]
    },
    {
     "name": "stderr",
     "output_type": "stream",
     "text": [
      "  0%|                                                    | 0/63 [00:00<?, ?it/s]Corrupt JPEG data: 111 extraneous bytes before marker 0xd9\n",
      "epoch 2 loss: 0.0928:  10%|██                    | 6/63 [00:06<00:51,  1.11it/s]Premature end of JPEG file\n",
      "epoch 2 loss: 0.0886:  54%|███████████▎         | 34/63 [00:28<00:21,  1.32it/s]Premature end of JPEG file\n",
      "epoch 2 loss: 0.0882:  59%|████████████▎        | 37/63 [00:30<00:19,  1.34it/s]Premature end of JPEG file\n",
      "epoch 2 loss: 0.0880:  60%|████████████▋        | 38/63 [00:31<00:18,  1.32it/s]Premature end of JPEG file\n",
      "epoch 2 loss: 0.0801: 100%|█████████████████████| 63/63 [00:49<00:00,  1.27it/s]\n",
      "  0%|                                                    | 0/63 [00:00<?, ?it/s]Premature end of JPEG file\n",
      "epoch 2 loss: 0.1542: 100%|█████████████████████| 63/63 [00:16<00:00,  3.83it/s]\n"
     ]
    },
    {
     "name": "stdout",
     "output_type": "stream",
     "text": [
      "Fold: 1\n",
      "Epoch 3/199\n"
     ]
    },
    {
     "name": "stderr",
     "output_type": "stream",
     "text": [
      "  0%|                                                    | 0/63 [00:00<?, ?it/s]Corrupt JPEG data: 111 extraneous bytes before marker 0xd9\n",
      "epoch 3 loss: 0.0521:  10%|██                    | 6/63 [00:06<00:50,  1.12it/s]Premature end of JPEG file\n",
      "epoch 3 loss: 0.0497:  54%|███████████▎         | 34/63 [00:27<00:21,  1.32it/s]Premature end of JPEG file\n",
      "epoch 3 loss: 0.0499:  59%|████████████▎        | 37/63 [00:30<00:19,  1.35it/s]Premature end of JPEG file\n",
      "epoch 3 loss: 0.0499:  60%|████████████▋        | 38/63 [00:30<00:18,  1.32it/s]Premature end of JPEG file\n",
      "epoch 3 loss: 0.0491: 100%|█████████████████████| 63/63 [00:49<00:00,  1.27it/s]\n",
      "  0%|                                                    | 0/63 [00:00<?, ?it/s]Premature end of JPEG file\n",
      "epoch 3 loss: 0.1486: 100%|█████████████████████| 63/63 [00:16<00:00,  3.89it/s]\n"
     ]
    },
    {
     "name": "stdout",
     "output_type": "stream",
     "text": [
      "Fold: 1\n",
      "Epoch 4/199\n"
     ]
    },
    {
     "name": "stderr",
     "output_type": "stream",
     "text": [
      "  0%|                                                    | 0/63 [00:00<?, ?it/s]Corrupt JPEG data: 111 extraneous bytes before marker 0xd9\n",
      "epoch 4 loss: 0.0354:  10%|██                    | 6/63 [00:06<00:51,  1.10it/s]Premature end of JPEG file\n",
      "epoch 4 loss: 0.0371:  54%|███████████▎         | 34/63 [00:28<00:21,  1.32it/s]Premature end of JPEG file\n",
      "epoch 4 loss: 0.0373:  59%|████████████▎        | 37/63 [00:30<00:19,  1.35it/s]Premature end of JPEG file\n",
      "epoch 4 loss: 0.0373:  62%|█████████████        | 39/63 [00:31<00:17,  1.34it/s]Premature end of JPEG file\n",
      "epoch 4 loss: 0.0348: 100%|█████████████████████| 63/63 [00:49<00:00,  1.27it/s]\n",
      "  0%|                                                    | 0/63 [00:00<?, ?it/s]Premature end of JPEG file\n",
      "epoch 4 loss: 0.1380: 100%|█████████████████████| 63/63 [00:16<00:00,  3.82it/s]\n"
     ]
    },
    {
     "name": "stdout",
     "output_type": "stream",
     "text": [
      "Fold: 1\n",
      "Epoch 5/199\n"
     ]
    },
    {
     "name": "stderr",
     "output_type": "stream",
     "text": [
      "  0%|                                                    | 0/63 [00:00<?, ?it/s]Corrupt JPEG data: 111 extraneous bytes before marker 0xd9\n",
      "epoch 5 loss: 0.0343:  10%|██                    | 6/63 [00:06<00:51,  1.12it/s]Premature end of JPEG file\n",
      "epoch 5 loss: 0.0335:  54%|███████████▎         | 34/63 [00:27<00:21,  1.32it/s]Premature end of JPEG file\n",
      "epoch 5 loss: 0.0335:  59%|████████████▎        | 37/63 [00:30<00:19,  1.35it/s]Premature end of JPEG file\n",
      "epoch 5 loss: 0.0336:  60%|████████████▋        | 38/63 [00:30<00:18,  1.32it/s]Premature end of JPEG file\n",
      "epoch 5 loss: 0.0313: 100%|█████████████████████| 63/63 [00:49<00:00,  1.27it/s]\n",
      "  0%|                                                    | 0/63 [00:00<?, ?it/s]Premature end of JPEG file\n",
      "epoch 5 loss: 0.1721: 100%|█████████████████████| 63/63 [00:16<00:00,  3.87it/s]"
     ]
    },
    {
     "name": "stdout",
     "output_type": "stream",
     "text": [
      "EarlyStopping counter: 1 out of 5\n",
      "Best F1 score from now: 0.9619364088910153\n",
      "Fold: 1\n",
      "Epoch 6/199\n"
     ]
    },
    {
     "name": "stderr",
     "output_type": "stream",
     "text": [
      "\n",
      "  0%|                                                    | 0/63 [00:00<?, ?it/s]Corrupt JPEG data: 111 extraneous bytes before marker 0xd9\n",
      "epoch 6 loss: 0.0580:  10%|██                    | 6/63 [00:06<00:51,  1.11it/s]Premature end of JPEG file\n",
      "epoch 6 loss: 0.0513:  54%|███████████▎         | 34/63 [00:27<00:21,  1.32it/s]Premature end of JPEG file\n",
      "epoch 6 loss: 0.0507:  59%|████████████▎        | 37/63 [00:30<00:19,  1.34it/s]Premature end of JPEG file\n",
      "epoch 6 loss: 0.0503:  62%|█████████████        | 39/63 [00:31<00:17,  1.34it/s]Premature end of JPEG file\n",
      "epoch 6 loss: 0.0446: 100%|█████████████████████| 63/63 [00:49<00:00,  1.27it/s]\n",
      "  0%|                                                    | 0/63 [00:00<?, ?it/s]Premature end of JPEG file\n",
      "epoch 6 loss: 0.1603: 100%|█████████████████████| 63/63 [00:16<00:00,  3.85it/s]"
     ]
    },
    {
     "name": "stdout",
     "output_type": "stream",
     "text": [
      "EarlyStopping counter: 2 out of 5\n",
      "Best F1 score from now: 0.9619364088910153\n",
      "Fold: 1\n",
      "Epoch 7/199\n"
     ]
    },
    {
     "name": "stderr",
     "output_type": "stream",
     "text": [
      "\n",
      "  0%|                                                    | 0/63 [00:00<?, ?it/s]Corrupt JPEG data: 111 extraneous bytes before marker 0xd9\n",
      "epoch 7 loss: 0.0459:  10%|██                    | 6/63 [00:06<00:51,  1.12it/s]Premature end of JPEG file\n",
      "epoch 7 loss: 0.0406:  54%|███████████▎         | 34/63 [00:27<00:22,  1.31it/s]Premature end of JPEG file\n",
      "epoch 7 loss: 0.0403:  59%|████████████▎        | 37/63 [00:30<00:19,  1.34it/s]Premature end of JPEG file\n",
      "epoch 7 loss: 0.0406:  60%|████████████▋        | 38/63 [00:30<00:18,  1.32it/s]Premature end of JPEG file\n",
      "epoch 7 loss: 0.0350: 100%|█████████████████████| 63/63 [00:49<00:00,  1.27it/s]\n",
      "  0%|                                                    | 0/63 [00:00<?, ?it/s]Premature end of JPEG file\n",
      "epoch 7 loss: 0.1435: 100%|█████████████████████| 63/63 [00:16<00:00,  3.74it/s]"
     ]
    },
    {
     "name": "stdout",
     "output_type": "stream",
     "text": [
      "EarlyStopping counter: 3 out of 5\n",
      "Best F1 score from now: 0.9619364088910153\n",
      "Fold: 1\n",
      "Epoch 8/199\n"
     ]
    },
    {
     "name": "stderr",
     "output_type": "stream",
     "text": [
      "\n",
      "  0%|                                                    | 0/63 [00:00<?, ?it/s]Corrupt JPEG data: 111 extraneous bytes before marker 0xd9\n",
      "epoch 8 loss: 0.0275:  10%|██                    | 6/63 [00:07<00:53,  1.07it/s]Premature end of JPEG file\n",
      "epoch 8 loss: 0.0247:  54%|███████████▎         | 34/63 [00:28<00:21,  1.32it/s]Premature end of JPEG file\n",
      "epoch 8 loss: 0.0246:  59%|████████████▎        | 37/63 [00:30<00:19,  1.34it/s]Premature end of JPEG file\n",
      "epoch 8 loss: 0.0247:  60%|████████████▋        | 38/63 [00:31<00:18,  1.32it/s]Premature end of JPEG file\n",
      "epoch 8 loss: 0.0218: 100%|█████████████████████| 63/63 [00:49<00:00,  1.26it/s]\n",
      "  0%|                                                    | 0/63 [00:00<?, ?it/s]Premature end of JPEG file\n",
      "epoch 8 loss: 0.1483: 100%|█████████████████████| 63/63 [00:16<00:00,  3.81it/s]\n"
     ]
    },
    {
     "name": "stdout",
     "output_type": "stream",
     "text": [
      "Fold: 1\n",
      "Epoch 9/199\n"
     ]
    },
    {
     "name": "stderr",
     "output_type": "stream",
     "text": [
      "  0%|                                                    | 0/63 [00:00<?, ?it/s]Corrupt JPEG data: 111 extraneous bytes before marker 0xd9\n",
      "epoch 9 loss: 0.0255:   8%|█▋                    | 5/63 [00:06<00:54,  1.06it/s]Premature end of JPEG file\n",
      "epoch 9 loss: 0.0237:  54%|███████████▎         | 34/63 [00:27<00:22,  1.32it/s]Premature end of JPEG file\n",
      "epoch 9 loss: 0.0237:  59%|████████████▎        | 37/63 [00:30<00:19,  1.34it/s]Premature end of JPEG file\n",
      "epoch 9 loss: 0.0240:  60%|████████████▋        | 38/63 [00:30<00:18,  1.32it/s]Premature end of JPEG file\n",
      "epoch 9 loss: 0.0227: 100%|█████████████████████| 63/63 [00:49<00:00,  1.27it/s]\n",
      "  0%|                                                    | 0/63 [00:00<?, ?it/s]Premature end of JPEG file\n",
      "epoch 9 loss: 0.1689: 100%|█████████████████████| 63/63 [00:16<00:00,  3.86it/s]"
     ]
    },
    {
     "name": "stdout",
     "output_type": "stream",
     "text": [
      "EarlyStopping counter: 1 out of 5\n",
      "Best F1 score from now: 0.962347055571442\n",
      "Fold: 1\n",
      "Epoch 10/199\n"
     ]
    },
    {
     "name": "stderr",
     "output_type": "stream",
     "text": [
      "\n",
      "  0%|                                                    | 0/63 [00:00<?, ?it/s]Corrupt JPEG data: 111 extraneous bytes before marker 0xd9\n",
      "epoch 10 loss: 0.0216:  10%|██                   | 6/63 [00:06<00:50,  1.13it/s]Premature end of JPEG file\n",
      "epoch 10 loss: 0.0213:  54%|██████████▊         | 34/63 [00:27<00:21,  1.32it/s]Premature end of JPEG file\n",
      "epoch 10 loss: 0.0214:  59%|███████████▋        | 37/63 [00:30<00:19,  1.34it/s]Premature end of JPEG file\n",
      "epoch 10 loss: 0.0216:  60%|████████████        | 38/63 [00:30<00:18,  1.32it/s]Premature end of JPEG file\n",
      "epoch 10 loss: 0.0200: 100%|████████████████████| 63/63 [00:49<00:00,  1.27it/s]\n",
      "  0%|                                                    | 0/63 [00:00<?, ?it/s]Premature end of JPEG file\n",
      "epoch 10 loss: 0.1368: 100%|████████████████████| 63/63 [00:16<00:00,  3.87it/s]\n"
     ]
    },
    {
     "name": "stdout",
     "output_type": "stream",
     "text": [
      "Fold: 1\n",
      "Epoch 11/199\n"
     ]
    },
    {
     "name": "stderr",
     "output_type": "stream",
     "text": [
      "  0%|                                                    | 0/63 [00:00<?, ?it/s]Corrupt JPEG data: 111 extraneous bytes before marker 0xd9\n",
      "epoch 11 loss: 0.0260:  10%|██                   | 6/63 [00:06<00:51,  1.12it/s]Premature end of JPEG file\n",
      "epoch 11 loss: 0.0231:  54%|██████████▊         | 34/63 [00:27<00:21,  1.33it/s]Premature end of JPEG file\n",
      "epoch 11 loss: 0.0237:  59%|███████████▋        | 37/63 [00:30<00:19,  1.35it/s]Premature end of JPEG file\n",
      "epoch 11 loss: 0.0240:  60%|████████████        | 38/63 [00:30<00:18,  1.32it/s]Premature end of JPEG file\n",
      "epoch 11 loss: 0.0217: 100%|████████████████████| 63/63 [00:49<00:00,  1.27it/s]\n",
      "  0%|                                                    | 0/63 [00:00<?, ?it/s]Premature end of JPEG file\n",
      "epoch 11 loss: 0.1520: 100%|████████████████████| 63/63 [00:16<00:00,  3.88it/s]"
     ]
    },
    {
     "name": "stdout",
     "output_type": "stream",
     "text": [
      "EarlyStopping counter: 1 out of 5\n",
      "Best F1 score from now: 0.9700659515166781\n",
      "Fold: 1\n",
      "Epoch 12/199\n"
     ]
    },
    {
     "name": "stderr",
     "output_type": "stream",
     "text": [
      "\n",
      "  0%|                                                    | 0/63 [00:00<?, ?it/s]Corrupt JPEG data: 111 extraneous bytes before marker 0xd9\n",
      "epoch 12 loss: 0.0178:  10%|██                   | 6/63 [00:06<00:51,  1.11it/s]Premature end of JPEG file\n",
      "epoch 12 loss: 0.0173:  54%|██████████▊         | 34/63 [00:27<00:21,  1.33it/s]Premature end of JPEG file\n",
      "epoch 12 loss: 0.0174:  59%|███████████▋        | 37/63 [00:30<00:19,  1.35it/s]Premature end of JPEG file\n",
      "epoch 12 loss: 0.0174:  62%|████████████▍       | 39/63 [00:31<00:17,  1.35it/s]Premature end of JPEG file\n",
      "epoch 12 loss: 0.0163: 100%|████████████████████| 63/63 [00:49<00:00,  1.27it/s]\n",
      "  0%|                                                    | 0/63 [00:00<?, ?it/s]Premature end of JPEG file\n",
      "epoch 12 loss: 0.1613: 100%|████████████████████| 63/63 [00:16<00:00,  3.81it/s]"
     ]
    },
    {
     "name": "stdout",
     "output_type": "stream",
     "text": [
      "EarlyStopping counter: 2 out of 5\n",
      "Best F1 score from now: 0.9700659515166781\n",
      "Fold: 1\n",
      "Epoch 13/199\n"
     ]
    },
    {
     "name": "stderr",
     "output_type": "stream",
     "text": [
      "\n",
      "  0%|                                                    | 0/63 [00:00<?, ?it/s]Corrupt JPEG data: 111 extraneous bytes before marker 0xd9\n",
      "epoch 13 loss: 0.0254:  10%|██                   | 6/63 [00:06<00:51,  1.12it/s]Premature end of JPEG file\n",
      "epoch 13 loss: 0.0226:  54%|██████████▊         | 34/63 [00:27<00:21,  1.32it/s]Premature end of JPEG file\n",
      "epoch 13 loss: 0.0225:  59%|███████████▋        | 37/63 [00:30<00:19,  1.34it/s]Premature end of JPEG file\n",
      "epoch 13 loss: 0.0226:  60%|████████████        | 38/63 [00:30<00:18,  1.32it/s]Premature end of JPEG file\n",
      "epoch 13 loss: 0.0199: 100%|████████████████████| 63/63 [00:49<00:00,  1.27it/s]\n",
      "  0%|                                                    | 0/63 [00:00<?, ?it/s]Premature end of JPEG file\n",
      "epoch 13 loss: 0.1802: 100%|████████████████████| 63/63 [00:16<00:00,  3.88it/s]"
     ]
    },
    {
     "name": "stdout",
     "output_type": "stream",
     "text": [
      "EarlyStopping counter: 3 out of 5\n",
      "Best F1 score from now: 0.9700659515166781\n",
      "Fold: 1\n",
      "Epoch 14/199\n"
     ]
    },
    {
     "name": "stderr",
     "output_type": "stream",
     "text": [
      "\n",
      "  0%|                                                    | 0/63 [00:00<?, ?it/s]Corrupt JPEG data: 111 extraneous bytes before marker 0xd9\n",
      "epoch 14 loss: 0.0812:   8%|█▋                   | 5/63 [00:06<00:54,  1.06it/s]Premature end of JPEG file\n",
      "epoch 14 loss: 0.0647:  54%|██████████▊         | 34/63 [00:27<00:21,  1.32it/s]Premature end of JPEG file\n",
      "epoch 14 loss: 0.0634:  59%|███████████▋        | 37/63 [00:30<00:19,  1.34it/s]Premature end of JPEG file\n",
      "epoch 14 loss: 0.0631:  60%|████████████        | 38/63 [00:30<00:18,  1.32it/s]Premature end of JPEG file\n",
      "epoch 14 loss: 0.0525: 100%|████████████████████| 63/63 [00:49<00:00,  1.27it/s]\n",
      "  0%|                                                    | 0/63 [00:00<?, ?it/s]Premature end of JPEG file\n",
      "epoch 14 loss: 0.1830: 100%|████████████████████| 63/63 [00:16<00:00,  3.87it/s]"
     ]
    },
    {
     "name": "stdout",
     "output_type": "stream",
     "text": [
      "EarlyStopping counter: 4 out of 5\n",
      "Best F1 score from now: 0.9700659515166781\n",
      "Fold: 1\n",
      "Epoch 15/199\n"
     ]
    },
    {
     "name": "stderr",
     "output_type": "stream",
     "text": [
      "\n",
      "  0%|                                                    | 0/63 [00:00<?, ?it/s]Corrupt JPEG data: 111 extraneous bytes before marker 0xd9\n",
      "epoch 15 loss: 0.0344:  10%|██                   | 6/63 [00:07<00:51,  1.10it/s]Premature end of JPEG file\n",
      "epoch 15 loss: 0.0322:  54%|██████████▊         | 34/63 [00:27<00:21,  1.32it/s]Premature end of JPEG file\n",
      "epoch 15 loss: 0.0319:  59%|███████████▋        | 37/63 [00:30<00:19,  1.35it/s]Premature end of JPEG file\n",
      "epoch 15 loss: 0.0319:  60%|████████████        | 38/63 [00:30<00:18,  1.32it/s]Premature end of JPEG file\n",
      "epoch 15 loss: 0.0286: 100%|████████████████████| 63/63 [00:49<00:00,  1.26it/s]\n",
      "  0%|                                                    | 0/63 [00:00<?, ?it/s]Premature end of JPEG file\n",
      "epoch 15 loss: 0.1467: 100%|████████████████████| 63/63 [00:16<00:00,  3.73it/s]\n"
     ]
    },
    {
     "name": "stdout",
     "output_type": "stream",
     "text": [
      "EarlyStopping counter: 5 out of 5\n",
      "Best F1 score from now: 0.9700659515166781\n",
      "stop called\n",
      "time : 0:17:49\n",
      "fold: 1, Best Epoch : 10/ 16\n",
      "fold: 1, Best Train Marco F1 : 0.99289\n",
      "[[799   0   0   0   0   0   0   0   0   1]\n",
      " [  0 796   0   0   3   0   0   1   0   0]\n",
      " [  0   0 797   0   3   0   0   0   0   0]\n",
      " [  0   0   0 794   0   2   0   0   2   2]\n",
      " [  0   4   1   1 794   0   0   0   0   0]\n",
      " [  0   0   0   1   0 794   0   0   4   1]\n",
      " [  0   0   0   0   1   0 799   0   0   0]\n",
      " [  0   0   0   0   0   0   0 800   0   0]\n",
      " [  0   0   0   0   0   0   0   0 782  18]\n",
      " [  0   0   0   0   0   0   0   0  12 788]]\n",
      "fold: 1, Best Valid Marco F1 : 0.97007\n",
      "[[198   0   0   0   0   1   0   0   0   1]\n",
      " [  0 191   1   0   5   2   1   0   0   0]\n",
      " [  1   0 191   3   3   1   0   1   0   0]\n",
      " [  0   0   0 196   1   2   0   0   0   1]\n",
      " [  0   0   3   2 188   3   1   2   0   1]\n",
      " [  0   0   1   9   0 188   0   0   1   1]\n",
      " [  0   0   1   0   1   1 197   0   0   0]\n",
      " [  0   0   1   1   3   1   0 194   0   0]\n",
      " [  0   0   0   0   0   1   0   0 197   2]\n",
      " [  0   0   0   0   0   0   0   0   0 200]]\n",
      "---------------------------------------------------------\n",
      "Training start with fold: 2 epoch: 200 \n",
      "\n",
      "All training process\n",
      "Fold: 2\n",
      "Epoch 0/199\n"
     ]
    },
    {
     "name": "stderr",
     "output_type": "stream",
     "text": [
      "  0%|                                                    | 0/63 [00:00<?, ?it/s]Premature end of JPEG file\n",
      "epoch 0 loss: 2.3273:   8%|█▋                    | 5/63 [00:06<00:55,  1.05it/s]Premature end of JPEG file\n",
      "epoch 0 loss: 2.2597:  25%|█████▎               | 16/63 [00:14<00:35,  1.32it/s]Premature end of JPEG file\n",
      "epoch 0 loss: 2.1805:  37%|███████▋             | 23/63 [00:19<00:29,  1.34it/s]Premature end of JPEG file\n",
      "epoch 0 loss: 2.1674:  38%|████████             | 24/63 [00:20<00:29,  1.32it/s]Corrupt JPEG data: 111 extraneous bytes before marker 0xd9\n",
      "epoch 0 loss: 1.8989:  68%|██████████████▎      | 43/63 [00:34<00:14,  1.34it/s]Premature end of JPEG file\n",
      "epoch 0 loss: 1.6222: 100%|█████████████████████| 63/63 [00:49<00:00,  1.27it/s]\n",
      "epoch 0 loss: 0.2523: 100%|█████████████████████| 63/63 [00:16<00:00,  3.88it/s]\n"
     ]
    },
    {
     "name": "stdout",
     "output_type": "stream",
     "text": [
      "Fold: 2\n",
      "Epoch 1/199\n"
     ]
    },
    {
     "name": "stderr",
     "output_type": "stream",
     "text": [
      "  0%|                                                    | 0/63 [00:00<?, ?it/s]Premature end of JPEG file\n",
      "epoch 1 loss: 0.2867:   8%|█▋                    | 5/63 [00:05<00:55,  1.05it/s]Premature end of JPEG file\n",
      "epoch 1 loss: 0.2801:  25%|█████▎               | 16/63 [00:14<00:35,  1.31it/s]Premature end of JPEG file\n",
      "epoch 1 loss: 0.2745:  37%|███████▋             | 23/63 [00:19<00:29,  1.34it/s]Premature end of JPEG file\n",
      "epoch 1 loss: 0.2733:  38%|████████             | 24/63 [00:20<00:29,  1.32it/s]Corrupt JPEG data: 111 extraneous bytes before marker 0xd9\n",
      "epoch 1 loss: 0.2557:  68%|██████████████▎      | 43/63 [00:34<00:14,  1.34it/s]Premature end of JPEG file\n",
      "epoch 1 loss: 0.2294: 100%|█████████████████████| 63/63 [00:49<00:00,  1.27it/s]\n",
      "epoch 1 loss: 0.1513: 100%|█████████████████████| 63/63 [00:16<00:00,  3.87it/s]\n"
     ]
    },
    {
     "name": "stdout",
     "output_type": "stream",
     "text": [
      "Fold: 2\n",
      "Epoch 2/199\n"
     ]
    },
    {
     "name": "stderr",
     "output_type": "stream",
     "text": [
      "epoch 2 loss: 0.1220:   2%|▎                     | 1/63 [00:02<02:49,  2.73s/it]Premature end of JPEG file\n",
      "epoch 2 loss: 0.1206:   8%|█▋                    | 5/63 [00:05<00:55,  1.05it/s]Premature end of JPEG file\n",
      "epoch 2 loss: 0.1157:  25%|█████▎               | 16/63 [00:14<00:35,  1.32it/s]Premature end of JPEG file\n",
      "epoch 2 loss: 0.1134:  37%|███████▋             | 23/63 [00:19<00:29,  1.35it/s]Premature end of JPEG file\n",
      "epoch 2 loss: 0.1127:  38%|████████             | 24/63 [00:20<00:29,  1.32it/s]Corrupt JPEG data: 111 extraneous bytes before marker 0xd9\n",
      "epoch 2 loss: 0.1079:  68%|██████████████▎      | 43/63 [00:34<00:14,  1.34it/s]Premature end of JPEG file\n",
      "epoch 2 loss: 0.0979: 100%|█████████████████████| 63/63 [00:49<00:00,  1.27it/s]\n",
      "epoch 2 loss: 0.1388: 100%|█████████████████████| 63/63 [00:16<00:00,  3.88it/s]\n"
     ]
    },
    {
     "name": "stdout",
     "output_type": "stream",
     "text": [
      "Fold: 2\n",
      "Epoch 3/199\n"
     ]
    },
    {
     "name": "stderr",
     "output_type": "stream",
     "text": [
      "  0%|                                                    | 0/63 [00:00<?, ?it/s]Premature end of JPEG file\n",
      "epoch 3 loss: 0.0504:   8%|█▋                    | 5/63 [00:05<00:54,  1.07it/s]Premature end of JPEG file\n",
      "epoch 3 loss: 0.0497:  25%|█████▎               | 16/63 [00:14<00:35,  1.31it/s]Premature end of JPEG file\n",
      "epoch 3 loss: 0.0497:  37%|███████▋             | 23/63 [00:19<00:29,  1.34it/s]Premature end of JPEG file\n",
      "epoch 3 loss: 0.0498:  38%|████████             | 24/63 [00:20<00:29,  1.31it/s]Corrupt JPEG data: 111 extraneous bytes before marker 0xd9\n",
      "epoch 3 loss: 0.0487:  68%|██████████████▎      | 43/63 [00:34<00:14,  1.35it/s]Premature end of JPEG file\n",
      "epoch 3 loss: 0.0458: 100%|█████████████████████| 63/63 [00:49<00:00,  1.28it/s]\n",
      "epoch 3 loss: 0.1521: 100%|█████████████████████| 63/63 [00:16<00:00,  3.88it/s]\n"
     ]
    },
    {
     "name": "stdout",
     "output_type": "stream",
     "text": [
      "Fold: 2\n",
      "Epoch 4/199\n"
     ]
    },
    {
     "name": "stderr",
     "output_type": "stream",
     "text": [
      "  0%|                                                    | 0/63 [00:00<?, ?it/s]Premature end of JPEG file\n",
      "epoch 4 loss: 0.0387:   8%|█▋                    | 5/63 [00:05<00:54,  1.07it/s]Premature end of JPEG file\n",
      "epoch 4 loss: 0.0374:  25%|█████▎               | 16/63 [00:14<00:35,  1.31it/s]Premature end of JPEG file\n",
      "epoch 4 loss: 0.0368:  37%|███████▋             | 23/63 [00:19<00:29,  1.34it/s]Premature end of JPEG file\n",
      "epoch 4 loss: 0.0367:  38%|████████             | 24/63 [00:20<00:29,  1.32it/s]Corrupt JPEG data: 111 extraneous bytes before marker 0xd9\n",
      "epoch 4 loss: 0.0362:  68%|██████████████▎      | 43/63 [00:34<00:14,  1.35it/s]Premature end of JPEG file\n",
      "epoch 4 loss: 0.0352: 100%|█████████████████████| 63/63 [00:49<00:00,  1.27it/s]\n",
      "epoch 4 loss: 0.1431: 100%|█████████████████████| 63/63 [00:16<00:00,  3.88it/s]\n"
     ]
    },
    {
     "name": "stdout",
     "output_type": "stream",
     "text": [
      "Fold: 2\n",
      "Epoch 5/199\n"
     ]
    },
    {
     "name": "stderr",
     "output_type": "stream",
     "text": [
      "epoch 5 loss: 0.0391:   2%|▎                     | 1/63 [00:02<02:22,  2.31s/it]Premature end of JPEG file\n",
      "epoch 5 loss: 0.0393:   8%|█▋                    | 5/63 [00:05<00:53,  1.09it/s]Premature end of JPEG file\n",
      "epoch 5 loss: 0.0378:  25%|█████▎               | 16/63 [00:13<00:35,  1.32it/s]Premature end of JPEG file\n",
      "epoch 5 loss: 0.0375:  37%|███████▋             | 23/63 [00:19<00:29,  1.35it/s]Premature end of JPEG file\n",
      "epoch 5 loss: 0.0372:  38%|████████             | 24/63 [00:19<00:29,  1.32it/s]Corrupt JPEG data: 111 extraneous bytes before marker 0xd9\n",
      "epoch 5 loss: 0.0362:  68%|██████████████▎      | 43/63 [00:34<00:14,  1.33it/s]Premature end of JPEG file\n",
      "epoch 5 loss: 0.0334: 100%|█████████████████████| 63/63 [00:49<00:00,  1.28it/s]\n",
      "epoch 5 loss: 0.1628: 100%|█████████████████████| 63/63 [00:16<00:00,  3.85it/s]"
     ]
    },
    {
     "name": "stdout",
     "output_type": "stream",
     "text": [
      "EarlyStopping counter: 1 out of 5\n",
      "Best F1 score from now: 0.963399428018349\n",
      "Fold: 2\n",
      "Epoch 6/199\n"
     ]
    },
    {
     "name": "stderr",
     "output_type": "stream",
     "text": [
      "\n",
      "  0%|                                                    | 0/63 [00:00<?, ?it/s]Premature end of JPEG file\n",
      "epoch 6 loss: 0.0349:   8%|█▋                    | 5/63 [00:05<00:54,  1.06it/s]Premature end of JPEG file\n",
      "epoch 6 loss: 0.0337:  25%|█████▎               | 16/63 [00:14<00:35,  1.32it/s]Premature end of JPEG file\n",
      "epoch 6 loss: 0.0333:  37%|███████▋             | 23/63 [00:19<00:29,  1.35it/s]Premature end of JPEG file\n",
      "epoch 6 loss: 0.0331:  38%|████████             | 24/63 [00:20<00:29,  1.33it/s]Corrupt JPEG data: 111 extraneous bytes before marker 0xd9\n",
      "epoch 6 loss: 0.0321:  68%|██████████████▎      | 43/63 [00:34<00:14,  1.34it/s]Premature end of JPEG file\n",
      "epoch 6 loss: 0.0305: 100%|█████████████████████| 63/63 [00:49<00:00,  1.28it/s]\n",
      "epoch 6 loss: 0.1599: 100%|█████████████████████| 63/63 [00:16<00:00,  3.88it/s]"
     ]
    },
    {
     "name": "stdout",
     "output_type": "stream",
     "text": [
      "EarlyStopping counter: 2 out of 5\n",
      "Best F1 score from now: 0.963399428018349\n",
      "Fold: 2\n",
      "Epoch 7/199\n"
     ]
    },
    {
     "name": "stderr",
     "output_type": "stream",
     "text": [
      "\n",
      "epoch 7 loss: 0.0614:   2%|▎                     | 1/63 [00:02<02:38,  2.56s/it]Premature end of JPEG file\n",
      "epoch 7 loss: 0.0602:   8%|█▋                    | 5/63 [00:05<00:54,  1.06it/s]Premature end of JPEG file\n",
      "epoch 7 loss: 0.0554:  25%|█████▎               | 16/63 [00:14<00:35,  1.32it/s]Premature end of JPEG file\n",
      "epoch 7 loss: 0.0529:  37%|███████▋             | 23/63 [00:19<00:29,  1.35it/s]Premature end of JPEG file\n",
      "epoch 7 loss: 0.0525:  38%|████████             | 24/63 [00:20<00:29,  1.31it/s]Corrupt JPEG data: 111 extraneous bytes before marker 0xd9\n",
      "epoch 7 loss: 0.0487:  68%|██████████████▎      | 43/63 [00:34<00:14,  1.34it/s]Premature end of JPEG file\n",
      "epoch 7 loss: 0.0438: 100%|█████████████████████| 63/63 [00:49<00:00,  1.28it/s]\n",
      "epoch 7 loss: 0.1736: 100%|█████████████████████| 63/63 [00:16<00:00,  3.76it/s]"
     ]
    },
    {
     "name": "stdout",
     "output_type": "stream",
     "text": [
      "EarlyStopping counter: 3 out of 5\n",
      "Best F1 score from now: 0.963399428018349\n",
      "Fold: 2\n",
      "Epoch 8/199\n"
     ]
    },
    {
     "name": "stderr",
     "output_type": "stream",
     "text": [
      "\n",
      "  0%|                                                    | 0/63 [00:00<?, ?it/s]Premature end of JPEG file\n",
      "epoch 8 loss: 0.0371:   8%|█▋                    | 5/63 [00:06<00:55,  1.05it/s]Premature end of JPEG file\n",
      "epoch 8 loss: 0.0355:  25%|█████▎               | 16/63 [00:14<00:35,  1.32it/s]Premature end of JPEG file\n",
      "epoch 8 loss: 0.0341:  37%|███████▋             | 23/63 [00:19<00:29,  1.35it/s]Premature end of JPEG file\n",
      "epoch 8 loss: 0.0342:  38%|████████             | 24/63 [00:20<00:29,  1.32it/s]Corrupt JPEG data: 111 extraneous bytes before marker 0xd9\n",
      "epoch 8 loss: 0.0338:  68%|██████████████▎      | 43/63 [00:34<00:14,  1.35it/s]Premature end of JPEG file\n",
      "epoch 8 loss: 0.0320: 100%|█████████████████████| 63/63 [00:49<00:00,  1.27it/s]\n",
      "epoch 8 loss: 0.1618: 100%|█████████████████████| 63/63 [00:16<00:00,  3.85it/s]"
     ]
    },
    {
     "name": "stdout",
     "output_type": "stream",
     "text": [
      "EarlyStopping counter: 4 out of 5\n",
      "Best F1 score from now: 0.963399428018349\n",
      "Fold: 2\n",
      "Epoch 9/199\n"
     ]
    },
    {
     "name": "stderr",
     "output_type": "stream",
     "text": [
      "\n",
      "epoch 9 loss: 0.0346:   2%|▎                     | 1/63 [00:02<02:46,  2.69s/it]Premature end of JPEG file\n",
      "epoch 9 loss: 0.0345:   8%|█▋                    | 5/63 [00:05<00:54,  1.07it/s]Premature end of JPEG file\n",
      "epoch 9 loss: 0.0329:  25%|█████▎               | 16/63 [00:14<00:35,  1.32it/s]Premature end of JPEG file\n",
      "epoch 9 loss: 0.0321:  37%|███████▋             | 23/63 [00:19<00:29,  1.34it/s]Premature end of JPEG file\n",
      "epoch 9 loss: 0.0319:  38%|████████             | 24/63 [00:20<00:29,  1.31it/s]Corrupt JPEG data: 111 extraneous bytes before marker 0xd9\n",
      "epoch 9 loss: 0.0309:  68%|██████████████▎      | 43/63 [00:34<00:14,  1.35it/s]Premature end of JPEG file\n",
      "epoch 9 loss: 0.0285: 100%|█████████████████████| 63/63 [00:49<00:00,  1.28it/s]\n",
      "epoch 9 loss: 0.1805: 100%|█████████████████████| 63/63 [00:16<00:00,  3.85it/s]\n"
     ]
    },
    {
     "name": "stdout",
     "output_type": "stream",
     "text": [
      "EarlyStopping counter: 5 out of 5\n",
      "Best F1 score from now: 0.963399428018349\n",
      "stop called\n",
      "time : 0:11:05\n",
      "fold: 2, Best Epoch : 4/ 10\n",
      "fold: 2, Best Train Marco F1 : 0.99041\n",
      "[[794   0   0   0   4   0   0   0   0   2]\n",
      " [  0 797   0   0   1   0   1   0   1   0]\n",
      " [  0   0 791   1   3   1   0   4   0   0]\n",
      " [  1   0   2 791   0   0   0   0   0   6]\n",
      " [  3   0   1   0 793   0   1   0   0   2]\n",
      " [  0   0   0   1   0 793   0   0   0   6]\n",
      " [  0   0   0   0   1   0 799   0   0   0]\n",
      " [  0   0   5   0   3   0   0 792   0   0]\n",
      " [  0   0   0   0   0   0   0   0 777  23]\n",
      " [  0   0   0   0   1   0   0   0   3 796]]\n",
      "fold: 2, Best Valid Marco F1 : 0.96340\n",
      "[[198   0   0   0   0   1   0   0   0   1]\n",
      " [  0 193   0   0   5   2   0   0   0   0]\n",
      " [  0   0 189   0   2   3   2   4   0   0]\n",
      " [  1   0   2 195   1   1   0   0   0   0]\n",
      " [  5   2   3   3 177   1   5   2   1   1]\n",
      " [  0   1   1   1   3 194   0   0   0   0]\n",
      " [  0   0   0   0   3   0 197   0   0   0]\n",
      " [  0   0   1   0   3   2   0 194   0   0]\n",
      " [  0   0   0   0   2   0   0   0 190   8]\n",
      " [  0   0   0   0   0   0   0   0   0 200]]\n",
      "---------------------------------------------------------\n",
      "Training start with fold: 3 epoch: 200 \n",
      "\n",
      "All training process\n",
      "Fold: 3\n",
      "Epoch 0/199\n"
     ]
    },
    {
     "name": "stderr",
     "output_type": "stream",
     "text": [
      "  0%|                                                    | 0/63 [00:00<?, ?it/s]Premature end of JPEG file\n",
      "epoch 0 loss: 2.3700:   5%|█                     | 3/63 [00:04<01:12,  1.21s/it]Premature end of JPEG file\n",
      "epoch 0 loss: 2.2619:  32%|██████▋              | 20/63 [00:17<00:32,  1.33it/s]Premature end of JPEG file\n",
      "epoch 0 loss: 2.2253:  37%|███████▋             | 23/63 [00:19<00:29,  1.35it/s]Premature end of JPEG file\n",
      "epoch 0 loss: 1.6500: 100%|█████████████████████| 63/63 [00:49<00:00,  1.28it/s]\n",
      "epoch 0 loss: 0.1184:   3%|▋                     | 2/63 [00:00<00:27,  2.20it/s]Premature end of JPEG file\n",
      "epoch 0 loss: 0.3254:  60%|████████████▋        | 38/63 [00:09<00:06,  4.05it/s]Corrupt JPEG data: 111 extraneous bytes before marker 0xd9\n",
      "epoch 0 loss: 0.2933: 100%|█████████████████████| 63/63 [00:16<00:00,  3.89it/s]\n"
     ]
    },
    {
     "name": "stdout",
     "output_type": "stream",
     "text": [
      "Fold: 3\n",
      "Epoch 1/199\n"
     ]
    },
    {
     "name": "stderr",
     "output_type": "stream",
     "text": [
      "  0%|                                                    | 0/63 [00:00<?, ?it/s]Premature end of JPEG file\n",
      "epoch 1 loss: 0.3700:   5%|█                     | 3/63 [00:04<01:11,  1.19s/it]Premature end of JPEG file\n",
      "epoch 1 loss: 0.3482:  32%|██████▋              | 20/63 [00:16<00:32,  1.32it/s]Premature end of JPEG file\n",
      "epoch 1 loss: 0.3443:  37%|███████▋             | 23/63 [00:19<00:29,  1.34it/s]Premature end of JPEG file\n",
      "epoch 1 loss: 0.2771: 100%|█████████████████████| 63/63 [00:49<00:00,  1.28it/s]\n",
      "epoch 1 loss: 0.0721:   2%|▎                     | 1/63 [00:00<00:51,  1.19it/s]Premature end of JPEG file\n",
      "epoch 1 loss: 0.1425:  60%|████████████▋        | 38/63 [00:10<00:06,  4.05it/s]Corrupt JPEG data: 111 extraneous bytes before marker 0xd9\n",
      "epoch 1 loss: 0.1611: 100%|█████████████████████| 63/63 [00:16<00:00,  3.86it/s]\n"
     ]
    },
    {
     "name": "stdout",
     "output_type": "stream",
     "text": [
      "Fold: 3\n",
      "Epoch 2/199\n"
     ]
    },
    {
     "name": "stderr",
     "output_type": "stream",
     "text": [
      "  0%|                                                    | 0/63 [00:00<?, ?it/s]Premature end of JPEG file\n",
      "epoch 2 loss: 0.1629:   5%|█                     | 3/63 [00:04<01:12,  1.21s/it]Premature end of JPEG file\n",
      "epoch 2 loss: 0.1509:  32%|██████▋              | 20/63 [00:17<00:32,  1.32it/s]Premature end of JPEG file\n",
      "epoch 2 loss: 0.1493:  37%|███████▋             | 23/63 [00:19<00:29,  1.35it/s]Premature end of JPEG file\n",
      "epoch 2 loss: 0.1186: 100%|█████████████████████| 63/63 [00:49<00:00,  1.28it/s]\n",
      "epoch 2 loss: 0.0081:   2%|▎                     | 1/63 [00:00<00:51,  1.21it/s]Premature end of JPEG file\n",
      "epoch 2 loss: 0.1268:  60%|████████████▋        | 38/63 [00:09<00:06,  4.04it/s]Corrupt JPEG data: 111 extraneous bytes before marker 0xd9\n",
      "epoch 2 loss: 0.1474: 100%|█████████████████████| 63/63 [00:16<00:00,  3.88it/s]\n"
     ]
    },
    {
     "name": "stdout",
     "output_type": "stream",
     "text": [
      "Fold: 3\n",
      "Epoch 3/199\n"
     ]
    },
    {
     "name": "stderr",
     "output_type": "stream",
     "text": [
      "  0%|                                                    | 0/63 [00:00<?, ?it/s]Premature end of JPEG file\n",
      "epoch 3 loss: 0.0484:   5%|█                     | 3/63 [00:04<01:11,  1.19s/it]Premature end of JPEG file\n",
      "epoch 3 loss: 0.0479:  32%|██████▋              | 20/63 [00:16<00:32,  1.33it/s]Premature end of JPEG file\n",
      "epoch 3 loss: 0.0478:  37%|███████▋             | 23/63 [00:19<00:29,  1.35it/s]Premature end of JPEG file\n",
      "epoch 3 loss: 0.0423: 100%|█████████████████████| 63/63 [00:48<00:00,  1.29it/s]\n",
      "epoch 3 loss: 0.0741:   3%|▋                     | 2/63 [00:00<00:27,  2.20it/s]Premature end of JPEG file\n",
      "epoch 3 loss: 0.1563:  60%|████████████▋        | 38/63 [00:09<00:06,  4.02it/s]Corrupt JPEG data: 111 extraneous bytes before marker 0xd9\n",
      "epoch 3 loss: 0.1764: 100%|█████████████████████| 63/63 [00:16<00:00,  3.88it/s]"
     ]
    },
    {
     "name": "stdout",
     "output_type": "stream",
     "text": [
      "EarlyStopping counter: 1 out of 5\n",
      "Best F1 score from now: 0.9575783080255595\n",
      "Fold: 3\n",
      "Epoch 4/199\n"
     ]
    },
    {
     "name": "stderr",
     "output_type": "stream",
     "text": [
      "\n",
      "  0%|                                                    | 0/63 [00:00<?, ?it/s]Premature end of JPEG file\n",
      "epoch 4 loss: 0.0381:   5%|█                     | 3/63 [00:04<01:16,  1.27s/it]Premature end of JPEG file\n",
      "epoch 4 loss: 0.0371:  32%|██████▋              | 20/63 [00:17<00:32,  1.33it/s]Premature end of JPEG file\n",
      "epoch 4 loss: 0.0369:  37%|███████▋             | 23/63 [00:19<00:29,  1.35it/s]Premature end of JPEG file\n",
      "epoch 4 loss: 0.0331: 100%|█████████████████████| 63/63 [00:49<00:00,  1.28it/s]\n",
      "epoch 4 loss: 0.0311:   3%|▋                     | 2/63 [00:00<00:26,  2.26it/s]Premature end of JPEG file\n",
      "epoch 4 loss: 0.1928:  60%|████████████▋        | 38/63 [00:09<00:06,  4.05it/s]Corrupt JPEG data: 111 extraneous bytes before marker 0xd9\n",
      "epoch 4 loss: 0.1932: 100%|█████████████████████| 63/63 [00:16<00:00,  3.90it/s]"
     ]
    },
    {
     "name": "stdout",
     "output_type": "stream",
     "text": [
      "EarlyStopping counter: 2 out of 5\n",
      "Best F1 score from now: 0.9575783080255595\n",
      "Fold: 3\n",
      "Epoch 5/199\n"
     ]
    },
    {
     "name": "stderr",
     "output_type": "stream",
     "text": [
      "\n",
      "  0%|                                                    | 0/63 [00:00<?, ?it/s]Premature end of JPEG file\n",
      "epoch 5 loss: 0.0375:   5%|█                     | 3/63 [00:04<01:14,  1.24s/it]Premature end of JPEG file\n",
      "epoch 5 loss: 0.0355:  32%|██████▋              | 20/63 [00:17<00:32,  1.33it/s]Premature end of JPEG file\n",
      "epoch 5 loss: 0.0354:  37%|███████▋             | 23/63 [00:19<00:29,  1.35it/s]Premature end of JPEG file\n",
      "epoch 5 loss: 0.0313: 100%|█████████████████████| 63/63 [00:49<00:00,  1.28it/s]\n",
      "epoch 5 loss: 0.1420:   3%|▋                     | 2/63 [00:01<00:29,  2.04it/s]Premature end of JPEG file\n",
      "epoch 5 loss: 0.1928:  60%|████████████▋        | 38/63 [00:10<00:06,  4.03it/s]Corrupt JPEG data: 111 extraneous bytes before marker 0xd9\n",
      "epoch 5 loss: 0.1824: 100%|█████████████████████| 63/63 [00:16<00:00,  3.86it/s]"
     ]
    },
    {
     "name": "stdout",
     "output_type": "stream",
     "text": [
      "EarlyStopping counter: 3 out of 5\n",
      "Best F1 score from now: 0.9575783080255595\n",
      "Fold: 3\n",
      "Epoch 6/199\n"
     ]
    },
    {
     "name": "stderr",
     "output_type": "stream",
     "text": [
      "\n",
      "  0%|                                                    | 0/63 [00:00<?, ?it/s]Premature end of JPEG file\n",
      "epoch 6 loss: 0.0306:   5%|█                     | 3/63 [00:04<01:14,  1.24s/it]Premature end of JPEG file\n",
      "epoch 6 loss: 0.0296:  32%|██████▋              | 20/63 [00:17<00:32,  1.32it/s]Premature end of JPEG file\n",
      "epoch 6 loss: 0.0294:  37%|███████▋             | 23/63 [00:19<00:29,  1.34it/s]Premature end of JPEG file\n",
      "epoch 6 loss: 0.0263: 100%|█████████████████████| 63/63 [00:49<00:00,  1.28it/s]\n",
      "epoch 6 loss: 0.0011:   2%|▎                     | 1/63 [00:00<00:47,  1.31it/s]Premature end of JPEG file\n",
      "epoch 6 loss: 0.1469:  60%|████████████▋        | 38/63 [00:10<00:06,  3.88it/s]Corrupt JPEG data: 111 extraneous bytes before marker 0xd9\n",
      "epoch 6 loss: 0.1713: 100%|█████████████████████| 63/63 [00:16<00:00,  3.84it/s]\n"
     ]
    },
    {
     "name": "stdout",
     "output_type": "stream",
     "text": [
      "Fold: 3\n",
      "Epoch 7/199\n"
     ]
    },
    {
     "name": "stderr",
     "output_type": "stream",
     "text": [
      "  0%|                                                    | 0/63 [00:00<?, ?it/s]Premature end of JPEG file\n",
      "epoch 7 loss: 0.0251:   5%|█                     | 3/63 [00:04<01:10,  1.17s/it]Premature end of JPEG file\n",
      "epoch 7 loss: 0.0250:  32%|██████▋              | 20/63 [00:16<00:32,  1.33it/s]Premature end of JPEG file\n",
      "epoch 7 loss: 0.0246:  37%|███████▋             | 23/63 [00:19<00:29,  1.35it/s]Premature end of JPEG file\n",
      "epoch 7 loss: 0.0225: 100%|█████████████████████| 63/63 [00:48<00:00,  1.29it/s]\n",
      "epoch 7 loss: 0.0740:   3%|▋                     | 2/63 [00:00<00:27,  2.23it/s]Premature end of JPEG file\n",
      "epoch 7 loss: 0.1376:  60%|████████████▋        | 38/63 [00:09<00:06,  4.05it/s]Corrupt JPEG data: 111 extraneous bytes before marker 0xd9\n",
      "epoch 7 loss: 0.1758: 100%|█████████████████████| 63/63 [00:16<00:00,  3.75it/s]"
     ]
    },
    {
     "name": "stdout",
     "output_type": "stream",
     "text": [
      "EarlyStopping counter: 1 out of 5\n",
      "Best F1 score from now: 0.957661049588947\n",
      "Fold: 3\n",
      "Epoch 8/199\n"
     ]
    },
    {
     "name": "stderr",
     "output_type": "stream",
     "text": [
      "\n",
      "  0%|                                                    | 0/63 [00:00<?, ?it/s]Premature end of JPEG file\n",
      "epoch 8 loss: 0.0340:   5%|█                     | 3/63 [00:04<01:15,  1.27s/it]Premature end of JPEG file\n",
      "epoch 8 loss: 0.0321:  32%|██████▋              | 20/63 [00:17<00:32,  1.33it/s]Premature end of JPEG file\n",
      "epoch 8 loss: 0.0315:  37%|███████▋             | 23/63 [00:19<00:29,  1.35it/s]Premature end of JPEG file\n",
      "epoch 8 loss: 0.0286: 100%|█████████████████████| 63/63 [00:49<00:00,  1.28it/s]\n",
      "epoch 8 loss: 0.0792:   3%|▋                     | 2/63 [00:01<00:29,  2.08it/s]Premature end of JPEG file\n",
      "epoch 8 loss: 0.2353:  60%|████████████▋        | 38/63 [00:09<00:06,  4.03it/s]Corrupt JPEG data: 111 extraneous bytes before marker 0xd9\n",
      "epoch 8 loss: 0.2413: 100%|█████████████████████| 63/63 [00:16<00:00,  3.88it/s]"
     ]
    },
    {
     "name": "stdout",
     "output_type": "stream",
     "text": [
      "EarlyStopping counter: 2 out of 5\n",
      "Best F1 score from now: 0.957661049588947\n",
      "Fold: 3\n",
      "Epoch 9/199\n"
     ]
    },
    {
     "name": "stderr",
     "output_type": "stream",
     "text": [
      "\n",
      "  0%|                                                    | 0/63 [00:00<?, ?it/s]Premature end of JPEG file\n",
      "epoch 9 loss: 0.0406:   5%|█                     | 3/63 [00:04<01:11,  1.19s/it]Premature end of JPEG file\n",
      "epoch 9 loss: 0.0392:  32%|██████▋              | 20/63 [00:16<00:32,  1.32it/s]Premature end of JPEG file\n",
      "epoch 9 loss: 0.0386:  37%|███████▋             | 23/63 [00:19<00:29,  1.34it/s]Premature end of JPEG file\n",
      "epoch 9 loss: 0.0328: 100%|█████████████████████| 63/63 [00:49<00:00,  1.28it/s]\n",
      "epoch 9 loss: 0.0126:   2%|▎                     | 1/63 [00:01<00:47,  1.29it/s]Premature end of JPEG file\n",
      "epoch 9 loss: 0.1519:  60%|████████████▋        | 38/63 [00:10<00:06,  3.94it/s]Corrupt JPEG data: 111 extraneous bytes before marker 0xd9\n",
      "epoch 9 loss: 0.1818: 100%|█████████████████████| 63/63 [00:16<00:00,  3.86it/s]"
     ]
    },
    {
     "name": "stdout",
     "output_type": "stream",
     "text": [
      "EarlyStopping counter: 3 out of 5\n",
      "Best F1 score from now: 0.957661049588947\n",
      "Fold: 3\n",
      "Epoch 10/199\n"
     ]
    },
    {
     "name": "stderr",
     "output_type": "stream",
     "text": [
      "\n",
      "  0%|                                                    | 0/63 [00:00<?, ?it/s]Premature end of JPEG file\n",
      "epoch 10 loss: 0.0452:   5%|█                    | 3/63 [00:04<01:18,  1.31s/it]Premature end of JPEG file\n",
      "epoch 10 loss: 0.0424:  32%|██████▎             | 20/63 [00:17<00:32,  1.32it/s]Premature end of JPEG file\n",
      "epoch 10 loss: 0.0418:  37%|███████▎            | 23/63 [00:19<00:29,  1.35it/s]Premature end of JPEG file\n",
      "epoch 10 loss: 0.0346: 100%|████████████████████| 63/63 [00:49<00:00,  1.27it/s]\n",
      "epoch 10 loss: 0.0313:   3%|▋                    | 2/63 [00:01<00:29,  2.06it/s]Premature end of JPEG file\n",
      "epoch 10 loss: 0.1674:  60%|████████████        | 38/63 [00:10<00:06,  4.04it/s]Corrupt JPEG data: 111 extraneous bytes before marker 0xd9\n",
      "epoch 10 loss: 0.1861: 100%|████████████████████| 63/63 [00:16<00:00,  3.85it/s]"
     ]
    },
    {
     "name": "stdout",
     "output_type": "stream",
     "text": [
      "EarlyStopping counter: 4 out of 5\n",
      "Best F1 score from now: 0.957661049588947\n",
      "Fold: 3\n",
      "Epoch 11/199\n"
     ]
    },
    {
     "name": "stderr",
     "output_type": "stream",
     "text": [
      "\n",
      "  0%|                                                    | 0/63 [00:00<?, ?it/s]Premature end of JPEG file\n",
      "epoch 11 loss: 0.0273:   5%|█                    | 3/63 [00:04<01:14,  1.24s/it]Premature end of JPEG file\n",
      "epoch 11 loss: 0.0266:  32%|██████▎             | 20/63 [00:17<00:32,  1.32it/s]Premature end of JPEG file\n",
      "epoch 11 loss: 0.0262:  37%|███████▎            | 23/63 [00:19<00:29,  1.34it/s]Premature end of JPEG file\n",
      "epoch 11 loss: 0.0224: 100%|████████████████████| 63/63 [00:49<00:00,  1.28it/s]\n",
      "epoch 11 loss: 0.0102:   2%|▎                    | 1/63 [00:00<00:51,  1.21it/s]Premature end of JPEG file\n",
      "epoch 11 loss: 0.2170:  60%|████████████        | 38/63 [00:09<00:06,  4.06it/s]Corrupt JPEG data: 111 extraneous bytes before marker 0xd9\n",
      "epoch 11 loss: 0.2046: 100%|████████████████████| 63/63 [00:16<00:00,  3.88it/s]\n"
     ]
    },
    {
     "name": "stdout",
     "output_type": "stream",
     "text": [
      "EarlyStopping counter: 5 out of 5\n",
      "Best F1 score from now: 0.957661049588947\n",
      "stop called\n",
      "time : 0:13:14\n",
      "fold: 3, Best Epoch : 6/ 12\n",
      "fold: 3, Best Train Marco F1 : 0.99251\n",
      "[[798   0   0   0   0   0   0   0   0   2]\n",
      " [  0 795   0   0   4   0   1   0   0   0]\n",
      " [  0   0 799   1   0   0   0   0   0   0]\n",
      " [  1   0   0 793   2   1   0   0   0   3]\n",
      " [  0   2   1   1 794   0   2   0   0   0]\n",
      " [  1   0   0   2   0 794   0   0   0   3]\n",
      " [  0   2   0   0   0   0 798   0   0   0]\n",
      " [  0   0   1   0   2   0   0 797   0   0]\n",
      " [  0   0   0   0   0   0   0   0 778  22]\n",
      " [  0   0   0   0   0   0   0   0   6 794]]\n",
      "fold: 3, Best Valid Marco F1 : 0.95766\n",
      "[[196   0   0   2   0   2   0   0   0   0]\n",
      " [  0 193   0   0   7   0   0   0   0   0]\n",
      " [  0   1 186   2   4   3   0   4   0   0]\n",
      " [  0   0   0 194   1   3   0   0   0   2]\n",
      " [  0   3   3   5 185   1   1   2   0   0]\n",
      " [  0   3   0   5   3 184   0   1   1   3]\n",
      " [  0   0   0   1   3   0 196   0   0   0]\n",
      " [  0   0   5   0   5   0   0 189   0   1]\n",
      " [  0   0   0   0   0   1   0   0 194   5]\n",
      " [  0   0   0   0   2   0   0   0   0 198]]\n",
      "---------------------------------------------------------\n",
      "Training start with fold: 4 epoch: 200 \n",
      "\n",
      "All training process\n",
      "Fold: 4\n",
      "Epoch 0/199\n"
     ]
    },
    {
     "name": "stderr",
     "output_type": "stream",
     "text": [
      "epoch 0 loss: 2.3297:  22%|████▋                | 14/63 [00:12<00:37,  1.32it/s]Premature end of JPEG file\n",
      "epoch 0 loss: 2.3022:  27%|█████▋               | 17/63 [00:15<00:34,  1.35it/s]Premature end of JPEG file\n",
      "Corrupt JPEG data: 111 extraneous bytes before marker 0xd9\n",
      "epoch 0 loss: 2.2362:  37%|███████▋             | 23/63 [00:19<00:29,  1.35it/s]Premature end of JPEG file\n",
      "epoch 0 loss: 1.9987:  62%|█████████████        | 39/63 [00:31<00:17,  1.35it/s]Premature end of JPEG file\n",
      "epoch 0 loss: 1.9542:  67%|██████████████       | 42/63 [00:33<00:15,  1.33it/s]Premature end of JPEG file\n",
      "epoch 0 loss: 1.6599: 100%|█████████████████████| 63/63 [00:49<00:00,  1.27it/s]\n",
      "epoch 0 loss: 0.2835: 100%|█████████████████████| 63/63 [00:16<00:00,  3.88it/s]\n"
     ]
    },
    {
     "name": "stdout",
     "output_type": "stream",
     "text": [
      "Fold: 4\n",
      "Epoch 1/199\n"
     ]
    },
    {
     "name": "stderr",
     "output_type": "stream",
     "text": [
      "epoch 1 loss: 0.2312:  22%|████▋                | 14/63 [00:12<00:37,  1.31it/s]Premature end of JPEG file\n",
      "epoch 1 loss: 0.2312:  27%|█████▋               | 17/63 [00:14<00:34,  1.34it/s]Premature end of JPEG file\n",
      "Corrupt JPEG data: 111 extraneous bytes before marker 0xd9\n",
      "epoch 1 loss: 0.2299:  37%|███████▋             | 23/63 [00:19<00:29,  1.35it/s]Premature end of JPEG file\n",
      "epoch 1 loss: 0.2187:  62%|█████████████        | 39/63 [00:31<00:17,  1.35it/s]Premature end of JPEG file\n",
      "epoch 1 loss: 0.2165:  67%|██████████████       | 42/63 [00:33<00:15,  1.32it/s]Premature end of JPEG file\n",
      "epoch 1 loss: 0.2004: 100%|█████████████████████| 63/63 [00:49<00:00,  1.27it/s]\n",
      "epoch 1 loss: 0.1622: 100%|█████████████████████| 63/63 [00:16<00:00,  3.84it/s]\n"
     ]
    },
    {
     "name": "stdout",
     "output_type": "stream",
     "text": [
      "Fold: 4\n",
      "Epoch 2/199\n"
     ]
    },
    {
     "name": "stderr",
     "output_type": "stream",
     "text": [
      "epoch 2 loss: 0.1121:  22%|████▋                | 14/63 [00:12<00:37,  1.31it/s]Premature end of JPEG file\n",
      "epoch 2 loss: 0.1115:  27%|█████▋               | 17/63 [00:14<00:34,  1.35it/s]Premature end of JPEG file\n",
      "Corrupt JPEG data: 111 extraneous bytes before marker 0xd9\n",
      "epoch 2 loss: 0.1098:  37%|███████▋             | 23/63 [00:19<00:29,  1.35it/s]Premature end of JPEG file\n",
      "epoch 2 loss: 0.1035:  62%|█████████████        | 39/63 [00:31<00:17,  1.34it/s]Premature end of JPEG file\n",
      "epoch 2 loss: 0.1021:  67%|██████████████       | 42/63 [00:33<00:15,  1.32it/s]Premature end of JPEG file\n",
      "epoch 2 loss: 0.0959: 100%|█████████████████████| 63/63 [00:49<00:00,  1.28it/s]\n",
      "epoch 2 loss: 0.1651: 100%|█████████████████████| 63/63 [00:16<00:00,  3.85it/s]\n"
     ]
    },
    {
     "name": "stdout",
     "output_type": "stream",
     "text": [
      "Fold: 4\n",
      "Epoch 3/199\n"
     ]
    },
    {
     "name": "stderr",
     "output_type": "stream",
     "text": [
      "epoch 3 loss: 0.0731:  22%|████▋                | 14/63 [00:12<00:37,  1.32it/s]Premature end of JPEG file\n",
      "epoch 3 loss: 0.0723:  27%|█████▋               | 17/63 [00:14<00:34,  1.35it/s]Premature end of JPEG file\n",
      "Corrupt JPEG data: 111 extraneous bytes before marker 0xd9\n",
      "epoch 3 loss: 0.0708:  37%|███████▋             | 23/63 [00:19<00:29,  1.34it/s]Premature end of JPEG file\n",
      "epoch 3 loss: 0.0655:  62%|█████████████        | 39/63 [00:31<00:17,  1.34it/s]Premature end of JPEG file\n",
      "epoch 3 loss: 0.0652:  67%|██████████████       | 42/63 [00:33<00:15,  1.32it/s]Premature end of JPEG file\n",
      "epoch 3 loss: 0.0606: 100%|█████████████████████| 63/63 [00:49<00:00,  1.28it/s]\n",
      "epoch 3 loss: 0.1716: 100%|█████████████████████| 63/63 [00:16<00:00,  3.84it/s]\n"
     ]
    },
    {
     "name": "stdout",
     "output_type": "stream",
     "text": [
      "Fold: 4\n",
      "Epoch 4/199\n"
     ]
    },
    {
     "name": "stderr",
     "output_type": "stream",
     "text": [
      "epoch 4 loss: 0.0223:  22%|████▋                | 14/63 [00:12<00:37,  1.31it/s]Premature end of JPEG file\n",
      "epoch 4 loss: 0.0224:  27%|█████▋               | 17/63 [00:14<00:34,  1.34it/s]Premature end of JPEG file\n",
      "Corrupt JPEG data: 111 extraneous bytes before marker 0xd9\n",
      "epoch 4 loss: 0.0223:  37%|███████▋             | 23/63 [00:19<00:29,  1.34it/s]Premature end of JPEG file\n",
      "epoch 4 loss: 0.0221:  62%|█████████████        | 39/63 [00:31<00:17,  1.35it/s]Premature end of JPEG file\n",
      "epoch 4 loss: 0.0223:  67%|██████████████       | 42/63 [00:33<00:15,  1.32it/s]Premature end of JPEG file\n",
      "epoch 4 loss: 0.0236: 100%|█████████████████████| 63/63 [00:49<00:00,  1.28it/s]\n",
      "epoch 4 loss: 0.1656: 100%|█████████████████████| 63/63 [00:16<00:00,  3.83it/s]\n"
     ]
    },
    {
     "name": "stdout",
     "output_type": "stream",
     "text": [
      "Fold: 4\n",
      "Epoch 5/199\n"
     ]
    },
    {
     "name": "stderr",
     "output_type": "stream",
     "text": [
      "epoch 5 loss: 0.0291:  22%|████▋                | 14/63 [00:12<00:37,  1.32it/s]Premature end of JPEG file\n",
      "epoch 5 loss: 0.0288:  27%|█████▋               | 17/63 [00:14<00:34,  1.35it/s]Premature end of JPEG file\n",
      "Corrupt JPEG data: 111 extraneous bytes before marker 0xd9\n",
      "epoch 5 loss: 0.0285:  37%|███████▋             | 23/63 [00:19<00:29,  1.35it/s]Premature end of JPEG file\n",
      "epoch 5 loss: 0.0277:  62%|█████████████        | 39/63 [00:31<00:17,  1.35it/s]Premature end of JPEG file\n",
      "epoch 5 loss: 0.0278:  67%|██████████████       | 42/63 [00:33<00:15,  1.33it/s]Premature end of JPEG file\n",
      "epoch 5 loss: 0.0274: 100%|█████████████████████| 63/63 [00:48<00:00,  1.29it/s]\n",
      "epoch 5 loss: 0.1788: 100%|█████████████████████| 63/63 [00:16<00:00,  3.87it/s]"
     ]
    },
    {
     "name": "stdout",
     "output_type": "stream",
     "text": [
      "EarlyStopping counter: 1 out of 5\n",
      "Best F1 score from now: 0.9607121534148533\n",
      "Fold: 4\n",
      "Epoch 6/199\n"
     ]
    },
    {
     "name": "stderr",
     "output_type": "stream",
     "text": [
      "\n",
      "epoch 6 loss: 0.0375:  22%|████▋                | 14/63 [00:12<00:37,  1.31it/s]Premature end of JPEG file\n",
      "epoch 6 loss: 0.0369:  27%|█████▋               | 17/63 [00:15<00:34,  1.34it/s]Premature end of JPEG file\n",
      "Corrupt JPEG data: 111 extraneous bytes before marker 0xd9\n",
      "epoch 6 loss: 0.0361:  37%|███████▋             | 23/63 [00:19<00:29,  1.34it/s]Premature end of JPEG file\n",
      "epoch 6 loss: 0.0339:  62%|█████████████        | 39/63 [00:31<00:17,  1.34it/s]Premature end of JPEG file\n",
      "epoch 6 loss: 0.0339:  67%|██████████████       | 42/63 [00:33<00:15,  1.32it/s]Premature end of JPEG file\n",
      "epoch 6 loss: 0.0327: 100%|█████████████████████| 63/63 [00:49<00:00,  1.27it/s]\n",
      "epoch 6 loss: 0.1810: 100%|█████████████████████| 63/63 [00:16<00:00,  3.87it/s]"
     ]
    },
    {
     "name": "stdout",
     "output_type": "stream",
     "text": [
      "EarlyStopping counter: 2 out of 5\n",
      "Best F1 score from now: 0.9607121534148533\n",
      "Fold: 4\n",
      "Epoch 7/199\n"
     ]
    },
    {
     "name": "stderr",
     "output_type": "stream",
     "text": [
      "\n",
      "epoch 7 loss: 0.0185:  22%|████▋                | 14/63 [00:12<00:37,  1.32it/s]Premature end of JPEG file\n",
      "epoch 7 loss: 0.0184:  27%|█████▋               | 17/63 [00:14<00:34,  1.34it/s]Premature end of JPEG file\n",
      "Corrupt JPEG data: 111 extraneous bytes before marker 0xd9\n",
      "epoch 7 loss: 0.0187:  37%|███████▋             | 23/63 [00:19<00:29,  1.34it/s]Premature end of JPEG file\n",
      "epoch 7 loss: 0.0191:  62%|█████████████        | 39/63 [00:31<00:17,  1.34it/s]Premature end of JPEG file\n",
      "epoch 7 loss: 0.0194:  67%|██████████████       | 42/63 [00:33<00:15,  1.32it/s]Premature end of JPEG file\n",
      "epoch 7 loss: 0.0202: 100%|█████████████████████| 63/63 [00:49<00:00,  1.28it/s]\n",
      "epoch 7 loss: 0.1826: 100%|█████████████████████| 63/63 [00:16<00:00,  3.71it/s]"
     ]
    },
    {
     "name": "stdout",
     "output_type": "stream",
     "text": [
      "EarlyStopping counter: 3 out of 5\n",
      "Best F1 score from now: 0.9607121534148533\n",
      "Fold: 4\n",
      "Epoch 8/199\n"
     ]
    },
    {
     "name": "stderr",
     "output_type": "stream",
     "text": [
      "\n",
      "epoch 8 loss: 0.0152:  22%|████▋                | 14/63 [00:12<00:37,  1.32it/s]Premature end of JPEG file\n",
      "epoch 8 loss: 0.0151:  27%|█████▋               | 17/63 [00:15<00:34,  1.35it/s]Premature end of JPEG file\n",
      "Corrupt JPEG data: 111 extraneous bytes before marker 0xd9\n",
      "epoch 8 loss: 0.0154:  37%|███████▋             | 23/63 [00:19<00:29,  1.34it/s]Premature end of JPEG file\n",
      "epoch 8 loss: 0.0152:  62%|█████████████        | 39/63 [00:31<00:17,  1.35it/s]Premature end of JPEG file\n",
      "epoch 8 loss: 0.0154:  67%|██████████████       | 42/63 [00:33<00:15,  1.32it/s]Premature end of JPEG file\n",
      "epoch 8 loss: 0.0167: 100%|█████████████████████| 63/63 [00:49<00:00,  1.27it/s]\n",
      "epoch 8 loss: 0.1760: 100%|█████████████████████| 63/63 [00:16<00:00,  3.87it/s]"
     ]
    },
    {
     "name": "stdout",
     "output_type": "stream",
     "text": [
      "EarlyStopping counter: 4 out of 5\n",
      "Best F1 score from now: 0.9607121534148533\n",
      "Fold: 4\n",
      "Epoch 9/199\n"
     ]
    },
    {
     "name": "stderr",
     "output_type": "stream",
     "text": [
      "\n",
      "epoch 9 loss: 0.0097:  22%|████▋                | 14/63 [00:12<00:37,  1.32it/s]Premature end of JPEG file\n",
      "epoch 9 loss: 0.0099:  27%|█████▋               | 17/63 [00:14<00:34,  1.34it/s]Premature end of JPEG file\n",
      "Corrupt JPEG data: 111 extraneous bytes before marker 0xd9\n",
      "epoch 9 loss: 0.0104:  37%|███████▋             | 23/63 [00:19<00:29,  1.35it/s]Premature end of JPEG file\n",
      "epoch 9 loss: 0.0111:  62%|█████████████        | 39/63 [00:31<00:17,  1.35it/s]Premature end of JPEG file\n",
      "epoch 9 loss: 0.0113:  67%|██████████████       | 42/63 [00:33<00:15,  1.32it/s]Premature end of JPEG file\n",
      "epoch 9 loss: 0.0130: 100%|█████████████████████| 63/63 [00:49<00:00,  1.27it/s]\n",
      "epoch 9 loss: 0.1708: 100%|█████████████████████| 63/63 [00:16<00:00,  3.87it/s]\n"
     ]
    },
    {
     "name": "stdout",
     "output_type": "stream",
     "text": [
      "EarlyStopping counter: 5 out of 5\n",
      "Best F1 score from now: 0.9607121534148533\n",
      "stop called\n",
      "time : 0:11:05\n",
      "fold: 4, Best Epoch : 4/ 10\n",
      "fold: 4, Best Train Marco F1 : 0.99177\n",
      "[[798   0   0   0   0   0   0   0   0   2]\n",
      " [  0 797   0   0   3   0   0   0   0   0]\n",
      " [  0   0 794   0   2   2   0   2   0   0]\n",
      " [  0   0   0 792   1   2   1   0   0   4]\n",
      " [  0   3   1   1 793   0   0   2   0   0]\n",
      " [  0   0   0   2   1 792   0   0   0   5]\n",
      " [  0   0   0   1   1   0 798   0   0   0]\n",
      " [  0   0   1   0   3   0   0 796   0   0]\n",
      " [  0   0   0   0   0   0   0   0 777  23]\n",
      " [  0   0   0   0   1   0   0   0   2 797]]\n",
      "fold: 4, Best Valid Marco F1 : 0.96071\n",
      "[[199   0   0   0   1   0   0   0   0   0]\n",
      " [  0 184   0   0  15   0   1   0   0   0]\n",
      " [  0   0 185   2  10   3   0   0   0   0]\n",
      " [  0   0   1 193   0   3   0   2   0   1]\n",
      " [  1   1   4   1 183   1   3   3   1   2]\n",
      " [  0   0   1   2   2 192   1   0   1   1]\n",
      " [  0   0   0   0   0   0 200   0   0   0]\n",
      " [  0   0   2   0   4   0   0 194   0   0]\n",
      " [  0   0   0   0   0   0   0   0 191   9]\n",
      " [  0   0   0   0   0   0   0   0   0 200]]\n",
      "---------------------------------------------------------\n",
      "best_fold : 0.9700659515166781\n",
      " Top fold : 1\n"
     ]
    }
   ],
   "source": [
    "model_dir = '{}'.format(CFG['model'])\n",
    "train_dir = train.dir.values\n",
    "\n",
    "if __name__ == '__main__':\n",
    "     # for training only, need nightly build pytorch\n",
    "    wandb.init(project=project_name, entity=user)\n",
    "    \n",
    "#     wandb.login()\n",
    "#     wandb.init(project=\"3class classification\")\n",
    "    wandb.config.update(CFG)\n",
    "    wandb.run.name = run_name\n",
    "    wandb.define_metric(\"Train Accuracy\", step_metric=\"epoch\")\n",
    "    wandb.define_metric(\"Valid Accuracy\", step_metric=\"epoch\")\n",
    "    wandb.define_metric(\"Train Loss\", step_metric=\"epoch\")\n",
    "    wandb.define_metric(\"Valid Loss\", step_metric=\"epoch\")\n",
    "    wandb.define_metric(\"Train Macro F1 Score\", step_metric=\"epoch\")\n",
    "    wandb.define_metric(\"Valid Macro F1 Score\", step_metric=\"epoch\")\n",
    "    wandb.define_metric(\"Train-Valid Accuracy\", step_metric=\"epoch\")\n",
    "    \n",
    "    \n",
    "    seed_everything(CFG['seed'])\n",
    "    \n",
    "    if not os.path.isdir(model_dir):\n",
    "        os.makedirs(model_dir)\n",
    "    \n",
    "    folds = StratifiedKFold(n_splits=CFG['fold_num'], shuffle=True, random_state=CFG['seed']).split(np.arange(train.shape[0]), train.label.values)\n",
    "    \n",
    "    best_fold = 0\n",
    "    model_name = CFG['model']\n",
    "    print(f'Model: {model_name}')\n",
    "    for fold, (trn_idx, val_idx) in enumerate(folds):\n",
    "    \n",
    "        print(f'Training start with fold: {fold} epoch: {CFG[\"epochs\"]} \\n')\n",
    "\n",
    "        early_stopping = EarlyStopping(patience=CFG[\"patience\"], verbose=True)\n",
    "        train_loader, val_loader = prepare_dataloader(train, trn_idx, val_idx, data_root=train_dir)\n",
    "\n",
    "        device = torch.device(CFG['device'])\n",
    "        \n",
    "        model = ForcepImgClassifier(CFG['model'], train.label.nunique(), pretrained=True)\n",
    "        model.freezing(freeze = CFG['freezing'])\n",
    "\n",
    "        for name, param in model.named_parameters():\n",
    "            if CFG['freezing'] == True and param.requires_grad:\n",
    "                print(f'Freezing process: Not freezed : {name}')\n",
    "        if CFG['freezing'] == False:\n",
    "            print('All training process')\n",
    "        \n",
    "        \n",
    "        if torch.cuda.device_count() > 1:\n",
    "            model = nn.DataParallel(model)\n",
    "\n",
    "        model.to(device)\n",
    "        model = DDP(model)\n",
    "\n",
    "        scaler = GradScaler()   \n",
    "        optimizer = torch.optim.Adam(model.parameters(), lr=CFG['lr'])\n",
    "        scheduler = torch.optim.lr_scheduler.StepLR(optimizer, gamma=0.5, step_size=25)\n",
    "\n",
    "        loss_tr = nn.CrossEntropyLoss().to(device) #MyCrossEntropyLoss().to(device)\n",
    "        loss_fn = nn.CrossEntropyLoss().to(device)\n",
    "\n",
    "        wandb.watch(model, loss_tr, log='all')\n",
    "\n",
    "        train_acc_list = []\n",
    "        train_matrix_list = []\n",
    "        train_f1_list = []\n",
    "        valid_acc_list = []\n",
    "        valid_matrix_list = []\n",
    "        valid_f1_list = []\n",
    "        best_f1 =0.0\n",
    "        \n",
    "        start = time.time()\n",
    "        for epoch in range(CFG['epochs']):\n",
    "            print(f'Fold: {fold}')\n",
    "            print('Epoch {}/{}'.format(epoch, CFG['epochs'] - 1))\n",
    "            \n",
    "            train_preds_all, train_acc, train_loss, train_matrix, train_f1 = train_one_epoch(epoch, model, loss_tr,\n",
    "                                                                        optimizer, train_loader, device, scheduler=scheduler, schd_batch_update=False)\n",
    "            wandb.log({'Train Accuracy':train_acc, 'Train Loss' : train_loss, 'Train F1': train_f1, 'epoch' : epoch})\n",
    "\n",
    "            with torch.no_grad():\n",
    "                valid_preds_all, valid_acc, valid_loss, valid_matrix, valid_f1= valid_one_epoch(epoch, model, loss_fn,\n",
    "                                                                        val_loader, device, scheduler=None, schd_loss_update=False)\n",
    "                wandb.log({'Valid Accuracy':valid_acc, 'Valid Loss' : valid_loss, 'Valid F1': valid_f1 ,'epoch' : epoch})\n",
    "                \n",
    "            train_acc_list.append(train_acc)\n",
    "            train_matrix_list.append(train_matrix)\n",
    "            train_f1_list.append(train_f1)\n",
    "            \n",
    "            valid_acc_list.append(valid_acc)\n",
    "            valid_matrix_list.append(valid_matrix)\n",
    "            valid_f1_list.append(valid_f1)\n",
    "            \n",
    "            \n",
    "            if valid_f1 > best_f1:\n",
    "                best_f1 = valid_f1\n",
    "                torch.save(model.state_dict(), (model_dir+'/{}_{}').format(CFG['model'],fold))\n",
    "                \n",
    "            # EARLY STOPPING\n",
    "            stop = early_stopping(valid_f1)\n",
    "            if stop:\n",
    "                print(\"stop called\")   \n",
    "                break\n",
    "    \n",
    "        end = time.time() - start\n",
    "        time_ = str(datetime.timedelta(seconds=end)).split(\".\")[0]\n",
    "        print(\"time :\", time_)\n",
    "\n",
    "        best_index = valid_f1_list.index(max(valid_f1_list))\n",
    "        print(f'fold: {fold}, Best Epoch : {best_index}/ {len(valid_f1_list)}')\n",
    "        \n",
    "        print(f'fold: {fold}, Best Train Marco F1 : {train_f1_list[best_index]:.5f}')\n",
    "        print(train_matrix_list[best_index])\n",
    "        \n",
    "        print(f'fold: {fold}, Best Valid Marco F1 : {valid_f1_list[best_index]:.5f}')\n",
    "        print(valid_matrix_list[best_index])\n",
    "        print('---------------------------------------------------------')\n",
    "        \n",
    "        if valid_f1_list[best_index] > best_fold:\n",
    "            best_fold = valid_f1_list[best_index]\n",
    "            top_fold = fold\n",
    "    print(f'best_fold : {best_fold}\\n Top fold : {top_fold}')\n",
    "\n",
    "    del model, optimizer, train_loader, val_loader, scaler\n",
    "    torch.cuda.empty_cache()\n"
   ]
  },
  {
   "cell_type": "code",
   "execution_count": 9,
   "id": "43b952e1",
   "metadata": {},
   "outputs": [],
   "source": [
    "dist.destroy_process_group()"
   ]
  },
  {
   "cell_type": "code",
   "execution_count": 6,
   "id": "c9ab9299-b98a-43ef-ad42-51e4aad3ddd0",
   "metadata": {},
   "outputs": [
    {
     "data": {
      "text/html": [
       "<div>\n",
       "<style scoped>\n",
       "    .dataframe tbody tr th:only-of-type {\n",
       "        vertical-align: middle;\n",
       "    }\n",
       "\n",
       "    .dataframe tbody tr th {\n",
       "        vertical-align: top;\n",
       "    }\n",
       "\n",
       "    .dataframe thead th {\n",
       "        text-align: right;\n",
       "    }\n",
       "</style>\n",
       "<table border=\"1\" class=\"dataframe\">\n",
       "  <thead>\n",
       "    <tr style=\"text-align: right;\">\n",
       "      <th></th>\n",
       "      <th>image_id</th>\n",
       "      <th>dir</th>\n",
       "      <th>label</th>\n",
       "    </tr>\n",
       "  </thead>\n",
       "  <tbody>\n",
       "    <tr>\n",
       "      <th>0</th>\n",
       "      <td>토스 만보_459.jpg</td>\n",
       "      <td>../Data/carbon_reduction/10kwalking</td>\n",
       "      <td>10kwalking</td>\n",
       "    </tr>\n",
       "    <tr>\n",
       "      <th>1</th>\n",
       "      <td>캐시워크 만보_262.jpg</td>\n",
       "      <td>../Data/carbon_reduction/10kwalking</td>\n",
       "      <td>10kwalking</td>\n",
       "    </tr>\n",
       "    <tr>\n",
       "      <th>2</th>\n",
       "      <td>아이폰 걸음수_192.jpg</td>\n",
       "      <td>../Data/carbon_reduction/10kwalking</td>\n",
       "      <td>10kwalking</td>\n",
       "    </tr>\n",
       "    <tr>\n",
       "      <th>3</th>\n",
       "      <td>삼성헬스 만보_352.jpg</td>\n",
       "      <td>../Data/carbon_reduction/10kwalking</td>\n",
       "      <td>10kwalking</td>\n",
       "    </tr>\n",
       "    <tr>\n",
       "      <th>4</th>\n",
       "      <td>아이폰 걸음수_408.jpg</td>\n",
       "      <td>../Data/carbon_reduction/10kwalking</td>\n",
       "      <td>10kwalking</td>\n",
       "    </tr>\n",
       "    <tr>\n",
       "      <th>...</th>\n",
       "      <td>...</td>\n",
       "      <td>...</td>\n",
       "      <td>...</td>\n",
       "    </tr>\n",
       "    <tr>\n",
       "      <th>3995</th>\n",
       "      <td>양치컵_310.jpg</td>\n",
       "      <td>../Data/carbon_reduction/cup/양치컵_네이버</td>\n",
       "      <td>cup</td>\n",
       "    </tr>\n",
       "    <tr>\n",
       "      <th>3996</th>\n",
       "      <td>양치컵_256.jpg</td>\n",
       "      <td>../Data/carbon_reduction/cup/양치컵_네이버</td>\n",
       "      <td>cup</td>\n",
       "    </tr>\n",
       "    <tr>\n",
       "      <th>3997</th>\n",
       "      <td>양치컵_250.jpg</td>\n",
       "      <td>../Data/carbon_reduction/cup/양치컵_네이버</td>\n",
       "      <td>cup</td>\n",
       "    </tr>\n",
       "    <tr>\n",
       "      <th>3998</th>\n",
       "      <td>양치컵_114.jpg</td>\n",
       "      <td>../Data/carbon_reduction/cup/양치컵_네이버</td>\n",
       "      <td>cup</td>\n",
       "    </tr>\n",
       "    <tr>\n",
       "      <th>3999</th>\n",
       "      <td>양치컵_005.jpg</td>\n",
       "      <td>../Data/carbon_reduction/cup/양치컵_네이버</td>\n",
       "      <td>cup</td>\n",
       "    </tr>\n",
       "  </tbody>\n",
       "</table>\n",
       "<p>4000 rows × 3 columns</p>\n",
       "</div>"
      ],
      "text/plain": [
       "             image_id                                   dir       label\n",
       "0       토스 만보_459.jpg   ../Data/carbon_reduction/10kwalking  10kwalking\n",
       "1     캐시워크 만보_262.jpg   ../Data/carbon_reduction/10kwalking  10kwalking\n",
       "2     아이폰 걸음수_192.jpg   ../Data/carbon_reduction/10kwalking  10kwalking\n",
       "3     삼성헬스 만보_352.jpg   ../Data/carbon_reduction/10kwalking  10kwalking\n",
       "4     아이폰 걸음수_408.jpg   ../Data/carbon_reduction/10kwalking  10kwalking\n",
       "...               ...                                   ...         ...\n",
       "3995      양치컵_310.jpg  ../Data/carbon_reduction/cup/양치컵_네이버         cup\n",
       "3996      양치컵_256.jpg  ../Data/carbon_reduction/cup/양치컵_네이버         cup\n",
       "3997      양치컵_250.jpg  ../Data/carbon_reduction/cup/양치컵_네이버         cup\n",
       "3998      양치컵_114.jpg  ../Data/carbon_reduction/cup/양치컵_네이버         cup\n",
       "3999      양치컵_005.jpg  ../Data/carbon_reduction/cup/양치컵_네이버         cup\n",
       "\n",
       "[4000 rows x 3 columns]"
      ]
     },
     "execution_count": 6,
     "metadata": {},
     "output_type": "execute_result"
    }
   ],
   "source": [
    "## Pandas Test 데이터프레임 만들기\n",
    "tst_df = pd.DataFrame(total_test_img_paths, columns=['image_id'])\n",
    "tst_df['dir'] = tst_df['image_id'].apply(lambda x: os.path.dirname(x))\n",
    "tst_df['image_id'] = tst_df['image_id'].apply(lambda x: os.path.basename(x))\n",
    "tst_df['label'] = total_test_img_labels\n",
    "test = tst_df\n",
    "test"
   ]
  },
  {
   "cell_type": "code",
   "execution_count": 17,
   "id": "93dba2e1-92a8-4e81-89e8-17005fb81bbd",
   "metadata": {},
   "outputs": [],
   "source": [
    "test['label'] = le.fit_transform(test['label'].values)"
   ]
  },
  {
   "cell_type": "code",
   "execution_count": 8,
   "id": "2e2f860f-0a76-45a5-8472-29208fc5ab94",
   "metadata": {},
   "outputs": [
    {
     "name": "stderr",
     "output_type": "stream",
     "text": [
      " 19%|████████▎                                   | 6/32 [00:11<00:39,  1.51s/it]Premature end of JPEG file\n",
      " 22%|█████████▋                                  | 7/32 [00:13<00:37,  1.49s/it]Premature end of JPEG file\n",
      " 25%|███████████                                 | 8/32 [00:14<00:34,  1.46s/it]Premature end of JPEG file\n",
      "100%|███████████████████████████████████████████| 32/32 [00:36<00:00,  1.13s/it]\n"
     ]
    }
   ],
   "source": [
    "model_name = 'inception_resnet_v2'\n",
    "model_dir = model_name + '/inception_resnet_v2_1'\n",
    "%run inference.ipynb"
   ]
  },
  {
   "cell_type": "code",
   "execution_count": 19,
   "id": "da647547-7a7b-4690-94df-bb42ca426f3c",
   "metadata": {},
   "outputs": [
    {
     "name": "stdout",
     "output_type": "stream",
     "text": [
      "accuracy: 0.8850\n",
      "f1_score: 0.8938\n"
     ]
    },
    {
     "data": {
      "image/png": "[encoded data removed]",
      "text/plain": [
       "<Figure size 1500x1000 with 2 Axes>"
      ]
     },
     "metadata": {},
     "output_type": "display_data"
    }
   ],
   "source": [
    "print(f'accuracy: {test_acc:.4f}')\n",
    "print(f'f1_score: {epoch_f1:.4f}')\n",
    "import seaborn as sns\n",
    "\n",
    "test_matrix = confusion_matrix(test['label'], test['pred'], normalize='true')\n",
    "test['label'] = le.inverse_transform(test['label'].values)\n",
    "plt.figure(figsize = (15,10))\n",
    "sns.heatmap(test_matrix, \n",
    "            annot=True, \n",
    "            xticklabels = sorted(set(test['label'])), \n",
    "            yticklabels = sorted(set(test['label'])),\n",
    "            )\n",
    "plt.title('Normalized Confusion Matrix')\n",
    "plt.show()\n",
    "\n",
    "#print(f'confusion_matrix \\n-------------------------\\n {test_matrix}')"
   ]
  },
  {
   "cell_type": "code",
   "execution_count": 14,
   "id": "3d52366f-1758-44e0-b1fe-e54bfeec958e",
   "metadata": {},
   "outputs": [],
   "source": [
    "test['label'] = le.inverse_transform(test['label'].values)"
   ]
  },
  {
   "cell_type": "code",
   "execution_count": 15,
   "id": "f6297158-cccc-40d3-b492-026ba1c87d9d",
   "metadata": {},
   "outputs": [
    {
     "data": {
      "text/html": [
       "<div>\n",
       "<style scoped>\n",
       "    .dataframe tbody tr th:only-of-type {\n",
       "        vertical-align: middle;\n",
       "    }\n",
       "\n",
       "    .dataframe tbody tr th {\n",
       "        vertical-align: top;\n",
       "    }\n",
       "\n",
       "    .dataframe thead th {\n",
       "        text-align: right;\n",
       "    }\n",
       "</style>\n",
       "<table border=\"1\" class=\"dataframe\">\n",
       "  <thead>\n",
       "    <tr style=\"text-align: right;\">\n",
       "      <th></th>\n",
       "      <th>image_id</th>\n",
       "      <th>dir</th>\n",
       "      <th>label</th>\n",
       "      <th>pred</th>\n",
       "      <th>confidence score</th>\n",
       "    </tr>\n",
       "  </thead>\n",
       "  <tbody>\n",
       "    <tr>\n",
       "      <th>0</th>\n",
       "      <td>토스 만보_459.jpg</td>\n",
       "      <td>../Data/carbon_reduction/10kwalking</td>\n",
       "      <td>10kwalking</td>\n",
       "      <td>0</td>\n",
       "      <td>0.999351</td>\n",
       "    </tr>\n",
       "    <tr>\n",
       "      <th>1</th>\n",
       "      <td>캐시워크 만보_262.jpg</td>\n",
       "      <td>../Data/carbon_reduction/10kwalking</td>\n",
       "      <td>10kwalking</td>\n",
       "      <td>0</td>\n",
       "      <td>0.999483</td>\n",
       "    </tr>\n",
       "    <tr>\n",
       "      <th>2</th>\n",
       "      <td>아이폰 걸음수_192.jpg</td>\n",
       "      <td>../Data/carbon_reduction/10kwalking</td>\n",
       "      <td>10kwalking</td>\n",
       "      <td>0</td>\n",
       "      <td>0.999304</td>\n",
       "    </tr>\n",
       "    <tr>\n",
       "      <th>3</th>\n",
       "      <td>삼성헬스 만보_352.jpg</td>\n",
       "      <td>../Data/carbon_reduction/10kwalking</td>\n",
       "      <td>10kwalking</td>\n",
       "      <td>0</td>\n",
       "      <td>0.999679</td>\n",
       "    </tr>\n",
       "    <tr>\n",
       "      <th>4</th>\n",
       "      <td>아이폰 걸음수_408.jpg</td>\n",
       "      <td>../Data/carbon_reduction/10kwalking</td>\n",
       "      <td>10kwalking</td>\n",
       "      <td>0</td>\n",
       "      <td>0.999681</td>\n",
       "    </tr>\n",
       "    <tr>\n",
       "      <th>...</th>\n",
       "      <td>...</td>\n",
       "      <td>...</td>\n",
       "      <td>...</td>\n",
       "      <td>...</td>\n",
       "      <td>...</td>\n",
       "    </tr>\n",
       "    <tr>\n",
       "      <th>3995</th>\n",
       "      <td>양치컵_310.jpg</td>\n",
       "      <td>../Data/carbon_reduction/cup/양치컵_네이버</td>\n",
       "      <td>cup</td>\n",
       "      <td>3</td>\n",
       "      <td>0.999634</td>\n",
       "    </tr>\n",
       "    <tr>\n",
       "      <th>3996</th>\n",
       "      <td>양치컵_256.jpg</td>\n",
       "      <td>../Data/carbon_reduction/cup/양치컵_네이버</td>\n",
       "      <td>cup</td>\n",
       "      <td>3</td>\n",
       "      <td>0.999704</td>\n",
       "    </tr>\n",
       "    <tr>\n",
       "      <th>3997</th>\n",
       "      <td>양치컵_250.jpg</td>\n",
       "      <td>../Data/carbon_reduction/cup/양치컵_네이버</td>\n",
       "      <td>cup</td>\n",
       "      <td>3</td>\n",
       "      <td>0.999633</td>\n",
       "    </tr>\n",
       "    <tr>\n",
       "      <th>3998</th>\n",
       "      <td>양치컵_114.jpg</td>\n",
       "      <td>../Data/carbon_reduction/cup/양치컵_네이버</td>\n",
       "      <td>cup</td>\n",
       "      <td>3</td>\n",
       "      <td>0.999681</td>\n",
       "    </tr>\n",
       "    <tr>\n",
       "      <th>3999</th>\n",
       "      <td>양치컵_005.jpg</td>\n",
       "      <td>../Data/carbon_reduction/cup/양치컵_네이버</td>\n",
       "      <td>cup</td>\n",
       "      <td>3</td>\n",
       "      <td>0.999773</td>\n",
       "    </tr>\n",
       "  </tbody>\n",
       "</table>\n",
       "<p>4000 rows × 5 columns</p>\n",
       "</div>"
      ],
      "text/plain": [
       "             image_id                                   dir       label  pred  \\\n",
       "0       토스 만보_459.jpg   ../Data/carbon_reduction/10kwalking  10kwalking     0   \n",
       "1     캐시워크 만보_262.jpg   ../Data/carbon_reduction/10kwalking  10kwalking     0   \n",
       "2     아이폰 걸음수_192.jpg   ../Data/carbon_reduction/10kwalking  10kwalking     0   \n",
       "3     삼성헬스 만보_352.jpg   ../Data/carbon_reduction/10kwalking  10kwalking     0   \n",
       "4     아이폰 걸음수_408.jpg   ../Data/carbon_reduction/10kwalking  10kwalking     0   \n",
       "...               ...                                   ...         ...   ...   \n",
       "3995      양치컵_310.jpg  ../Data/carbon_reduction/cup/양치컵_네이버         cup     3   \n",
       "3996      양치컵_256.jpg  ../Data/carbon_reduction/cup/양치컵_네이버         cup     3   \n",
       "3997      양치컵_250.jpg  ../Data/carbon_reduction/cup/양치컵_네이버         cup     3   \n",
       "3998      양치컵_114.jpg  ../Data/carbon_reduction/cup/양치컵_네이버         cup     3   \n",
       "3999      양치컵_005.jpg  ../Data/carbon_reduction/cup/양치컵_네이버         cup     3   \n",
       "\n",
       "      confidence score  \n",
       "0             0.999351  \n",
       "1             0.999483  \n",
       "2             0.999304  \n",
       "3             0.999679  \n",
       "4             0.999681  \n",
       "...                ...  \n",
       "3995          0.999634  \n",
       "3996          0.999704  \n",
       "3997          0.999633  \n",
       "3998          0.999681  \n",
       "3999          0.999773  \n",
       "\n",
       "[4000 rows x 5 columns]"
      ]
     },
     "execution_count": 15,
     "metadata": {},
     "output_type": "execute_result"
    }
   ],
   "source": [
    "test"
   ]
  },
  {
   "cell_type": "code",
   "execution_count": null,
   "id": "ab89fde5-9498-4a99-8bb8-4af301e4a6ce",
   "metadata": {},
   "outputs": [],
   "source": []
  }
 ],
 "metadata": {
  "kernelspec": {
   "display_name": "torch-gpu",
   "language": "python",
   "name": "torch"
  },
  "language_info": {
   "codemirror_mode": {
    "name": "ipython",
    "version": 3
   },
   "file_extension": ".py",
   "mimetype": "text/x-python",
   "name": "python",
   "nbconvert_exporter": "python",
   "pygments_lexer": "ipython3",
   "version": "3.10.6"
  },
  "vscode": {
   "interpreter": {
    "hash": "916dbcbb3f70747c44a77c7bcd40155683ae19c65e1c03b4aa3499c5328201f1"
   }
  }
 },
 "nbformat": 4,
 "nbformat_minor": 5
}
