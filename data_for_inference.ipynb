{
 "cells": [
  {
   "cell_type": "code",
   "execution_count": 1,
   "id": "8e7cbbdf-aded-4b70-a180-615d8a903dd7",
   "metadata": {},
   "outputs": [],
   "source": [
    "import torch\n",
    "import sys\n",
    "from torch import nn\n",
    "import os\n",
    "import random\n",
    "import numpy as np\n",
    "import pandas as pd\n",
    "\n",
    "from torchvision import transforms\n",
    "from torch.utils.data import Dataset,DataLoader\n",
    "import sklearn\n",
    "from sklearn.metrics import roc_auc_score, log_loss, f1_score, confusion_matrix, classification_report\n",
    "import timm\n",
    "import cv2\n",
    "from sklearn.preprocessing import LabelEncoder\n",
    "import torch.distributed as dist\n",
    "import torch.multiprocessing as mp\n",
    "from torch.nn.parallel import DistributedDataParallel as DDP\n",
    "import albumentations as A\n",
    "from albumentations.pytorch import ToTensorV2\n",
    "from tqdm import tqdm\n",
    "import warnings"
   ]
  },
  {
   "cell_type": "code",
   "execution_count": 3,
   "id": "ffa056ff-c09a-4252-9c5b-6c41c4bea353",
   "metadata": {},
   "outputs": [
    {
     "name": "stdout",
     "output_type": "stream",
     "text": [
      "26074\n"
     ]
    }
   ],
   "source": [
    "dir_path = \"../Data/carbon_reduction/else\"\n",
    "\n",
    "total_test_img_paths = []\n",
    "for folder, subfolders, filenames in os.walk(dir_path):\n",
    "    for img in filenames:\n",
    "        total_test_img_paths.append(folder+'/'+img)\n",
    "print(len(total_test_img_paths))"
   ]
  },
  {
   "cell_type": "code",
   "execution_count": 4,
   "id": "33137061-8971-46ef-bc37-08a95931c89d",
   "metadata": {},
   "outputs": [
    {
     "data": {
      "text/html": [
       "<div>\n",
       "<style scoped>\n",
       "    .dataframe tbody tr th:only-of-type {\n",
       "        vertical-align: middle;\n",
       "    }\n",
       "\n",
       "    .dataframe tbody tr th {\n",
       "        vertical-align: top;\n",
       "    }\n",
       "\n",
       "    .dataframe thead th {\n",
       "        text-align: right;\n",
       "    }\n",
       "</style>\n",
       "<table border=\"1\" class=\"dataframe\">\n",
       "  <thead>\n",
       "    <tr style=\"text-align: right;\">\n",
       "      <th></th>\n",
       "      <th>image_id</th>\n",
       "      <th>dir</th>\n",
       "    </tr>\n",
       "  </thead>\n",
       "  <tbody>\n",
       "    <tr>\n",
       "      <th>0</th>\n",
       "      <td>else25734.jpg</td>\n",
       "      <td>../Data/carbon_reduction/else</td>\n",
       "    </tr>\n",
       "    <tr>\n",
       "      <th>1</th>\n",
       "      <td>else22750.jpg</td>\n",
       "      <td>../Data/carbon_reduction/else</td>\n",
       "    </tr>\n",
       "    <tr>\n",
       "      <th>2</th>\n",
       "      <td>else5731.jpg</td>\n",
       "      <td>../Data/carbon_reduction/else</td>\n",
       "    </tr>\n",
       "    <tr>\n",
       "      <th>3</th>\n",
       "      <td>else5493.jpg</td>\n",
       "      <td>../Data/carbon_reduction/else</td>\n",
       "    </tr>\n",
       "    <tr>\n",
       "      <th>4</th>\n",
       "      <td>else29154.jpg</td>\n",
       "      <td>../Data/carbon_reduction/else</td>\n",
       "    </tr>\n",
       "    <tr>\n",
       "      <th>...</th>\n",
       "      <td>...</td>\n",
       "      <td>...</td>\n",
       "    </tr>\n",
       "    <tr>\n",
       "      <th>26069</th>\n",
       "      <td>else24476.jpg</td>\n",
       "      <td>../Data/carbon_reduction/else</td>\n",
       "    </tr>\n",
       "    <tr>\n",
       "      <th>26070</th>\n",
       "      <td>else11292.jpg</td>\n",
       "      <td>../Data/carbon_reduction/else</td>\n",
       "    </tr>\n",
       "    <tr>\n",
       "      <th>26071</th>\n",
       "      <td>else41223.jpg</td>\n",
       "      <td>../Data/carbon_reduction/else</td>\n",
       "    </tr>\n",
       "    <tr>\n",
       "      <th>26072</th>\n",
       "      <td>else3604.jpg</td>\n",
       "      <td>../Data/carbon_reduction/else</td>\n",
       "    </tr>\n",
       "    <tr>\n",
       "      <th>26073</th>\n",
       "      <td>else8627.jpg</td>\n",
       "      <td>../Data/carbon_reduction/else</td>\n",
       "    </tr>\n",
       "  </tbody>\n",
       "</table>\n",
       "<p>26074 rows × 2 columns</p>\n",
       "</div>"
      ],
      "text/plain": [
       "            image_id                            dir\n",
       "0      else25734.jpg  ../Data/carbon_reduction/else\n",
       "1      else22750.jpg  ../Data/carbon_reduction/else\n",
       "2       else5731.jpg  ../Data/carbon_reduction/else\n",
       "3       else5493.jpg  ../Data/carbon_reduction/else\n",
       "4      else29154.jpg  ../Data/carbon_reduction/else\n",
       "...              ...                            ...\n",
       "26069  else24476.jpg  ../Data/carbon_reduction/else\n",
       "26070  else11292.jpg  ../Data/carbon_reduction/else\n",
       "26071  else41223.jpg  ../Data/carbon_reduction/else\n",
       "26072   else3604.jpg  ../Data/carbon_reduction/else\n",
       "26073   else8627.jpg  ../Data/carbon_reduction/else\n",
       "\n",
       "[26074 rows x 2 columns]"
      ]
     },
     "execution_count": 4,
     "metadata": {},
     "output_type": "execute_result"
    }
   ],
   "source": [
    "## Pandas Test 데이터프레임 만들기\n",
    "tst_df = pd.DataFrame(total_test_img_paths, columns=['image_id'])\n",
    "tst_df['dir'] = tst_df['image_id'].apply(lambda x: os.path.dirname(x))\n",
    "tst_df['image_id'] = tst_df['image_id'].apply(lambda x: os.path.basename(x))\n",
    "test = tst_df\n",
    "test"
   ]
  },
  {
   "cell_type": "code",
   "execution_count": 5,
   "id": "db1aa01c-e620-43df-bdbe-9e8cb4516037",
   "metadata": {},
   "outputs": [
    {
     "name": "stderr",
     "output_type": "stream",
     "text": [
      "100%|█████████████████████████████████████████| 204/204 [02:13<00:00,  1.53it/s]\n"
     ]
    }
   ],
   "source": [
    "model_name = 'inception_resnet_v2'\n",
    "model_dir = model_name + '/inception_resnet_v2_1'\n",
    "%run inference.ipynb"
   ]
  },
  {
   "cell_type": "code",
   "execution_count": 8,
   "id": "a2dfc277-dcc6-440a-8599-69a3df2aee89",
   "metadata": {},
   "outputs": [
    {
     "data": {
      "text/html": [
       "<div>\n",
       "<style scoped>\n",
       "    .dataframe tbody tr th:only-of-type {\n",
       "        vertical-align: middle;\n",
       "    }\n",
       "\n",
       "    .dataframe tbody tr th {\n",
       "        vertical-align: top;\n",
       "    }\n",
       "\n",
       "    .dataframe thead th {\n",
       "        text-align: right;\n",
       "    }\n",
       "</style>\n",
       "<table border=\"1\" class=\"dataframe\">\n",
       "  <thead>\n",
       "    <tr style=\"text-align: right;\">\n",
       "      <th></th>\n",
       "      <th>image_id</th>\n",
       "      <th>dir</th>\n",
       "      <th>pred</th>\n",
       "    </tr>\n",
       "  </thead>\n",
       "  <tbody>\n",
       "    <tr>\n",
       "      <th>0</th>\n",
       "      <td>else25734.jpg</td>\n",
       "      <td>../Data/carbon_reduction/else</td>\n",
       "      <td>else</td>\n",
       "    </tr>\n",
       "    <tr>\n",
       "      <th>1</th>\n",
       "      <td>else22750.jpg</td>\n",
       "      <td>../Data/carbon_reduction/else</td>\n",
       "      <td>else</td>\n",
       "    </tr>\n",
       "    <tr>\n",
       "      <th>2</th>\n",
       "      <td>else5731.jpg</td>\n",
       "      <td>../Data/carbon_reduction/else</td>\n",
       "      <td>else</td>\n",
       "    </tr>\n",
       "    <tr>\n",
       "      <th>3</th>\n",
       "      <td>else5493.jpg</td>\n",
       "      <td>../Data/carbon_reduction/else</td>\n",
       "      <td>else</td>\n",
       "    </tr>\n",
       "    <tr>\n",
       "      <th>4</th>\n",
       "      <td>else29154.jpg</td>\n",
       "      <td>../Data/carbon_reduction/else</td>\n",
       "      <td>else</td>\n",
       "    </tr>\n",
       "    <tr>\n",
       "      <th>...</th>\n",
       "      <td>...</td>\n",
       "      <td>...</td>\n",
       "      <td>...</td>\n",
       "    </tr>\n",
       "    <tr>\n",
       "      <th>26069</th>\n",
       "      <td>else24476.jpg</td>\n",
       "      <td>../Data/carbon_reduction/else</td>\n",
       "      <td>else</td>\n",
       "    </tr>\n",
       "    <tr>\n",
       "      <th>26070</th>\n",
       "      <td>else11292.jpg</td>\n",
       "      <td>../Data/carbon_reduction/else</td>\n",
       "      <td>else</td>\n",
       "    </tr>\n",
       "    <tr>\n",
       "      <th>26071</th>\n",
       "      <td>else41223.jpg</td>\n",
       "      <td>../Data/carbon_reduction/else</td>\n",
       "      <td>else</td>\n",
       "    </tr>\n",
       "    <tr>\n",
       "      <th>26072</th>\n",
       "      <td>else3604.jpg</td>\n",
       "      <td>../Data/carbon_reduction/else</td>\n",
       "      <td>else</td>\n",
       "    </tr>\n",
       "    <tr>\n",
       "      <th>26073</th>\n",
       "      <td>else8627.jpg</td>\n",
       "      <td>../Data/carbon_reduction/else</td>\n",
       "      <td>else</td>\n",
       "    </tr>\n",
       "  </tbody>\n",
       "</table>\n",
       "<p>26074 rows × 3 columns</p>\n",
       "</div>"
      ],
      "text/plain": [
       "            image_id                            dir  pred\n",
       "0      else25734.jpg  ../Data/carbon_reduction/else  else\n",
       "1      else22750.jpg  ../Data/carbon_reduction/else  else\n",
       "2       else5731.jpg  ../Data/carbon_reduction/else  else\n",
       "3       else5493.jpg  ../Data/carbon_reduction/else  else\n",
       "4      else29154.jpg  ../Data/carbon_reduction/else  else\n",
       "...              ...                            ...   ...\n",
       "26069  else24476.jpg  ../Data/carbon_reduction/else  else\n",
       "26070  else11292.jpg  ../Data/carbon_reduction/else  else\n",
       "26071  else41223.jpg  ../Data/carbon_reduction/else  else\n",
       "26072   else3604.jpg  ../Data/carbon_reduction/else  else\n",
       "26073   else8627.jpg  ../Data/carbon_reduction/else  else\n",
       "\n",
       "[26074 rows x 3 columns]"
      ]
     },
     "execution_count": 8,
     "metadata": {},
     "output_type": "execute_result"
    }
   ],
   "source": [
    "encoded_labels = [\"10kwalking\",\"public_vehicle\",'stair','pet','outlet','else', 'can', 'box', 'milk', 'cup']\n",
    "le = LabelEncoder()\n",
    "le.fit(encoded_labels)\n",
    "test['pred'] = le.inverse_transform(test['pred'])\n",
    "test\n"
   ]
  },
  {
   "cell_type": "markdown",
   "id": "5ec80308-7a00-4348-a195-7c209b912c47",
   "metadata": {},
   "source": [
    "### classifying ELSE images to 4 classes"
   ]
  },
  {
   "cell_type": "code",
   "execution_count": 38,
   "id": "a579dfdf-1d7e-4014-ac81-f06a0e5da72e",
   "metadata": {},
   "outputs": [
    {
     "data": {
      "text/plain": [
       "False    25743\n",
       "True       331\n",
       "Name: pred, dtype: int64"
      ]
     },
     "execution_count": 38,
     "metadata": {},
     "output_type": "execute_result"
    }
   ],
   "source": [
    "tmp_list = []\n",
    "temp = (test['pred'] == 'cup').value_counts()\n",
    "temp"
   ]
  },
  {
   "cell_type": "code",
   "execution_count": null,
   "id": "88a55724-e580-428d-9f73-58e52b3198dd",
   "metadata": {},
   "outputs": [],
   "source": []
  }
 ],
 "metadata": {
  "kernelspec": {
   "display_name": "torch-gpu",
   "language": "python",
   "name": "torch"
  },
  "language_info": {
   "codemirror_mode": {
    "name": "ipython",
    "version": 3
   },
   "file_extension": ".py",
   "mimetype": "text/x-python",
   "name": "python",
   "nbconvert_exporter": "python",
   "pygments_lexer": "ipython3",
   "version": "3.10.6"
  }
 },
 "nbformat": 4,
 "nbformat_minor": 5
}
