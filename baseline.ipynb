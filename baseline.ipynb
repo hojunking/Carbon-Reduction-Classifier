{
  "nbformat": 4,
  "nbformat_minor": 0,
  "metadata": {
    "colab": {
      "provenance": [],
      "machine_shape": "hm",
      "include_colab_link": true
    },
    "kernelspec": {
      "name": "python3",
      "display_name": "Python 3"
    },
    "language_info": {
      "name": "python"
    },
    "accelerator": "GPU",
    "gpuClass": "premium"
  },
  "cells": [
    {
      "cell_type": "markdown",
      "metadata": {
        "id": "view-in-github",
        "colab_type": "text"
      },
      "source": [
        "<a href=\"https://colab.research.google.com/github/hojunking/carbon_reduction_project/blob/main/baseline.ipynb\" target=\"_parent\"><img src=\"https://colab.research.google.com/assets/colab-badge.svg\" alt=\"Open In Colab\"/></a>"
      ]
    },
    {
      "cell_type": "markdown",
      "source": [
        "## Import"
      ],
      "metadata": {
        "id": "jLFeeh2OMjuG"
      }
    },
    {
      "cell_type": "code",
      "execution_count": 4,
      "metadata": {
        "id": "XlpaIBbNxzK-"
      },
      "outputs": [],
      "source": [
        "import random\n",
        "import pandas as pd\n",
        "import numpy as np\n",
        "import os\n",
        "import cv2\n",
        "\n",
        "from sklearn import preprocessing\n",
        "from sklearn.model_selection import train_test_split\n",
        "\n",
        "import torch\n",
        "import torch.nn as nn\n",
        "import torch.optim as optim\n",
        "import torch.nn.functional as F\n",
        "from torch.utils.data import Dataset, DataLoader\n",
        "\n",
        "from tqdm.auto import tqdm\n",
        "\n",
        "import albumentations as A\n",
        "from albumentations.pytorch.transforms import ToTensorV2\n",
        "\n",
        "import torchvision.models as models\n",
        "\n",
        "from sklearn.metrics import f1_score\n",
        "\n",
        "import warnings\n",
        "warnings.filterwarnings(action='ignore') "
      ]
    },
    {
      "cell_type": "code",
      "source": [
        "device = torch.device('cuda') if torch.cuda.is_available() else torch.device('cpu')\n",
        "device"
      ],
      "metadata": {
        "id": "yWMosx9B7Xmp",
        "colab": {
          "base_uri": "https://localhost:8080/"
        },
        "outputId": "ea1119e2-2c91-4588-a7c3-fb25558ab19a"
      },
      "execution_count": 5,
      "outputs": [
        {
          "output_type": "execute_result",
          "data": {
            "text/plain": [
              "device(type='cuda')"
            ]
          },
          "metadata": {},
          "execution_count": 5
        }
      ]
    },
    {
      "cell_type": "markdown",
      "source": [],
      "metadata": {
        "id": "I-aMGPg8NloO"
      }
    },
    {
      "cell_type": "markdown",
      "source": [
        "## Hyperparameter Setting"
      ],
      "metadata": {
        "id": "HTlY-5isNofS"
      }
    },
    {
      "cell_type": "code",
      "source": [
        "CFG = {\n",
        "    'IMG_SIZE':224,\n",
        "    'EPOCHS':10,\n",
        "    'LEARNING_RATE':3e-4,\n",
        "    'BATCH_SIZE':64,\n",
        "    'SEED':41\n",
        "}"
      ],
      "metadata": {
        "id": "5FUHF-L8Nmuy"
      },
      "execution_count": 6,
      "outputs": []
    },
    {
      "cell_type": "markdown",
      "source": [
        "## Fixed RandomSeed"
      ],
      "metadata": {
        "id": "NFWbevuUNsd7"
      }
    },
    {
      "cell_type": "code",
      "source": [
        "def seed_everything(seed):\n",
        "    random.seed(seed)\n",
        "    os.environ['PYTHONHASHSEED'] = str(seed)\n",
        "    np.random.seed(seed)\n",
        "    torch.manual_seed(seed)\n",
        "    torch.cuda.manual_seed(seed)\n",
        "    torch.backends.cudnn.deterministic = True\n",
        "    torch.backends.cudnn.benchmark = True\n",
        "\n",
        "seed_everything(CFG['SEED']) # Seed 고정"
      ],
      "metadata": {
        "id": "rQyx4TGcNuNM"
      },
      "execution_count": 7,
      "outputs": []
    },
    {
      "cell_type": "markdown",
      "source": [
        "## Data Pre-processing"
      ],
      "metadata": {
        "id": "BXexshs9N0Ih"
      }
    },
    {
      "cell_type": "code",
      "source": [
        "from google.colab import drive\n",
        "drive.mount('/content/drive')"
      ],
      "metadata": {
        "colab": {
          "base_uri": "https://localhost:8080/"
        },
        "id": "HRpHj77SN4wZ",
        "outputId": "4cc9d1a3-1504-403d-e635-cf1b4a5340d0"
      },
      "execution_count": 8,
      "outputs": [
        {
          "output_type": "stream",
          "name": "stdout",
          "text": [
            "Mounted at /content/drive\n"
          ]
        }
      ]
    },
    {
      "cell_type": "code",
      "source": [
        "main_path = '/content/drive/MyDrive/탄소저감프로젝트/data/'\n",
        "label_list = [\"10kwalking\",\"public_vehicle\",'stair']\n",
        "\n",
        "total_train_img_paths = []\n",
        "total_train_img_labels = []\n",
        "total_test_img_paths = []\n",
        "total_test_img_labels = []\n",
        "\n",
        "for label in label_list: ## 각 레이블 돌기\n",
        "  print(f'label: {label}')\n",
        "  img_paths = [] \n",
        "  img_labels = []\n",
        "\n",
        "  # default ratio\n",
        "  train_ratio = 100\n",
        "  test_ratio = 40\n",
        "\n",
        "  dir_path = main_path + label ## 레이블 폴더 경로\n",
        "  for folder, subfolders, filenames in os.walk(dir_path): ## 폴더 내 모든 파일 탐색\n",
        "    \n",
        "    for img in filenames: ## 각 파일 경로, 레이블 저장\n",
        "      img_paths.append(folder+'/'+img)\n",
        "      img_labels.append(label)\n",
        "  print(f'img_paths len : {len(img_paths)}\\n')\n",
        "\n",
        "  if label == '10kwalking': ## 10walking 데이터 비율 설정하기 (데이터수: 2494)\n",
        "    train_ratio = 120\n",
        "    test_ratio = 30\n",
        "  elif label == 'public_vehicle': ## 10walking 데이터 비율 설정하기 (데이터수: 2494)\n",
        "    train_ratio = 30\n",
        "    test_ratio = 10\n",
        "\n",
        "  total_train_img_paths.extend(img_paths[:train_ratio])\n",
        "  total_train_img_labels.extend(img_paths[:train_ratio])\n",
        "  \n",
        "  total_test_img_paths.extend(img_paths[-test_ratio:])\n",
        "  total_test_img_labels.extend(img_paths[-test_ratio:])\n",
        "\n",
        "print('Train_Images: ',len(total_train_img_paths))\n",
        "print(\"Train_Images_labels:\", len(total_train_img_labels))\n",
        "print('Test_Images: ',len(total_test_img_paths))\n",
        "print(\"Test_Images_labels:\", len(total_test_img_labels))"
      ],
      "metadata": {
        "colab": {
          "base_uri": "https://localhost:8080/"
        },
        "id": "JK7j6CXJN-L0",
        "outputId": "fece6dea-d51f-46b0-dc48-16671e2a6fe0"
      },
      "execution_count": 31,
      "outputs": [
        {
          "output_type": "stream",
          "name": "stdout",
          "text": [
            "label: 10kwalking\n",
            "img_paths len : 2494\n",
            "\n",
            "label: public_vehicle\n",
            "img_paths len : 1245\n",
            "\n",
            "label: stair\n",
            "img_paths len : 1573\n",
            "\n",
            "Train_Images:  250\n",
            "Train_Images_labels: 250\n",
            "Test_Images:  80\n",
            "Test_Images_labels: 80\n"
          ]
        }
      ]
    },
    {
      "cell_type": "code",
      "source": [
        "total_train_img_paths"
      ],
      "metadata": {
        "id": "ganGM7hVhtbj"
      },
      "execution_count": null,
      "outputs": []
    },
    {
      "cell_type": "code",
      "source": [
        "## Pandas 데이터프레임 만들기\n",
        "trn_df = pd.DataFrame(total_train_img_paths, columns=['image_id'])\n",
        "trn_df['dir'] = trn_df['image_id'].apply(lambda x: os.path.dirname(x))\n",
        "trn_df['image_id'] = trn_df['image_id'].apply(lambda x: os.path.basename(x))\n",
        "trn_df['label'] = total_train_img_labels\n",
        "train = trn_df\n",
        "train"
      ],
      "metadata": {
        "colab": {
          "base_uri": "https://localhost:8080/",
          "height": 424
        },
        "id": "dQzo41lgS-ud",
        "outputId": "6663072e-693e-4de5-91e9-c04c59768ab9"
      },
      "execution_count": 35,
      "outputs": [
        {
          "output_type": "execute_result",
          "data": {
            "text/plain": [
              "                   image_id  \\\n",
              "0    캐시워크 만보_352.jpg   \n",
              "1    캐시워크 만보_354.jpg   \n",
              "2    캐시워크 만보_355.jpg   \n",
              "3    캐시워크 만보_353.jpg   \n",
              "4    캐시워크 만보_356.jpg   \n",
              "..                      ...   \n",
              "245   지하철 계단_061.jpg   \n",
              "246   지하철 계단_063.jpg   \n",
              "247   지하철 계단_064.jpg   \n",
              "248   지하철 계단_065.jpg   \n",
              "249   지하철 계단_067.jpg   \n",
              "\n",
              "                                                   dir  \\\n",
              "0    /content/drive/MyDrive/탄소저감프로젝트/dat...   \n",
              "1    /content/drive/MyDrive/탄소저감프로젝트/dat...   \n",
              "2    /content/drive/MyDrive/탄소저감프로젝트/dat...   \n",
              "3    /content/drive/MyDrive/탄소저감프로젝트/dat...   \n",
              "4    /content/drive/MyDrive/탄소저감프로젝트/dat...   \n",
              "..                                                 ...   \n",
              "245  /content/drive/MyDrive/탄소저감프로젝트/dat...   \n",
              "246  /content/drive/MyDrive/탄소저감프로젝트/dat...   \n",
              "247  /content/drive/MyDrive/탄소저감프로젝트/dat...   \n",
              "248  /content/drive/MyDrive/탄소저감프로젝트/dat...   \n",
              "249  /content/drive/MyDrive/탄소저감프로젝트/dat...   \n",
              "\n",
              "                                                 label  \n",
              "0    /content/drive/MyDrive/탄소저감프로젝트/dat...  \n",
              "1    /content/drive/MyDrive/탄소저감프로젝트/dat...  \n",
              "2    /content/drive/MyDrive/탄소저감프로젝트/dat...  \n",
              "3    /content/drive/MyDrive/탄소저감프로젝트/dat...  \n",
              "4    /content/drive/MyDrive/탄소저감프로젝트/dat...  \n",
              "..                                                 ...  \n",
              "245  /content/drive/MyDrive/탄소저감프로젝트/dat...  \n",
              "246  /content/drive/MyDrive/탄소저감프로젝트/dat...  \n",
              "247  /content/drive/MyDrive/탄소저감프로젝트/dat...  \n",
              "248  /content/drive/MyDrive/탄소저감프로젝트/dat...  \n",
              "249  /content/drive/MyDrive/탄소저감프로젝트/dat...  \n",
              "\n",
              "[250 rows x 3 columns]"
            ],
            "text/html": [
              "\n",
              "  <div id=\"df-58e2a85a-cfb6-4ef1-a684-069b990228c1\">\n",
              "    <div class=\"colab-df-container\">\n",
              "      <div>\n",
              "<style scoped>\n",
              "    .dataframe tbody tr th:only-of-type {\n",
              "        vertical-align: middle;\n",
              "    }\n",
              "\n",
              "    .dataframe tbody tr th {\n",
              "        vertical-align: top;\n",
              "    }\n",
              "\n",
              "    .dataframe thead th {\n",
              "        text-align: right;\n",
              "    }\n",
              "</style>\n",
              "<table border=\"1\" class=\"dataframe\">\n",
              "  <thead>\n",
              "    <tr style=\"text-align: right;\">\n",
              "      <th></th>\n",
              "      <th>image_id</th>\n",
              "      <th>dir</th>\n",
              "      <th>label</th>\n",
              "    </tr>\n",
              "  </thead>\n",
              "  <tbody>\n",
              "    <tr>\n",
              "      <th>0</th>\n",
              "      <td>캐시워크 만보_352.jpg</td>\n",
              "      <td>/content/drive/MyDrive/탄소저감프로젝트/dat...</td>\n",
              "      <td>/content/drive/MyDrive/탄소저감프로젝트/dat...</td>\n",
              "    </tr>\n",
              "    <tr>\n",
              "      <th>1</th>\n",
              "      <td>캐시워크 만보_354.jpg</td>\n",
              "      <td>/content/drive/MyDrive/탄소저감프로젝트/dat...</td>\n",
              "      <td>/content/drive/MyDrive/탄소저감프로젝트/dat...</td>\n",
              "    </tr>\n",
              "    <tr>\n",
              "      <th>2</th>\n",
              "      <td>캐시워크 만보_355.jpg</td>\n",
              "      <td>/content/drive/MyDrive/탄소저감프로젝트/dat...</td>\n",
              "      <td>/content/drive/MyDrive/탄소저감프로젝트/dat...</td>\n",
              "    </tr>\n",
              "    <tr>\n",
              "      <th>3</th>\n",
              "      <td>캐시워크 만보_353.jpg</td>\n",
              "      <td>/content/drive/MyDrive/탄소저감프로젝트/dat...</td>\n",
              "      <td>/content/drive/MyDrive/탄소저감프로젝트/dat...</td>\n",
              "    </tr>\n",
              "    <tr>\n",
              "      <th>4</th>\n",
              "      <td>캐시워크 만보_356.jpg</td>\n",
              "      <td>/content/drive/MyDrive/탄소저감프로젝트/dat...</td>\n",
              "      <td>/content/drive/MyDrive/탄소저감프로젝트/dat...</td>\n",
              "    </tr>\n",
              "    <tr>\n",
              "      <th>...</th>\n",
              "      <td>...</td>\n",
              "      <td>...</td>\n",
              "      <td>...</td>\n",
              "    </tr>\n",
              "    <tr>\n",
              "      <th>245</th>\n",
              "      <td>지하철 계단_061.jpg</td>\n",
              "      <td>/content/drive/MyDrive/탄소저감프로젝트/dat...</td>\n",
              "      <td>/content/drive/MyDrive/탄소저감프로젝트/dat...</td>\n",
              "    </tr>\n",
              "    <tr>\n",
              "      <th>246</th>\n",
              "      <td>지하철 계단_063.jpg</td>\n",
              "      <td>/content/drive/MyDrive/탄소저감프로젝트/dat...</td>\n",
              "      <td>/content/drive/MyDrive/탄소저감프로젝트/dat...</td>\n",
              "    </tr>\n",
              "    <tr>\n",
              "      <th>247</th>\n",
              "      <td>지하철 계단_064.jpg</td>\n",
              "      <td>/content/drive/MyDrive/탄소저감프로젝트/dat...</td>\n",
              "      <td>/content/drive/MyDrive/탄소저감프로젝트/dat...</td>\n",
              "    </tr>\n",
              "    <tr>\n",
              "      <th>248</th>\n",
              "      <td>지하철 계단_065.jpg</td>\n",
              "      <td>/content/drive/MyDrive/탄소저감프로젝트/dat...</td>\n",
              "      <td>/content/drive/MyDrive/탄소저감프로젝트/dat...</td>\n",
              "    </tr>\n",
              "    <tr>\n",
              "      <th>249</th>\n",
              "      <td>지하철 계단_067.jpg</td>\n",
              "      <td>/content/drive/MyDrive/탄소저감프로젝트/dat...</td>\n",
              "      <td>/content/drive/MyDrive/탄소저감프로젝트/dat...</td>\n",
              "    </tr>\n",
              "  </tbody>\n",
              "</table>\n",
              "<p>250 rows × 3 columns</p>\n",
              "</div>\n",
              "      <button class=\"colab-df-convert\" onclick=\"convertToInteractive('df-58e2a85a-cfb6-4ef1-a684-069b990228c1')\"\n",
              "              title=\"Convert this dataframe to an interactive table.\"\n",
              "              style=\"display:none;\">\n",
              "        \n",
              "  <svg xmlns=\"http://www.w3.org/2000/svg\" height=\"24px\"viewBox=\"0 0 24 24\"\n",
              "       width=\"24px\">\n",
              "    <path d=\"M0 0h24v24H0V0z\" fill=\"none\"/>\n",
              "    <path d=\"M18.56 5.44l.94 2.06.94-2.06 2.06-.94-2.06-.94-.94-2.06-.94 2.06-2.06.94zm-11 1L8.5 8.5l.94-2.06 2.06-.94-2.06-.94L8.5 2.5l-.94 2.06-2.06.94zm10 10l.94 2.06.94-2.06 2.06-.94-2.06-.94-.94-2.06-.94 2.06-2.06.94z\"/><path d=\"M17.41 7.96l-1.37-1.37c-.4-.4-.92-.59-1.43-.59-.52 0-1.04.2-1.43.59L10.3 9.45l-7.72 7.72c-.78.78-.78 2.05 0 2.83L4 21.41c.39.39.9.59 1.41.59.51 0 1.02-.2 1.41-.59l7.78-7.78 2.81-2.81c.8-.78.8-2.07 0-2.86zM5.41 20L4 18.59l7.72-7.72 1.47 1.35L5.41 20z\"/>\n",
              "  </svg>\n",
              "      </button>\n",
              "      \n",
              "  <style>\n",
              "    .colab-df-container {\n",
              "      display:flex;\n",
              "      flex-wrap:wrap;\n",
              "      gap: 12px;\n",
              "    }\n",
              "\n",
              "    .colab-df-convert {\n",
              "      background-color: #E8F0FE;\n",
              "      border: none;\n",
              "      border-radius: 50%;\n",
              "      cursor: pointer;\n",
              "      display: none;\n",
              "      fill: #1967D2;\n",
              "      height: 32px;\n",
              "      padding: 0 0 0 0;\n",
              "      width: 32px;\n",
              "    }\n",
              "\n",
              "    .colab-df-convert:hover {\n",
              "      background-color: #E2EBFA;\n",
              "      box-shadow: 0px 1px 2px rgba(60, 64, 67, 0.3), 0px 1px 3px 1px rgba(60, 64, 67, 0.15);\n",
              "      fill: #174EA6;\n",
              "    }\n",
              "\n",
              "    [theme=dark] .colab-df-convert {\n",
              "      background-color: #3B4455;\n",
              "      fill: #D2E3FC;\n",
              "    }\n",
              "\n",
              "    [theme=dark] .colab-df-convert:hover {\n",
              "      background-color: #434B5C;\n",
              "      box-shadow: 0px 1px 3px 1px rgba(0, 0, 0, 0.15);\n",
              "      filter: drop-shadow(0px 1px 2px rgba(0, 0, 0, 0.3));\n",
              "      fill: #FFFFFF;\n",
              "    }\n",
              "  </style>\n",
              "\n",
              "      <script>\n",
              "        const buttonEl =\n",
              "          document.querySelector('#df-58e2a85a-cfb6-4ef1-a684-069b990228c1 button.colab-df-convert');\n",
              "        buttonEl.style.display =\n",
              "          google.colab.kernel.accessAllowed ? 'block' : 'none';\n",
              "\n",
              "        async function convertToInteractive(key) {\n",
              "          const element = document.querySelector('#df-58e2a85a-cfb6-4ef1-a684-069b990228c1');\n",
              "          const dataTable =\n",
              "            await google.colab.kernel.invokeFunction('convertToInteractive',\n",
              "                                                     [key], {});\n",
              "          if (!dataTable) return;\n",
              "\n",
              "          const docLinkHtml = 'Like what you see? Visit the ' +\n",
              "            '<a target=\"_blank\" href=https://colab.research.google.com/notebooks/data_table.ipynb>data table notebook</a>'\n",
              "            + ' to learn more about interactive tables.';\n",
              "          element.innerHTML = '';\n",
              "          dataTable['output_type'] = 'display_data';\n",
              "          await google.colab.output.renderOutput(dataTable, element);\n",
              "          const docLink = document.createElement('div');\n",
              "          docLink.innerHTML = docLinkHtml;\n",
              "          element.appendChild(docLink);\n",
              "        }\n",
              "      </script>\n",
              "    </div>\n",
              "  </div>\n",
              "  "
            ]
          },
          "metadata": {},
          "execution_count": 35
        }
      ]
    },
    {
      "cell_type": "code",
      "source": [
        "# Label Encoding\n",
        "le = preprocessing.LabelEncoder()\n",
        "train['label'] = le.fit_transform(train['label'].values)"
      ],
      "metadata": {
        "id": "y8coAnRaOe4P"
      },
      "execution_count": null,
      "outputs": []
    },
    {
      "cell_type": "code",
      "source": [],
      "metadata": {
        "id": "XAMf0OiAS5jz"
      },
      "execution_count": null,
      "outputs": []
    }
  ]
}