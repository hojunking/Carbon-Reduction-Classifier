{
  "nbformat": 4,
  "nbformat_minor": 0,
  "metadata": {
    "colab": {
      "provenance": [],
      "machine_shape": "hm",
      "include_colab_link": true
    },
    "kernelspec": {
      "name": "python3",
      "display_name": "Python 3"
    },
    "language_info": {
      "name": "python"
    },
    "accelerator": "GPU",
    "gpuClass": "standard"
  },
  "cells": [
    {
      "cell_type": "markdown",
      "metadata": {
        "id": "view-in-github",
        "colab_type": "text"
      },
      "source": [
        "<a href=\"https://colab.research.google.com/github/hojunking/carbon_reduction_project/blob/main/baseline.ipynb\" target=\"_parent\"><img src=\"https://colab.research.google.com/assets/colab-badge.svg\" alt=\"Open In Colab\"/></a>"
      ]
    },
    {
      "cell_type": "markdown",
      "source": [
        "## Import"
      ],
      "metadata": {
        "id": "jLFeeh2OMjuG"
      }
    },
    {
      "cell_type": "code",
      "execution_count": null,
      "metadata": {
        "id": "XlpaIBbNxzK-"
      },
      "outputs": [],
      "source": [
        "import random\n",
        "import pandas as pd\n",
        "import numpy as np\n",
        "import os\n",
        "import cv2\n",
        "\n",
        "from sklearn import preprocessing\n",
        "from sklearn.model_selection import train_test_split\n",
        "\n",
        "import torch\n",
        "import torch.nn as nn\n",
        "import torch.optim as optim\n",
        "import torch.nn.functional as F\n",
        "from torch.utils.data import Dataset, DataLoader\n",
        "\n",
        "from tqdm.auto import tqdm\n",
        "\n",
        "import albumentations as A\n",
        "from albumentations.pytorch.transforms import ToTensorV2\n",
        "\n",
        "import torchvision.models as models\n",
        "\n",
        "from sklearn.metrics import f1_score\n",
        "\n",
        "import warnings\n",
        "warnings.filterwarnings(action='ignore') "
      ]
    },
    {
      "cell_type": "code",
      "source": [
        "device = torch.device('cuda') if torch.cuda.is_available() else torch.device('cpu')\n",
        "device"
      ],
      "metadata": {
        "id": "yWMosx9B7Xmp",
        "colab": {
          "base_uri": "https://localhost:8080/"
        },
        "outputId": "d47628c9-a22b-49e0-dac3-6ee3bde4b0a2"
      },
      "execution_count": null,
      "outputs": [
        {
          "output_type": "execute_result",
          "data": {
            "text/plain": [
              "device(type='cuda')"
            ]
          },
          "metadata": {},
          "execution_count": 3
        }
      ]
    },
    {
      "cell_type": "markdown",
      "source": [],
      "metadata": {
        "id": "I-aMGPg8NloO"
      }
    },
    {
      "cell_type": "markdown",
      "source": [
        "## Hyperparameter Setting"
      ],
      "metadata": {
        "id": "HTlY-5isNofS"
      }
    },
    {
      "cell_type": "code",
      "source": [
        "CFG = {\n",
        "    'IMG_SIZE':224,\n",
        "    'EPOCHS':10,\n",
        "    'LEARNING_RATE':3e-4,\n",
        "    'BATCH_SIZE':64,\n",
        "    'SEED':41\n",
        "}"
      ],
      "metadata": {
        "id": "5FUHF-L8Nmuy"
      },
      "execution_count": null,
      "outputs": []
    },
    {
      "cell_type": "markdown",
      "source": [
        "## Fixed RandomSeed"
      ],
      "metadata": {
        "id": "NFWbevuUNsd7"
      }
    },
    {
      "cell_type": "code",
      "source": [
        "def seed_everything(seed):\n",
        "    random.seed(seed)\n",
        "    os.environ['PYTHONHASHSEED'] = str(seed)\n",
        "    np.random.seed(seed)\n",
        "    torch.manual_seed(seed)\n",
        "    torch.cuda.manual_seed(seed)\n",
        "    torch.backends.cudnn.deterministic = True\n",
        "    torch.backends.cudnn.benchmark = True\n",
        "\n",
        "seed_everything(CFG['SEED']) # Seed 고정"
      ],
      "metadata": {
        "id": "rQyx4TGcNuNM"
      },
      "execution_count": null,
      "outputs": []
    },
    {
      "cell_type": "markdown",
      "source": [
        "## Data Pre-processing"
      ],
      "metadata": {
        "id": "BXexshs9N0Ih"
      }
    },
    {
      "cell_type": "code",
      "source": [
        "from google.colab import drive\n",
        "drive.mount('/content/drive')"
      ],
      "metadata": {
        "colab": {
          "base_uri": "https://localhost:8080/"
        },
        "id": "HRpHj77SN4wZ",
        "outputId": "cf3a18c3-480c-4514-8f79-a26d734353c6"
      },
      "execution_count": null,
      "outputs": [
        {
          "output_type": "stream",
          "name": "stdout",
          "text": [
            "Mounted at /content/drive\n"
          ]
        }
      ]
    },
    {
      "cell_type": "code",
      "source": [
        "dir_path = \"/content/drive/MyDrive/탄소저감프로젝트/data\"\n",
        "\n",
        "img_names = []\n",
        "img_labels = []\n",
        "for folder, subfolders, filenames in os.walk(dir_path):\n",
        "    for img in filenames:\n",
        "        img_names.append(folder+'/'+img)\n",
        "        img_labels.append(img)\n",
        "\n",
        "print('Images: ',len(img_names))\n",
        "print(\"Image_labels:\", len(img_labels))"
      ],
      "metadata": {
        "colab": {
          "base_uri": "https://localhost:8080/"
        },
        "id": "JK7j6CXJN-L0",
        "outputId": "aa53eff8-1a96-44dd-8507-f2955d604949"
      },
      "execution_count": null,
      "outputs": [
        {
          "output_type": "stream",
          "name": "stdout",
          "text": [
            "Images:  4067\n",
            "Image_labels: 4067\n"
          ]
        }
      ]
    },
    {
      "cell_type": "code",
      "source": [
        "img_labels"
      ],
      "metadata": {
        "id": "AB_B_k0_ThXC"
      },
      "execution_count": null,
      "outputs": []
    },
    {
      "cell_type": "code",
      "source": [
        "trn_df = pd.DataFrame(img_names, columns=['image_id'])\n",
        "trn_df['dir'] = trn_df['image_id'].apply(lambda x: os.path.dirname(x))\n",
        "trn_df['image_id'] = trn_df['image_id'].apply(lambda x: os.path.basename(x))\n",
        "trn_df['label'] = img_labels\n",
        "train = trn_df\n",
        "train"
      ],
      "metadata": {
        "colab": {
          "base_uri": "https://localhost:8080/",
          "height": 423
        },
        "id": "dQzo41lgS-ud",
        "outputId": "61add907-2554-4620-83b1-53d1c23f39f1"
      },
      "execution_count": null,
      "outputs": [
        {
          "output_type": "execute_result",
          "data": {
            "text/plain": [
              "                  image_id                                                dir  \\\n",
              "0     건물 계단_422.jpg  /content/drive/MyDrive/탄소저감프로젝트/dat...   \n",
              "1     건물 계단_424.jpg  /content/drive/MyDrive/탄소저감프로젝트/dat...   \n",
              "2     건물 계단_425.jpg  /content/drive/MyDrive/탄소저감프로젝트/dat...   \n",
              "3     건물 계단_426.jpg  /content/drive/MyDrive/탄소저감프로젝트/dat...   \n",
              "4     건물 계단_427.jpg  /content/drive/MyDrive/탄소저감프로젝트/dat...   \n",
              "...                    ...                                                ...   \n",
              "4062   만보인증_222.jpg  /content/drive/MyDrive/탄소저감프로젝트/dat...   \n",
              "4063   만보인증_227.jpg  /content/drive/MyDrive/탄소저감프로젝트/dat...   \n",
              "4064   만보인증_224.jpg  /content/drive/MyDrive/탄소저감프로젝트/dat...   \n",
              "4065   만보인증_225.jpg  /content/drive/MyDrive/탄소저감프로젝트/dat...   \n",
              "4066   만보인증_226.jpg  /content/drive/MyDrive/탄소저감프로젝트/dat...   \n",
              "\n",
              "                     label  \n",
              "0     건물 계단_422.jpg  \n",
              "1     건물 계단_424.jpg  \n",
              "2     건물 계단_425.jpg  \n",
              "3     건물 계단_426.jpg  \n",
              "4     건물 계단_427.jpg  \n",
              "...                    ...  \n",
              "4062   만보인증_222.jpg  \n",
              "4063   만보인증_227.jpg  \n",
              "4064   만보인증_224.jpg  \n",
              "4065   만보인증_225.jpg  \n",
              "4066   만보인증_226.jpg  \n",
              "\n",
              "[4067 rows x 3 columns]"
            ],
            "text/html": [
              "\n",
              "  <div id=\"df-cc817f8a-768b-47f8-895c-ea40561b07d1\">\n",
              "    <div class=\"colab-df-container\">\n",
              "      <div>\n",
              "<style scoped>\n",
              "    .dataframe tbody tr th:only-of-type {\n",
              "        vertical-align: middle;\n",
              "    }\n",
              "\n",
              "    .dataframe tbody tr th {\n",
              "        vertical-align: top;\n",
              "    }\n",
              "\n",
              "    .dataframe thead th {\n",
              "        text-align: right;\n",
              "    }\n",
              "</style>\n",
              "<table border=\"1\" class=\"dataframe\">\n",
              "  <thead>\n",
              "    <tr style=\"text-align: right;\">\n",
              "      <th></th>\n",
              "      <th>image_id</th>\n",
              "      <th>dir</th>\n",
              "      <th>label</th>\n",
              "    </tr>\n",
              "  </thead>\n",
              "  <tbody>\n",
              "    <tr>\n",
              "      <th>0</th>\n",
              "      <td>건물 계단_422.jpg</td>\n",
              "      <td>/content/drive/MyDrive/탄소저감프로젝트/dat...</td>\n",
              "      <td>건물 계단_422.jpg</td>\n",
              "    </tr>\n",
              "    <tr>\n",
              "      <th>1</th>\n",
              "      <td>건물 계단_424.jpg</td>\n",
              "      <td>/content/drive/MyDrive/탄소저감프로젝트/dat...</td>\n",
              "      <td>건물 계단_424.jpg</td>\n",
              "    </tr>\n",
              "    <tr>\n",
              "      <th>2</th>\n",
              "      <td>건물 계단_425.jpg</td>\n",
              "      <td>/content/drive/MyDrive/탄소저감프로젝트/dat...</td>\n",
              "      <td>건물 계단_425.jpg</td>\n",
              "    </tr>\n",
              "    <tr>\n",
              "      <th>3</th>\n",
              "      <td>건물 계단_426.jpg</td>\n",
              "      <td>/content/drive/MyDrive/탄소저감프로젝트/dat...</td>\n",
              "      <td>건물 계단_426.jpg</td>\n",
              "    </tr>\n",
              "    <tr>\n",
              "      <th>4</th>\n",
              "      <td>건물 계단_427.jpg</td>\n",
              "      <td>/content/drive/MyDrive/탄소저감프로젝트/dat...</td>\n",
              "      <td>건물 계단_427.jpg</td>\n",
              "    </tr>\n",
              "    <tr>\n",
              "      <th>...</th>\n",
              "      <td>...</td>\n",
              "      <td>...</td>\n",
              "      <td>...</td>\n",
              "    </tr>\n",
              "    <tr>\n",
              "      <th>4062</th>\n",
              "      <td>만보인증_222.jpg</td>\n",
              "      <td>/content/drive/MyDrive/탄소저감프로젝트/dat...</td>\n",
              "      <td>만보인증_222.jpg</td>\n",
              "    </tr>\n",
              "    <tr>\n",
              "      <th>4063</th>\n",
              "      <td>만보인증_227.jpg</td>\n",
              "      <td>/content/drive/MyDrive/탄소저감프로젝트/dat...</td>\n",
              "      <td>만보인증_227.jpg</td>\n",
              "    </tr>\n",
              "    <tr>\n",
              "      <th>4064</th>\n",
              "      <td>만보인증_224.jpg</td>\n",
              "      <td>/content/drive/MyDrive/탄소저감프로젝트/dat...</td>\n",
              "      <td>만보인증_224.jpg</td>\n",
              "    </tr>\n",
              "    <tr>\n",
              "      <th>4065</th>\n",
              "      <td>만보인증_225.jpg</td>\n",
              "      <td>/content/drive/MyDrive/탄소저감프로젝트/dat...</td>\n",
              "      <td>만보인증_225.jpg</td>\n",
              "    </tr>\n",
              "    <tr>\n",
              "      <th>4066</th>\n",
              "      <td>만보인증_226.jpg</td>\n",
              "      <td>/content/drive/MyDrive/탄소저감프로젝트/dat...</td>\n",
              "      <td>만보인증_226.jpg</td>\n",
              "    </tr>\n",
              "  </tbody>\n",
              "</table>\n",
              "<p>4067 rows × 3 columns</p>\n",
              "</div>\n",
              "      <button class=\"colab-df-convert\" onclick=\"convertToInteractive('df-cc817f8a-768b-47f8-895c-ea40561b07d1')\"\n",
              "              title=\"Convert this dataframe to an interactive table.\"\n",
              "              style=\"display:none;\">\n",
              "        \n",
              "  <svg xmlns=\"http://www.w3.org/2000/svg\" height=\"24px\"viewBox=\"0 0 24 24\"\n",
              "       width=\"24px\">\n",
              "    <path d=\"M0 0h24v24H0V0z\" fill=\"none\"/>\n",
              "    <path d=\"M18.56 5.44l.94 2.06.94-2.06 2.06-.94-2.06-.94-.94-2.06-.94 2.06-2.06.94zm-11 1L8.5 8.5l.94-2.06 2.06-.94-2.06-.94L8.5 2.5l-.94 2.06-2.06.94zm10 10l.94 2.06.94-2.06 2.06-.94-2.06-.94-.94-2.06-.94 2.06-2.06.94z\"/><path d=\"M17.41 7.96l-1.37-1.37c-.4-.4-.92-.59-1.43-.59-.52 0-1.04.2-1.43.59L10.3 9.45l-7.72 7.72c-.78.78-.78 2.05 0 2.83L4 21.41c.39.39.9.59 1.41.59.51 0 1.02-.2 1.41-.59l7.78-7.78 2.81-2.81c.8-.78.8-2.07 0-2.86zM5.41 20L4 18.59l7.72-7.72 1.47 1.35L5.41 20z\"/>\n",
              "  </svg>\n",
              "      </button>\n",
              "      \n",
              "  <style>\n",
              "    .colab-df-container {\n",
              "      display:flex;\n",
              "      flex-wrap:wrap;\n",
              "      gap: 12px;\n",
              "    }\n",
              "\n",
              "    .colab-df-convert {\n",
              "      background-color: #E8F0FE;\n",
              "      border: none;\n",
              "      border-radius: 50%;\n",
              "      cursor: pointer;\n",
              "      display: none;\n",
              "      fill: #1967D2;\n",
              "      height: 32px;\n",
              "      padding: 0 0 0 0;\n",
              "      width: 32px;\n",
              "    }\n",
              "\n",
              "    .colab-df-convert:hover {\n",
              "      background-color: #E2EBFA;\n",
              "      box-shadow: 0px 1px 2px rgba(60, 64, 67, 0.3), 0px 1px 3px 1px rgba(60, 64, 67, 0.15);\n",
              "      fill: #174EA6;\n",
              "    }\n",
              "\n",
              "    [theme=dark] .colab-df-convert {\n",
              "      background-color: #3B4455;\n",
              "      fill: #D2E3FC;\n",
              "    }\n",
              "\n",
              "    [theme=dark] .colab-df-convert:hover {\n",
              "      background-color: #434B5C;\n",
              "      box-shadow: 0px 1px 3px 1px rgba(0, 0, 0, 0.15);\n",
              "      filter: drop-shadow(0px 1px 2px rgba(0, 0, 0, 0.3));\n",
              "      fill: #FFFFFF;\n",
              "    }\n",
              "  </style>\n",
              "\n",
              "      <script>\n",
              "        const buttonEl =\n",
              "          document.querySelector('#df-cc817f8a-768b-47f8-895c-ea40561b07d1 button.colab-df-convert');\n",
              "        buttonEl.style.display =\n",
              "          google.colab.kernel.accessAllowed ? 'block' : 'none';\n",
              "\n",
              "        async function convertToInteractive(key) {\n",
              "          const element = document.querySelector('#df-cc817f8a-768b-47f8-895c-ea40561b07d1');\n",
              "          const dataTable =\n",
              "            await google.colab.kernel.invokeFunction('convertToInteractive',\n",
              "                                                     [key], {});\n",
              "          if (!dataTable) return;\n",
              "\n",
              "          const docLinkHtml = 'Like what you see? Visit the ' +\n",
              "            '<a target=\"_blank\" href=https://colab.research.google.com/notebooks/data_table.ipynb>data table notebook</a>'\n",
              "            + ' to learn more about interactive tables.';\n",
              "          element.innerHTML = '';\n",
              "          dataTable['output_type'] = 'display_data';\n",
              "          await google.colab.output.renderOutput(dataTable, element);\n",
              "          const docLink = document.createElement('div');\n",
              "          docLink.innerHTML = docLinkHtml;\n",
              "          element.appendChild(docLink);\n",
              "        }\n",
              "      </script>\n",
              "    </div>\n",
              "  </div>\n",
              "  "
            ]
          },
          "metadata": {},
          "execution_count": 12
        }
      ]
    },
    {
      "cell_type": "code",
      "source": [
        "# Label Encoding\n",
        "le = preprocessing.LabelEncoder()\n",
        "train['artist'] = le.fit_transform(train['artist'].values)"
      ],
      "metadata": {
        "id": "y8coAnRaOe4P"
      },
      "execution_count": null,
      "outputs": []
    },
    {
      "cell_type": "code",
      "source": [],
      "metadata": {
        "id": "XAMf0OiAS5jz"
      },
      "execution_count": null,
      "outputs": []
    }
  ]
}