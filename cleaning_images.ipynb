{
 "cells": [
  {
   "cell_type": "code",
   "execution_count": 1,
   "id": "5300bf88-3443-431e-a097-62f095d98a4b",
   "metadata": {},
   "outputs": [],
   "source": [
    "import os\n",
    "import pandas as pd\n",
    "import cv2\n",
    "from PIL import Image\n",
    "import numpy as np"
   ]
  },
  {
   "cell_type": "code",
   "execution_count": 6,
   "id": "b1bb1410-e5c9-4bc0-9e7e-99488c0a63bc",
   "metadata": {},
   "outputs": [
    {
     "name": "stdout",
     "output_type": "stream",
     "text": [
      "58071\n"
     ]
    }
   ],
   "source": [
    "dir_path = \"../Data/carbon_reduction\"\n",
    "\n",
    "img_names = []\n",
    "for folder, subfolders, filenames in os.walk(dir_path):\n",
    "    for img in filenames:\n",
    "        img_names.append(folder+'/'+img)\n",
    "print(len(img_names))"
   ]
  },
  {
   "cell_type": "code",
   "execution_count": 3,
   "id": "7cdca0a4-2e97-4faa-9169-a873f1500057",
   "metadata": {},
   "outputs": [
    {
     "name": "stdout",
     "output_type": "stream",
     "text": [
      "../Data/carbon_reduction/temp_img.jpg\n"
     ]
    }
   ],
   "source": [
    "print(img_names[0])"
   ]
  },
  {
   "cell_type": "code",
   "execution_count": 7,
   "id": "147eed24-b392-44e0-b1c9-f7b476d301d1",
   "metadata": {},
   "outputs": [
    {
     "name": "stdout",
     "output_type": "stream",
     "text": [
      "[]\n"
     ]
    }
   ],
   "source": [
    "error_images = []\n",
    "\n",
    "for i in img_names:\n",
    "    try:\n",
    "        temp = Image.open(i).convert(\"RGB\")\n",
    "        image = np.array(temp).copy()\n",
    "        temp.close()\n",
    "    except:\n",
    "        error_images.append(i)\n",
    "print(error_images)"
   ]
  },
  {
   "cell_type": "code",
   "execution_count": 5,
   "id": "eafcb995-a282-4962-b475-3a518f244683",
   "metadata": {},
   "outputs": [
    {
     "name": "stdout",
     "output_type": "stream",
     "text": [
      "File '../Data/carbon_reduction/public_vehicle/버스_g/버스95.jpg' has been removed.\n",
      "File '../Data/carbon_reduction/public_vehicle/버스_g/버스3.jpg' has been removed.\n",
      "File '../Data/carbon_reduction/public_vehicle/버스_g/버스69.jpg' has been removed.\n",
      "File '../Data/carbon_reduction/public_vehicle/버스_g/버스100.jpg' has been removed.\n",
      "File '../Data/carbon_reduction/public_vehicle/버스_g/버스90.jpg' has been removed.\n",
      "File '../Data/carbon_reduction/public_vehicle/버스_g/버스4.jpg' has been removed.\n",
      "File '../Data/carbon_reduction/public_vehicle/버스_g/버스27.jpg' has been removed.\n",
      "File '../Data/carbon_reduction/public_vehicle/버스 탑승/버스 탑승_088.jpg' has been removed.\n",
      "File '../Data/carbon_reduction/public_vehicle/버스 탑승/버스 탑승_097.jpg' has been removed.\n",
      "File '../Data/carbon_reduction/public_vehicle/버스 탑승/버스 탑승_156.jpg' has been removed.\n",
      "File '../Data/carbon_reduction/public_vehicle/버스/버스_398.jpg' has been removed.\n",
      "File '../Data/carbon_reduction/public_vehicle/버스/버스_444.jpg' has been removed.\n",
      "File '../Data/carbon_reduction/public_vehicle/버스/버스_385.jpg' has been removed.\n",
      "File '../Data/carbon_reduction/public_vehicle/지하철/지하철_438.jpg' has been removed.\n",
      "File '../Data/carbon_reduction/public_vehicle/지하철/지하철_125.jpg' has been removed.\n",
      "File '../Data/carbon_reduction/public_vehicle/지하철/지하철_261.jpg' has been removed.\n",
      "File '../Data/carbon_reduction/public_vehicle/지하철/지하철_439.jpg' has been removed.\n",
      "File '../Data/carbon_reduction/public_vehicle/지하철/지하철_120.jpg' has been removed.\n",
      "File '../Data/carbon_reduction/public_vehicle/지하철/지하철_479.jpg' has been removed.\n",
      "File '../Data/carbon_reduction/public_vehicle/지하철 인증/지하철 인증_036.jpg' has been removed.\n",
      "File '../Data/carbon_reduction/public_vehicle/지하철 인증/지하철 인증_044.jpg' has been removed.\n",
      "File '../Data/carbon_reduction/public_vehicle/지하철_g/지하철59.jpg' has been removed.\n",
      "File '../Data/carbon_reduction/public_vehicle/지하철_g/지하철8.jpg' has been removed.\n",
      "File '../Data/carbon_reduction/public_vehicle/지하철_g/지하철51.jpg' has been removed.\n",
      "File '../Data/carbon_reduction/public_vehicle/지하철 안/지하철 안_118.jpg' has been removed.\n",
      "File '../Data/carbon_reduction/public_vehicle/지하철 안/지하철 안_139.jpg' has been removed.\n",
      "File '../Data/carbon_reduction/public_vehicle/지하철 안/지하철 안_071.jpg' has been removed.\n",
      "File '../Data/carbon_reduction/public_vehicle/지하철 안/지하철 안_089.jpg' has been removed.\n",
      "File '../Data/carbon_reduction/public_vehicle/지하철 안/지하철 안_107.jpg' has been removed.\n",
      "File '../Data/carbon_reduction/public_vehicle/지하철 안/지하철 안_133.jpg' has been removed.\n",
      "File '../Data/carbon_reduction/public_vehicle/지하철 안/지하철 안_490.jpg' has been removed.\n",
      "File '../Data/carbon_reduction/public_vehicle/지하철 안/지하철 안_235.jpg' has been removed.\n",
      "File '../Data/carbon_reduction/public_vehicle/지하철 안/지하철 안_200.jpg' has been removed.\n",
      "File '../Data/carbon_reduction/public_vehicle/지하철 안/지하철 안_117.jpg' has been removed.\n",
      "File '../Data/carbon_reduction/public_vehicle/지하철 안/지하철 안_096.jpg' has been removed.\n",
      "File '../Data/carbon_reduction/stair/계단 운동_286.jpg' has been removed.\n",
      "File '../Data/carbon_reduction/stair/계단_207.jpg' has been removed.\n",
      "File '../Data/carbon_reduction/stair/건물 계단_448.jpg' has been removed.\n",
      "File '../Data/carbon_reduction/stair/아파트 계단_041.jpg' has been removed.\n",
      "File '../Data/carbon_reduction/stair/계단_422.jpg' has been removed.\n",
      "File '../Data/carbon_reduction/stair/계단_220.jpg' has been removed.\n",
      "File '../Data/carbon_reduction/stair/건물 계단_471.jpg' has been removed.\n",
      "File '../Data/carbon_reduction/stair/건물 계단_457.jpg' has been removed.\n",
      "File '../Data/carbon_reduction/stair/계단_469.jpg' has been removed.\n",
      "File '../Data/carbon_reduction/stair/아파트 계단_412.jpg' has been removed.\n",
      "File '../Data/carbon_reduction/stair/건물 계단_421.jpg' has been removed.\n",
      "File '../Data/carbon_reduction/stair/계단 운동_361.jpg' has been removed.\n",
      "File '../Data/carbon_reduction/stair/건물 계단_486.jpg' has been removed.\n",
      "File '../Data/carbon_reduction/stair/건물 계단_377.jpg' has been removed.\n",
      "File '../Data/carbon_reduction/stair/건물 계단_309.jpg' has been removed.\n",
      "File '../Data/carbon_reduction/stair/건물 계단_000.jpg' has been removed.\n",
      "File '../Data/carbon_reduction/stair/계단_279.jpg' has been removed.\n",
      "File '../Data/carbon_reduction/stair/계단 운동_115.jpg' has been removed.\n",
      "File '../Data/carbon_reduction/stair/계단 운동_484.jpg' has been removed.\n",
      "File '../Data/carbon_reduction/stair/계단_214.jpg' has been removed.\n",
      "File '../Data/carbon_reduction/stair/건물 계단_354.jpg' has been removed.\n",
      "File '../Data/carbon_reduction/stair/아파트 계단_099.jpg' has been removed.\n",
      "File '../Data/carbon_reduction/stair/아파트 계단_182.jpg' has been removed.\n",
      "File '../Data/carbon_reduction/stair/계단 운동_241.jpg' has been removed.\n",
      "File '../Data/carbon_reduction/stair/아파트 계단_381.jpg' has been removed.\n",
      "File '../Data/carbon_reduction/stair/지하철 계단_353.jpg' has been removed.\n",
      "File '../Data/carbon_reduction/stair/아파트 계단_176.jpg' has been removed.\n",
      "File '../Data/carbon_reduction/stair/계단 운동_283.jpg' has been removed.\n",
      "File '../Data/carbon_reduction/stair/계단_180.jpg' has been removed.\n",
      "File '../Data/carbon_reduction/stair/지하철 계단_358.jpg' has been removed.\n",
      "File '../Data/carbon_reduction/stair/건물 계단_166.jpg' has been removed.\n",
      "File '../Data/carbon_reduction/stair/건물 계단_494.jpg' has been removed.\n",
      "File '../Data/carbon_reduction/stair/계단 운동_427.jpg' has been removed.\n",
      "File '../Data/carbon_reduction/stair/아파트 계단_372.jpg' has been removed.\n",
      "File '../Data/carbon_reduction/stair/지하철 계단_318.jpg' has been removed.\n",
      "File '../Data/carbon_reduction/stair/건물 계단_055.jpg' has been removed.\n",
      "File '../Data/carbon_reduction/stair/건물 계단_220.jpg' has been removed.\n",
      "File '../Data/carbon_reduction/stair/계단_329.jpg' has been removed.\n",
      "File '../Data/carbon_reduction/stair/계단_292.jpg' has been removed.\n",
      "File '../Data/carbon_reduction/stair/건물 계단_363.jpg' has been removed.\n",
      "File '../Data/carbon_reduction/stair/계단_223.jpg' has been removed.\n",
      "File '../Data/carbon_reduction/stair/아파트 계단_336.jpg' has been removed.\n",
      "File '../Data/carbon_reduction/stair/계단_379.jpg' has been removed.\n",
      "File '../Data/carbon_reduction/stair/아파트 계단_272.jpg' has been removed.\n",
      "File '../Data/carbon_reduction/stair/아파트 계단_487.jpg' has been removed.\n",
      "File '../Data/carbon_reduction/stair/건물 계단_075.jpg' has been removed.\n",
      "File '../Data/carbon_reduction/stair/계단_335.jpg' has been removed.\n",
      "File '../Data/carbon_reduction/stair/계단_164.jpg' has been removed.\n",
      "File '../Data/carbon_reduction/stair/지하철 계단_149.jpg' has been removed.\n",
      "File '../Data/carbon_reduction/stair/계단 운동_385.jpg' has been removed.\n",
      "File '../Data/carbon_reduction/stair/건물 계단_056.jpg' has been removed.\n",
      "File '../Data/carbon_reduction/stair/지하철 계단_041.jpg' has been removed.\n",
      "File '../Data/carbon_reduction/stair/건물 계단_433.jpg' has been removed.\n",
      "File '../Data/carbon_reduction/stair/계단_415.jpg' has been removed.\n",
      "File '../Data/carbon_reduction/stair/건물 계단_174.jpg' has been removed.\n",
      "File '../Data/carbon_reduction/stair/계단_390.jpg' has been removed.\n",
      "File '../Data/carbon_reduction/stair/건물 계단_228.jpg' has been removed.\n",
      "File '../Data/carbon_reduction/stair/지하철 계단_483.jpg' has been removed.\n",
      "File '../Data/carbon_reduction/stair/계단_411.jpg' has been removed.\n",
      "File '../Data/carbon_reduction/stair/계단_384.jpg' has been removed.\n",
      "File '../Data/carbon_reduction/stair/지하철 계단_236.jpg' has been removed.\n",
      "File '../Data/carbon_reduction/stair/건물 계단_102.jpg' has been removed.\n",
      "File '../Data/carbon_reduction/stair/아파트 계단_305.jpg' has been removed.\n",
      "File '../Data/carbon_reduction/stair/건물 계단_313.jpg' has been removed.\n",
      "File '../Data/carbon_reduction/stair/건물 계단_104.jpg' has been removed.\n",
      "File '../Data/carbon_reduction/stair/지하철 계단_026.jpg' has been removed.\n",
      "File '../Data/carbon_reduction/stair/아파트 계단_309.jpg' has been removed.\n",
      "File '../Data/carbon_reduction/stair/아파트 계단_379.jpg' has been removed.\n",
      "File '../Data/carbon_reduction/stair/계단_049.jpg' has been removed.\n",
      "File '../Data/carbon_reduction/stair/계단 운동_219.jpg' has been removed.\n",
      "File '../Data/carbon_reduction/stair/계단_460.jpg' has been removed.\n",
      "File '../Data/carbon_reduction/stair/지하철 계단_436.jpg' has been removed.\n",
      "File '../Data/carbon_reduction/stair/건물 계단_330.jpg' has been removed.\n",
      "File '../Data/carbon_reduction/stair/아파트 계단_300.jpg' has been removed.\n",
      "File '../Data/carbon_reduction/stair/아파트 계단_452.jpg' has been removed.\n",
      "File '../Data/carbon_reduction/stair/계단 운동_067.jpg' has been removed.\n",
      "File '../Data/carbon_reduction/stair/계단 운동_417.jpg' has been removed.\n",
      "File '../Data/carbon_reduction/stair/건물 계단_132.jpg' has been removed.\n",
      "File '../Data/carbon_reduction/stair/계단_050.jpg' has been removed.\n",
      "File '../Data/carbon_reduction/stair/지하철 계단_173.jpg' has been removed.\n",
      "File '../Data/carbon_reduction/stair/계단_442.jpg' has been removed.\n",
      "File '../Data/carbon_reduction/stair/계단 운동_206.jpg' has been removed.\n",
      "File '../Data/carbon_reduction/stair/계단_113.jpg' has been removed.\n",
      "File '../Data/carbon_reduction/stair/계단 운동_277.jpg' has been removed.\n",
      "File '../Data/carbon_reduction/stair/건물 계단_046.jpg' has been removed.\n",
      "File '../Data/carbon_reduction/stair/아파트 계단_450.jpg' has been removed.\n",
      "File '../Data/carbon_reduction/stair/아파트 계단_424.jpg' has been removed.\n",
      "File '../Data/carbon_reduction/stair/계단 운동_447.jpg' has been removed.\n",
      "File '../Data/carbon_reduction/stair/계단 운동_123.jpg' has been removed.\n",
      "File '../Data/carbon_reduction/10kwalking/나이키 만보_239.jpg' has been removed.\n",
      "File '../Data/carbon_reduction/10kwalking/애플워치 만보_304.jpg' has been removed.\n"
     ]
    }
   ],
   "source": [
    "for file in error_images:\n",
    "    try:\n",
    "        os.remove(file)\n",
    "        print(f\"File '{file}' has been removed.\")\n",
    "    except FileNotFoundError:\n",
    "        print(f\"File '{file}' not found.\")"
   ]
  },
  {
   "cell_type": "code",
   "execution_count": null,
   "id": "a3809318-5c23-46ee-aecb-a3aeafd743d2",
   "metadata": {},
   "outputs": [],
   "source": []
  }
 ],
 "metadata": {
  "kernelspec": {
   "display_name": "torch-gpu",
   "language": "python",
   "name": "torch"
  },
  "language_info": {
   "codemirror_mode": {
    "name": "ipython",
    "version": 3
   },
   "file_extension": ".py",
   "mimetype": "text/x-python",
   "name": "python",
   "nbconvert_exporter": "python",
   "pygments_lexer": "ipython3",
   "version": "3.10.6"
  }
 },
 "nbformat": 4,
 "nbformat_minor": 5
}
