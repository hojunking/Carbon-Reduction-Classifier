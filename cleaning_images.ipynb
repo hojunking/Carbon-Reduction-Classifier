{
 "cells": [
  {
   "cell_type": "code",
   "execution_count": 1,
   "id": "5300bf88-3443-431e-a097-62f095d98a4b",
   "metadata": {},
   "outputs": [],
   "source": [
    "import os\n",
    "import pandas as pd\n",
    "import cv2\n",
    "from PIL import Image\n",
    "import numpy as np"
   ]
  },
  {
   "cell_type": "code",
   "execution_count": 2,
   "id": "b1bb1410-e5c9-4bc0-9e7e-99488c0a63bc",
   "metadata": {},
   "outputs": [
    {
     "name": "stdout",
     "output_type": "stream",
     "text": [
      "51173\n"
     ]
    }
   ],
   "source": [
    "## 이미지 폴더 전부 수색 (반드시 이미지 데이터 폴더만 할 것!)\n",
    "dir_path = \"../Data/carbon_reduction\"\n",
    "\n",
    "img_names = []\n",
    "for folder, subfolders, filenames in os.walk(dir_path):\n",
    "    for img in filenames:\n",
    "        img_names.append(folder+'/'+img)\n",
    "print(len(img_names))"
   ]
  },
  {
   "cell_type": "code",
   "execution_count": 3,
   "id": "7cdca0a4-2e97-4faa-9169-a873f1500057",
   "metadata": {},
   "outputs": [
    {
     "name": "stdout",
     "output_type": "stream",
     "text": [
      "../Data/carbon_reduction/temp_img.jpg\n"
     ]
    }
   ],
   "source": [
    "print(img_names[0])"
   ]
  },
  {
   "cell_type": "code",
   "execution_count": 4,
   "id": "147eed24-b392-44e0-b1c9-f7b476d301d1",
   "metadata": {},
   "outputs": [
    {
     "name": "stdout",
     "output_type": "stream",
     "text": [
      "[]\n"
     ]
    }
   ],
   "source": [
    "## jpg로 오픈 되지 않는 파일 리스트에 담기\n",
    "error_images = []\n",
    "\n",
    "for i in img_names:\n",
    "    try:\n",
    "        temp = Image.open(i).convert(\"RGB\")\n",
    "        image = np.array(temp).copy()\n",
    "        temp.close()\n",
    "    except:\n",
    "        error_images.append(i)\n",
    "print(error_images)"
   ]
  },
  {
   "cell_type": "code",
   "execution_count": 5,
   "id": "eafcb995-a282-4962-b475-3a518f244683",
   "metadata": {},
   "outputs": [],
   "source": [
    "## 오류 파일 삭제\n",
    "for file in error_images:\n",
    "    try:\n",
    "        os.remove(file)\n",
    "        print(f\"File '{file}' has been removed.\")\n",
    "    except FileNotFoundError:\n",
    "        print(f\"File '{file}' not found.\")"
   ]
  },
  {
   "cell_type": "code",
   "execution_count": null,
   "id": "a3809318-5c23-46ee-aecb-a3aeafd743d2",
   "metadata": {},
   "outputs": [],
   "source": []
  }
 ],
 "metadata": {
  "kernelspec": {
   "display_name": "torch-gpu",
   "language": "python",
   "name": "torch"
  },
  "language_info": {
   "codemirror_mode": {
    "name": "ipython",
    "version": 3
   },
   "file_extension": ".py",
   "mimetype": "text/x-python",
   "name": "python",
   "nbconvert_exporter": "python",
   "pygments_lexer": "ipython3",
   "version": "3.10.6"
  }
 },
 "nbformat": 4,
 "nbformat_minor": 5
}
