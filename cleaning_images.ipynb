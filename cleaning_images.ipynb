{
 "cells": [
  {
   "cell_type": "code",
   "execution_count": 6,
   "id": "5300bf88-3443-431e-a097-62f095d98a4b",
   "metadata": {},
   "outputs": [],
   "source": [
    "import os\n",
    "import pandas as pd\n",
    "import cv2\n",
    "from PIL import Image\n",
    "import json\n",
    "import jsonlines\n",
    "import matplotlib.pyplot as plt\n",
    "import numpy as np\n",
    "import random\n",
    "import shutil"
   ]
  },
  {
   "cell_type": "code",
   "execution_count": null,
   "id": "3e12d7f3-93c7-4c0e-9c09-0885fd7d032f",
   "metadata": {},
   "outputs": [],
   "source": [
    "# Set the directory containing the files you want to rename\n",
    "folder = 'wrap'\n",
    "directory = '../Data/carbon_data/' + folder\n",
    "\n",
    "# Set the prefix you want to add to each file name\n",
    "prefix = folder +'_'\n",
    "\n",
    "cnt = 1\n",
    "# Iterate through the files in the directory\n",
    "for filename in os.listdir(directory):\n",
    "    \n",
    "    file_name, file_extension = os.path.splitext(filename)\n",
    "    # Create the old and new file paths\n",
    "    old_file_path = os.path.join(directory, filename)\n",
    "    new_file_path = os.path.join(directory, prefix + str(cnt)+file_extension)\n",
    "    cnt +=1\n",
    "    print(f'old : {old_file_path}')\n",
    "    print(f'new : {new_file_path}')\n",
    "    \n",
    "    # Rename the file\n",
    "    os.rename(old_file_path, new_file_path)\n",
    "\n",
    "print(\"Files renamed successfully.\")\n"
   ]
  },
  {
   "cell_type": "code",
   "execution_count": 9,
   "id": "8eaeec81-ecc0-4310-b01b-49305fe1b61f",
   "metadata": {},
   "outputs": [
    {
     "data": {
      "text/html": [
       "<div>\n",
       "<style scoped>\n",
       "    .dataframe tbody tr th:only-of-type {\n",
       "        vertical-align: middle;\n",
       "    }\n",
       "\n",
       "    .dataframe tbody tr th {\n",
       "        vertical-align: top;\n",
       "    }\n",
       "\n",
       "    .dataframe thead th {\n",
       "        text-align: right;\n",
       "    }\n",
       "</style>\n",
       "<table border=\"1\" class=\"dataframe\">\n",
       "  <thead>\n",
       "    <tr style=\"text-align: right;\">\n",
       "      <th></th>\n",
       "      <th>challengeCertiTitle</th>\n",
       "      <th>fileRoute</th>\n",
       "    </tr>\n",
       "  </thead>\n",
       "  <tbody>\n",
       "    <tr>\n",
       "      <th>0</th>\n",
       "      <td>길에 있는 쓰레기 줍기</td>\n",
       "      <td>image_cropper_35DB09D3-2254-45C3-B15A-39A047BB...</td>\n",
       "    </tr>\n",
       "    <tr>\n",
       "      <th>1</th>\n",
       "      <td>만보 걷기</td>\n",
       "      <td>image_cropper_16817197019991681719712979.jpg</td>\n",
       "    </tr>\n",
       "    <tr>\n",
       "      <th>2</th>\n",
       "      <td>계단 이용하기</td>\n",
       "      <td>image_cropper_6ED48BD3-BCD7-4754-95AF-64C53CB3...</td>\n",
       "    </tr>\n",
       "    <tr>\n",
       "      <th>3</th>\n",
       "      <td>장바구니 이용하기</td>\n",
       "      <td>image_cropper_16817193651731681719380194.jpg</td>\n",
       "    </tr>\n",
       "    <tr>\n",
       "      <th>4</th>\n",
       "      <td>우유팩 따로 모으기</td>\n",
       "      <td>image_cropper_16817192268561681719237569.jpg</td>\n",
       "    </tr>\n",
       "    <tr>\n",
       "      <th>...</th>\n",
       "      <td>...</td>\n",
       "      <td>...</td>\n",
       "    </tr>\n",
       "    <tr>\n",
       "      <th>86056</th>\n",
       "      <td>채소식단</td>\n",
       "      <td>image_cropper_16640592593301664059265492.jpg</td>\n",
       "    </tr>\n",
       "    <tr>\n",
       "      <th>86057</th>\n",
       "      <td>일회용 수저 안 받기</td>\n",
       "      <td>image_cropper_16640592389271664059246250.jpg</td>\n",
       "    </tr>\n",
       "    <tr>\n",
       "      <th>86058</th>\n",
       "      <td>대중교통 이용하기</td>\n",
       "      <td>image_cropper_16640591704891664059188243.jpg</td>\n",
       "    </tr>\n",
       "    <tr>\n",
       "      <th>86059</th>\n",
       "      <td>대중교통 이용하기</td>\n",
       "      <td>image_cropper_16640586797891664059157610.jpg</td>\n",
       "    </tr>\n",
       "    <tr>\n",
       "      <th>86060</th>\n",
       "      <td>계단 이용하기</td>\n",
       "      <td>image_cropper_16640586134501664058619474.jpg</td>\n",
       "    </tr>\n",
       "  </tbody>\n",
       "</table>\n",
       "<p>86061 rows × 2 columns</p>\n",
       "</div>"
      ],
      "text/plain": [
       "      challengeCertiTitle                                          fileRoute\n",
       "0            길에 있는 쓰레기 줍기  image_cropper_35DB09D3-2254-45C3-B15A-39A047BB...\n",
       "1                   만보 걷기       image_cropper_16817197019991681719712979.jpg\n",
       "2                 계단 이용하기  image_cropper_6ED48BD3-BCD7-4754-95AF-64C53CB3...\n",
       "3               장바구니 이용하기       image_cropper_16817193651731681719380194.jpg\n",
       "4              우유팩 따로 모으기       image_cropper_16817192268561681719237569.jpg\n",
       "...                   ...                                                ...\n",
       "86056                채소식단       image_cropper_16640592593301664059265492.jpg\n",
       "86057         일회용 수저 안 받기       image_cropper_16640592389271664059246250.jpg\n",
       "86058           대중교통 이용하기       image_cropper_16640591704891664059188243.jpg\n",
       "86059           대중교통 이용하기       image_cropper_16640586797891664059157610.jpg\n",
       "86060             계단 이용하기       image_cropper_16640586134501664058619474.jpg\n",
       "\n",
       "[86061 rows x 2 columns]"
      ]
     },
     "execution_count": 9,
     "metadata": {},
     "output_type": "execute_result"
    }
   ],
   "source": [
    "images= pd.read_csv('data_collection/output.csv')\n",
    "images"
   ]
  },
  {
   "cell_type": "code",
   "execution_count": 32,
   "id": "11d0c787-2a69-4389-8254-4b9faa8189da",
   "metadata": {},
   "outputs": [
    {
     "data": {
      "text/plain": [
       "스마트폰 절전모드 사용하기      6406\n",
       "만보 걷기               6374\n",
       "텀블러 이용하기            5124\n",
       "계단 이용하기             5061\n",
       "대기 전력 차단하기          4917\n",
       "라벨 제거 후 분리수거 하기     4604\n",
       "양치컵 사용하기            4146\n",
       "손수건 이용하기            3515\n",
       "국산 식재료 구입하기         3303\n",
       "잔반 안 남기기            3142\n",
       "랩 대신 뚜껑이나 접시로 덮기    3091\n",
       "테이프 제거 후 분리수거하기     3056\n",
       "우유팩 따로 모으기          2920\n",
       "전자영수증 발급받기          2859\n",
       "장바구니 이용하기           2750\n",
       "채소식단                2676\n",
       "대중교통 이용하기           2528\n",
       "길에 있는 쓰레기 줍기        2268\n",
       "인쇄용지 절약하기           2196\n",
       "일회용 수저 안 받기         1738\n",
       "Name: challengeCertiTitle, dtype: int64"
      ]
     },
     "execution_count": 32,
     "metadata": {},
     "output_type": "execute_result"
    }
   ],
   "source": [
    "images['challengeCertiTitle'].value_counts().loc[lambda x : x > 1500]"
   ]
  },
  {
   "cell_type": "code",
   "execution_count": 15,
   "id": "13bca6b1-3f5f-47e5-976b-8ebce25bf2c8",
   "metadata": {},
   "outputs": [
    {
     "data": {
      "text/plain": [
       "1             image_cropper_16817197019991681719712979.jpg\n",
       "20            image_cropper_16817165424731681716558171.jpg\n",
       "54            image_cropper_16817106488931681710668027.jpg\n",
       "72            image_cropper_16817065127841681706520375.jpg\n",
       "73            image_cropper_16817064833701681706489010.jpg\n",
       "                               ...                        \n",
       "85704         image_cropper_16640990647371664099072446.jpg\n",
       "85713         image_cropper_16640981482061664098163565.jpg\n",
       "85756    image_cropper_4E35005B-3352-4B42-BDEB-477E76E9...\n",
       "85867         image_cropper_16640784099131664078415909.jpg\n",
       "85976         image_cropper_16640672464941664067257150.jpg\n",
       "Name: fileRoute, Length: 6374, dtype: object"
      ]
     },
     "execution_count": 15,
     "metadata": {},
     "output_type": "execute_result"
    }
   ],
   "source": [
    "images[images['challengeCertiTitle'] == '만보 걷기']['fileRoute']"
   ]
  },
  {
   "cell_type": "code",
   "execution_count": 18,
   "id": "38fba4d6-6013-4dad-89cb-1e54239403c5",
   "metadata": {},
   "outputs": [
    {
     "data": {
      "text/plain": [
       "'image_cropper_16817197019991681719712979.jpg'"
      ]
     },
     "execution_count": 19,
     "metadata": {},
     "output_type": "execute_result"
    }
   ],
   "source": [
    "files_to_check = images[images['challengeCertiTitle'] == '만보 걷기']['fileRoute'].values\n",
    "files_to_check[0]"
   ]
  },
  {
   "cell_type": "code",
   "execution_count": 23,
   "id": "f1f0508b-91c8-4ebe-b7c9-7b7ba0e7b41f",
   "metadata": {},
   "outputs": [
    {
     "name": "stdout",
     "output_type": "stream",
     "text": [
      "non-exist : 202, exist : 6172\n"
     ]
    }
   ],
   "source": [
    "files_to_check = images[images['challengeCertiTitle'] == '만보 걷기']['fileRoute'].values\n",
    "\n",
    "directory = '../Data/carbon_temp/lkj/'\n",
    "destination = '../Data/carbon_temp/images/file.ext'\n",
    "\n",
    "# Move the file\n",
    "shutil.move(source, destination)\n",
    "\n",
    "cnt = 0\n",
    "for file in files_to_check:\n",
    "    file_path = os.path.join(directory, file)\n",
    "    if os.path.exists(file_path):\n",
    "        cnt +=1\n",
    "        \n",
    "        #print(f\"{file} exists.\")\n",
    "    #else:\n",
    "     #   print(f\"{file} does not exist.\")\n",
    "print(f'non-exist : {len(files_to_check) - cnt}, exist : {cnt}')\n"
   ]
  },
  {
   "cell_type": "code",
   "execution_count": 8,
   "id": "b1bb1410-e5c9-4bc0-9e7e-99488c0a63bc",
   "metadata": {},
   "outputs": [
    {
     "name": "stdout",
     "output_type": "stream",
     "text": [
      "12213\n"
     ]
    }
   ],
   "source": [
    "## 이미지 폴더 전부 수색 (반드시 이미지 데이터 폴더만 할 것!)\n",
    "dir_path = \"../Data/carbon_reduction_data/new_test_05m/\"\n",
    "\n",
    "img_names = []\n",
    "for folder, subfolders, filenames in os.walk(dir_path):\n",
    "    for img in filenames:\n",
    "        img_names.append(folder+'/'+img)\n",
    "print(len(img_names))"
   ]
  },
  {
   "cell_type": "markdown",
   "id": "4ba5dd8f-043b-43b7-9250-54266e019ec7",
   "metadata": {},
   "source": [
    "#### delete image files unavailable to open"
   ]
  },
  {
   "cell_type": "code",
   "execution_count": 9,
   "id": "7cdca0a4-2e97-4faa-9169-a873f1500057",
   "metadata": {},
   "outputs": [
    {
     "name": "stdout",
     "output_type": "stream",
     "text": [
      "../Data/carbon_reduction_data/new_test_05m/tumbler/image_cropper_16820539422621682053947919.jpg\n"
     ]
    }
   ],
   "source": [
    "print(img_names[0])"
   ]
  },
  {
   "cell_type": "code",
   "execution_count": 10,
   "id": "147eed24-b392-44e0-b1c9-f7b476d301d1",
   "metadata": {},
   "outputs": [
    {
     "name": "stdout",
     "output_type": "stream",
     "text": [
      "[]\n"
     ]
    }
   ],
   "source": [
    "## 이미지 오픈 되지 않는 파일 리스트에 담기\n",
    "error_images = []\n",
    "\n",
    "for i in img_names:\n",
    "    try:\n",
    "        temp = Image.open(i).convert(\"RGB\")\n",
    "        image = np.array(temp).copy()\n",
    "        temp.close()\n",
    "    except:\n",
    "        error_images.append(i)\n",
    "print(error_images)"
   ]
  },
  {
   "cell_type": "code",
   "execution_count": 5,
   "id": "eafcb995-a282-4962-b475-3a518f244683",
   "metadata": {},
   "outputs": [],
   "source": [
    "## 오류 파일 삭제\n",
    "for file in error_images:\n",
    "    try:\n",
    "        os.remove(file)\n",
    "        print(f\"File '{file}' has been removed.\")\n",
    "    except FileNotFoundError:\n",
    "        print(f\"File '{file}' not found.\")"
   ]
  },
  {
   "cell_type": "code",
   "execution_count": null,
   "id": "a3809318-5c23-46ee-aecb-a3aeafd743d2",
   "metadata": {},
   "outputs": [],
   "source": []
  }
 ],
 "metadata": {
  "kernelspec": {
   "display_name": "torch-gpu",
   "language": "python",
   "name": "torch"
  },
  "language_info": {
   "codemirror_mode": {
    "name": "ipython",
    "version": 3
   },
   "file_extension": ".py",
   "mimetype": "text/x-python",
   "name": "python",
   "nbconvert_exporter": "python",
   "pygments_lexer": "ipython3",
   "version": "3.10.6"
  }
 },
 "nbformat": 4,
 "nbformat_minor": 5
}
